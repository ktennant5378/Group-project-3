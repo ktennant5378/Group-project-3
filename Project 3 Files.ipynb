{
 "cells": [
  {
   "cell_type": "code",
   "execution_count": 10,
   "metadata": {},
   "outputs": [],
   "source": [
    "# import dependencies\n",
    "import os\n",
    "import csv\n",
    "import pandas as pd\n",
    "import numpy as np\n",
    "import matplotlib.pyplot as plt\n"
   ]
  },
  {
   "cell_type": "code",
   "execution_count": 11,
   "metadata": {},
   "outputs": [
    {
     "data": {
      "text/html": [
       "<div>\n",
       "<style scoped>\n",
       "    .dataframe tbody tr th:only-of-type {\n",
       "        vertical-align: middle;\n",
       "    }\n",
       "\n",
       "    .dataframe tbody tr th {\n",
       "        vertical-align: top;\n",
       "    }\n",
       "\n",
       "    .dataframe thead th {\n",
       "        text-align: right;\n",
       "    }\n",
       "</style>\n",
       "<table border=\"1\" class=\"dataframe\">\n",
       "  <thead>\n",
       "    <tr style=\"text-align: right;\">\n",
       "      <th></th>\n",
       "      <th>DR_NO</th>\n",
       "      <th>Date Rptd</th>\n",
       "      <th>DATE OCC</th>\n",
       "      <th>TIME OCC</th>\n",
       "      <th>AREA</th>\n",
       "      <th>AREA NAME</th>\n",
       "      <th>Rpt Dist No</th>\n",
       "      <th>Part 1-2</th>\n",
       "      <th>Crm Cd</th>\n",
       "      <th>Crm Cd Desc</th>\n",
       "      <th>...</th>\n",
       "      <th>Status</th>\n",
       "      <th>Status Desc</th>\n",
       "      <th>Crm Cd 1</th>\n",
       "      <th>Crm Cd 2</th>\n",
       "      <th>Crm Cd 3</th>\n",
       "      <th>Crm Cd 4</th>\n",
       "      <th>LOCATION</th>\n",
       "      <th>Cross Street</th>\n",
       "      <th>LAT</th>\n",
       "      <th>LON</th>\n",
       "    </tr>\n",
       "  </thead>\n",
       "  <tbody>\n",
       "    <tr>\n",
       "      <th>0</th>\n",
       "      <td>190326475</td>\n",
       "      <td>3/1/2020 0:00</td>\n",
       "      <td>3/1/2020 0:00</td>\n",
       "      <td>2130</td>\n",
       "      <td>7</td>\n",
       "      <td>Wilshire</td>\n",
       "      <td>784</td>\n",
       "      <td>1</td>\n",
       "      <td>510</td>\n",
       "      <td>VEHICLE - STOLEN</td>\n",
       "      <td>...</td>\n",
       "      <td>AA</td>\n",
       "      <td>Adult Arrest</td>\n",
       "      <td>510.0</td>\n",
       "      <td>998.0</td>\n",
       "      <td>NaN</td>\n",
       "      <td>NaN</td>\n",
       "      <td>1900 S  LONGWOOD                     AV</td>\n",
       "      <td>NaN</td>\n",
       "      <td>34.0375</td>\n",
       "      <td>-118.3506</td>\n",
       "    </tr>\n",
       "    <tr>\n",
       "      <th>1</th>\n",
       "      <td>200106753</td>\n",
       "      <td>2/9/2020 0:00</td>\n",
       "      <td>2/8/2020 0:00</td>\n",
       "      <td>1800</td>\n",
       "      <td>1</td>\n",
       "      <td>Central</td>\n",
       "      <td>182</td>\n",
       "      <td>1</td>\n",
       "      <td>330</td>\n",
       "      <td>BURGLARY FROM VEHICLE</td>\n",
       "      <td>...</td>\n",
       "      <td>IC</td>\n",
       "      <td>Invest Cont</td>\n",
       "      <td>330.0</td>\n",
       "      <td>998.0</td>\n",
       "      <td>NaN</td>\n",
       "      <td>NaN</td>\n",
       "      <td>1000 S  FLOWER                       ST</td>\n",
       "      <td>NaN</td>\n",
       "      <td>34.0444</td>\n",
       "      <td>-118.2628</td>\n",
       "    </tr>\n",
       "    <tr>\n",
       "      <th>2</th>\n",
       "      <td>200320258</td>\n",
       "      <td>11/11/2020 0:00</td>\n",
       "      <td>11/4/2020 0:00</td>\n",
       "      <td>1700</td>\n",
       "      <td>3</td>\n",
       "      <td>Southwest</td>\n",
       "      <td>356</td>\n",
       "      <td>1</td>\n",
       "      <td>480</td>\n",
       "      <td>BIKE - STOLEN</td>\n",
       "      <td>...</td>\n",
       "      <td>IC</td>\n",
       "      <td>Invest Cont</td>\n",
       "      <td>480.0</td>\n",
       "      <td>NaN</td>\n",
       "      <td>NaN</td>\n",
       "      <td>NaN</td>\n",
       "      <td>1400 W  37TH                         ST</td>\n",
       "      <td>NaN</td>\n",
       "      <td>34.0210</td>\n",
       "      <td>-118.3002</td>\n",
       "    </tr>\n",
       "    <tr>\n",
       "      <th>3</th>\n",
       "      <td>200907217</td>\n",
       "      <td>5/10/2023 0:00</td>\n",
       "      <td>3/10/2020 0:00</td>\n",
       "      <td>2037</td>\n",
       "      <td>9</td>\n",
       "      <td>Van Nuys</td>\n",
       "      <td>964</td>\n",
       "      <td>1</td>\n",
       "      <td>343</td>\n",
       "      <td>SHOPLIFTING-GRAND THEFT ($950.01 &amp; OVER)</td>\n",
       "      <td>...</td>\n",
       "      <td>IC</td>\n",
       "      <td>Invest Cont</td>\n",
       "      <td>343.0</td>\n",
       "      <td>NaN</td>\n",
       "      <td>NaN</td>\n",
       "      <td>NaN</td>\n",
       "      <td>14000    RIVERSIDE                    DR</td>\n",
       "      <td>NaN</td>\n",
       "      <td>34.1576</td>\n",
       "      <td>-118.4387</td>\n",
       "    </tr>\n",
       "    <tr>\n",
       "      <th>4</th>\n",
       "      <td>220614831</td>\n",
       "      <td>8/18/2022 0:00</td>\n",
       "      <td>8/17/2020 0:00</td>\n",
       "      <td>1200</td>\n",
       "      <td>6</td>\n",
       "      <td>Hollywood</td>\n",
       "      <td>666</td>\n",
       "      <td>2</td>\n",
       "      <td>354</td>\n",
       "      <td>THEFT OF IDENTITY</td>\n",
       "      <td>...</td>\n",
       "      <td>IC</td>\n",
       "      <td>Invest Cont</td>\n",
       "      <td>354.0</td>\n",
       "      <td>NaN</td>\n",
       "      <td>NaN</td>\n",
       "      <td>NaN</td>\n",
       "      <td>1900    TRANSIENT</td>\n",
       "      <td>NaN</td>\n",
       "      <td>34.0944</td>\n",
       "      <td>-118.3277</td>\n",
       "    </tr>\n",
       "  </tbody>\n",
       "</table>\n",
       "<p>5 rows × 28 columns</p>\n",
       "</div>"
      ],
      "text/plain": [
       "       DR_NO        Date Rptd        DATE OCC  TIME OCC  AREA  AREA NAME  \\\n",
       "0  190326475    3/1/2020 0:00   3/1/2020 0:00      2130     7   Wilshire   \n",
       "1  200106753    2/9/2020 0:00   2/8/2020 0:00      1800     1    Central   \n",
       "2  200320258  11/11/2020 0:00  11/4/2020 0:00      1700     3  Southwest   \n",
       "3  200907217   5/10/2023 0:00  3/10/2020 0:00      2037     9   Van Nuys   \n",
       "4  220614831   8/18/2022 0:00  8/17/2020 0:00      1200     6  Hollywood   \n",
       "\n",
       "   Rpt Dist No  Part 1-2  Crm Cd                               Crm Cd Desc  \\\n",
       "0          784         1     510                          VEHICLE - STOLEN   \n",
       "1          182         1     330                     BURGLARY FROM VEHICLE   \n",
       "2          356         1     480                             BIKE - STOLEN   \n",
       "3          964         1     343  SHOPLIFTING-GRAND THEFT ($950.01 & OVER)   \n",
       "4          666         2     354                         THEFT OF IDENTITY   \n",
       "\n",
       "   ... Status   Status Desc Crm Cd 1 Crm Cd 2  Crm Cd 3 Crm Cd 4  \\\n",
       "0  ...     AA  Adult Arrest    510.0    998.0       NaN      NaN   \n",
       "1  ...     IC   Invest Cont    330.0    998.0       NaN      NaN   \n",
       "2  ...     IC   Invest Cont    480.0      NaN       NaN      NaN   \n",
       "3  ...     IC   Invest Cont    343.0      NaN       NaN      NaN   \n",
       "4  ...     IC   Invest Cont    354.0      NaN       NaN      NaN   \n",
       "\n",
       "                                   LOCATION Cross Street      LAT       LON  \n",
       "0   1900 S  LONGWOOD                     AV          NaN  34.0375 -118.3506  \n",
       "1   1000 S  FLOWER                       ST          NaN  34.0444 -118.2628  \n",
       "2   1400 W  37TH                         ST          NaN  34.0210 -118.3002  \n",
       "3  14000    RIVERSIDE                    DR          NaN  34.1576 -118.4387  \n",
       "4                         1900    TRANSIENT          NaN  34.0944 -118.3277  \n",
       "\n",
       "[5 rows x 28 columns]"
      ]
     },
     "execution_count": 11,
     "metadata": {},
     "output_type": "execute_result"
    }
   ],
   "source": [
    "# Read in the data using pandas\n",
    "data = pd.read_csv('Data/LA_Crime_Data.csv')\n",
    "\n",
    "# Conver data into a DataFrame\n",
    "data_df = pd.DataFrame(data)\n",
    "data_df.head()\n"
   ]
  },
  {
   "cell_type": "code",
   "execution_count": 32,
   "metadata": {},
   "outputs": [
    {
     "name": "stdout",
     "output_type": "stream",
     "text": [
      "<class 'pandas.core.frame.DataFrame'>\n",
      "RangeIndex: 925720 entries, 0 to 925719\n",
      "Data columns (total 28 columns):\n",
      " #   Column          Non-Null Count   Dtype  \n",
      "---  ------          --------------   -----  \n",
      " 0   DR_NO           925720 non-null  int64  \n",
      " 1   Date Rptd       925720 non-null  object \n",
      " 2   DATE OCC        925720 non-null  object \n",
      " 3   TIME OCC        925720 non-null  int64  \n",
      " 4   AREA            925720 non-null  int64  \n",
      " 5   AREA NAME       925720 non-null  object \n",
      " 6   Rpt Dist No     925720 non-null  int64  \n",
      " 7   Part 1-2        925720 non-null  int64  \n",
      " 8   Crm Cd          925720 non-null  int64  \n",
      " 9   Crm Cd Desc     925720 non-null  object \n",
      " 10  Mocodes         796258 non-null  object \n",
      " 11  Vict Age        925720 non-null  int64  \n",
      " 12  Vict Sex        802562 non-null  object \n",
      " 13  Vict Descent    802552 non-null  object \n",
      " 14  Premis Cd       925709 non-null  float64\n",
      " 15  Premis Desc     925161 non-null  object \n",
      " 16  Weapon Used Cd  319701 non-null  float64\n",
      " 17  Weapon Desc     319701 non-null  object \n",
      " 18  Status          925720 non-null  object \n",
      " 19  Status Desc     925720 non-null  object \n",
      " 20  Crm Cd 1        925709 non-null  float64\n",
      " 21  Crm Cd 2        67237 non-null   float64\n",
      " 22  Crm Cd 3        2260 non-null    float64\n",
      " 23  Crm Cd 4        64 non-null      float64\n",
      " 24  LOCATION        925720 non-null  object \n",
      " 25  Cross Street    145226 non-null  object \n",
      " 26  LAT             925720 non-null  float64\n",
      " 27  LON             925720 non-null  float64\n",
      "dtypes: float64(8), int64(7), object(13)\n",
      "memory usage: 197.8+ MB\n"
     ]
    },
    {
     "data": {
      "text/plain": [
       "DR_NO                  0\n",
       "Date Rptd              0\n",
       "DATE OCC               0\n",
       "TIME OCC               0\n",
       "AREA                   0\n",
       "AREA NAME              0\n",
       "Rpt Dist No            0\n",
       "Part 1-2               0\n",
       "Crm Cd                 0\n",
       "Crm Cd Desc            0\n",
       "Mocodes           129462\n",
       "Vict Age               0\n",
       "Vict Sex          123158\n",
       "Vict Descent      123168\n",
       "Premis Cd             11\n",
       "Premis Desc          559\n",
       "Weapon Used Cd    606019\n",
       "Weapon Desc       606019\n",
       "Status                 0\n",
       "Status Desc            0\n",
       "Crm Cd 1              11\n",
       "Crm Cd 2          858483\n",
       "Crm Cd 3          923460\n",
       "Crm Cd 4          925656\n",
       "LOCATION               0\n",
       "Cross Street      780494\n",
       "LAT                    0\n",
       "LON                    0\n",
       "dtype: int64"
      ]
     },
     "execution_count": 32,
     "metadata": {},
     "output_type": "execute_result"
    }
   ],
   "source": [
    "# Clean the data, get rid of NaN values, drop duplicate DR_NO, Get rid of age 0, Get rid blank gender ('-')\n",
    "data_df.info()\n",
    "data_df.isnull().sum()\n",
    "# data_df['Premis Cd'].unique()\n",
    "\n",
    "# Drop columns that are not needed (Crm Cd 2, Crm Cd 3, Crm Cd 4, Cross Street)\n",
    "# Get rid of Mcode rows with NaN values.  \n",
    "# Look into Weapon Desc, Weapon Use. Figure out what the info means (Tracked as a number) Decide if we want to keep it"
   ]
  },
  {
   "cell_type": "code",
   "execution_count": null,
   "metadata": {},
   "outputs": [],
   "source": [
    "# write the cleaned data to a new csv file"
   ]
  },
  {
   "cell_type": "code",
   "execution_count": 9,
   "metadata": {},
   "outputs": [
    {
     "name": "stdout",
     "output_type": "stream",
     "text": [
      "c:\\Users\\kengt\\anaconda3\\python.exe\n"
     ]
    }
   ],
   "source": [
    "import sys\n",
    "print(sys.executable)\n"
   ]
  },
  {
   "cell_type": "markdown",
   "metadata": {},
   "source": [
    "Areas with the top crime reports as a list. (Bar chart) (Ritika)"
   ]
  },
  {
   "cell_type": "code",
   "execution_count": 19,
   "metadata": {},
   "outputs": [
    {
     "data": {
      "text/html": [
       "<div>\n",
       "<style scoped>\n",
       "    .dataframe tbody tr th:only-of-type {\n",
       "        vertical-align: middle;\n",
       "    }\n",
       "\n",
       "    .dataframe tbody tr th {\n",
       "        vertical-align: top;\n",
       "    }\n",
       "\n",
       "    .dataframe thead th {\n",
       "        text-align: right;\n",
       "    }\n",
       "</style>\n",
       "<table border=\"1\" class=\"dataframe\">\n",
       "  <thead>\n",
       "    <tr style=\"text-align: right;\">\n",
       "      <th></th>\n",
       "      <th>Crime</th>\n",
       "      <th>Count</th>\n",
       "    </tr>\n",
       "  </thead>\n",
       "  <tbody>\n",
       "    <tr>\n",
       "      <th>0</th>\n",
       "      <td>VEHICLE - STOLEN</td>\n",
       "      <td>99451</td>\n",
       "    </tr>\n",
       "    <tr>\n",
       "      <th>1</th>\n",
       "      <td>BATTERY - SIMPLE ASSAULT</td>\n",
       "      <td>73376</td>\n",
       "    </tr>\n",
       "    <tr>\n",
       "      <th>2</th>\n",
       "      <td>BURGLARY FROM VEHICLE</td>\n",
       "      <td>57098</td>\n",
       "    </tr>\n",
       "    <tr>\n",
       "      <th>3</th>\n",
       "      <td>THEFT OF IDENTITY</td>\n",
       "      <td>57079</td>\n",
       "    </tr>\n",
       "    <tr>\n",
       "      <th>4</th>\n",
       "      <td>BURGLARY</td>\n",
       "      <td>56736</td>\n",
       "    </tr>\n",
       "    <tr>\n",
       "      <th>5</th>\n",
       "      <td>VANDALISM - FELONY ($400 &amp; OVER, ALL CHURCH VA...</td>\n",
       "      <td>56148</td>\n",
       "    </tr>\n",
       "    <tr>\n",
       "      <th>6</th>\n",
       "      <td>ASSAULT WITH DEADLY WEAPON, AGGRAVATED ASSAULT</td>\n",
       "      <td>52493</td>\n",
       "    </tr>\n",
       "    <tr>\n",
       "      <th>7</th>\n",
       "      <td>THEFT PLAIN - PETTY ($950 &amp; UNDER)</td>\n",
       "      <td>47148</td>\n",
       "    </tr>\n",
       "    <tr>\n",
       "      <th>8</th>\n",
       "      <td>INTIMATE PARTNER - SIMPLE ASSAULT</td>\n",
       "      <td>45902</td>\n",
       "    </tr>\n",
       "    <tr>\n",
       "      <th>9</th>\n",
       "      <td>THEFT FROM MOTOR VEHICLE - PETTY ($950 &amp; UNDER)</td>\n",
       "      <td>35698</td>\n",
       "    </tr>\n",
       "  </tbody>\n",
       "</table>\n",
       "</div>"
      ],
      "text/plain": [
       "                                               Crime  Count\n",
       "0                                   VEHICLE - STOLEN  99451\n",
       "1                           BATTERY - SIMPLE ASSAULT  73376\n",
       "2                              BURGLARY FROM VEHICLE  57098\n",
       "3                                  THEFT OF IDENTITY  57079\n",
       "4                                           BURGLARY  56736\n",
       "5  VANDALISM - FELONY ($400 & OVER, ALL CHURCH VA...  56148\n",
       "6     ASSAULT WITH DEADLY WEAPON, AGGRAVATED ASSAULT  52493\n",
       "7                 THEFT PLAIN - PETTY ($950 & UNDER)  47148\n",
       "8                  INTIMATE PARTNER - SIMPLE ASSAULT  45902\n",
       "9    THEFT FROM MOTOR VEHICLE - PETTY ($950 & UNDER)  35698"
      ]
     },
     "execution_count": 19,
     "metadata": {},
     "output_type": "execute_result"
    }
   ],
   "source": [
    "# Create a dataframe (top_crime_df) that contains the top 10 crimes\n",
    "# columns = Crime, Count \n",
    "top_crime_df = data_df['Crm Cd Desc'].value_counts().reset_index()\n",
    "top_crime_df.columns = ['Crime', 'Count']\n",
    "top_crime_df.head(10)"
   ]
  },
  {
   "cell_type": "code",
   "execution_count": 25,
   "metadata": {},
   "outputs": [
    {
     "data": {
      "image/png": "[encoded data removed]",
      "text/plain": [
       "<Figure size 1000x500 with 1 Axes>"
      ]
     },
     "metadata": {},
     "output_type": "display_data"
    }
   ],
   "source": [
    "# Plot the top 10 crimes using plt.bar\n",
    "plt.figure(figsize=(10,5))\n",
    "plt.bar(top_crime_df['Crime'].head(10), top_crime_df['Count'].head(10))\n",
    "plt.xlabel('Crime')\n",
    "plt.ylabel('Count')\n",
    "plt.xticks(rotation=90)\n",
    "plt.title('Top 10 Crimes in Los Angeles')\n",
    "plt.show()"
   ]
  },
  {
   "cell_type": "markdown",
   "metadata": {},
   "source": []
  },
  {
   "cell_type": "markdown",
   "metadata": {},
   "source": [
    "Line chart showing crime report counts throughout the year. Which\n",
    "month has the most/least crimes? (Ritika)"
   ]
  },
  {
   "cell_type": "code",
   "execution_count": null,
   "metadata": {},
   "outputs": [],
   "source": [
    "# Create a dataframe with only 2023 data "
   ]
  },
  {
   "cell_type": "code",
   "execution_count": null,
   "metadata": {},
   "outputs": [],
   "source": [
    "# Plot the top crimes in 2023 using plt.plot\n",
    "plt.figure(figsize=(10,5))\n",
    "plt.bar(df[''], df[''])\n",
    "plt.xlabel('')\n",
    "plt.ylabel('')\n",
    "plt.xticks(rotation=90)\n",
    "plt.title('')\n",
    "plt.show()"
   ]
  },
  {
   "cell_type": "markdown",
   "metadata": {},
   "source": [
    "top 10 crimes in LA. Bar chart is nice but a pie chart would be better. I\n",
    "think it should show the top 10 crimes like below but the other crimes\n",
    "are lumped together in an ‘other’ category. (Ritika)"
   ]
  },
  {
   "cell_type": "code",
   "execution_count": null,
   "metadata": {},
   "outputs": [],
   "source": [
    "# Plot the top 10 crimes using plt.bar\n",
    "plt.figure(figsize=(10,5))\n",
    "plt.pie(top_crime_df['Crime'].head(10), top_crime_df['Count'].head(10))\n",
    "plt.xlabel('Crime')\n",
    "plt.ylabel('Count')\n",
    "plt.xticks(rotation=90)\n",
    "plt.title('Top 10 Crimes in Los Angeles')\n",
    "plt.show()"
   ]
  },
  {
   "cell_type": "code",
   "execution_count": null,
   "metadata": {},
   "outputs": [],
   "source": []
  },
  {
   "cell_type": "markdown",
   "metadata": {},
   "source": [
    "Compare month data from 2020 to 2023. Is California’s crime rising or\n",
    "falling? (Ritika)"
   ]
  },
  {
   "cell_type": "code",
   "execution_count": null,
   "metadata": {},
   "outputs": [],
   "source": [
    "# Create a dataframe with only 2020 data"
   ]
  },
  {
   "cell_type": "code",
   "execution_count": null,
   "metadata": {},
   "outputs": [],
   "source": [
    "# Plot both dataframes 2020 and 2023 using plt.plot"
   ]
  }
 ],
 "metadata": {
  "kernelspec": {
   "display_name": "Python 3 (ipykernel)",
   "language": "python",
   "name": "python3"
  },
  "language_info": {
   "codemirror_mode": {
    "name": "ipython",
    "version": 3
   },
   "file_extension": ".py",
   "mimetype": "text/x-python",
   "name": "python",
   "nbconvert_exporter": "python",
   "pygments_lexer": "ipython3",
   "version": "3.11.7"
  }
 },
 "nbformat": 4,
 "nbformat_minor": 4
}
