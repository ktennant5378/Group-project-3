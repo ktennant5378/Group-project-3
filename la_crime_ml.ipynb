{
 "cells": [
  {
   "cell_type": "code",
   "execution_count": 1,
   "id": "319f5843",
   "metadata": {},
   "outputs": [
    {
     "name": "stderr",
     "output_type": "stream",
     "text": [
      "C:\\Users\\Michael Haile\\anaconda3\\Lib\\site-packages\\pandas\\core\\arrays\\masked.py:60: UserWarning: Pandas requires version '1.3.6' or newer of 'bottleneck' (version '1.3.5' currently installed).\n",
      "  from pandas.core import (\n"
     ]
    }
   ],
   "source": [
    "import os\n",
    "import csv\n",
    "import pandas as pd\n",
    "import numpy as np\n",
    "import matplotlib.pyplot as plt\n",
    "from datetime import datetime"
   ]
  },
  {
   "cell_type": "code",
   "execution_count": 2,
   "id": "92cfb2c6",
   "metadata": {},
   "outputs": [
    {
     "data": {
      "text/html": [
       "<div>\n",
       "<style scoped>\n",
       "    .dataframe tbody tr th:only-of-type {\n",
       "        vertical-align: middle;\n",
       "    }\n",
       "\n",
       "    .dataframe tbody tr th {\n",
       "        vertical-align: top;\n",
       "    }\n",
       "\n",
       "    .dataframe thead th {\n",
       "        text-align: right;\n",
       "    }\n",
       "</style>\n",
       "<table border=\"1\" class=\"dataframe\">\n",
       "  <thead>\n",
       "    <tr style=\"text-align: right;\">\n",
       "      <th></th>\n",
       "      <th>DR_NO</th>\n",
       "      <th>Date Rptd</th>\n",
       "      <th>DATE OCC</th>\n",
       "      <th>TIME OCC</th>\n",
       "      <th>AREA</th>\n",
       "      <th>AREA NAME</th>\n",
       "      <th>Rpt Dist No</th>\n",
       "      <th>Part 1-2</th>\n",
       "      <th>Crm Cd</th>\n",
       "      <th>Crm Cd Desc</th>\n",
       "      <th>...</th>\n",
       "      <th>Status</th>\n",
       "      <th>Status Desc</th>\n",
       "      <th>Crm Cd 1</th>\n",
       "      <th>Crm Cd 2</th>\n",
       "      <th>Crm Cd 3</th>\n",
       "      <th>Crm Cd 4</th>\n",
       "      <th>LOCATION</th>\n",
       "      <th>Cross Street</th>\n",
       "      <th>LAT</th>\n",
       "      <th>LON</th>\n",
       "    </tr>\n",
       "  </thead>\n",
       "  <tbody>\n",
       "    <tr>\n",
       "      <th>0</th>\n",
       "      <td>190326475</td>\n",
       "      <td>3/1/2020 0:00</td>\n",
       "      <td>3/1/2020 0:00</td>\n",
       "      <td>2130</td>\n",
       "      <td>7</td>\n",
       "      <td>Wilshire</td>\n",
       "      <td>784</td>\n",
       "      <td>1</td>\n",
       "      <td>510</td>\n",
       "      <td>VEHICLE - STOLEN</td>\n",
       "      <td>...</td>\n",
       "      <td>AA</td>\n",
       "      <td>Adult Arrest</td>\n",
       "      <td>510.0</td>\n",
       "      <td>998.0</td>\n",
       "      <td>NaN</td>\n",
       "      <td>NaN</td>\n",
       "      <td>1900 S  LONGWOOD                     AV</td>\n",
       "      <td>NaN</td>\n",
       "      <td>34.0375</td>\n",
       "      <td>-118.3506</td>\n",
       "    </tr>\n",
       "  </tbody>\n",
       "</table>\n",
       "<p>1 rows × 28 columns</p>\n",
       "</div>"
      ],
      "text/plain": [
       "       DR_NO      Date Rptd       DATE OCC  TIME OCC  AREA AREA NAME  \\\n",
       "0  190326475  3/1/2020 0:00  3/1/2020 0:00      2130     7  Wilshire   \n",
       "\n",
       "   Rpt Dist No  Part 1-2  Crm Cd       Crm Cd Desc  ... Status   Status Desc  \\\n",
       "0          784         1     510  VEHICLE - STOLEN  ...     AA  Adult Arrest   \n",
       "\n",
       "  Crm Cd 1 Crm Cd 2  Crm Cd 3 Crm Cd 4  \\\n",
       "0    510.0    998.0       NaN      NaN   \n",
       "\n",
       "                                  LOCATION Cross Street      LAT       LON  \n",
       "0  1900 S  LONGWOOD                     AV          NaN  34.0375 -118.3506  \n",
       "\n",
       "[1 rows x 28 columns]"
      ]
     },
     "execution_count": 2,
     "metadata": {},
     "output_type": "execute_result"
    }
   ],
   "source": [
    "la_crime_df=pd.read_csv(\"./Data/LA_Crime_Data.csv\")\n",
    "la_crime_df.head(1)"
   ]
  },
  {
   "cell_type": "code",
   "execution_count": 3,
   "id": "d45dadc9",
   "metadata": {},
   "outputs": [
    {
     "data": {
      "text/plain": [
       "True"
      ]
     },
     "execution_count": 3,
     "metadata": {},
     "output_type": "execute_result"
    }
   ],
   "source": [
    "any(la_crime_df.isna())"
   ]
  },
  {
   "cell_type": "code",
   "execution_count": 4,
   "id": "d8040290",
   "metadata": {},
   "outputs": [
    {
     "name": "stdout",
     "output_type": "stream",
     "text": [
      "Number of rows:  925720\n"
     ]
    }
   ],
   "source": [
    "print(\"Number of rows: \", la_crime_df.shape[0])"
   ]
  },
  {
   "cell_type": "code",
   "execution_count": 5,
   "id": "d2813b47",
   "metadata": {},
   "outputs": [
    {
     "name": "stdout",
     "output_type": "stream",
     "text": [
      "Number of columns:  28\n"
     ]
    }
   ],
   "source": [
    "print(\"Number of columns: \", la_crime_df.shape[1])"
   ]
  },
  {
   "cell_type": "code",
   "execution_count": 6,
   "id": "0a6a7a98",
   "metadata": {
    "scrolled": false
   },
   "outputs": [
    {
     "data": {
      "text/plain": [
       "DR_NO                  0\n",
       "Date Rptd              0\n",
       "DATE OCC               0\n",
       "TIME OCC               0\n",
       "AREA                   0\n",
       "AREA NAME              0\n",
       "Rpt Dist No            0\n",
       "Part 1-2               0\n",
       "Crm Cd                 0\n",
       "Crm Cd Desc            0\n",
       "Mocodes           129462\n",
       "Vict Age               0\n",
       "Vict Sex          123158\n",
       "Vict Descent      123168\n",
       "Premis Cd             11\n",
       "Premis Desc          559\n",
       "Weapon Used Cd    606019\n",
       "Weapon Desc       606019\n",
       "Status                 0\n",
       "Status Desc            0\n",
       "Crm Cd 1              11\n",
       "Crm Cd 2          858483\n",
       "Crm Cd 3          923460\n",
       "Crm Cd 4          925656\n",
       "LOCATION               0\n",
       "Cross Street      780494\n",
       "LAT                    0\n",
       "LON                    0\n",
       "dtype: int64"
      ]
     },
     "execution_count": 6,
     "metadata": {},
     "output_type": "execute_result"
    }
   ],
   "source": [
    "la_crime_df.isnull().sum() # checkin for the number of null values across the dataframe"
   ]
  },
  {
   "cell_type": "code",
   "execution_count": 7,
   "id": "a0fe5d34",
   "metadata": {},
   "outputs": [
    {
     "data": {
      "text/plain": [
       "Index(['DR_NO', 'Date Rptd', 'DATE OCC', 'TIME OCC', 'AREA', 'AREA NAME',\n",
       "       'Rpt Dist No', 'Part 1-2', 'Crm Cd', 'Crm Cd Desc', 'Mocodes',\n",
       "       'Vict Age', 'Vict Sex', 'Vict Descent', 'Premis Cd', 'Premis Desc',\n",
       "       'Weapon Used Cd', 'Weapon Desc', 'Status', 'Status Desc', 'Crm Cd 1',\n",
       "       'Crm Cd 2', 'Crm Cd 3', 'Crm Cd 4', 'LOCATION', 'Cross Street', 'LAT',\n",
       "       'LON'],\n",
       "      dtype='object')"
      ]
     },
     "execution_count": 7,
     "metadata": {},
     "output_type": "execute_result"
    }
   ],
   "source": [
    "la_crime_df.columns"
   ]
  },
  {
   "cell_type": "code",
   "execution_count": 8,
   "id": "a5273984",
   "metadata": {
    "scrolled": true
   },
   "outputs": [
    {
     "data": {
      "text/html": [
       "<div>\n",
       "<style scoped>\n",
       "    .dataframe tbody tr th:only-of-type {\n",
       "        vertical-align: middle;\n",
       "    }\n",
       "\n",
       "    .dataframe tbody tr th {\n",
       "        vertical-align: top;\n",
       "    }\n",
       "\n",
       "    .dataframe thead th {\n",
       "        text-align: right;\n",
       "    }\n",
       "</style>\n",
       "<table border=\"1\" class=\"dataframe\">\n",
       "  <thead>\n",
       "    <tr style=\"text-align: right;\">\n",
       "      <th></th>\n",
       "      <th>DATE OCC</th>\n",
       "      <th>TIME OCC</th>\n",
       "      <th>AREA NAME</th>\n",
       "      <th>Part 1-2</th>\n",
       "      <th>Crm Cd Desc</th>\n",
       "      <th>Vict Age</th>\n",
       "      <th>Vict Sex</th>\n",
       "      <th>Vict Descent</th>\n",
       "      <th>Status Desc</th>\n",
       "      <th>Crm Cd 1</th>\n",
       "      <th>LAT</th>\n",
       "      <th>LON</th>\n",
       "    </tr>\n",
       "  </thead>\n",
       "  <tbody>\n",
       "    <tr>\n",
       "      <th>0</th>\n",
       "      <td>3/1/2020 0:00</td>\n",
       "      <td>2130</td>\n",
       "      <td>Wilshire</td>\n",
       "      <td>1</td>\n",
       "      <td>VEHICLE - STOLEN</td>\n",
       "      <td>0</td>\n",
       "      <td>M</td>\n",
       "      <td>O</td>\n",
       "      <td>Adult Arrest</td>\n",
       "      <td>510.0</td>\n",
       "      <td>34.0375</td>\n",
       "      <td>-118.3506</td>\n",
       "    </tr>\n",
       "  </tbody>\n",
       "</table>\n",
       "</div>"
      ],
      "text/plain": [
       "        DATE OCC  TIME OCC AREA NAME  Part 1-2       Crm Cd Desc  Vict Age  \\\n",
       "0  3/1/2020 0:00      2130  Wilshire         1  VEHICLE - STOLEN         0   \n",
       "\n",
       "  Vict Sex Vict Descent   Status Desc  Crm Cd 1      LAT       LON  \n",
       "0        M            O  Adult Arrest     510.0  34.0375 -118.3506  "
      ]
     },
     "execution_count": 8,
     "metadata": {},
     "output_type": "execute_result"
    }
   ],
   "source": [
    "la_crime_df = la_crime_df[[\"DATE OCC\",\"TIME OCC\",\"AREA NAME\",\"Part 1-2\",\"Crm Cd Desc\",\"Vict Age\",\"Vict Sex\",\"Vict Descent\",\n",
    "                           \"Status Desc\",\"Crm Cd 1\",\"LAT\",\"LON\"]]\n",
    "la_crime_df.head(1)"
   ]
  },
  {
   "cell_type": "code",
   "execution_count": 9,
   "id": "f9d30548",
   "metadata": {},
   "outputs": [
    {
     "data": {
      "text/plain": [
       "(925720, 12)"
      ]
     },
     "execution_count": 9,
     "metadata": {},
     "output_type": "execute_result"
    }
   ],
   "source": [
    "la_crime_df.shape"
   ]
  },
  {
   "cell_type": "code",
   "execution_count": 10,
   "id": "ab9ad5d6",
   "metadata": {},
   "outputs": [
    {
     "data": {
      "text/plain": [
       "DATE OCC             0\n",
       "TIME OCC             0\n",
       "AREA NAME            0\n",
       "Part 1-2             0\n",
       "Crm Cd Desc          0\n",
       "Vict Age             0\n",
       "Vict Sex        123158\n",
       "Vict Descent    123168\n",
       "Status Desc          0\n",
       "Crm Cd 1            11\n",
       "LAT                  0\n",
       "LON                  0\n",
       "dtype: int64"
      ]
     },
     "execution_count": 10,
     "metadata": {},
     "output_type": "execute_result"
    }
   ],
   "source": [
    "la_crime_df.isnull().sum(axis = 0)"
   ]
  },
  {
   "cell_type": "code",
   "execution_count": 11,
   "id": "3ea028e3",
   "metadata": {},
   "outputs": [
    {
     "data": {
      "text/plain": [
       "(802537, 12)"
      ]
     },
     "execution_count": 11,
     "metadata": {},
     "output_type": "execute_result"
    }
   ],
   "source": [
    "la_crime_df=la_crime_df.dropna()\n",
    "la_crime_df.shape"
   ]
  },
  {
   "cell_type": "code",
   "execution_count": 12,
   "id": "06bdf16b",
   "metadata": {},
   "outputs": [
    {
     "data": {
      "text/html": [
       "<div>\n",
       "<style scoped>\n",
       "    .dataframe tbody tr th:only-of-type {\n",
       "        vertical-align: middle;\n",
       "    }\n",
       "\n",
       "    .dataframe tbody tr th {\n",
       "        vertical-align: top;\n",
       "    }\n",
       "\n",
       "    .dataframe thead th {\n",
       "        text-align: right;\n",
       "    }\n",
       "</style>\n",
       "<table border=\"1\" class=\"dataframe\">\n",
       "  <thead>\n",
       "    <tr style=\"text-align: right;\">\n",
       "      <th></th>\n",
       "      <th>DATE OCC</th>\n",
       "      <th>TIME OCC</th>\n",
       "      <th>AREA NAME</th>\n",
       "      <th>Part 1-2</th>\n",
       "      <th>Crm Cd Desc</th>\n",
       "      <th>Vict Age</th>\n",
       "      <th>Vict Sex</th>\n",
       "      <th>Vict Descent</th>\n",
       "      <th>Status Desc</th>\n",
       "      <th>Crm Cd 1</th>\n",
       "      <th>LAT</th>\n",
       "      <th>LON</th>\n",
       "    </tr>\n",
       "  </thead>\n",
       "  <tbody>\n",
       "    <tr>\n",
       "      <th>0</th>\n",
       "      <td>3/1/2020 0:00</td>\n",
       "      <td>2130</td>\n",
       "      <td>Wilshire</td>\n",
       "      <td>1</td>\n",
       "      <td>VEHICLE - STOLEN</td>\n",
       "      <td>0</td>\n",
       "      <td>M</td>\n",
       "      <td>O</td>\n",
       "      <td>Adult Arrest</td>\n",
       "      <td>510.0</td>\n",
       "      <td>34.0375</td>\n",
       "      <td>-118.3506</td>\n",
       "    </tr>\n",
       "    <tr>\n",
       "      <th>1</th>\n",
       "      <td>2/8/2020 0:00</td>\n",
       "      <td>1800</td>\n",
       "      <td>Central</td>\n",
       "      <td>1</td>\n",
       "      <td>BURGLARY FROM VEHICLE</td>\n",
       "      <td>47</td>\n",
       "      <td>M</td>\n",
       "      <td>O</td>\n",
       "      <td>Invest Cont</td>\n",
       "      <td>330.0</td>\n",
       "      <td>34.0444</td>\n",
       "      <td>-118.2628</td>\n",
       "    </tr>\n",
       "  </tbody>\n",
       "</table>\n",
       "</div>"
      ],
      "text/plain": [
       "        DATE OCC  TIME OCC AREA NAME  Part 1-2            Crm Cd Desc  \\\n",
       "0  3/1/2020 0:00      2130  Wilshire         1       VEHICLE - STOLEN   \n",
       "1  2/8/2020 0:00      1800   Central         1  BURGLARY FROM VEHICLE   \n",
       "\n",
       "   Vict Age Vict Sex Vict Descent   Status Desc  Crm Cd 1      LAT       LON  \n",
       "0         0        M            O  Adult Arrest     510.0  34.0375 -118.3506  \n",
       "1        47        M            O   Invest Cont     330.0  34.0444 -118.2628  "
      ]
     },
     "execution_count": 12,
     "metadata": {},
     "output_type": "execute_result"
    }
   ],
   "source": [
    "la_crime_df.head(2)"
   ]
  },
  {
   "cell_type": "code",
   "execution_count": null,
   "id": "2a084096",
   "metadata": {},
   "outputs": [],
   "source": []
  },
  {
   "cell_type": "code",
   "execution_count": 13,
   "id": "7e2b88e8",
   "metadata": {},
   "outputs": [
    {
     "data": {
      "text/plain": [
       "DATE OCC        0\n",
       "TIME OCC        0\n",
       "AREA NAME       0\n",
       "Part 1-2        0\n",
       "Crm Cd Desc     0\n",
       "Vict Age        0\n",
       "Vict Sex        0\n",
       "Vict Descent    0\n",
       "Status Desc     0\n",
       "Crm Cd 1        0\n",
       "LAT             0\n",
       "LON             0\n",
       "dtype: int64"
      ]
     },
     "execution_count": 13,
     "metadata": {},
     "output_type": "execute_result"
    }
   ],
   "source": [
    "la_crime_df.isnull().sum()"
   ]
  },
  {
   "cell_type": "code",
   "execution_count": 14,
   "id": "0c8d1c5b",
   "metadata": {},
   "outputs": [
    {
     "name": "stdout",
     "output_type": "stream",
     "text": [
      "<class 'pandas.core.frame.DataFrame'>\n",
      "Index: 802537 entries, 0 to 925719\n",
      "Data columns (total 12 columns):\n",
      " #   Column        Non-Null Count   Dtype  \n",
      "---  ------        --------------   -----  \n",
      " 0   DATE OCC      802537 non-null  object \n",
      " 1   TIME OCC      802537 non-null  int64  \n",
      " 2   AREA NAME     802537 non-null  object \n",
      " 3   Part 1-2      802537 non-null  int64  \n",
      " 4   Crm Cd Desc   802537 non-null  object \n",
      " 5   Vict Age      802537 non-null  int64  \n",
      " 6   Vict Sex      802537 non-null  object \n",
      " 7   Vict Descent  802537 non-null  object \n",
      " 8   Status Desc   802537 non-null  object \n",
      " 9   Crm Cd 1      802537 non-null  float64\n",
      " 10  LAT           802537 non-null  float64\n",
      " 11  LON           802537 non-null  float64\n",
      "dtypes: float64(3), int64(3), object(6)\n",
      "memory usage: 79.6+ MB\n"
     ]
    }
   ],
   "source": [
    "la_crime_df.info()"
   ]
  },
  {
   "cell_type": "code",
   "execution_count": 15,
   "id": "bb9b4773",
   "metadata": {},
   "outputs": [],
   "source": [
    "# renaming for better readability\n",
    "la_crime_df.rename(columns={\"DATE OCC\":\"Date_Occ\",\"TIME OCC\":\"Time_Occ\",\"AREA NAME\":\"Area_Name\",\"Part 1-2\":\"Part_1-2\",\n",
    "                           \"Crm Cd Desc\":\"Crm_Cd_Desc\",\"Vict Age\":\"Vict_Age\",\"Vict Sex\":\"Vict_Sex\",\n",
    "                           \"Vict Descent\":\"Vict_Descent\",\"Status Desc\":\"Status_Desc\",\"Crm Cd 1\":\"Crm_Cd_1\",\n",
    "                            \"LAT\":\"Lat\",\"LON\":\"Lon\"}, inplace = True)"
   ]
  },
  {
   "cell_type": "code",
   "execution_count": 16,
   "id": "73bb74c9",
   "metadata": {
    "scrolled": true
   },
   "outputs": [
    {
     "data": {
      "text/html": [
       "<div>\n",
       "<style scoped>\n",
       "    .dataframe tbody tr th:only-of-type {\n",
       "        vertical-align: middle;\n",
       "    }\n",
       "\n",
       "    .dataframe tbody tr th {\n",
       "        vertical-align: top;\n",
       "    }\n",
       "\n",
       "    .dataframe thead th {\n",
       "        text-align: right;\n",
       "    }\n",
       "</style>\n",
       "<table border=\"1\" class=\"dataframe\">\n",
       "  <thead>\n",
       "    <tr style=\"text-align: right;\">\n",
       "      <th></th>\n",
       "      <th>Date_Occ</th>\n",
       "      <th>Time_Occ</th>\n",
       "      <th>Area_Name</th>\n",
       "      <th>Part_1-2</th>\n",
       "      <th>Crm_Cd_Desc</th>\n",
       "      <th>Vict_Age</th>\n",
       "      <th>Vict_Sex</th>\n",
       "      <th>Vict_Descent</th>\n",
       "      <th>Status_Desc</th>\n",
       "      <th>Crm_Cd_1</th>\n",
       "      <th>Lat</th>\n",
       "      <th>Lon</th>\n",
       "    </tr>\n",
       "  </thead>\n",
       "  <tbody>\n",
       "    <tr>\n",
       "      <th>0</th>\n",
       "      <td>3/1/2020 0:00</td>\n",
       "      <td>2130</td>\n",
       "      <td>Wilshire</td>\n",
       "      <td>1</td>\n",
       "      <td>VEHICLE - STOLEN</td>\n",
       "      <td>0</td>\n",
       "      <td>M</td>\n",
       "      <td>O</td>\n",
       "      <td>Adult Arrest</td>\n",
       "      <td>510.0</td>\n",
       "      <td>34.0375</td>\n",
       "      <td>-118.3506</td>\n",
       "    </tr>\n",
       "  </tbody>\n",
       "</table>\n",
       "</div>"
      ],
      "text/plain": [
       "        Date_Occ  Time_Occ Area_Name  Part_1-2       Crm_Cd_Desc  Vict_Age  \\\n",
       "0  3/1/2020 0:00      2130  Wilshire         1  VEHICLE - STOLEN         0   \n",
       "\n",
       "  Vict_Sex Vict_Descent   Status_Desc  Crm_Cd_1      Lat       Lon  \n",
       "0        M            O  Adult Arrest     510.0  34.0375 -118.3506  "
      ]
     },
     "execution_count": 16,
     "metadata": {},
     "output_type": "execute_result"
    }
   ],
   "source": [
    "la_crime_df.head(1)"
   ]
  },
  {
   "cell_type": "code",
   "execution_count": 17,
   "id": "82b4f76f",
   "metadata": {},
   "outputs": [],
   "source": [
    "\n",
    "\n",
    "# Convert the 'DateTime' column to datetime type if not alread\n",
    "\n",
    "\n",
    "la_crime_df['Date_Occ'] = pd.to_datetime(la_crime_df['Date_Occ'])\n",
    "\n"
   ]
  },
  {
   "cell_type": "code",
   "execution_count": 18,
   "id": "4383e19e",
   "metadata": {},
   "outputs": [
    {
     "data": {
      "text/html": [
       "<div>\n",
       "<style scoped>\n",
       "    .dataframe tbody tr th:only-of-type {\n",
       "        vertical-align: middle;\n",
       "    }\n",
       "\n",
       "    .dataframe tbody tr th {\n",
       "        vertical-align: top;\n",
       "    }\n",
       "\n",
       "    .dataframe thead th {\n",
       "        text-align: right;\n",
       "    }\n",
       "</style>\n",
       "<table border=\"1\" class=\"dataframe\">\n",
       "  <thead>\n",
       "    <tr style=\"text-align: right;\">\n",
       "      <th></th>\n",
       "      <th>Date_Occ</th>\n",
       "      <th>Time_Occ</th>\n",
       "      <th>Area_Name</th>\n",
       "      <th>Part_1-2</th>\n",
       "      <th>Crm_Cd_Desc</th>\n",
       "      <th>Vict_Age</th>\n",
       "      <th>Vict_Sex</th>\n",
       "      <th>Vict_Descent</th>\n",
       "      <th>Status_Desc</th>\n",
       "      <th>Crm_Cd_1</th>\n",
       "      <th>Lat</th>\n",
       "      <th>Lon</th>\n",
       "    </tr>\n",
       "  </thead>\n",
       "  <tbody>\n",
       "    <tr>\n",
       "      <th>0</th>\n",
       "      <td>2020-03-01</td>\n",
       "      <td>2130</td>\n",
       "      <td>Wilshire</td>\n",
       "      <td>1</td>\n",
       "      <td>VEHICLE - STOLEN</td>\n",
       "      <td>0</td>\n",
       "      <td>M</td>\n",
       "      <td>O</td>\n",
       "      <td>Adult Arrest</td>\n",
       "      <td>510.0</td>\n",
       "      <td>34.0375</td>\n",
       "      <td>-118.3506</td>\n",
       "    </tr>\n",
       "  </tbody>\n",
       "</table>\n",
       "</div>"
      ],
      "text/plain": [
       "    Date_Occ  Time_Occ Area_Name  Part_1-2       Crm_Cd_Desc  Vict_Age  \\\n",
       "0 2020-03-01      2130  Wilshire         1  VEHICLE - STOLEN         0   \n",
       "\n",
       "  Vict_Sex Vict_Descent   Status_Desc  Crm_Cd_1      Lat       Lon  \n",
       "0        M            O  Adult Arrest     510.0  34.0375 -118.3506  "
      ]
     },
     "execution_count": 18,
     "metadata": {},
     "output_type": "execute_result"
    }
   ],
   "source": [
    "la_crime_df.head(1)"
   ]
  },
  {
   "cell_type": "code",
   "execution_count": 19,
   "id": "2642376f",
   "metadata": {},
   "outputs": [
    {
     "name": "stdout",
     "output_type": "stream",
     "text": [
      "<class 'pandas.core.frame.DataFrame'>\n",
      "Index: 802537 entries, 0 to 925719\n",
      "Data columns (total 12 columns):\n",
      " #   Column        Non-Null Count   Dtype         \n",
      "---  ------        --------------   -----         \n",
      " 0   Date_Occ      802537 non-null  datetime64[ns]\n",
      " 1   Time_Occ      802537 non-null  int64         \n",
      " 2   Area_Name     802537 non-null  object        \n",
      " 3   Part_1-2      802537 non-null  int64         \n",
      " 4   Crm_Cd_Desc   802537 non-null  object        \n",
      " 5   Vict_Age      802537 non-null  int64         \n",
      " 6   Vict_Sex      802537 non-null  object        \n",
      " 7   Vict_Descent  802537 non-null  object        \n",
      " 8   Status_Desc   802537 non-null  object        \n",
      " 9   Crm_Cd_1      802537 non-null  float64       \n",
      " 10  Lat           802537 non-null  float64       \n",
      " 11  Lon           802537 non-null  float64       \n",
      "dtypes: datetime64[ns](1), float64(3), int64(3), object(5)\n",
      "memory usage: 79.6+ MB\n"
     ]
    }
   ],
   "source": [
    "la_crime_df.info()"
   ]
  },
  {
   "cell_type": "code",
   "execution_count": 20,
   "id": "f06de626",
   "metadata": {},
   "outputs": [
    {
     "data": {
      "text/plain": [
       "Vict_Sex\n",
       "M    379021\n",
       "F    337975\n",
       "X     85434\n",
       "-         1\n",
       "Name: count, dtype: int64"
      ]
     },
     "execution_count": 20,
     "metadata": {},
     "output_type": "execute_result"
    }
   ],
   "source": [
    "# To remove the value H value of Vict_Sex\n",
    "la_crime_df=la_crime_df[la_crime_df[\"Vict_Sex\"]!=\"H\"]\n",
    "la_crime_df[\"Vict_Sex\"].value_counts()"
   ]
  },
  {
   "cell_type": "code",
   "execution_count": 21,
   "id": "50a82ac2",
   "metadata": {},
   "outputs": [
    {
     "data": {
      "text/plain": [
       "Date_Occ        1553\n",
       "Time_Occ        1439\n",
       "Area_Name         21\n",
       "Part_1-2           2\n",
       "Crm_Cd_Desc      138\n",
       "Vict_Age         103\n",
       "Vict_Sex           4\n",
       "Vict_Descent      20\n",
       "Status_Desc        6\n",
       "Crm_Cd_1         139\n",
       "Lat             5376\n",
       "Lon             4968\n",
       "dtype: int64"
      ]
     },
     "execution_count": 21,
     "metadata": {},
     "output_type": "execute_result"
    }
   ],
   "source": [
    "la_crime_df.nunique()"
   ]
  },
  {
   "cell_type": "code",
   "execution_count": 22,
   "id": "42407079",
   "metadata": {},
   "outputs": [
    {
     "data": {
      "text/plain": [
       "21"
      ]
     },
     "execution_count": 22,
     "metadata": {},
     "output_type": "execute_result"
    }
   ],
   "source": [
    "la_crime_df[\"Area_Name\"].nunique()"
   ]
  },
  {
   "cell_type": "code",
   "execution_count": 23,
   "id": "aa2070f9",
   "metadata": {
    "scrolled": false
   },
   "outputs": [
    {
     "data": {
      "text/plain": [
       "Area_Name\n",
       "Central        57981\n",
       "77th Street    49198\n",
       "Pacific        46137\n",
       "Southwest      44808\n",
       "Hollywood      44421\n",
       "N Hollywood    40753\n",
       "Olympic        40670\n",
       "Wilshire       39826\n",
       "Southeast      39272\n",
       "West LA        38613\n",
       "Name: count, dtype: int64"
      ]
     },
     "execution_count": 23,
     "metadata": {},
     "output_type": "execute_result"
    }
   ],
   "source": [
    "# Top 10 crime location\n",
    "la_crime_df[\"Area_Name\"].value_counts().head(10)"
   ]
  },
  {
   "cell_type": "code",
   "execution_count": 24,
   "id": "ba450475",
   "metadata": {
    "scrolled": true
   },
   "outputs": [
    {
     "data": {
      "text/plain": [
       "Area_Name\n",
       "Central        57981\n",
       "77th Street    49198\n",
       "Pacific        46137\n",
       "Southwest      44808\n",
       "Hollywood      44421\n",
       "N Hollywood    40753\n",
       "Olympic        40670\n",
       "Wilshire       39826\n",
       "Southeast      39272\n",
       "West LA        38613\n",
       "Newton         37579\n",
       "Rampart        37467\n",
       "West Valley    34220\n",
       "Topanga        34061\n",
       "Van Nuys       34051\n",
       "Northeast      33924\n",
       "Devonshire     33273\n",
       "Harbor         31917\n",
       "Mission        30519\n",
       "Hollenbeck     28033\n",
       "Foothill       25708\n",
       "Name: count, dtype: int64"
      ]
     },
     "execution_count": 24,
     "metadata": {},
     "output_type": "execute_result"
    }
   ],
   "source": [
    "la_crime_df[\"Area_Name\"].value_counts()"
   ]
  },
  {
   "cell_type": "code",
   "execution_count": 25,
   "id": "218742d8",
   "metadata": {},
   "outputs": [
    {
     "data": {
      "text/plain": [
       "array(['Wilshire', 'Central', 'Southwest', 'Van Nuys', 'Hollywood',\n",
       "       'Southeast', 'Newton', 'Mission', 'Rampart', 'West Valley',\n",
       "       'West LA', 'Olympic', 'Topanga', 'Northeast', '77th Street',\n",
       "       'N Hollywood', 'Hollenbeck', 'Harbor', 'Foothill', 'Devonshire',\n",
       "       'Pacific'], dtype=object)"
      ]
     },
     "execution_count": 25,
     "metadata": {},
     "output_type": "execute_result"
    }
   ],
   "source": [
    "la_crime_df[\"Area_Name\"].unique()"
   ]
  },
  {
   "cell_type": "code",
   "execution_count": 26,
   "id": "688fda72",
   "metadata": {},
   "outputs": [
    {
     "data": {
      "image/png": "[encoded data removed]",
      "text/plain": [
       "<Figure size 1000x600 with 1 Axes>"
      ]
     },
     "metadata": {},
     "output_type": "display_data"
    }
   ],
   "source": [
    "\n",
    "# Calculate value counts\n",
    "area_counts = la_crime_df[\"Area_Name\"].value_counts()\n",
    "\n",
    "# Plotting\n",
    "plt.figure(figsize=(10, 6))\n",
    "plt.bar(area_counts.index, area_counts.values)  # Use index and values to align data correctly\n",
    "plt.xlabel(\"Area Name\")\n",
    "plt.ylabel(\"Counts\")\n",
    "plt.title(\"Crime Count by Area Name\")\n",
    "plt.xticks(rotation=45)  # Optional: Rotate the area names for better readability\n",
    "plt.show()\n"
   ]
  },
  {
   "cell_type": "code",
   "execution_count": 27,
   "id": "117fe519",
   "metadata": {},
   "outputs": [
    {
     "data": {
      "text/plain": [
       "138"
      ]
     },
     "execution_count": 27,
     "metadata": {},
     "output_type": "execute_result"
    }
   ],
   "source": [
    "la_crime_df[\"Crm_Cd_Desc\"].nunique() # numbe of crime descriptions"
   ]
  },
  {
   "cell_type": "code",
   "execution_count": 28,
   "id": "11df6851",
   "metadata": {},
   "outputs": [
    {
     "data": {
      "text/plain": [
       "Crm_Cd_Desc\n",
       "BATTERY - SIMPLE ASSAULT                                   73348\n",
       "BURGLARY FROM VEHICLE                                      57042\n",
       "THEFT OF IDENTITY                                          57031\n",
       "BURGLARY                                                   56669\n",
       "VANDALISM - FELONY ($400 & OVER, ALL CHURCH VANDALISMS)    56108\n",
       "ASSAULT WITH DEADLY WEAPON, AGGRAVATED ASSAULT             52462\n",
       "THEFT PLAIN - PETTY ($950 & UNDER)                         47108\n",
       "INTIMATE PARTNER - SIMPLE ASSAULT                          45882\n",
       "THEFT FROM MOTOR VEHICLE - GRAND ($950.01 AND OVER)        33048\n",
       "ROBBERY                                                    31491\n",
       "Name: count, dtype: int64"
      ]
     },
     "execution_count": 28,
     "metadata": {},
     "output_type": "execute_result"
    }
   ],
   "source": [
    "# the top 10 crime types\n",
    "la_crime_df[\"Crm_Cd_Desc\"].value_counts().head(10)"
   ]
  },
  {
   "cell_type": "code",
   "execution_count": 29,
   "id": "8c3b0984",
   "metadata": {},
   "outputs": [
    {
     "data": {
      "image/png": "[encoded data removed]",
      "text/plain": [
       "<Figure size 800x400 with 1 Axes>"
      ]
     },
     "metadata": {},
     "output_type": "display_data"
    }
   ],
   "source": [
    "\n",
    "\n",
    "# Calculate value counts for the 'Vict_Sex' column\n",
    "sex_counts = la_crime_df['Vict_Sex'].value_counts()\n",
    "\n",
    "# Plotting\n",
    "plt.figure(figsize=(8, 4))  # Set the figure size as needed\n",
    "plt.bar(sex_counts.index, sex_counts.values)  # You can choose any color\n",
    "plt.xlabel('Victim Sex')\n",
    "plt.ylabel('Counts')\n",
    "plt.title('Crime Count by Victim Sex')\n",
    "plt.xticks(rotation=45)  # Rotate labels if necessary\n",
    "plt.show()\n"
   ]
  },
  {
   "cell_type": "code",
   "execution_count": 30,
   "id": "9d8946d9",
   "metadata": {},
   "outputs": [],
   "source": [
    "#Filtering out Vict_Age to greater than zero\n",
    "la_crime_df = la_crime_df[la_crime_df[\"Vict_Age\"]> 0]"
   ]
  },
  {
   "cell_type": "code",
   "execution_count": 31,
   "id": "827ff538",
   "metadata": {
    "scrolled": true
   },
   "outputs": [
    {
     "data": {
      "image/png": "[encoded data removed]",
      "text/plain": [
       "<Figure size 1000x600 with 1 Axes>"
      ]
     },
     "metadata": {},
     "output_type": "display_data"
    }
   ],
   "source": [
    "# Age of Victims Distribution\n",
    "\n",
    "\n",
    "la_crime_df['Vict_Age'] = pd.to_numeric(la_crime_df['Vict_Age'], errors='coerce')\n",
    "\n",
    "# Drop any NaN values that may have resulted from conversion errors or existing in data\n",
    "la_crime_df = la_crime_df.dropna(subset=['Vict_Age'])\n",
    "\n",
    "# Plotting a histogram of the 'Age' column\n",
    "plt.figure(figsize=(10, 6))\n",
    "plt.hist(la_crime_df['Vict_Age'], bins=30, alpha=0.7)  # Adjust the number of bins as needed\n",
    "plt.xlabel('Victim Age')\n",
    "plt.ylabel('Counts')\n",
    "plt.title('Distribution of Age in Crime Data')\n",
    "plt.grid(True)  # Optional: Adds a grid for easier visualization\n",
    "plt.show()\n"
   ]
  },
  {
   "cell_type": "code",
   "execution_count": 32,
   "id": "0a89cea4",
   "metadata": {},
   "outputs": [
    {
     "data": {
      "text/plain": [
       "(99, 2)"
      ]
     },
     "execution_count": 32,
     "metadata": {},
     "output_type": "execute_result"
    }
   ],
   "source": [
    "la_crime_df[\"Vict_Age\"].max(), la_crime_df[\"Vict_Age\"].min()"
   ]
  },
  {
   "cell_type": "code",
   "execution_count": 33,
   "id": "3e7f633c",
   "metadata": {},
   "outputs": [
    {
     "data": {
      "text/plain": [
       "Vict_Descent\n",
       "-         1\n",
       "A     19980\n",
       "B    128204\n",
       "C      3706\n",
       "D        75\n",
       "F      3938\n",
       "G        67\n",
       "H    276655\n",
       "I       881\n",
       "J      1304\n",
       "K      5059\n",
       "L        62\n",
       "O     60991\n",
       "P       249\n",
       "S        45\n",
       "U       156\n",
       "V       981\n",
       "W    173400\n",
       "X     15065\n",
       "Z       458\n",
       "Name: Vict_Age, dtype: int64"
      ]
     },
     "execution_count": 33,
     "metadata": {},
     "output_type": "execute_result"
    }
   ],
   "source": [
    "# Top 5 Vict Descents\n",
    "top5 =la_crime_df.groupby([\"Vict_Descent\"])[\"Vict_Age\"].count()\n",
    "top5"
   ]
  },
  {
   "cell_type": "code",
   "execution_count": 34,
   "id": "39031db8",
   "metadata": {},
   "outputs": [
    {
     "data": {
      "image/png": "[encoded data removed]",
      "text/plain": [
       "<Figure size 1200x800 with 1 Axes>"
      ]
     },
     "metadata": {},
     "output_type": "display_data"
    }
   ],
   "source": [
    "\n",
    "# Calculate the value counts for the 'Vict_Descent' column\n",
    "descent_counts = la_crime_df['Vict_Descent'].value_counts()\n",
    "\n",
    "# Plotting\n",
    "plt.figure(figsize=(12, 8))  # Adjust the size as needed\n",
    "plt.bar(descent_counts.index, descent_counts.values)\n",
    "plt.xlabel('Victim Descent')\n",
    "plt.ylabel('Counts')\n",
    "plt.title('Crime Count by Victim Descent')\n",
    "plt.xticks(rotation=90)  # Rotate labels for better readability if there are many categories\n",
    "plt.show()\n"
   ]
  },
  {
   "cell_type": "code",
   "execution_count": 35,
   "id": "1652ce39",
   "metadata": {},
   "outputs": [
    {
     "data": {
      "image/png": "[encoded data removed]",
      "text/plain": [
       "<Figure size 1200x800 with 1 Axes>"
      ]
     },
     "metadata": {},
     "output_type": "display_data"
    }
   ],
   "source": [
    "\n",
    "\n",
    "# Renaming values in the 'Vict_Descent' column\n",
    "rename_dict = {\n",
    "    'H': 'Hispanic/Latin/Mexican',\n",
    "    'B': 'Black',\n",
    "    'W': 'White',\n",
    "    'A': 'Other Asian',\n",
    "    'X': 'Unknown',\n",
    "    'C': 'Chinese',\n",
    "    'D': 'Cambodian',  # Note the typo fix from 'Combodian' to 'Cambodian'\n",
    "    'F': 'Filipino',\n",
    "    'G': 'Guamanian',\n",
    "    'I': 'American Indian/Alaskan Native',  # Minor correction for consistency\n",
    "    'J': 'Japanese',\n",
    "    'K': 'Korean',\n",
    "    'L': 'Laotian',\n",
    "    'O': 'Other',\n",
    "    'S': 'Samoan',\n",
    "    'U': 'Hawaiian',\n",
    "    'V': 'Vietnamese',\n",
    "    'Z': 'Asian Indian'\n",
    "}\n",
    "\n",
    "for code, description in rename_dict.items():\n",
    "    la_crime_df.loc[la_crime_df[\"Vict_Descent\"] == code, \"Vict_Descent\"] = description\n",
    "\n",
    "# Plotting\n",
    "plt.style.use('ggplot')\n",
    "plt.figure(figsize=(12, 8))\n",
    "la_crime_df[\"Vict_Descent\"].value_counts()[:9].plot.bar(color=plt.cm.Pastel2(np.linspace(0, 1, 9)))\n",
    "plt.title('Victims Categorization by Ethnicity')\n",
    "plt.xlabel('Victim Ethnicity')\n",
    "plt.ylabel('Count of Crimes')\n",
    "plt.show()\n"
   ]
  },
  {
   "cell_type": "code",
   "execution_count": 36,
   "id": "a47430ae",
   "metadata": {},
   "outputs": [
    {
     "name": "stdout",
     "output_type": "stream",
     "text": [
      "Area_Name\n",
      "Southeast      36\n",
      "Pacific        35\n",
      "77th Street    30\n",
      "Central        28\n",
      "Newton         20\n",
      "Harbor         14\n",
      "N Hollywood    14\n",
      "Southwest      13\n",
      "Northeast      12\n",
      "Van Nuys       12\n",
      "Name: count, dtype: int64\n"
     ]
    },
    {
     "data": {
      "image/png": "[encoded data removed]",
      "text/plain": [
       "<Figure size 1000x600 with 1 Axes>"
      ]
     },
     "metadata": {},
     "output_type": "display_data"
    }
   ],
   "source": [
    "\n",
    "\n",
    "# Filtering the DataFrame for vehicle theft - adapt the condition to match your dataset's specifics\n",
    "vehicle_theft_df = la_crime_df[la_crime_df[\"Crm_Cd_Desc\"].str.contains(\"VEHICLE - STOLEN\", na=False)]\n",
    "\n",
    "# Counting occurrences in each area and getting the top 10\n",
    "top_vehicle_theft_areas = vehicle_theft_df['Area_Name'].value_counts().head(10)\n",
    "\n",
    "# Display the results\n",
    "print(top_vehicle_theft_areas)\n",
    "plt.figure(figsize=(10, 6))  # Set the figure size\n",
    "plt.bar(top_vehicle_theft_areas.index, top_vehicle_theft_areas.values)  # Plot a bar chart\n",
    "plt.title('Top 10 LA Areas for Vehicle Theft')\n",
    "plt.xlabel('Area Name') \n",
    "plt.ylabel('Number of Vehicle Thefts') \n",
    "plt.xticks(rotation=45) \n",
    "plt.show()  \n"
   ]
  },
  {
   "cell_type": "code",
   "execution_count": 37,
   "id": "9036f943",
   "metadata": {},
   "outputs": [
    {
     "data": {
      "text/plain": [
       "(691277, 12)"
      ]
     },
     "execution_count": 37,
     "metadata": {},
     "output_type": "execute_result"
    }
   ],
   "source": [
    "la_crime_df.shape"
   ]
  },
  {
   "cell_type": "code",
   "execution_count": 38,
   "id": "bdb5e077",
   "metadata": {},
   "outputs": [
    {
     "name": "stdout",
     "output_type": "stream",
     "text": [
      "<class 'pandas.core.frame.DataFrame'>\n",
      "Index: 691277 entries, 1 to 925718\n",
      "Data columns (total 12 columns):\n",
      " #   Column        Non-Null Count   Dtype         \n",
      "---  ------        --------------   -----         \n",
      " 0   Date_Occ      691277 non-null  datetime64[ns]\n",
      " 1   Time_Occ      691277 non-null  int64         \n",
      " 2   Area_Name     691277 non-null  object        \n",
      " 3   Part_1-2      691277 non-null  int64         \n",
      " 4   Crm_Cd_Desc   691277 non-null  object        \n",
      " 5   Vict_Age      691277 non-null  int64         \n",
      " 6   Vict_Sex      691277 non-null  object        \n",
      " 7   Vict_Descent  691277 non-null  object        \n",
      " 8   Status_Desc   691277 non-null  object        \n",
      " 9   Crm_Cd_1      691277 non-null  float64       \n",
      " 10  Lat           691277 non-null  float64       \n",
      " 11  Lon           691277 non-null  float64       \n",
      "dtypes: datetime64[ns](1), float64(3), int64(3), object(5)\n",
      "memory usage: 68.6+ MB\n"
     ]
    }
   ],
   "source": [
    "la_crime_df.info()"
   ]
  },
  {
   "cell_type": "code",
   "execution_count": null,
   "id": "198ae3e7",
   "metadata": {},
   "outputs": [],
   "source": []
  },
  {
   "cell_type": "code",
   "execution_count": 39,
   "id": "af4e2712",
   "metadata": {},
   "outputs": [],
   "source": [
    "#Pre Machine Learning \n",
    "#Visualize the data using pandas histogram for the continous variables "
   ]
  },
  {
   "cell_type": "code",
   "execution_count": 40,
   "id": "8bdb0fac",
   "metadata": {},
   "outputs": [
    {
     "data": {
      "image/png": "[encoded data removed]",
      "text/plain": [
       "<Figure size 640x480 with 9 Axes>"
      ]
     },
     "metadata": {},
     "output_type": "display_data"
    },
    {
     "data": {
      "text/plain": [
       "<Figure size 1000x600 with 0 Axes>"
      ]
     },
     "metadata": {},
     "output_type": "display_data"
    }
   ],
   "source": [
    "la_crime_df.hist(rwidth=0.9)\n",
    "plt.figure(figsize=(10, 6))  # Set the figure size\n",
    "plt.tight_layout()"
   ]
  },
  {
   "cell_type": "code",
   "execution_count": 41,
   "id": "4cf40696",
   "metadata": {},
   "outputs": [],
   "source": [
    "#the above visualization looks like it is in normal distribution"
   ]
  },
  {
   "cell_type": "code",
   "execution_count": 42,
   "id": "64ecd16c",
   "metadata": {},
   "outputs": [
    {
     "data": {
      "text/html": [
       "<div>\n",
       "<style scoped>\n",
       "    .dataframe tbody tr th:only-of-type {\n",
       "        vertical-align: middle;\n",
       "    }\n",
       "\n",
       "    .dataframe tbody tr th {\n",
       "        vertical-align: top;\n",
       "    }\n",
       "\n",
       "    .dataframe thead th {\n",
       "        text-align: right;\n",
       "    }\n",
       "</style>\n",
       "<table border=\"1\" class=\"dataframe\">\n",
       "  <thead>\n",
       "    <tr style=\"text-align: right;\">\n",
       "      <th></th>\n",
       "      <th>Date_Occ</th>\n",
       "      <th>Time_Occ</th>\n",
       "      <th>Area_Name</th>\n",
       "      <th>Part_1-2</th>\n",
       "      <th>Crm_Cd_Desc</th>\n",
       "      <th>Vict_Age</th>\n",
       "      <th>Vict_Sex</th>\n",
       "      <th>Vict_Descent</th>\n",
       "      <th>Status_Desc</th>\n",
       "      <th>Crm_Cd_1</th>\n",
       "      <th>Lat</th>\n",
       "      <th>Lon</th>\n",
       "    </tr>\n",
       "  </thead>\n",
       "  <tbody>\n",
       "    <tr>\n",
       "      <th>1</th>\n",
       "      <td>2020-02-08</td>\n",
       "      <td>1800</td>\n",
       "      <td>Central</td>\n",
       "      <td>1</td>\n",
       "      <td>BURGLARY FROM VEHICLE</td>\n",
       "      <td>47</td>\n",
       "      <td>M</td>\n",
       "      <td>Other</td>\n",
       "      <td>Invest Cont</td>\n",
       "      <td>330.0</td>\n",
       "      <td>34.0444</td>\n",
       "      <td>-118.2628</td>\n",
       "    </tr>\n",
       "    <tr>\n",
       "      <th>2</th>\n",
       "      <td>2020-11-04</td>\n",
       "      <td>1700</td>\n",
       "      <td>Southwest</td>\n",
       "      <td>1</td>\n",
       "      <td>BIKE - STOLEN</td>\n",
       "      <td>19</td>\n",
       "      <td>X</td>\n",
       "      <td>Unknown</td>\n",
       "      <td>Invest Cont</td>\n",
       "      <td>480.0</td>\n",
       "      <td>34.0210</td>\n",
       "      <td>-118.3002</td>\n",
       "    </tr>\n",
       "    <tr>\n",
       "      <th>3</th>\n",
       "      <td>2020-03-10</td>\n",
       "      <td>2037</td>\n",
       "      <td>Van Nuys</td>\n",
       "      <td>1</td>\n",
       "      <td>SHOPLIFTING-GRAND THEFT ($950.01 &amp; OVER)</td>\n",
       "      <td>19</td>\n",
       "      <td>M</td>\n",
       "      <td>Other</td>\n",
       "      <td>Invest Cont</td>\n",
       "      <td>343.0</td>\n",
       "      <td>34.1576</td>\n",
       "      <td>-118.4387</td>\n",
       "    </tr>\n",
       "    <tr>\n",
       "      <th>4</th>\n",
       "      <td>2020-08-17</td>\n",
       "      <td>1200</td>\n",
       "      <td>Hollywood</td>\n",
       "      <td>2</td>\n",
       "      <td>THEFT OF IDENTITY</td>\n",
       "      <td>28</td>\n",
       "      <td>M</td>\n",
       "      <td>Hispanic/Latin/Mexican</td>\n",
       "      <td>Invest Cont</td>\n",
       "      <td>354.0</td>\n",
       "      <td>34.0944</td>\n",
       "      <td>-118.3277</td>\n",
       "    </tr>\n",
       "    <tr>\n",
       "      <th>5</th>\n",
       "      <td>2020-12-01</td>\n",
       "      <td>2300</td>\n",
       "      <td>Southeast</td>\n",
       "      <td>2</td>\n",
       "      <td>THEFT OF IDENTITY</td>\n",
       "      <td>41</td>\n",
       "      <td>M</td>\n",
       "      <td>Hispanic/Latin/Mexican</td>\n",
       "      <td>Invest Cont</td>\n",
       "      <td>354.0</td>\n",
       "      <td>33.9467</td>\n",
       "      <td>-118.2463</td>\n",
       "    </tr>\n",
       "  </tbody>\n",
       "</table>\n",
       "</div>"
      ],
      "text/plain": [
       "    Date_Occ  Time_Occ  Area_Name  Part_1-2  \\\n",
       "1 2020-02-08      1800    Central         1   \n",
       "2 2020-11-04      1700  Southwest         1   \n",
       "3 2020-03-10      2037   Van Nuys         1   \n",
       "4 2020-08-17      1200  Hollywood         2   \n",
       "5 2020-12-01      2300  Southeast         2   \n",
       "\n",
       "                                Crm_Cd_Desc  Vict_Age Vict_Sex  \\\n",
       "1                     BURGLARY FROM VEHICLE        47        M   \n",
       "2                             BIKE - STOLEN        19        X   \n",
       "3  SHOPLIFTING-GRAND THEFT ($950.01 & OVER)        19        M   \n",
       "4                         THEFT OF IDENTITY        28        M   \n",
       "5                         THEFT OF IDENTITY        41        M   \n",
       "\n",
       "             Vict_Descent  Status_Desc  Crm_Cd_1      Lat       Lon  \n",
       "1                   Other  Invest Cont     330.0  34.0444 -118.2628  \n",
       "2                 Unknown  Invest Cont     480.0  34.0210 -118.3002  \n",
       "3                   Other  Invest Cont     343.0  34.1576 -118.4387  \n",
       "4  Hispanic/Latin/Mexican  Invest Cont     354.0  34.0944 -118.3277  \n",
       "5  Hispanic/Latin/Mexican  Invest Cont     354.0  33.9467 -118.2463  "
      ]
     },
     "execution_count": 42,
     "metadata": {},
     "output_type": "execute_result"
    }
   ],
   "source": [
    "la_crime_df.head()"
   ]
  },
  {
   "cell_type": "code",
   "execution_count": null,
   "id": "e214de4f",
   "metadata": {},
   "outputs": [],
   "source": []
  },
  {
   "cell_type": "code",
   "execution_count": 43,
   "id": "e458b680",
   "metadata": {},
   "outputs": [],
   "source": [
    "la_crime_df = la_crime_df[[\"Vict_Sex\",\"Vict_Age\",\"Lat\",\"Lon\",\"Area_Name\",\"Crm_Cd_Desc\"]]"
   ]
  },
  {
   "cell_type": "code",
   "execution_count": 44,
   "id": "b3041db1",
   "metadata": {},
   "outputs": [
    {
     "data": {
      "text/html": [
       "<div>\n",
       "<style scoped>\n",
       "    .dataframe tbody tr th:only-of-type {\n",
       "        vertical-align: middle;\n",
       "    }\n",
       "\n",
       "    .dataframe tbody tr th {\n",
       "        vertical-align: top;\n",
       "    }\n",
       "\n",
       "    .dataframe thead th {\n",
       "        text-align: right;\n",
       "    }\n",
       "</style>\n",
       "<table border=\"1\" class=\"dataframe\">\n",
       "  <thead>\n",
       "    <tr style=\"text-align: right;\">\n",
       "      <th></th>\n",
       "      <th>Vict_Sex</th>\n",
       "      <th>Vict_Age</th>\n",
       "      <th>Lat</th>\n",
       "      <th>Lon</th>\n",
       "      <th>Area_Name</th>\n",
       "      <th>Crm_Cd_Desc</th>\n",
       "    </tr>\n",
       "  </thead>\n",
       "  <tbody>\n",
       "    <tr>\n",
       "      <th>1</th>\n",
       "      <td>M</td>\n",
       "      <td>47</td>\n",
       "      <td>34.0444</td>\n",
       "      <td>-118.2628</td>\n",
       "      <td>Central</td>\n",
       "      <td>BURGLARY FROM VEHICLE</td>\n",
       "    </tr>\n",
       "    <tr>\n",
       "      <th>2</th>\n",
       "      <td>X</td>\n",
       "      <td>19</td>\n",
       "      <td>34.0210</td>\n",
       "      <td>-118.3002</td>\n",
       "      <td>Southwest</td>\n",
       "      <td>BIKE - STOLEN</td>\n",
       "    </tr>\n",
       "    <tr>\n",
       "      <th>3</th>\n",
       "      <td>M</td>\n",
       "      <td>19</td>\n",
       "      <td>34.1576</td>\n",
       "      <td>-118.4387</td>\n",
       "      <td>Van Nuys</td>\n",
       "      <td>SHOPLIFTING-GRAND THEFT ($950.01 &amp; OVER)</td>\n",
       "    </tr>\n",
       "    <tr>\n",
       "      <th>4</th>\n",
       "      <td>M</td>\n",
       "      <td>28</td>\n",
       "      <td>34.0944</td>\n",
       "      <td>-118.3277</td>\n",
       "      <td>Hollywood</td>\n",
       "      <td>THEFT OF IDENTITY</td>\n",
       "    </tr>\n",
       "    <tr>\n",
       "      <th>5</th>\n",
       "      <td>M</td>\n",
       "      <td>41</td>\n",
       "      <td>33.9467</td>\n",
       "      <td>-118.2463</td>\n",
       "      <td>Southeast</td>\n",
       "      <td>THEFT OF IDENTITY</td>\n",
       "    </tr>\n",
       "  </tbody>\n",
       "</table>\n",
       "</div>"
      ],
      "text/plain": [
       "  Vict_Sex  Vict_Age      Lat       Lon  Area_Name  \\\n",
       "1        M        47  34.0444 -118.2628    Central   \n",
       "2        X        19  34.0210 -118.3002  Southwest   \n",
       "3        M        19  34.1576 -118.4387   Van Nuys   \n",
       "4        M        28  34.0944 -118.3277  Hollywood   \n",
       "5        M        41  33.9467 -118.2463  Southeast   \n",
       "\n",
       "                                Crm_Cd_Desc  \n",
       "1                     BURGLARY FROM VEHICLE  \n",
       "2                             BIKE - STOLEN  \n",
       "3  SHOPLIFTING-GRAND THEFT ($950.01 & OVER)  \n",
       "4                         THEFT OF IDENTITY  \n",
       "5                         THEFT OF IDENTITY  "
      ]
     },
     "execution_count": 44,
     "metadata": {},
     "output_type": "execute_result"
    }
   ],
   "source": [
    "la_crime_df.head()"
   ]
  },
  {
   "cell_type": "code",
   "execution_count": 45,
   "id": "09a259e2",
   "metadata": {
    "scrolled": true
   },
   "outputs": [
    {
     "data": {
      "text/plain": [
       "Vict_Sex\n",
       "M    348235\n",
       "F    334231\n",
       "X      8811\n",
       "Name: count, dtype: int64"
      ]
     },
     "execution_count": 45,
     "metadata": {},
     "output_type": "execute_result"
    }
   ],
   "source": [
    "la_crime_df[\"Vict_Sex\"].value_counts()"
   ]
  },
  {
   "cell_type": "code",
   "execution_count": 46,
   "id": "7da02270",
   "metadata": {},
   "outputs": [
    {
     "data": {
      "text/plain": [
       "Area_Name\n",
       "Central        48784\n",
       "77th Street    43957\n",
       "Southwest      43942\n",
       "Pacific        38818\n",
       "Hollywood      36911\n",
       "Southeast      35001\n",
       "Olympic        34395\n",
       "N Hollywood    33538\n",
       "Wilshire       33532\n",
       "Topanga        32063\n",
       "Newton         31979\n",
       "Rampart        31494\n",
       "West LA        31439\n",
       "Van Nuys       31116\n",
       "West Valley    29015\n",
       "Mission        28132\n",
       "Northeast      27657\n",
       "Devonshire     27176\n",
       "Harbor         26191\n",
       "Foothill       23117\n",
       "Hollenbeck     23020\n",
       "Name: count, dtype: int64"
      ]
     },
     "execution_count": 46,
     "metadata": {},
     "output_type": "execute_result"
    }
   ],
   "source": [
    "la_crime_df[\"Area_Name\"].value_counts()"
   ]
  },
  {
   "cell_type": "code",
   "execution_count": 47,
   "id": "05c98312",
   "metadata": {
    "scrolled": true
   },
   "outputs": [
    {
     "name": "stdout",
     "output_type": "stream",
     "text": [
      "<class 'pandas.core.frame.DataFrame'>\n",
      "Index: 691277 entries, 1 to 925718\n",
      "Data columns (total 6 columns):\n",
      " #   Column       Non-Null Count   Dtype  \n",
      "---  ------       --------------   -----  \n",
      " 0   Vict_Sex     691277 non-null  object \n",
      " 1   Vict_Age     691277 non-null  int64  \n",
      " 2   Lat          691277 non-null  float64\n",
      " 3   Lon          691277 non-null  float64\n",
      " 4   Area_Name    691277 non-null  object \n",
      " 5   Crm_Cd_Desc  691277 non-null  object \n",
      "dtypes: float64(2), int64(1), object(3)\n",
      "memory usage: 36.9+ MB\n"
     ]
    }
   ],
   "source": [
    "la_crime_df.info()"
   ]
  },
  {
   "cell_type": "code",
   "execution_count": 48,
   "id": "f9e44478",
   "metadata": {},
   "outputs": [],
   "source": [
    "#change the object dtypes into categorical\n",
    "la_crime_df[\"Vict_Sex\"] = la_crime_df[\"Vict_Sex\"].astype(\"category\")\n",
    "la_crime_df[\"Area_Name\"] = la_crime_df[\"Area_Name\"].astype(\"category\")"
   ]
  },
  {
   "cell_type": "code",
   "execution_count": 49,
   "id": "9f6b6888",
   "metadata": {},
   "outputs": [
    {
     "name": "stdout",
     "output_type": "stream",
     "text": [
      "<class 'pandas.core.frame.DataFrame'>\n",
      "Index: 691277 entries, 1 to 925718\n",
      "Data columns (total 6 columns):\n",
      " #   Column       Non-Null Count   Dtype   \n",
      "---  ------       --------------   -----   \n",
      " 0   Vict_Sex     691277 non-null  category\n",
      " 1   Vict_Age     691277 non-null  int64   \n",
      " 2   Lat          691277 non-null  float64 \n",
      " 3   Lon          691277 non-null  float64 \n",
      " 4   Area_Name    691277 non-null  category\n",
      " 5   Crm_Cd_Desc  691277 non-null  object  \n",
      "dtypes: category(2), float64(2), int64(1), object(1)\n",
      "memory usage: 27.7+ MB\n"
     ]
    }
   ],
   "source": [
    "la_crime_df.info()"
   ]
  },
  {
   "cell_type": "code",
   "execution_count": 50,
   "id": "63a5fd9e",
   "metadata": {},
   "outputs": [],
   "source": [
    "#Target/dependent Variable Crm_Cd_Desc\n",
    "#independent variables Vict_Sex, Vict_Age, Lat, Lon,Area_Name"
   ]
  },
  {
   "cell_type": "code",
   "execution_count": 51,
   "id": "821ac257",
   "metadata": {},
   "outputs": [
    {
     "data": {
      "text/plain": [
       "Vict_Sex       category\n",
       "Vict_Age          int64\n",
       "Lat             float64\n",
       "Lon             float64\n",
       "Area_Name      category\n",
       "Crm_Cd_Desc      object\n",
       "dtype: object"
      ]
     },
     "execution_count": 51,
     "metadata": {},
     "output_type": "execute_result"
    }
   ],
   "source": [
    "la_crime_df.dtypes"
   ]
  },
  {
   "cell_type": "code",
   "execution_count": 52,
   "id": "5687239e",
   "metadata": {},
   "outputs": [
    {
     "data": {
      "text/html": [
       "<div>\n",
       "<style scoped>\n",
       "    .dataframe tbody tr th:only-of-type {\n",
       "        vertical-align: middle;\n",
       "    }\n",
       "\n",
       "    .dataframe tbody tr th {\n",
       "        vertical-align: top;\n",
       "    }\n",
       "\n",
       "    .dataframe thead th {\n",
       "        text-align: right;\n",
       "    }\n",
       "</style>\n",
       "<table border=\"1\" class=\"dataframe\">\n",
       "  <thead>\n",
       "    <tr style=\"text-align: right;\">\n",
       "      <th></th>\n",
       "      <th>Vict_Age</th>\n",
       "      <th>Lat</th>\n",
       "      <th>Lon</th>\n",
       "      <th>Crm_Cd_Desc</th>\n",
       "      <th>Vict_Sex_F</th>\n",
       "      <th>Vict_Sex_M</th>\n",
       "      <th>Vict_Sex_X</th>\n",
       "      <th>Area_Name_77th Street</th>\n",
       "      <th>Area_Name_Central</th>\n",
       "      <th>Area_Name_Devonshire</th>\n",
       "      <th>...</th>\n",
       "      <th>Area_Name_Olympic</th>\n",
       "      <th>Area_Name_Pacific</th>\n",
       "      <th>Area_Name_Rampart</th>\n",
       "      <th>Area_Name_Southeast</th>\n",
       "      <th>Area_Name_Southwest</th>\n",
       "      <th>Area_Name_Topanga</th>\n",
       "      <th>Area_Name_Van Nuys</th>\n",
       "      <th>Area_Name_West LA</th>\n",
       "      <th>Area_Name_West Valley</th>\n",
       "      <th>Area_Name_Wilshire</th>\n",
       "    </tr>\n",
       "  </thead>\n",
       "  <tbody>\n",
       "    <tr>\n",
       "      <th>1</th>\n",
       "      <td>47</td>\n",
       "      <td>34.0444</td>\n",
       "      <td>-118.2628</td>\n",
       "      <td>BURGLARY FROM VEHICLE</td>\n",
       "      <td>0</td>\n",
       "      <td>1</td>\n",
       "      <td>0</td>\n",
       "      <td>0</td>\n",
       "      <td>1</td>\n",
       "      <td>0</td>\n",
       "      <td>...</td>\n",
       "      <td>0</td>\n",
       "      <td>0</td>\n",
       "      <td>0</td>\n",
       "      <td>0</td>\n",
       "      <td>0</td>\n",
       "      <td>0</td>\n",
       "      <td>0</td>\n",
       "      <td>0</td>\n",
       "      <td>0</td>\n",
       "      <td>0</td>\n",
       "    </tr>\n",
       "    <tr>\n",
       "      <th>2</th>\n",
       "      <td>19</td>\n",
       "      <td>34.0210</td>\n",
       "      <td>-118.3002</td>\n",
       "      <td>BIKE - STOLEN</td>\n",
       "      <td>0</td>\n",
       "      <td>0</td>\n",
       "      <td>1</td>\n",
       "      <td>0</td>\n",
       "      <td>0</td>\n",
       "      <td>0</td>\n",
       "      <td>...</td>\n",
       "      <td>0</td>\n",
       "      <td>0</td>\n",
       "      <td>0</td>\n",
       "      <td>0</td>\n",
       "      <td>1</td>\n",
       "      <td>0</td>\n",
       "      <td>0</td>\n",
       "      <td>0</td>\n",
       "      <td>0</td>\n",
       "      <td>0</td>\n",
       "    </tr>\n",
       "  </tbody>\n",
       "</table>\n",
       "<p>2 rows × 28 columns</p>\n",
       "</div>"
      ],
      "text/plain": [
       "   Vict_Age      Lat       Lon            Crm_Cd_Desc  Vict_Sex_F  Vict_Sex_M  \\\n",
       "1        47  34.0444 -118.2628  BURGLARY FROM VEHICLE           0           1   \n",
       "2        19  34.0210 -118.3002          BIKE - STOLEN           0           0   \n",
       "\n",
       "   Vict_Sex_X  Area_Name_77th Street  Area_Name_Central  Area_Name_Devonshire  \\\n",
       "1           0                      0                  1                     0   \n",
       "2           1                      0                  0                     0   \n",
       "\n",
       "   ...  Area_Name_Olympic  Area_Name_Pacific  Area_Name_Rampart  \\\n",
       "1  ...                  0                  0                  0   \n",
       "2  ...                  0                  0                  0   \n",
       "\n",
       "   Area_Name_Southeast  Area_Name_Southwest  Area_Name_Topanga  \\\n",
       "1                    0                    0                  0   \n",
       "2                    0                    1                  0   \n",
       "\n",
       "   Area_Name_Van Nuys  Area_Name_West LA  Area_Name_West Valley  \\\n",
       "1                   0                  0                      0   \n",
       "2                   0                  0                      0   \n",
       "\n",
       "   Area_Name_Wilshire  \n",
       "1                   0  \n",
       "2                   0  \n",
       "\n",
       "[2 rows x 28 columns]"
      ]
     },
     "execution_count": 52,
     "metadata": {},
     "output_type": "execute_result"
    }
   ],
   "source": [
    "\n",
    "# Convert 'Vict_Sex' and 'Area_Name' to dummy variables\n",
    "dummies = pd.get_dummies(la_crime_df[['Vict_Sex', 'Area_Name']])\n",
    "dummies =dummies.astype(int)\n",
    "\n",
    "# Concatenate the dummy DataFrame with the original DataFrame (optional)\n",
    "# This step assumes you want to keep the rest of your data alongside the new dummy variables\n",
    "la_crime_df = pd.concat([la_crime_df, dummies], axis=1)\n",
    "\n",
    "# Optionally, you might want to drop the original columns if they are no longer needed\n",
    "la_crime_df.drop(['Vict_Sex', 'Area_Name'], axis=1, inplace=True)\n",
    "\n",
    "# Display the DataFrame to verify changes\n",
    "la_crime_df.head(2)\n"
   ]
  },
  {
   "cell_type": "code",
   "execution_count": 53,
   "id": "c3119c38",
   "metadata": {},
   "outputs": [],
   "source": [
    "\n",
    "#creating x and y variables\n",
    "x= la_crime_df.drop(\"Crm_Cd_Desc\", axis = 1)\n",
    "y=la_crime_df[\"Crm_Cd_Desc\"]"
   ]
  },
  {
   "cell_type": "code",
   "execution_count": 54,
   "id": "9bd2eee9",
   "metadata": {},
   "outputs": [
    {
     "data": {
      "text/plain": [
       "(691277, 27)"
      ]
     },
     "execution_count": 54,
     "metadata": {},
     "output_type": "execute_result"
    }
   ],
   "source": [
    "x.shape # its a dataframe"
   ]
  },
  {
   "cell_type": "code",
   "execution_count": 55,
   "id": "1180e012",
   "metadata": {},
   "outputs": [
    {
     "data": {
      "text/plain": [
       "(691277,)"
      ]
     },
     "execution_count": 55,
     "metadata": {},
     "output_type": "execute_result"
    }
   ],
   "source": [
    "y.shape # series "
   ]
  },
  {
   "cell_type": "code",
   "execution_count": 56,
   "id": "d8d9b4d2",
   "metadata": {},
   "outputs": [
    {
     "data": {
      "text/plain": [
       "1                                   BURGLARY FROM VEHICLE\n",
       "2                                           BIKE - STOLEN\n",
       "3                SHOPLIFTING-GRAND THEFT ($950.01 & OVER)\n",
       "4                                       THEFT OF IDENTITY\n",
       "5                                       THEFT OF IDENTITY\n",
       "                               ...                       \n",
       "925714                                  THEFT OF IDENTITY\n",
       "925715                                        TRESPASSING\n",
       "925716     ASSAULT WITH DEADLY WEAPON, AGGRAVATED ASSAULT\n",
       "925717    THEFT FROM MOTOR VEHICLE - PETTY ($950 & UNDER)\n",
       "925718                           BATTERY - SIMPLE ASSAULT\n",
       "Name: Crm_Cd_Desc, Length: 691277, dtype: object"
      ]
     },
     "execution_count": 56,
     "metadata": {},
     "output_type": "execute_result"
    }
   ],
   "source": [
    "y"
   ]
  },
  {
   "cell_type": "code",
   "execution_count": 57,
   "id": "4868fe1d",
   "metadata": {},
   "outputs": [
    {
     "data": {
      "text/html": [
       "<div>\n",
       "<style scoped>\n",
       "    .dataframe tbody tr th:only-of-type {\n",
       "        vertical-align: middle;\n",
       "    }\n",
       "\n",
       "    .dataframe tbody tr th {\n",
       "        vertical-align: top;\n",
       "    }\n",
       "\n",
       "    .dataframe thead th {\n",
       "        text-align: right;\n",
       "    }\n",
       "</style>\n",
       "<table border=\"1\" class=\"dataframe\">\n",
       "  <thead>\n",
       "    <tr style=\"text-align: right;\">\n",
       "      <th></th>\n",
       "      <th>Vict_Age</th>\n",
       "      <th>Lat</th>\n",
       "      <th>Lon</th>\n",
       "      <th>Vict_Sex_F</th>\n",
       "      <th>Vict_Sex_M</th>\n",
       "      <th>Vict_Sex_X</th>\n",
       "      <th>Area_Name_77th Street</th>\n",
       "      <th>Area_Name_Central</th>\n",
       "      <th>Area_Name_Devonshire</th>\n",
       "      <th>Area_Name_Foothill</th>\n",
       "      <th>...</th>\n",
       "      <th>Area_Name_Olympic</th>\n",
       "      <th>Area_Name_Pacific</th>\n",
       "      <th>Area_Name_Rampart</th>\n",
       "      <th>Area_Name_Southeast</th>\n",
       "      <th>Area_Name_Southwest</th>\n",
       "      <th>Area_Name_Topanga</th>\n",
       "      <th>Area_Name_Van Nuys</th>\n",
       "      <th>Area_Name_West LA</th>\n",
       "      <th>Area_Name_West Valley</th>\n",
       "      <th>Area_Name_Wilshire</th>\n",
       "    </tr>\n",
       "  </thead>\n",
       "  <tbody>\n",
       "    <tr>\n",
       "      <th>1</th>\n",
       "      <td>47</td>\n",
       "      <td>34.0444</td>\n",
       "      <td>-118.2628</td>\n",
       "      <td>0</td>\n",
       "      <td>1</td>\n",
       "      <td>0</td>\n",
       "      <td>0</td>\n",
       "      <td>1</td>\n",
       "      <td>0</td>\n",
       "      <td>0</td>\n",
       "      <td>...</td>\n",
       "      <td>0</td>\n",
       "      <td>0</td>\n",
       "      <td>0</td>\n",
       "      <td>0</td>\n",
       "      <td>0</td>\n",
       "      <td>0</td>\n",
       "      <td>0</td>\n",
       "      <td>0</td>\n",
       "      <td>0</td>\n",
       "      <td>0</td>\n",
       "    </tr>\n",
       "    <tr>\n",
       "      <th>2</th>\n",
       "      <td>19</td>\n",
       "      <td>34.0210</td>\n",
       "      <td>-118.3002</td>\n",
       "      <td>0</td>\n",
       "      <td>0</td>\n",
       "      <td>1</td>\n",
       "      <td>0</td>\n",
       "      <td>0</td>\n",
       "      <td>0</td>\n",
       "      <td>0</td>\n",
       "      <td>...</td>\n",
       "      <td>0</td>\n",
       "      <td>0</td>\n",
       "      <td>0</td>\n",
       "      <td>0</td>\n",
       "      <td>1</td>\n",
       "      <td>0</td>\n",
       "      <td>0</td>\n",
       "      <td>0</td>\n",
       "      <td>0</td>\n",
       "      <td>0</td>\n",
       "    </tr>\n",
       "    <tr>\n",
       "      <th>3</th>\n",
       "      <td>19</td>\n",
       "      <td>34.1576</td>\n",
       "      <td>-118.4387</td>\n",
       "      <td>0</td>\n",
       "      <td>1</td>\n",
       "      <td>0</td>\n",
       "      <td>0</td>\n",
       "      <td>0</td>\n",
       "      <td>0</td>\n",
       "      <td>0</td>\n",
       "      <td>...</td>\n",
       "      <td>0</td>\n",
       "      <td>0</td>\n",
       "      <td>0</td>\n",
       "      <td>0</td>\n",
       "      <td>0</td>\n",
       "      <td>0</td>\n",
       "      <td>1</td>\n",
       "      <td>0</td>\n",
       "      <td>0</td>\n",
       "      <td>0</td>\n",
       "    </tr>\n",
       "    <tr>\n",
       "      <th>4</th>\n",
       "      <td>28</td>\n",
       "      <td>34.0944</td>\n",
       "      <td>-118.3277</td>\n",
       "      <td>0</td>\n",
       "      <td>1</td>\n",
       "      <td>0</td>\n",
       "      <td>0</td>\n",
       "      <td>0</td>\n",
       "      <td>0</td>\n",
       "      <td>0</td>\n",
       "      <td>...</td>\n",
       "      <td>0</td>\n",
       "      <td>0</td>\n",
       "      <td>0</td>\n",
       "      <td>0</td>\n",
       "      <td>0</td>\n",
       "      <td>0</td>\n",
       "      <td>0</td>\n",
       "      <td>0</td>\n",
       "      <td>0</td>\n",
       "      <td>0</td>\n",
       "    </tr>\n",
       "    <tr>\n",
       "      <th>5</th>\n",
       "      <td>41</td>\n",
       "      <td>33.9467</td>\n",
       "      <td>-118.2463</td>\n",
       "      <td>0</td>\n",
       "      <td>1</td>\n",
       "      <td>0</td>\n",
       "      <td>0</td>\n",
       "      <td>0</td>\n",
       "      <td>0</td>\n",
       "      <td>0</td>\n",
       "      <td>...</td>\n",
       "      <td>0</td>\n",
       "      <td>0</td>\n",
       "      <td>0</td>\n",
       "      <td>1</td>\n",
       "      <td>0</td>\n",
       "      <td>0</td>\n",
       "      <td>0</td>\n",
       "      <td>0</td>\n",
       "      <td>0</td>\n",
       "      <td>0</td>\n",
       "    </tr>\n",
       "    <tr>\n",
       "      <th>...</th>\n",
       "      <td>...</td>\n",
       "      <td>...</td>\n",
       "      <td>...</td>\n",
       "      <td>...</td>\n",
       "      <td>...</td>\n",
       "      <td>...</td>\n",
       "      <td>...</td>\n",
       "      <td>...</td>\n",
       "      <td>...</td>\n",
       "      <td>...</td>\n",
       "      <td>...</td>\n",
       "      <td>...</td>\n",
       "      <td>...</td>\n",
       "      <td>...</td>\n",
       "      <td>...</td>\n",
       "      <td>...</td>\n",
       "      <td>...</td>\n",
       "      <td>...</td>\n",
       "      <td>...</td>\n",
       "      <td>...</td>\n",
       "      <td>...</td>\n",
       "    </tr>\n",
       "    <tr>\n",
       "      <th>925714</th>\n",
       "      <td>62</td>\n",
       "      <td>34.2707</td>\n",
       "      <td>-118.2917</td>\n",
       "      <td>1</td>\n",
       "      <td>0</td>\n",
       "      <td>0</td>\n",
       "      <td>0</td>\n",
       "      <td>0</td>\n",
       "      <td>0</td>\n",
       "      <td>1</td>\n",
       "      <td>...</td>\n",
       "      <td>0</td>\n",
       "      <td>0</td>\n",
       "      <td>0</td>\n",
       "      <td>0</td>\n",
       "      <td>0</td>\n",
       "      <td>0</td>\n",
       "      <td>0</td>\n",
       "      <td>0</td>\n",
       "      <td>0</td>\n",
       "      <td>0</td>\n",
       "    </tr>\n",
       "    <tr>\n",
       "      <th>925715</th>\n",
       "      <td>79</td>\n",
       "      <td>34.2278</td>\n",
       "      <td>-118.4051</td>\n",
       "      <td>0</td>\n",
       "      <td>1</td>\n",
       "      <td>0</td>\n",
       "      <td>0</td>\n",
       "      <td>0</td>\n",
       "      <td>0</td>\n",
       "      <td>1</td>\n",
       "      <td>...</td>\n",
       "      <td>0</td>\n",
       "      <td>0</td>\n",
       "      <td>0</td>\n",
       "      <td>0</td>\n",
       "      <td>0</td>\n",
       "      <td>0</td>\n",
       "      <td>0</td>\n",
       "      <td>0</td>\n",
       "      <td>0</td>\n",
       "      <td>0</td>\n",
       "    </tr>\n",
       "    <tr>\n",
       "      <th>925716</th>\n",
       "      <td>36</td>\n",
       "      <td>34.2271</td>\n",
       "      <td>-118.3878</td>\n",
       "      <td>0</td>\n",
       "      <td>1</td>\n",
       "      <td>0</td>\n",
       "      <td>0</td>\n",
       "      <td>0</td>\n",
       "      <td>0</td>\n",
       "      <td>1</td>\n",
       "      <td>...</td>\n",
       "      <td>0</td>\n",
       "      <td>0</td>\n",
       "      <td>0</td>\n",
       "      <td>0</td>\n",
       "      <td>0</td>\n",
       "      <td>0</td>\n",
       "      <td>0</td>\n",
       "      <td>0</td>\n",
       "      <td>0</td>\n",
       "      <td>0</td>\n",
       "    </tr>\n",
       "    <tr>\n",
       "      <th>925717</th>\n",
       "      <td>44</td>\n",
       "      <td>34.2260</td>\n",
       "      <td>-118.6214</td>\n",
       "      <td>1</td>\n",
       "      <td>0</td>\n",
       "      <td>0</td>\n",
       "      <td>0</td>\n",
       "      <td>0</td>\n",
       "      <td>0</td>\n",
       "      <td>0</td>\n",
       "      <td>...</td>\n",
       "      <td>0</td>\n",
       "      <td>0</td>\n",
       "      <td>0</td>\n",
       "      <td>0</td>\n",
       "      <td>0</td>\n",
       "      <td>1</td>\n",
       "      <td>0</td>\n",
       "      <td>0</td>\n",
       "      <td>0</td>\n",
       "      <td>0</td>\n",
       "    </tr>\n",
       "    <tr>\n",
       "      <th>925718</th>\n",
       "      <td>80</td>\n",
       "      <td>34.0690</td>\n",
       "      <td>-118.3054</td>\n",
       "      <td>1</td>\n",
       "      <td>0</td>\n",
       "      <td>0</td>\n",
       "      <td>0</td>\n",
       "      <td>0</td>\n",
       "      <td>0</td>\n",
       "      <td>0</td>\n",
       "      <td>...</td>\n",
       "      <td>1</td>\n",
       "      <td>0</td>\n",
       "      <td>0</td>\n",
       "      <td>0</td>\n",
       "      <td>0</td>\n",
       "      <td>0</td>\n",
       "      <td>0</td>\n",
       "      <td>0</td>\n",
       "      <td>0</td>\n",
       "      <td>0</td>\n",
       "    </tr>\n",
       "  </tbody>\n",
       "</table>\n",
       "<p>691277 rows × 27 columns</p>\n",
       "</div>"
      ],
      "text/plain": [
       "        Vict_Age      Lat       Lon  Vict_Sex_F  Vict_Sex_M  Vict_Sex_X  \\\n",
       "1             47  34.0444 -118.2628           0           1           0   \n",
       "2             19  34.0210 -118.3002           0           0           1   \n",
       "3             19  34.1576 -118.4387           0           1           0   \n",
       "4             28  34.0944 -118.3277           0           1           0   \n",
       "5             41  33.9467 -118.2463           0           1           0   \n",
       "...          ...      ...       ...         ...         ...         ...   \n",
       "925714        62  34.2707 -118.2917           1           0           0   \n",
       "925715        79  34.2278 -118.4051           0           1           0   \n",
       "925716        36  34.2271 -118.3878           0           1           0   \n",
       "925717        44  34.2260 -118.6214           1           0           0   \n",
       "925718        80  34.0690 -118.3054           1           0           0   \n",
       "\n",
       "        Area_Name_77th Street  Area_Name_Central  Area_Name_Devonshire  \\\n",
       "1                           0                  1                     0   \n",
       "2                           0                  0                     0   \n",
       "3                           0                  0                     0   \n",
       "4                           0                  0                     0   \n",
       "5                           0                  0                     0   \n",
       "...                       ...                ...                   ...   \n",
       "925714                      0                  0                     0   \n",
       "925715                      0                  0                     0   \n",
       "925716                      0                  0                     0   \n",
       "925717                      0                  0                     0   \n",
       "925718                      0                  0                     0   \n",
       "\n",
       "        Area_Name_Foothill  ...  Area_Name_Olympic  Area_Name_Pacific  \\\n",
       "1                        0  ...                  0                  0   \n",
       "2                        0  ...                  0                  0   \n",
       "3                        0  ...                  0                  0   \n",
       "4                        0  ...                  0                  0   \n",
       "5                        0  ...                  0                  0   \n",
       "...                    ...  ...                ...                ...   \n",
       "925714                   1  ...                  0                  0   \n",
       "925715                   1  ...                  0                  0   \n",
       "925716                   1  ...                  0                  0   \n",
       "925717                   0  ...                  0                  0   \n",
       "925718                   0  ...                  1                  0   \n",
       "\n",
       "        Area_Name_Rampart  Area_Name_Southeast  Area_Name_Southwest  \\\n",
       "1                       0                    0                    0   \n",
       "2                       0                    0                    1   \n",
       "3                       0                    0                    0   \n",
       "4                       0                    0                    0   \n",
       "5                       0                    1                    0   \n",
       "...                   ...                  ...                  ...   \n",
       "925714                  0                    0                    0   \n",
       "925715                  0                    0                    0   \n",
       "925716                  0                    0                    0   \n",
       "925717                  0                    0                    0   \n",
       "925718                  0                    0                    0   \n",
       "\n",
       "        Area_Name_Topanga  Area_Name_Van Nuys  Area_Name_West LA  \\\n",
       "1                       0                   0                  0   \n",
       "2                       0                   0                  0   \n",
       "3                       0                   1                  0   \n",
       "4                       0                   0                  0   \n",
       "5                       0                   0                  0   \n",
       "...                   ...                 ...                ...   \n",
       "925714                  0                   0                  0   \n",
       "925715                  0                   0                  0   \n",
       "925716                  0                   0                  0   \n",
       "925717                  1                   0                  0   \n",
       "925718                  0                   0                  0   \n",
       "\n",
       "        Area_Name_West Valley  Area_Name_Wilshire  \n",
       "1                           0                   0  \n",
       "2                           0                   0  \n",
       "3                           0                   0  \n",
       "4                           0                   0  \n",
       "5                           0                   0  \n",
       "...                       ...                 ...  \n",
       "925714                      0                   0  \n",
       "925715                      0                   0  \n",
       "925716                      0                   0  \n",
       "925717                      0                   0  \n",
       "925718                      0                   0  \n",
       "\n",
       "[691277 rows x 27 columns]"
      ]
     },
     "execution_count": 57,
     "metadata": {},
     "output_type": "execute_result"
    }
   ],
   "source": [
    "x"
   ]
  },
  {
   "cell_type": "code",
   "execution_count": 58,
   "id": "961271b7",
   "metadata": {},
   "outputs": [],
   "source": [
    "#create train and test dataset\n",
    "from sklearn.model_selection import train_test_split\n",
    "\n",
    "# Split the data into training and testing sets\n",
    "x_train, x_test, y_train, y_test = train_test_split(x, y, test_size=0.25, random_state=0) # \n",
    "\n",
    "# You would then train your classifier on X_train and y_train\n"
   ]
  },
  {
   "cell_type": "code",
   "execution_count": 59,
   "id": "06f76573",
   "metadata": {},
   "outputs": [],
   "source": [
    "from sklearn.tree import DecisionTreeClassifier # DecisionTree classifier"
   ]
  },
  {
   "cell_type": "code",
   "execution_count": 60,
   "id": "ab5e6bc2",
   "metadata": {},
   "outputs": [],
   "source": [
    "#entropy measures the diversity or impurity of within the data , our aim is to get low entropy value\n",
    "#gini index or coefficient \n",
    "#information Gain we can use this for both entropy or gini methods"
   ]
  },
  {
   "cell_type": "code",
   "execution_count": 61,
   "id": "74848877",
   "metadata": {},
   "outputs": [],
   "source": [
    "# IN DecsionTree we are always considering\n",
    "#min_sample_split\n",
    "#min_sample_leaf\n",
    "#max_leaf_nodes\n",
    "#splitter\n",
    "#max_features\n",
    "#presort\n",
    "#criterion\n",
    "#min_impurity_decrease"
   ]
  },
  {
   "cell_type": "code",
   "execution_count": 62,
   "id": "bb357a55",
   "metadata": {},
   "outputs": [],
   "source": [
    "#Train the model and create the object dtc decsion tree classifier\n",
    "dtc = DecisionTreeClassifier(random_state = 0)"
   ]
  },
  {
   "cell_type": "code",
   "execution_count": 63,
   "id": "575005ca",
   "metadata": {},
   "outputs": [
    {
     "data": {
      "text/html": [
       "<style>#sk-container-id-1 {color: black;}#sk-container-id-1 pre{padding: 0;}#sk-container-id-1 div.sk-toggleable {background-color: white;}#sk-container-id-1 label.sk-toggleable__label {cursor: pointer;display: block;width: 100%;margin-bottom: 0;padding: 0.3em;box-sizing: border-box;text-align: center;}#sk-container-id-1 label.sk-toggleable__label-arrow:before {content: \"▸\";float: left;margin-right: 0.25em;color: #696969;}#sk-container-id-1 label.sk-toggleable__label-arrow:hover:before {color: black;}#sk-container-id-1 div.sk-estimator:hover label.sk-toggleable__label-arrow:before {color: black;}#sk-container-id-1 div.sk-toggleable__content {max-height: 0;max-width: 0;overflow: hidden;text-align: left;background-color: #f0f8ff;}#sk-container-id-1 div.sk-toggleable__content pre {margin: 0.2em;color: black;border-radius: 0.25em;background-color: #f0f8ff;}#sk-container-id-1 input.sk-toggleable__control:checked~div.sk-toggleable__content {max-height: 200px;max-width: 100%;overflow: auto;}#sk-container-id-1 input.sk-toggleable__control:checked~label.sk-toggleable__label-arrow:before {content: \"▾\";}#sk-container-id-1 div.sk-estimator input.sk-toggleable__control:checked~label.sk-toggleable__label {background-color: #d4ebff;}#sk-container-id-1 div.sk-label input.sk-toggleable__control:checked~label.sk-toggleable__label {background-color: #d4ebff;}#sk-container-id-1 input.sk-hidden--visually {border: 0;clip: rect(1px 1px 1px 1px);clip: rect(1px, 1px, 1px, 1px);height: 1px;margin: -1px;overflow: hidden;padding: 0;position: absolute;width: 1px;}#sk-container-id-1 div.sk-estimator {font-family: monospace;background-color: #f0f8ff;border: 1px dotted black;border-radius: 0.25em;box-sizing: border-box;margin-bottom: 0.5em;}#sk-container-id-1 div.sk-estimator:hover {background-color: #d4ebff;}#sk-container-id-1 div.sk-parallel-item::after {content: \"\";width: 100%;border-bottom: 1px solid gray;flex-grow: 1;}#sk-container-id-1 div.sk-label:hover label.sk-toggleable__label {background-color: #d4ebff;}#sk-container-id-1 div.sk-serial::before {content: \"\";position: absolute;border-left: 1px solid gray;box-sizing: border-box;top: 0;bottom: 0;left: 50%;z-index: 0;}#sk-container-id-1 div.sk-serial {display: flex;flex-direction: column;align-items: center;background-color: white;padding-right: 0.2em;padding-left: 0.2em;position: relative;}#sk-container-id-1 div.sk-item {position: relative;z-index: 1;}#sk-container-id-1 div.sk-parallel {display: flex;align-items: stretch;justify-content: center;background-color: white;position: relative;}#sk-container-id-1 div.sk-item::before, #sk-container-id-1 div.sk-parallel-item::before {content: \"\";position: absolute;border-left: 1px solid gray;box-sizing: border-box;top: 0;bottom: 0;left: 50%;z-index: -1;}#sk-container-id-1 div.sk-parallel-item {display: flex;flex-direction: column;z-index: 1;position: relative;background-color: white;}#sk-container-id-1 div.sk-parallel-item:first-child::after {align-self: flex-end;width: 50%;}#sk-container-id-1 div.sk-parallel-item:last-child::after {align-self: flex-start;width: 50%;}#sk-container-id-1 div.sk-parallel-item:only-child::after {width: 0;}#sk-container-id-1 div.sk-dashed-wrapped {border: 1px dashed gray;margin: 0 0.4em 0.5em 0.4em;box-sizing: border-box;padding-bottom: 0.4em;background-color: white;}#sk-container-id-1 div.sk-label label {font-family: monospace;font-weight: bold;display: inline-block;line-height: 1.2em;}#sk-container-id-1 div.sk-label-container {text-align: center;}#sk-container-id-1 div.sk-container {/* jupyter's `normalize.less` sets `[hidden] { display: none; }` but bootstrap.min.css set `[hidden] { display: none !important; }` so we also need the `!important` here to be able to override the default hidden behavior on the sphinx rendered scikit-learn.org. See: https://github.com/scikit-learn/scikit-learn/issues/21755 */display: inline-block !important;position: relative;}#sk-container-id-1 div.sk-text-repr-fallback {display: none;}</style><div id=\"sk-container-id-1\" class=\"sk-top-container\"><div class=\"sk-text-repr-fallback\"><pre>DecisionTreeClassifier(random_state=0)</pre><b>In a Jupyter environment, please rerun this cell to show the HTML representation or trust the notebook. <br />On GitHub, the HTML representation is unable to render, please try loading this page with nbviewer.org.</b></div><div class=\"sk-container\" hidden><div class=\"sk-item\"><div class=\"sk-estimator sk-toggleable\"><input class=\"sk-toggleable__control sk-hidden--visually\" id=\"sk-estimator-id-1\" type=\"checkbox\" checked><label for=\"sk-estimator-id-1\" class=\"sk-toggleable__label sk-toggleable__label-arrow\">DecisionTreeClassifier</label><div class=\"sk-toggleable__content\"><pre>DecisionTreeClassifier(random_state=0)</pre></div></div></div></div></div>"
      ],
      "text/plain": [
       "DecisionTreeClassifier(random_state=0)"
      ]
     },
     "execution_count": 63,
     "metadata": {},
     "output_type": "execute_result"
    }
   ],
   "source": [
    "dtc.fit(x_train,y_train)"
   ]
  },
  {
   "cell_type": "code",
   "execution_count": 64,
   "id": "742e52cc",
   "metadata": {},
   "outputs": [
    {
     "data": {
      "text/plain": [
       "array(['BURGLARY', 'BATTERY - SIMPLE ASSAULT',\n",
       "       'CHILD ANNOYING (17YRS & UNDER)', ..., 'ROBBERY',\n",
       "       'DISTURBING THE PEACE',\n",
       "       'VANDALISM - FELONY ($400 & OVER, ALL CHURCH VANDALISMS)'],\n",
       "      dtype=object)"
      ]
     },
     "execution_count": 64,
     "metadata": {},
     "output_type": "execute_result"
    }
   ],
   "source": [
    "y_predict = dtc.predict(x_test)\n",
    "y_predict"
   ]
  },
  {
   "cell_type": "code",
   "execution_count": 65,
   "id": "f80e47f1",
   "metadata": {},
   "outputs": [],
   "source": [
    "#Evaluating the model\n",
    "from sklearn.metrics import confusion_matrix\n",
    "cm = confusion_matrix(y_test,y_predict)\n",
    "score = dtc.score(x_test,y_test)"
   ]
  },
  {
   "cell_type": "code",
   "execution_count": 66,
   "id": "359728f0",
   "metadata": {},
   "outputs": [
    {
     "data": {
      "text/plain": [
       "array([[  13,    1,   35, ...,    2,    0,    0],\n",
       "       [   0,   15,    7, ...,    0,    0,    0],\n",
       "       [  43,    7, 2214, ...,  100,   10,    1],\n",
       "       ...,\n",
       "       [   7,    0,  139, ...,  711,    9,    0],\n",
       "       [   0,    0,    3, ...,   35,    5,    0],\n",
       "       [   0,    0,    1, ...,    0,    0,    0]], dtype=int64)"
      ]
     },
     "execution_count": 66,
     "metadata": {},
     "output_type": "execute_result"
    }
   ],
   "source": [
    "cm"
   ]
  },
  {
   "cell_type": "code",
   "execution_count": 67,
   "id": "5a1a1883",
   "metadata": {},
   "outputs": [
    {
     "data": {
      "text/plain": [
       "0.13288971183890752"
      ]
     },
     "execution_count": 67,
     "metadata": {},
     "output_type": "execute_result"
    }
   ],
   "source": [
    "score"
   ]
  },
  {
   "cell_type": "code",
   "execution_count": 68,
   "id": "1d2e4e75",
   "metadata": {},
   "outputs": [
    {
     "name": "stderr",
     "output_type": "stream",
     "text": [
      "C:\\Users\\Michael Haile\\anaconda3\\Lib\\site-packages\\sklearn\\metrics\\_classification.py:1469: UndefinedMetricWarning: Precision and F-score are ill-defined and being set to 0.0 in labels with no predicted samples. Use `zero_division` parameter to control this behavior.\n",
      "  _warn_prf(average, modifier, msg_start, len(result))\n",
      "C:\\Users\\Michael Haile\\anaconda3\\Lib\\site-packages\\sklearn\\metrics\\_classification.py:1469: UndefinedMetricWarning: Recall and F-score are ill-defined and being set to 0.0 in labels with no true samples. Use `zero_division` parameter to control this behavior.\n",
      "  _warn_prf(average, modifier, msg_start, len(result))\n",
      "C:\\Users\\Michael Haile\\anaconda3\\Lib\\site-packages\\sklearn\\metrics\\_classification.py:1469: UndefinedMetricWarning: Precision and F-score are ill-defined and being set to 0.0 in labels with no predicted samples. Use `zero_division` parameter to control this behavior.\n",
      "  _warn_prf(average, modifier, msg_start, len(result))\n",
      "C:\\Users\\Michael Haile\\anaconda3\\Lib\\site-packages\\sklearn\\metrics\\_classification.py:1469: UndefinedMetricWarning: Recall and F-score are ill-defined and being set to 0.0 in labels with no true samples. Use `zero_division` parameter to control this behavior.\n",
      "  _warn_prf(average, modifier, msg_start, len(result))\n",
      "C:\\Users\\Michael Haile\\anaconda3\\Lib\\site-packages\\sklearn\\metrics\\_classification.py:1469: UndefinedMetricWarning: Precision and F-score are ill-defined and being set to 0.0 in labels with no predicted samples. Use `zero_division` parameter to control this behavior.\n",
      "  _warn_prf(average, modifier, msg_start, len(result))\n",
      "C:\\Users\\Michael Haile\\anaconda3\\Lib\\site-packages\\sklearn\\metrics\\_classification.py:1469: UndefinedMetricWarning: Recall and F-score are ill-defined and being set to 0.0 in labels with no true samples. Use `zero_division` parameter to control this behavior.\n",
      "  _warn_prf(average, modifier, msg_start, len(result))\n"
     ]
    },
    {
     "name": "stdout",
     "output_type": "stream",
     "text": [
      "                                                          precision    recall  f1-score   support\n",
      "\n",
      "                                                   ARSON       0.03      0.04      0.03       354\n",
      "            ASSAULT WITH DEADLY WEAPON ON POLICE OFFICER       0.16      0.26      0.20        57\n",
      "          ASSAULT WITH DEADLY WEAPON, AGGRAVATED ASSAULT       0.15      0.17      0.16     12731\n",
      "                                       ATTEMPTED ROBBERY       0.01      0.01      0.01      1010\n",
      "                                BATTERY - SIMPLE ASSAULT       0.16      0.19      0.18     18068\n",
      "                                BATTERY ON A FIREFIGHTER       0.02      0.02      0.02        46\n",
      "                                 BATTERY POLICE (SIMPLE)       0.13      0.15      0.14       180\n",
      "                             BATTERY WITH SEXUAL CONTACT       0.04      0.04      0.04       998\n",
      "BEASTIALITY, CRIME AGAINST NATURE SEXUAL ASSLT WITH ANIM       0.00      0.00      0.00         1\n",
      "                                                  BIGAMY       0.00      0.00      0.00         1\n",
      "                                 BIKE - ATTEMPTED STOLEN       0.00      0.00      0.00         1\n",
      "                                           BIKE - STOLEN       0.09      0.11      0.10      1732\n",
      "                          BLOCKING DOOR INDUCTION CENTER       0.00      0.00      0.00         2\n",
      "                                              BOMB SCARE       0.00      0.00      0.00        32\n",
      "                                         BRANDISH WEAPON       0.04      0.05      0.04      3523\n",
      "                                          BUNCO, ATTEMPT       0.00      0.00      0.00        73\n",
      "                                      BUNCO, GRAND THEFT       0.03      0.03      0.03      1479\n",
      "                                      BUNCO, PETTY THEFT       0.01      0.01      0.01       477\n",
      "                                                BURGLARY       0.17      0.18      0.18      9861\n",
      "                                   BURGLARY FROM VEHICLE       0.19      0.20      0.19     13889\n",
      "                        BURGLARY FROM VEHICLE, ATTEMPTED       0.01      0.01      0.01       152\n",
      "                                     BURGLARY, ATTEMPTED       0.02      0.02      0.02       660\n",
      "                                       CHILD ABANDONMENT       0.00      0.00      0.00         5\n",
      "             CHILD ABUSE (PHYSICAL) - AGGRAVATED ASSAULT       0.09      0.09      0.09       129\n",
      "                 CHILD ABUSE (PHYSICAL) - SIMPLE ASSAULT       0.22      0.20      0.21       875\n",
      "                          CHILD ANNOYING (17YRS & UNDER)       0.10      0.08      0.09       253\n",
      "                          CHILD NEGLECT (SEE 300 W.I.C.)       0.23      0.20      0.22       244\n",
      "                                       CHILD PORNOGRAPHY       0.04      0.05      0.05        56\n",
      "                                          CHILD STEALING       0.03      0.03      0.03       102\n",
      "                                              CONSPIRACY       0.00      0.00      0.00         1\n",
      "                                       CONTEMPT OF COURT       0.20      0.24      0.22       693\n",
      "                                            CONTRIBUTING       0.00      0.00      0.00         8\n",
      "                                             COUNTERFEIT       0.00      0.00      0.00        16\n",
      "                   CREDIT CARDS, FRAUD USE ($950 & UNDER       0.05      0.06      0.05        17\n",
      "                CREDIT CARDS, FRAUD USE ($950.01 & OVER)       0.05      0.08      0.06        13\n",
      "                                       CRIMINAL HOMICIDE       0.02      0.02      0.02       379\n",
      "                  CRIMINAL THREATS - NO WEAPON DISPLAYED       0.06      0.06      0.06      4654\n",
      "CRM AGNST CHLD (13 OR UNDER) (14-15 & SUSP 10 YRS OLDER)       0.17      0.16      0.17       417\n",
      "                                      CRUELTY TO ANIMALS       0.00      0.00      0.00        30\n",
      "    DEFRAUDING INNKEEPER/THEFT OF SERVICES, $950 & UNDER       0.00      0.00      0.00        21\n",
      "    DEFRAUDING INNKEEPER/THEFT OF SERVICES, OVER $950.01       0.00      0.00      0.00         7\n",
      "                          DISCHARGE FIREARMS/SHOTS FIRED       0.02      0.02      0.02       158\n",
      "                        DISHONEST EMPLOYEE - GRAND THEFT       0.00      0.00      0.00         4\n",
      "                        DISHONEST EMPLOYEE - PETTY THEFT       0.00      0.00      0.00         1\n",
      "                                          DISRUPT SCHOOL       0.00      0.00      0.00         1\n",
      "                                    DISTURBING THE PEACE       0.06      0.07      0.07       343\n",
      "                        DOCUMENT FORGERY / STOLEN FELONY       0.03      0.03      0.03       569\n",
      "                       DOCUMENT WORTHLESS ($200 & UNDER)       0.00      0.00      0.00         2\n",
      "                     DOCUMENT WORTHLESS ($200.01 & OVER)       0.00      0.00      0.00         8\n",
      "                    DRIVING WITHOUT OWNER CONSENT (DWOC)       0.05      0.09      0.07        11\n",
      "                                       DRUGS, TO A MINOR       0.00      0.00      0.00         1\n",
      "                                              DRUNK ROLL       0.00      0.00      0.00         6\n",
      "              EMBEZZLEMENT, GRAND THEFT ($950.01 & OVER)       0.24      0.24      0.24       153\n",
      "                EMBEZZLEMENT, PETTY THEFT ($950 & UNDER)       0.00      0.00      0.00         6\n",
      "                                               EXTORTION       0.01      0.01      0.01       452\n",
      "                                        FAILURE TO YIELD       0.15      0.12      0.14        97\n",
      "                                      FALSE IMPRISONMENT       0.00      0.00      0.00        84\n",
      "                                     FALSE POLICE REPORT       0.09      0.10      0.10        20\n",
      "      FIREARMS EMERGENCY PROTECTIVE ORDER (FIREARMS EPO)       0.00      0.00      0.00         0\n",
      "                               GRAND THEFT / AUTO REPAIR       0.00      0.00      0.00         0\n",
      "                           GRAND THEFT / INSURANCE FRAUD       0.00      0.00      0.00         3\n",
      "                 HUMAN TRAFFICKING - COMMERCIAL SEX ACTS       0.39      0.35      0.37       117\n",
      "               HUMAN TRAFFICKING - INVOLUNTARY SERVITUDE       0.06      0.04      0.05        26\n",
      "                                         ILLEGAL DUMPING       0.00      0.00      0.00         7\n",
      "            INCEST (SEXUAL ACTS BETWEEN BLOOD RELATIVES)       0.00      0.00      0.00         2\n",
      "                                       INDECENT EXPOSURE       0.02      0.02      0.02       287\n",
      "                   INTIMATE PARTNER - AGGRAVATED ASSAULT       0.05      0.06      0.05      3166\n",
      "                       INTIMATE PARTNER - SIMPLE ASSAULT       0.16      0.16      0.16     11274\n",
      "                                              KIDNAPPING       0.02      0.01      0.01       161\n",
      "                              KIDNAPPING - GRAND ATTEMPT       0.00      0.00      0.00        52\n",
      "                 LETTERS, LEWD  -  TELEPHONE CALLS, LEWD       0.05      0.04      0.04      1869\n",
      "                                            LEWD CONDUCT       0.01      0.01      0.01       166\n",
      "                         LEWD/LASCIVIOUS ACTS WITH CHILD       0.07      0.05      0.06        20\n",
      "                                    LYNCHING - ATTEMPTED       0.00      0.00      0.00         0\n",
      "                                 MANSLAUGHTER, NEGLIGENT       0.00      0.00      0.00         1\n",
      "                                         ORAL COPULATION       0.02      0.02      0.02       189\n",
      "                                           OTHER ASSAULT       0.02      0.02      0.02      1029\n",
      "                               OTHER MISCELLANEOUS CRIME       0.03      0.03      0.03      1012\n",
      "                                               PANDERING       0.00      0.00      0.00         9\n",
      "                                             PEEPING TOM       0.03      0.03      0.03        94\n",
      "                                              PICKPOCKET       0.20      0.24      0.22       641\n",
      "                                     PICKPOCKET, ATTEMPT       0.00      0.00      0.00         1\n",
      "                                                 PIMPING       0.04      0.03      0.04        34\n",
      "                                                 PROWLER       0.03      0.02      0.02        42\n",
      "                                         PURSE SNATCHING       0.04      0.04      0.04        24\n",
      "                               PURSE SNATCHING - ATTEMPT       0.00      0.00      0.00         1\n",
      "                                         RAPE, ATTEMPTED       0.00      0.00      0.00        67\n",
      "                                          RAPE, FORCIBLE       0.04      0.03      0.04       936\n",
      "                                        RECKLESS DRIVING       0.05      0.05      0.05        20\n",
      "REPLICA FIREARMS(SALE,DISPLAY,MANUFACTURE OR DISTRIBUTE)       0.00      0.00      0.00         2\n",
      "                                        RESISTING ARREST       0.07      0.07      0.07        55\n",
      "                                                 ROBBERY       0.09      0.08      0.08      6162\n",
      "               SEX OFFENDER REGISTRANT OUT OF COMPLIANCE       0.25      0.29      0.27        34\n",
      "SEX,UNLAWFUL(INC MUTUAL CONSENT, PENETRATION W/ FRGN OBJ       0.10      0.09      0.09       257\n",
      "                     SEXUAL PENETRATION W/FOREIGN OBJECT       0.03      0.03      0.03       295\n",
      "                                   SHOPLIFTING - ATTEMPT       0.33      0.06      0.11        16\n",
      "                SHOPLIFTING - PETTY THEFT ($950 & UNDER)       0.51      0.62      0.56      1893\n",
      "                SHOPLIFTING-GRAND THEFT ($950.01 & OVER)       0.19      0.14      0.16       380\n",
      "                       SHOTS FIRED AT INHABITED DWELLING       0.04      0.04      0.04       348\n",
      "        SHOTS FIRED AT MOVING VEHICLE, TRAIN OR AIRCRAFT       0.05      0.05      0.05        98\n",
      " SODOMY/SEXUAL CONTACT B/W PENIS OF ONE PERS TO ANUS OTH       0.02      0.02      0.02       122\n",
      "                                                STALKING       0.03      0.03      0.03       135\n",
      "                             TELEPHONE PROPERTY - DAMAGE       0.00      0.00      0.00         3\n",
      "                      THEFT FROM MOTOR VEHICLE - ATTEMPT       0.02      0.01      0.02       202\n",
      "     THEFT FROM MOTOR VEHICLE - GRAND ($950.01 AND OVER)       0.11      0.10      0.10      7803\n",
      "         THEFT FROM MOTOR VEHICLE - PETTY ($950 & UNDER)       0.04      0.04      0.04      3759\n",
      "                             THEFT FROM PERSON - ATTEMPT       0.00      0.00      0.00        22\n",
      "                                       THEFT OF IDENTITY       0.20      0.19      0.19     14027\n",
      "                                   THEFT PLAIN - ATTEMPT       0.00      0.00      0.00        60\n",
      "                      THEFT PLAIN - PETTY ($950 & UNDER)       0.11      0.10      0.11     10191\n",
      "                           THEFT, COIN MACHINE - ATTEMPT       0.00      0.00      0.00         1\n",
      "            THEFT, COIN MACHINE - GRAND ($950.01 & OVER)       0.00      0.00      0.00         3\n",
      "              THEFT, COIN MACHINE - PETTY ($950 & UNDER)       0.00      0.00      0.00         4\n",
      "                                           THEFT, PERSON       0.01      0.01      0.01      1037\n",
      "THEFT-GRAND ($950.01 & OVER)EXCPT,GUNS,FOWL,LIVESTK,PROD       0.09      0.07      0.08      5987\n",
      "                         THREATENING PHONE CALLS/LETTERS       0.02      0.02      0.02       116\n",
      "                       THROWING OBJECT AT MOVING VEHICLE       0.01      0.01      0.01       169\n",
      "                 TILL TAP - GRAND THEFT ($950.01 & OVER)       0.00      0.00      0.00         3\n",
      "                         TILL TAP - PETTY ($950 & UNDER)       0.00      0.00      0.00         0\n",
      "                                             TRESPASSING       0.07      0.06      0.07      2082\n",
      "                            UNAUTHORIZED COMPUTER ACCESS       0.01      0.01      0.01       114\n",
      " VANDALISM - FELONY ($400 & OVER, ALL CHURCH VANDALISMS)       0.10      0.09      0.09     10609\n",
      "                VANDALISM - MISDEAMEANOR ($399 OR UNDER)       0.06      0.05      0.06      4737\n",
      "                                VEHICLE - ATTEMPT STOLEN       0.03      0.02      0.02       841\n",
      "                                        VEHICLE - STOLEN       0.00      0.00      0.00        77\n",
      "VEHICLE, STOLEN - OTHER (MOTORIZED SCOOTERS, BIKES, ETC)       0.02      0.02      0.02       187\n",
      "                                VIOLATION OF COURT ORDER       0.13      0.13      0.13      1543\n",
      "                          VIOLATION OF RESTRAINING ORDER       0.27      0.25      0.26      2812\n",
      "                VIOLATION OF TEMPORARY RESTRAINING ORDER       0.03      0.02      0.03       220\n",
      "                              WEAPONS POSSESSION/BOMBING       0.00      0.00      0.00         1\n",
      "\n",
      "                                                accuracy                           0.13    172820\n",
      "                                               macro avg       0.06      0.06      0.06    172820\n",
      "                                            weighted avg       0.13      0.13      0.13    172820\n",
      "\n",
      "Feature Importances:\n",
      " Vict_Age                 0.352766\n",
      "Lon                      0.315356\n",
      "Lat                      0.311191\n",
      "Vict_Sex_F               0.004431\n",
      "Area_Name_Central        0.001248\n",
      "Area_Name_Southwest      0.001217\n",
      "Area_Name_77th Street    0.001028\n",
      "Vict_Sex_X               0.000974\n",
      "Area_Name_Van Nuys       0.000901\n",
      "Area_Name_Wilshire       0.000854\n",
      "Area_Name_Olympic        0.000815\n",
      "Area_Name_Rampart        0.000810\n",
      "Area_Name_West Valley    0.000797\n",
      "Area_Name_N Hollywood    0.000791\n",
      "Area_Name_Mission        0.000727\n",
      "Area_Name_Topanga        0.000712\n",
      "Area_Name_Hollywood      0.000697\n",
      "Area_Name_Newton         0.000695\n",
      "Area_Name_Foothill       0.000634\n",
      "Area_Name_Northeast      0.000619\n",
      "Area_Name_Devonshire     0.000571\n",
      "Area_Name_West LA        0.000558\n",
      "Area_Name_Southeast      0.000443\n",
      "Vict_Sex_M               0.000390\n",
      "Area_Name_Hollenbeck     0.000377\n",
      "Area_Name_Pacific        0.000237\n",
      "Area_Name_Harbor         0.000160\n",
      "dtype: float64\n"
     ]
    },
    {
     "ename": "KeyboardInterrupt",
     "evalue": "",
     "output_type": "error",
     "traceback": [
      "\u001b[1;31m---------------------------------------------------------------------------\u001b[0m",
      "\u001b[1;31mKeyboardInterrupt\u001b[0m                         Traceback (most recent call last)",
      "Cell \u001b[1;32mIn[68], line 55\u001b[0m\n\u001b[0;32m     45\u001b[0m features \u001b[38;5;241m=\u001b[39m [\u001b[38;5;124m'\u001b[39m\u001b[38;5;124mVict_Age\u001b[39m\u001b[38;5;124m'\u001b[39m, \u001b[38;5;124m'\u001b[39m\u001b[38;5;124mLat\u001b[39m\u001b[38;5;124m'\u001b[39m, \u001b[38;5;124m'\u001b[39m\u001b[38;5;124mLon\u001b[39m\u001b[38;5;124m'\u001b[39m, \u001b[38;5;124m'\u001b[39m\u001b[38;5;124mVict_Sex_F\u001b[39m\u001b[38;5;124m'\u001b[39m, \u001b[38;5;124m'\u001b[39m\u001b[38;5;124mVict_Sex_M\u001b[39m\u001b[38;5;124m'\u001b[39m, \u001b[38;5;124m'\u001b[39m\u001b[38;5;124mVict_Sex_X\u001b[39m\u001b[38;5;124m'\u001b[39m,\n\u001b[0;32m     46\u001b[0m             \u001b[38;5;124m'\u001b[39m\u001b[38;5;124mArea_Name_77th Street\u001b[39m\u001b[38;5;124m'\u001b[39m, \u001b[38;5;124m'\u001b[39m\u001b[38;5;124mArea_Name_Central\u001b[39m\u001b[38;5;124m'\u001b[39m, \u001b[38;5;124m'\u001b[39m\u001b[38;5;124mArea_Name_Devonshire\u001b[39m\u001b[38;5;124m'\u001b[39m,\n\u001b[0;32m     47\u001b[0m             \u001b[38;5;124m'\u001b[39m\u001b[38;5;124mArea_Name_Foothill\u001b[39m\u001b[38;5;124m'\u001b[39m, \u001b[38;5;124m'\u001b[39m\u001b[38;5;124mArea_Name_Harbor\u001b[39m\u001b[38;5;124m'\u001b[39m, \u001b[38;5;124m'\u001b[39m\u001b[38;5;124mArea_Name_Hollenbeck\u001b[39m\u001b[38;5;124m'\u001b[39m,\n\u001b[1;32m   (...)\u001b[0m\n\u001b[0;32m     51\u001b[0m             \u001b[38;5;124m'\u001b[39m\u001b[38;5;124mArea_Name_Southwest\u001b[39m\u001b[38;5;124m'\u001b[39m, \u001b[38;5;124m'\u001b[39m\u001b[38;5;124mArea_Name_Topanga\u001b[39m\u001b[38;5;124m'\u001b[39m, \u001b[38;5;124m'\u001b[39m\u001b[38;5;124mArea_Name_Van Nuys\u001b[39m\u001b[38;5;124m'\u001b[39m,\n\u001b[0;32m     52\u001b[0m             \u001b[38;5;124m'\u001b[39m\u001b[38;5;124mArea_Name_West LA\u001b[39m\u001b[38;5;124m'\u001b[39m, \u001b[38;5;124m'\u001b[39m\u001b[38;5;124mArea_Name_West Valley\u001b[39m\u001b[38;5;124m'\u001b[39m, \u001b[38;5;124m'\u001b[39m\u001b[38;5;124mArea_Name_Wilshire\u001b[39m\u001b[38;5;124m'\u001b[39m] \u001b[38;5;66;03m# List of feature names\u001b[39;00m\n\u001b[0;32m     54\u001b[0m \u001b[38;5;66;03m# Make sure your DataFrame 'la_crime_df' is preprocessed before using this function\u001b[39;00m\n\u001b[1;32m---> 55\u001b[0m model \u001b[38;5;241m=\u001b[39m fit_decision_tree(la_crime_df, features)\n",
      "Cell \u001b[1;32mIn[68], line 39\u001b[0m, in \u001b[0;36mfit_decision_tree\u001b[1;34m(la_crime_df, features, target)\u001b[0m\n\u001b[0;32m     37\u001b[0m plt\u001b[38;5;241m.\u001b[39mfigure(figsize\u001b[38;5;241m=\u001b[39m(\u001b[38;5;241m20\u001b[39m,\u001b[38;5;241m10\u001b[39m))\n\u001b[0;32m     38\u001b[0m plot_tree(model, filled\u001b[38;5;241m=\u001b[39m\u001b[38;5;28;01mTrue\u001b[39;00m, feature_names\u001b[38;5;241m=\u001b[39mfeatures, class_names\u001b[38;5;241m=\u001b[39m[\u001b[38;5;28mstr\u001b[39m(\u001b[38;5;28mcls\u001b[39m) \u001b[38;5;28;01mfor\u001b[39;00m \u001b[38;5;28mcls\u001b[39m \u001b[38;5;129;01min\u001b[39;00m model\u001b[38;5;241m.\u001b[39mclasses_], proportion\u001b[38;5;241m=\u001b[39m\u001b[38;5;28;01mTrue\u001b[39;00m)\n\u001b[1;32m---> 39\u001b[0m plt\u001b[38;5;241m.\u001b[39mshow()\n\u001b[0;32m     41\u001b[0m \u001b[38;5;28;01mreturn\u001b[39;00m model\n",
      "File \u001b[1;32m~\\anaconda3\\Lib\\site-packages\\matplotlib\\pyplot.py:446\u001b[0m, in \u001b[0;36mshow\u001b[1;34m(*args, **kwargs)\u001b[0m\n\u001b[0;32m    402\u001b[0m \u001b[38;5;250m\u001b[39m\u001b[38;5;124;03m\"\"\"\u001b[39;00m\n\u001b[0;32m    403\u001b[0m \u001b[38;5;124;03mDisplay all open figures.\u001b[39;00m\n\u001b[0;32m    404\u001b[0m \n\u001b[1;32m   (...)\u001b[0m\n\u001b[0;32m    443\u001b[0m \u001b[38;5;124;03mexplicitly there.\u001b[39;00m\n\u001b[0;32m    444\u001b[0m \u001b[38;5;124;03m\"\"\"\u001b[39;00m\n\u001b[0;32m    445\u001b[0m _warn_if_gui_out_of_main_thread()\n\u001b[1;32m--> 446\u001b[0m \u001b[38;5;28;01mreturn\u001b[39;00m _get_backend_mod()\u001b[38;5;241m.\u001b[39mshow(\u001b[38;5;241m*\u001b[39margs, \u001b[38;5;241m*\u001b[39m\u001b[38;5;241m*\u001b[39mkwargs)\n",
      "File \u001b[1;32m~\\anaconda3\\Lib\\site-packages\\matplotlib_inline\\backend_inline.py:90\u001b[0m, in \u001b[0;36mshow\u001b[1;34m(close, block)\u001b[0m\n\u001b[0;32m     88\u001b[0m \u001b[38;5;28;01mtry\u001b[39;00m:\n\u001b[0;32m     89\u001b[0m     \u001b[38;5;28;01mfor\u001b[39;00m figure_manager \u001b[38;5;129;01min\u001b[39;00m Gcf\u001b[38;5;241m.\u001b[39mget_all_fig_managers():\n\u001b[1;32m---> 90\u001b[0m         display(\n\u001b[0;32m     91\u001b[0m             figure_manager\u001b[38;5;241m.\u001b[39mcanvas\u001b[38;5;241m.\u001b[39mfigure,\n\u001b[0;32m     92\u001b[0m             metadata\u001b[38;5;241m=\u001b[39m_fetch_figure_metadata(figure_manager\u001b[38;5;241m.\u001b[39mcanvas\u001b[38;5;241m.\u001b[39mfigure)\n\u001b[0;32m     93\u001b[0m         )\n\u001b[0;32m     94\u001b[0m \u001b[38;5;28;01mfinally\u001b[39;00m:\n\u001b[0;32m     95\u001b[0m     show\u001b[38;5;241m.\u001b[39m_to_draw \u001b[38;5;241m=\u001b[39m []\n",
      "File \u001b[1;32m~\\anaconda3\\Lib\\site-packages\\IPython\\core\\display_functions.py:298\u001b[0m, in \u001b[0;36mdisplay\u001b[1;34m(include, exclude, metadata, transient, display_id, raw, clear, *objs, **kwargs)\u001b[0m\n\u001b[0;32m    296\u001b[0m     publish_display_data(data\u001b[38;5;241m=\u001b[39mobj, metadata\u001b[38;5;241m=\u001b[39mmetadata, \u001b[38;5;241m*\u001b[39m\u001b[38;5;241m*\u001b[39mkwargs)\n\u001b[0;32m    297\u001b[0m \u001b[38;5;28;01melse\u001b[39;00m:\n\u001b[1;32m--> 298\u001b[0m     format_dict, md_dict \u001b[38;5;241m=\u001b[39m \u001b[38;5;28mformat\u001b[39m(obj, include\u001b[38;5;241m=\u001b[39minclude, exclude\u001b[38;5;241m=\u001b[39mexclude)\n\u001b[0;32m    299\u001b[0m     \u001b[38;5;28;01mif\u001b[39;00m \u001b[38;5;129;01mnot\u001b[39;00m format_dict:\n\u001b[0;32m    300\u001b[0m         \u001b[38;5;66;03m# nothing to display (e.g. _ipython_display_ took over)\u001b[39;00m\n\u001b[0;32m    301\u001b[0m         \u001b[38;5;28;01mcontinue\u001b[39;00m\n",
      "File \u001b[1;32m~\\anaconda3\\Lib\\site-packages\\IPython\\core\\formatters.py:179\u001b[0m, in \u001b[0;36mDisplayFormatter.format\u001b[1;34m(self, obj, include, exclude)\u001b[0m\n\u001b[0;32m    177\u001b[0m md \u001b[38;5;241m=\u001b[39m \u001b[38;5;28;01mNone\u001b[39;00m\n\u001b[0;32m    178\u001b[0m \u001b[38;5;28;01mtry\u001b[39;00m:\n\u001b[1;32m--> 179\u001b[0m     data \u001b[38;5;241m=\u001b[39m formatter(obj)\n\u001b[0;32m    180\u001b[0m \u001b[38;5;28;01mexcept\u001b[39;00m:\n\u001b[0;32m    181\u001b[0m     \u001b[38;5;66;03m# FIXME: log the exception\u001b[39;00m\n\u001b[0;32m    182\u001b[0m     \u001b[38;5;28;01mraise\u001b[39;00m\n",
      "File \u001b[1;32m~\\anaconda3\\Lib\\site-packages\\decorator.py:232\u001b[0m, in \u001b[0;36mdecorate.<locals>.fun\u001b[1;34m(*args, **kw)\u001b[0m\n\u001b[0;32m    230\u001b[0m \u001b[38;5;28;01mif\u001b[39;00m \u001b[38;5;129;01mnot\u001b[39;00m kwsyntax:\n\u001b[0;32m    231\u001b[0m     args, kw \u001b[38;5;241m=\u001b[39m fix(args, kw, sig)\n\u001b[1;32m--> 232\u001b[0m \u001b[38;5;28;01mreturn\u001b[39;00m caller(func, \u001b[38;5;241m*\u001b[39m(extras \u001b[38;5;241m+\u001b[39m args), \u001b[38;5;241m*\u001b[39m\u001b[38;5;241m*\u001b[39mkw)\n",
      "File \u001b[1;32m~\\anaconda3\\Lib\\site-packages\\IPython\\core\\formatters.py:223\u001b[0m, in \u001b[0;36mcatch_format_error\u001b[1;34m(method, self, *args, **kwargs)\u001b[0m\n\u001b[0;32m    221\u001b[0m \u001b[38;5;250m\u001b[39m\u001b[38;5;124;03m\"\"\"show traceback on failed format call\"\"\"\u001b[39;00m\n\u001b[0;32m    222\u001b[0m \u001b[38;5;28;01mtry\u001b[39;00m:\n\u001b[1;32m--> 223\u001b[0m     r \u001b[38;5;241m=\u001b[39m method(\u001b[38;5;28mself\u001b[39m, \u001b[38;5;241m*\u001b[39margs, \u001b[38;5;241m*\u001b[39m\u001b[38;5;241m*\u001b[39mkwargs)\n\u001b[0;32m    224\u001b[0m \u001b[38;5;28;01mexcept\u001b[39;00m \u001b[38;5;167;01mNotImplementedError\u001b[39;00m:\n\u001b[0;32m    225\u001b[0m     \u001b[38;5;66;03m# don't warn on NotImplementedErrors\u001b[39;00m\n\u001b[0;32m    226\u001b[0m     \u001b[38;5;28;01mreturn\u001b[39;00m \u001b[38;5;28mself\u001b[39m\u001b[38;5;241m.\u001b[39m_check_return(\u001b[38;5;28;01mNone\u001b[39;00m, args[\u001b[38;5;241m0\u001b[39m])\n",
      "File \u001b[1;32m~\\anaconda3\\Lib\\site-packages\\IPython\\core\\formatters.py:340\u001b[0m, in \u001b[0;36mBaseFormatter.__call__\u001b[1;34m(self, obj)\u001b[0m\n\u001b[0;32m    338\u001b[0m     \u001b[38;5;28;01mpass\u001b[39;00m\n\u001b[0;32m    339\u001b[0m \u001b[38;5;28;01melse\u001b[39;00m:\n\u001b[1;32m--> 340\u001b[0m     \u001b[38;5;28;01mreturn\u001b[39;00m printer(obj)\n\u001b[0;32m    341\u001b[0m \u001b[38;5;66;03m# Finally look for special method names\u001b[39;00m\n\u001b[0;32m    342\u001b[0m method \u001b[38;5;241m=\u001b[39m get_real_method(obj, \u001b[38;5;28mself\u001b[39m\u001b[38;5;241m.\u001b[39mprint_method)\n",
      "File \u001b[1;32m~\\anaconda3\\Lib\\site-packages\\IPython\\core\\pylabtools.py:152\u001b[0m, in \u001b[0;36mprint_figure\u001b[1;34m(fig, fmt, bbox_inches, base64, **kwargs)\u001b[0m\n\u001b[0;32m    149\u001b[0m     \u001b[38;5;28;01mfrom\u001b[39;00m \u001b[38;5;21;01mmatplotlib\u001b[39;00m\u001b[38;5;21;01m.\u001b[39;00m\u001b[38;5;21;01mbackend_bases\u001b[39;00m \u001b[38;5;28;01mimport\u001b[39;00m FigureCanvasBase\n\u001b[0;32m    150\u001b[0m     FigureCanvasBase(fig)\n\u001b[1;32m--> 152\u001b[0m fig\u001b[38;5;241m.\u001b[39mcanvas\u001b[38;5;241m.\u001b[39mprint_figure(bytes_io, \u001b[38;5;241m*\u001b[39m\u001b[38;5;241m*\u001b[39mkw)\n\u001b[0;32m    153\u001b[0m data \u001b[38;5;241m=\u001b[39m bytes_io\u001b[38;5;241m.\u001b[39mgetvalue()\n\u001b[0;32m    154\u001b[0m \u001b[38;5;28;01mif\u001b[39;00m fmt \u001b[38;5;241m==\u001b[39m \u001b[38;5;124m'\u001b[39m\u001b[38;5;124msvg\u001b[39m\u001b[38;5;124m'\u001b[39m:\n",
      "File \u001b[1;32m~\\anaconda3\\Lib\\site-packages\\matplotlib\\backend_bases.py:2342\u001b[0m, in \u001b[0;36mFigureCanvasBase.print_figure\u001b[1;34m(self, filename, dpi, facecolor, edgecolor, orientation, format, bbox_inches, pad_inches, bbox_extra_artists, backend, **kwargs)\u001b[0m\n\u001b[0;32m   2336\u001b[0m     renderer \u001b[38;5;241m=\u001b[39m _get_renderer(\n\u001b[0;32m   2337\u001b[0m         \u001b[38;5;28mself\u001b[39m\u001b[38;5;241m.\u001b[39mfigure,\n\u001b[0;32m   2338\u001b[0m         functools\u001b[38;5;241m.\u001b[39mpartial(\n\u001b[0;32m   2339\u001b[0m             print_method, orientation\u001b[38;5;241m=\u001b[39morientation)\n\u001b[0;32m   2340\u001b[0m     )\n\u001b[0;32m   2341\u001b[0m     \u001b[38;5;28;01mwith\u001b[39;00m \u001b[38;5;28mgetattr\u001b[39m(renderer, \u001b[38;5;124m\"\u001b[39m\u001b[38;5;124m_draw_disabled\u001b[39m\u001b[38;5;124m\"\u001b[39m, nullcontext)():\n\u001b[1;32m-> 2342\u001b[0m         \u001b[38;5;28mself\u001b[39m\u001b[38;5;241m.\u001b[39mfigure\u001b[38;5;241m.\u001b[39mdraw(renderer)\n\u001b[0;32m   2344\u001b[0m \u001b[38;5;28;01mif\u001b[39;00m bbox_inches:\n\u001b[0;32m   2345\u001b[0m     \u001b[38;5;28;01mif\u001b[39;00m bbox_inches \u001b[38;5;241m==\u001b[39m \u001b[38;5;124m\"\u001b[39m\u001b[38;5;124mtight\u001b[39m\u001b[38;5;124m\"\u001b[39m:\n",
      "File \u001b[1;32m~\\anaconda3\\Lib\\site-packages\\matplotlib\\artist.py:95\u001b[0m, in \u001b[0;36m_finalize_rasterization.<locals>.draw_wrapper\u001b[1;34m(artist, renderer, *args, **kwargs)\u001b[0m\n\u001b[0;32m     93\u001b[0m \u001b[38;5;129m@wraps\u001b[39m(draw)\n\u001b[0;32m     94\u001b[0m \u001b[38;5;28;01mdef\u001b[39;00m \u001b[38;5;21mdraw_wrapper\u001b[39m(artist, renderer, \u001b[38;5;241m*\u001b[39margs, \u001b[38;5;241m*\u001b[39m\u001b[38;5;241m*\u001b[39mkwargs):\n\u001b[1;32m---> 95\u001b[0m     result \u001b[38;5;241m=\u001b[39m draw(artist, renderer, \u001b[38;5;241m*\u001b[39margs, \u001b[38;5;241m*\u001b[39m\u001b[38;5;241m*\u001b[39mkwargs)\n\u001b[0;32m     96\u001b[0m     \u001b[38;5;28;01mif\u001b[39;00m renderer\u001b[38;5;241m.\u001b[39m_rasterizing:\n\u001b[0;32m     97\u001b[0m         renderer\u001b[38;5;241m.\u001b[39mstop_rasterizing()\n",
      "File \u001b[1;32m~\\anaconda3\\Lib\\site-packages\\matplotlib\\artist.py:72\u001b[0m, in \u001b[0;36mallow_rasterization.<locals>.draw_wrapper\u001b[1;34m(artist, renderer)\u001b[0m\n\u001b[0;32m     69\u001b[0m     \u001b[38;5;28;01mif\u001b[39;00m artist\u001b[38;5;241m.\u001b[39mget_agg_filter() \u001b[38;5;129;01mis\u001b[39;00m \u001b[38;5;129;01mnot\u001b[39;00m \u001b[38;5;28;01mNone\u001b[39;00m:\n\u001b[0;32m     70\u001b[0m         renderer\u001b[38;5;241m.\u001b[39mstart_filter()\n\u001b[1;32m---> 72\u001b[0m     \u001b[38;5;28;01mreturn\u001b[39;00m draw(artist, renderer)\n\u001b[0;32m     73\u001b[0m \u001b[38;5;28;01mfinally\u001b[39;00m:\n\u001b[0;32m     74\u001b[0m     \u001b[38;5;28;01mif\u001b[39;00m artist\u001b[38;5;241m.\u001b[39mget_agg_filter() \u001b[38;5;129;01mis\u001b[39;00m \u001b[38;5;129;01mnot\u001b[39;00m \u001b[38;5;28;01mNone\u001b[39;00m:\n",
      "File \u001b[1;32m~\\anaconda3\\Lib\\site-packages\\matplotlib\\figure.py:3175\u001b[0m, in \u001b[0;36mFigure.draw\u001b[1;34m(self, renderer)\u001b[0m\n\u001b[0;32m   3172\u001b[0m         \u001b[38;5;66;03m# ValueError can occur when resizing a window.\u001b[39;00m\n\u001b[0;32m   3174\u001b[0m \u001b[38;5;28mself\u001b[39m\u001b[38;5;241m.\u001b[39mpatch\u001b[38;5;241m.\u001b[39mdraw(renderer)\n\u001b[1;32m-> 3175\u001b[0m mimage\u001b[38;5;241m.\u001b[39m_draw_list_compositing_images(\n\u001b[0;32m   3176\u001b[0m     renderer, \u001b[38;5;28mself\u001b[39m, artists, \u001b[38;5;28mself\u001b[39m\u001b[38;5;241m.\u001b[39msuppressComposite)\n\u001b[0;32m   3178\u001b[0m \u001b[38;5;28;01mfor\u001b[39;00m sfig \u001b[38;5;129;01min\u001b[39;00m \u001b[38;5;28mself\u001b[39m\u001b[38;5;241m.\u001b[39msubfigs:\n\u001b[0;32m   3179\u001b[0m     sfig\u001b[38;5;241m.\u001b[39mdraw(renderer)\n",
      "File \u001b[1;32m~\\anaconda3\\Lib\\site-packages\\matplotlib\\image.py:131\u001b[0m, in \u001b[0;36m_draw_list_compositing_images\u001b[1;34m(renderer, parent, artists, suppress_composite)\u001b[0m\n\u001b[0;32m    129\u001b[0m \u001b[38;5;28;01mif\u001b[39;00m not_composite \u001b[38;5;129;01mor\u001b[39;00m \u001b[38;5;129;01mnot\u001b[39;00m has_images:\n\u001b[0;32m    130\u001b[0m     \u001b[38;5;28;01mfor\u001b[39;00m a \u001b[38;5;129;01min\u001b[39;00m artists:\n\u001b[1;32m--> 131\u001b[0m         a\u001b[38;5;241m.\u001b[39mdraw(renderer)\n\u001b[0;32m    132\u001b[0m \u001b[38;5;28;01melse\u001b[39;00m:\n\u001b[0;32m    133\u001b[0m     \u001b[38;5;66;03m# Composite any adjacent images together\u001b[39;00m\n\u001b[0;32m    134\u001b[0m     image_group \u001b[38;5;241m=\u001b[39m []\n",
      "File \u001b[1;32m~\\anaconda3\\Lib\\site-packages\\matplotlib\\artist.py:72\u001b[0m, in \u001b[0;36mallow_rasterization.<locals>.draw_wrapper\u001b[1;34m(artist, renderer)\u001b[0m\n\u001b[0;32m     69\u001b[0m     \u001b[38;5;28;01mif\u001b[39;00m artist\u001b[38;5;241m.\u001b[39mget_agg_filter() \u001b[38;5;129;01mis\u001b[39;00m \u001b[38;5;129;01mnot\u001b[39;00m \u001b[38;5;28;01mNone\u001b[39;00m:\n\u001b[0;32m     70\u001b[0m         renderer\u001b[38;5;241m.\u001b[39mstart_filter()\n\u001b[1;32m---> 72\u001b[0m     \u001b[38;5;28;01mreturn\u001b[39;00m draw(artist, renderer)\n\u001b[0;32m     73\u001b[0m \u001b[38;5;28;01mfinally\u001b[39;00m:\n\u001b[0;32m     74\u001b[0m     \u001b[38;5;28;01mif\u001b[39;00m artist\u001b[38;5;241m.\u001b[39mget_agg_filter() \u001b[38;5;129;01mis\u001b[39;00m \u001b[38;5;129;01mnot\u001b[39;00m \u001b[38;5;28;01mNone\u001b[39;00m:\n",
      "File \u001b[1;32m~\\anaconda3\\Lib\\site-packages\\matplotlib\\axes\\_base.py:3064\u001b[0m, in \u001b[0;36m_AxesBase.draw\u001b[1;34m(self, renderer)\u001b[0m\n\u001b[0;32m   3061\u001b[0m \u001b[38;5;28;01mif\u001b[39;00m artists_rasterized:\n\u001b[0;32m   3062\u001b[0m     _draw_rasterized(\u001b[38;5;28mself\u001b[39m\u001b[38;5;241m.\u001b[39mfigure, artists_rasterized, renderer)\n\u001b[1;32m-> 3064\u001b[0m mimage\u001b[38;5;241m.\u001b[39m_draw_list_compositing_images(\n\u001b[0;32m   3065\u001b[0m     renderer, \u001b[38;5;28mself\u001b[39m, artists, \u001b[38;5;28mself\u001b[39m\u001b[38;5;241m.\u001b[39mfigure\u001b[38;5;241m.\u001b[39msuppressComposite)\n\u001b[0;32m   3067\u001b[0m renderer\u001b[38;5;241m.\u001b[39mclose_group(\u001b[38;5;124m'\u001b[39m\u001b[38;5;124maxes\u001b[39m\u001b[38;5;124m'\u001b[39m)\n\u001b[0;32m   3068\u001b[0m \u001b[38;5;28mself\u001b[39m\u001b[38;5;241m.\u001b[39mstale \u001b[38;5;241m=\u001b[39m \u001b[38;5;28;01mFalse\u001b[39;00m\n",
      "File \u001b[1;32m~\\anaconda3\\Lib\\site-packages\\matplotlib\\image.py:131\u001b[0m, in \u001b[0;36m_draw_list_compositing_images\u001b[1;34m(renderer, parent, artists, suppress_composite)\u001b[0m\n\u001b[0;32m    129\u001b[0m \u001b[38;5;28;01mif\u001b[39;00m not_composite \u001b[38;5;129;01mor\u001b[39;00m \u001b[38;5;129;01mnot\u001b[39;00m has_images:\n\u001b[0;32m    130\u001b[0m     \u001b[38;5;28;01mfor\u001b[39;00m a \u001b[38;5;129;01min\u001b[39;00m artists:\n\u001b[1;32m--> 131\u001b[0m         a\u001b[38;5;241m.\u001b[39mdraw(renderer)\n\u001b[0;32m    132\u001b[0m \u001b[38;5;28;01melse\u001b[39;00m:\n\u001b[0;32m    133\u001b[0m     \u001b[38;5;66;03m# Composite any adjacent images together\u001b[39;00m\n\u001b[0;32m    134\u001b[0m     image_group \u001b[38;5;241m=\u001b[39m []\n",
      "File \u001b[1;32m~\\anaconda3\\Lib\\site-packages\\matplotlib\\artist.py:72\u001b[0m, in \u001b[0;36mallow_rasterization.<locals>.draw_wrapper\u001b[1;34m(artist, renderer)\u001b[0m\n\u001b[0;32m     69\u001b[0m     \u001b[38;5;28;01mif\u001b[39;00m artist\u001b[38;5;241m.\u001b[39mget_agg_filter() \u001b[38;5;129;01mis\u001b[39;00m \u001b[38;5;129;01mnot\u001b[39;00m \u001b[38;5;28;01mNone\u001b[39;00m:\n\u001b[0;32m     70\u001b[0m         renderer\u001b[38;5;241m.\u001b[39mstart_filter()\n\u001b[1;32m---> 72\u001b[0m     \u001b[38;5;28;01mreturn\u001b[39;00m draw(artist, renderer)\n\u001b[0;32m     73\u001b[0m \u001b[38;5;28;01mfinally\u001b[39;00m:\n\u001b[0;32m     74\u001b[0m     \u001b[38;5;28;01mif\u001b[39;00m artist\u001b[38;5;241m.\u001b[39mget_agg_filter() \u001b[38;5;129;01mis\u001b[39;00m \u001b[38;5;129;01mnot\u001b[39;00m \u001b[38;5;28;01mNone\u001b[39;00m:\n",
      "File \u001b[1;32m~\\anaconda3\\Lib\\site-packages\\matplotlib\\text.py:2032\u001b[0m, in \u001b[0;36mAnnotation.draw\u001b[1;34m(self, renderer)\u001b[0m\n\u001b[0;32m   2030\u001b[0m     \u001b[38;5;28;01mif\u001b[39;00m \u001b[38;5;28mself\u001b[39m\u001b[38;5;241m.\u001b[39marrow_patch\u001b[38;5;241m.\u001b[39mfigure \u001b[38;5;129;01mis\u001b[39;00m \u001b[38;5;28;01mNone\u001b[39;00m \u001b[38;5;129;01mand\u001b[39;00m \u001b[38;5;28mself\u001b[39m\u001b[38;5;241m.\u001b[39mfigure \u001b[38;5;129;01mis\u001b[39;00m \u001b[38;5;129;01mnot\u001b[39;00m \u001b[38;5;28;01mNone\u001b[39;00m:\n\u001b[0;32m   2031\u001b[0m         \u001b[38;5;28mself\u001b[39m\u001b[38;5;241m.\u001b[39marrow_patch\u001b[38;5;241m.\u001b[39mfigure \u001b[38;5;241m=\u001b[39m \u001b[38;5;28mself\u001b[39m\u001b[38;5;241m.\u001b[39mfigure\n\u001b[1;32m-> 2032\u001b[0m     \u001b[38;5;28mself\u001b[39m\u001b[38;5;241m.\u001b[39marrow_patch\u001b[38;5;241m.\u001b[39mdraw(renderer)\n\u001b[0;32m   2033\u001b[0m \u001b[38;5;66;03m# Draw text, including FancyBboxPatch, after FancyArrowPatch.\u001b[39;00m\n\u001b[0;32m   2034\u001b[0m \u001b[38;5;66;03m# Otherwise, a wedge arrowstyle can land partly on top of the Bbox.\u001b[39;00m\n\u001b[0;32m   2035\u001b[0m Text\u001b[38;5;241m.\u001b[39mdraw(\u001b[38;5;28mself\u001b[39m, renderer)\n",
      "File \u001b[1;32m~\\anaconda3\\Lib\\site-packages\\matplotlib\\artist.py:39\u001b[0m, in \u001b[0;36m_prevent_rasterization.<locals>.draw_wrapper\u001b[1;34m(artist, renderer, *args, **kwargs)\u001b[0m\n\u001b[0;32m     36\u001b[0m     renderer\u001b[38;5;241m.\u001b[39mstop_rasterizing()\n\u001b[0;32m     37\u001b[0m     renderer\u001b[38;5;241m.\u001b[39m_rasterizing \u001b[38;5;241m=\u001b[39m \u001b[38;5;28;01mFalse\u001b[39;00m\n\u001b[1;32m---> 39\u001b[0m \u001b[38;5;28;01mreturn\u001b[39;00m draw(artist, renderer, \u001b[38;5;241m*\u001b[39margs, \u001b[38;5;241m*\u001b[39m\u001b[38;5;241m*\u001b[39mkwargs)\n",
      "File \u001b[1;32m~\\anaconda3\\Lib\\site-packages\\matplotlib\\patches.py:4355\u001b[0m, in \u001b[0;36mFancyArrowPatch.draw\u001b[1;34m(self, renderer)\u001b[0m\n\u001b[0;32m   4351\u001b[0m \u001b[38;5;66;03m# FIXME: dpi_cor is for the dpi-dependency of the linewidth.  There\u001b[39;00m\n\u001b[0;32m   4352\u001b[0m \u001b[38;5;66;03m# could be room for improvement.  Maybe _get_path_in_displaycoord could\u001b[39;00m\n\u001b[0;32m   4353\u001b[0m \u001b[38;5;66;03m# take a renderer argument, but get_path should be adapted too.\u001b[39;00m\n\u001b[0;32m   4354\u001b[0m \u001b[38;5;28mself\u001b[39m\u001b[38;5;241m.\u001b[39m_dpi_cor \u001b[38;5;241m=\u001b[39m renderer\u001b[38;5;241m.\u001b[39mpoints_to_pixels(\u001b[38;5;241m1.\u001b[39m)\n\u001b[1;32m-> 4355\u001b[0m path, fillable \u001b[38;5;241m=\u001b[39m \u001b[38;5;28mself\u001b[39m\u001b[38;5;241m.\u001b[39m_get_path_in_displaycoord()\n\u001b[0;32m   4357\u001b[0m \u001b[38;5;28;01mif\u001b[39;00m \u001b[38;5;129;01mnot\u001b[39;00m np\u001b[38;5;241m.\u001b[39miterable(fillable):\n\u001b[0;32m   4358\u001b[0m     path \u001b[38;5;241m=\u001b[39m [path]\n",
      "File \u001b[1;32m~\\anaconda3\\Lib\\site-packages\\matplotlib\\patches.py:4330\u001b[0m, in \u001b[0;36mFancyArrowPatch._get_path_in_displaycoord\u001b[1;34m(self)\u001b[0m\n\u001b[0;32m   4328\u001b[0m     posB \u001b[38;5;241m=\u001b[39m \u001b[38;5;28mself\u001b[39m\u001b[38;5;241m.\u001b[39m_convert_xy_units(\u001b[38;5;28mself\u001b[39m\u001b[38;5;241m.\u001b[39m_posA_posB[\u001b[38;5;241m1\u001b[39m])\n\u001b[0;32m   4329\u001b[0m     (posA, posB) \u001b[38;5;241m=\u001b[39m \u001b[38;5;28mself\u001b[39m\u001b[38;5;241m.\u001b[39mget_transform()\u001b[38;5;241m.\u001b[39mtransform((posA, posB))\n\u001b[1;32m-> 4330\u001b[0m     _path \u001b[38;5;241m=\u001b[39m \u001b[38;5;28mself\u001b[39m\u001b[38;5;241m.\u001b[39mget_connectionstyle()(posA, posB,\n\u001b[0;32m   4331\u001b[0m                                        patchA\u001b[38;5;241m=\u001b[39m\u001b[38;5;28mself\u001b[39m\u001b[38;5;241m.\u001b[39mpatchA,\n\u001b[0;32m   4332\u001b[0m                                        patchB\u001b[38;5;241m=\u001b[39m\u001b[38;5;28mself\u001b[39m\u001b[38;5;241m.\u001b[39mpatchB,\n\u001b[0;32m   4333\u001b[0m                                        shrinkA\u001b[38;5;241m=\u001b[39m\u001b[38;5;28mself\u001b[39m\u001b[38;5;241m.\u001b[39mshrinkA \u001b[38;5;241m*\u001b[39m dpi_cor,\n\u001b[0;32m   4334\u001b[0m                                        shrinkB\u001b[38;5;241m=\u001b[39m\u001b[38;5;28mself\u001b[39m\u001b[38;5;241m.\u001b[39mshrinkB \u001b[38;5;241m*\u001b[39m dpi_cor\n\u001b[0;32m   4335\u001b[0m                                        )\n\u001b[0;32m   4336\u001b[0m \u001b[38;5;28;01melse\u001b[39;00m:\n\u001b[0;32m   4337\u001b[0m     _path \u001b[38;5;241m=\u001b[39m \u001b[38;5;28mself\u001b[39m\u001b[38;5;241m.\u001b[39mget_transform()\u001b[38;5;241m.\u001b[39mtransform_path(\u001b[38;5;28mself\u001b[39m\u001b[38;5;241m.\u001b[39m_path_original)\n",
      "File \u001b[1;32m~\\anaconda3\\Lib\\site-packages\\matplotlib\\patches.py:2727\u001b[0m, in \u001b[0;36mConnectionStyle._Base.__call__\u001b[1;34m(self, posA, posB, shrinkA, shrinkB, patchA, patchB)\u001b[0m\n\u001b[0;32m   2722\u001b[0m \u001b[38;5;250m\u001b[39m\u001b[38;5;124;03m\"\"\"\u001b[39;00m\n\u001b[0;32m   2723\u001b[0m \u001b[38;5;124;03mCall the *connect* method to create a path between *posA* and\u001b[39;00m\n\u001b[0;32m   2724\u001b[0m \u001b[38;5;124;03m*posB*; then clip and shrink the path.\u001b[39;00m\n\u001b[0;32m   2725\u001b[0m \u001b[38;5;124;03m\"\"\"\u001b[39;00m\n\u001b[0;32m   2726\u001b[0m path \u001b[38;5;241m=\u001b[39m \u001b[38;5;28mself\u001b[39m\u001b[38;5;241m.\u001b[39mconnect(posA, posB)\n\u001b[1;32m-> 2727\u001b[0m path \u001b[38;5;241m=\u001b[39m \u001b[38;5;28mself\u001b[39m\u001b[38;5;241m.\u001b[39m_clip(\n\u001b[0;32m   2728\u001b[0m     path,\n\u001b[0;32m   2729\u001b[0m     \u001b[38;5;28mself\u001b[39m\u001b[38;5;241m.\u001b[39m_in_patch(patchA) \u001b[38;5;28;01mif\u001b[39;00m patchA \u001b[38;5;28;01melse\u001b[39;00m \u001b[38;5;28;01mNone\u001b[39;00m,\n\u001b[0;32m   2730\u001b[0m     \u001b[38;5;28mself\u001b[39m\u001b[38;5;241m.\u001b[39m_in_patch(patchB) \u001b[38;5;28;01mif\u001b[39;00m patchB \u001b[38;5;28;01melse\u001b[39;00m \u001b[38;5;28;01mNone\u001b[39;00m,\n\u001b[0;32m   2731\u001b[0m )\n\u001b[0;32m   2732\u001b[0m path \u001b[38;5;241m=\u001b[39m \u001b[38;5;28mself\u001b[39m\u001b[38;5;241m.\u001b[39m_clip(\n\u001b[0;32m   2733\u001b[0m     path,\n\u001b[0;32m   2734\u001b[0m     inside_circle(\u001b[38;5;241m*\u001b[39mpath\u001b[38;5;241m.\u001b[39mvertices[\u001b[38;5;241m0\u001b[39m], shrinkA) \u001b[38;5;28;01mif\u001b[39;00m shrinkA \u001b[38;5;28;01melse\u001b[39;00m \u001b[38;5;28;01mNone\u001b[39;00m,\n\u001b[0;32m   2735\u001b[0m     inside_circle(\u001b[38;5;241m*\u001b[39mpath\u001b[38;5;241m.\u001b[39mvertices[\u001b[38;5;241m-\u001b[39m\u001b[38;5;241m1\u001b[39m], shrinkB) \u001b[38;5;28;01mif\u001b[39;00m shrinkB \u001b[38;5;28;01melse\u001b[39;00m \u001b[38;5;28;01mNone\u001b[39;00m\n\u001b[0;32m   2736\u001b[0m )\n\u001b[0;32m   2737\u001b[0m \u001b[38;5;28;01mreturn\u001b[39;00m path\n",
      "File \u001b[1;32m~\\anaconda3\\Lib\\site-packages\\matplotlib\\patches.py:2710\u001b[0m, in \u001b[0;36mConnectionStyle._Base._clip\u001b[1;34m(self, path, in_start, in_stop)\u001b[0m\n\u001b[0;32m   2708\u001b[0m \u001b[38;5;28;01mif\u001b[39;00m in_start:\n\u001b[0;32m   2709\u001b[0m     \u001b[38;5;28;01mtry\u001b[39;00m:\n\u001b[1;32m-> 2710\u001b[0m         _, path \u001b[38;5;241m=\u001b[39m split_path_inout(path, in_start)\n\u001b[0;32m   2711\u001b[0m     \u001b[38;5;28;01mexcept\u001b[39;00m \u001b[38;5;167;01mValueError\u001b[39;00m:\n\u001b[0;32m   2712\u001b[0m         \u001b[38;5;28;01mpass\u001b[39;00m\n",
      "File \u001b[1;32m~\\anaconda3\\Lib\\site-packages\\matplotlib\\bezier.py:370\u001b[0m, in \u001b[0;36msplit_path_inout\u001b[1;34m(path, inside, tolerance, reorder_inout)\u001b[0m\n\u001b[0;32m    367\u001b[0m     \u001b[38;5;28;01mraise\u001b[39;00m \u001b[38;5;167;01mValueError\u001b[39;00m(\u001b[38;5;124m\"\u001b[39m\u001b[38;5;124mThe path does not intersect with the patch\u001b[39m\u001b[38;5;124m\"\u001b[39m)\n\u001b[0;32m    369\u001b[0m bp \u001b[38;5;241m=\u001b[39m bezier_path\u001b[38;5;241m.\u001b[39mreshape((\u001b[38;5;241m-\u001b[39m\u001b[38;5;241m1\u001b[39m, \u001b[38;5;241m2\u001b[39m))\n\u001b[1;32m--> 370\u001b[0m left, right \u001b[38;5;241m=\u001b[39m split_bezier_intersecting_with_closedpath(\n\u001b[0;32m    371\u001b[0m     bp, inside, tolerance)\n\u001b[0;32m    372\u001b[0m \u001b[38;5;28;01mif\u001b[39;00m \u001b[38;5;28mlen\u001b[39m(left) \u001b[38;5;241m==\u001b[39m \u001b[38;5;241m2\u001b[39m:\n\u001b[0;32m    373\u001b[0m     codes_left \u001b[38;5;241m=\u001b[39m [Path\u001b[38;5;241m.\u001b[39mLINETO]\n",
      "File \u001b[1;32m~\\anaconda3\\Lib\\site-packages\\matplotlib\\bezier.py:333\u001b[0m, in \u001b[0;36msplit_bezier_intersecting_with_closedpath\u001b[1;34m(bezier, inside_closedpath, tolerance)\u001b[0m\n\u001b[0;32m    330\u001b[0m bz \u001b[38;5;241m=\u001b[39m BezierSegment(bezier)\n\u001b[0;32m    331\u001b[0m bezier_point_at_t \u001b[38;5;241m=\u001b[39m bz\u001b[38;5;241m.\u001b[39mpoint_at_t\n\u001b[1;32m--> 333\u001b[0m t0, t1 \u001b[38;5;241m=\u001b[39m find_bezier_t_intersecting_with_closedpath(\n\u001b[0;32m    334\u001b[0m     bezier_point_at_t, inside_closedpath, tolerance\u001b[38;5;241m=\u001b[39mtolerance)\n\u001b[0;32m    336\u001b[0m _left, _right \u001b[38;5;241m=\u001b[39m split_de_casteljau(bezier, (t0 \u001b[38;5;241m+\u001b[39m t1) \u001b[38;5;241m/\u001b[39m \u001b[38;5;241m2.\u001b[39m)\n\u001b[0;32m    337\u001b[0m \u001b[38;5;28;01mreturn\u001b[39;00m _left, _right\n",
      "File \u001b[1;32m~\\anaconda3\\Lib\\site-packages\\matplotlib\\bezier.py:169\u001b[0m, in \u001b[0;36mfind_bezier_t_intersecting_with_closedpath\u001b[1;34m(bezier_point_at_t, inside_closedpath, t0, t1, tolerance)\u001b[0m\n\u001b[0;32m    167\u001b[0m \u001b[38;5;66;03m# calculate the middle point\u001b[39;00m\n\u001b[0;32m    168\u001b[0m middle_t \u001b[38;5;241m=\u001b[39m \u001b[38;5;241m0.5\u001b[39m \u001b[38;5;241m*\u001b[39m (t0 \u001b[38;5;241m+\u001b[39m t1)\n\u001b[1;32m--> 169\u001b[0m middle \u001b[38;5;241m=\u001b[39m bezier_point_at_t(middle_t)\n\u001b[0;32m    170\u001b[0m middle_inside \u001b[38;5;241m=\u001b[39m inside_closedpath(middle)\n\u001b[0;32m    172\u001b[0m \u001b[38;5;28;01mif\u001b[39;00m start_inside \u001b[38;5;241m^\u001b[39m middle_inside:\n",
      "File \u001b[1;32m~\\anaconda3\\Lib\\site-packages\\matplotlib\\bezier.py:222\u001b[0m, in \u001b[0;36mBezierSegment.point_at_t\u001b[1;34m(self, t)\u001b[0m\n\u001b[0;32m    218\u001b[0m \u001b[38;5;28;01mdef\u001b[39;00m \u001b[38;5;21mpoint_at_t\u001b[39m(\u001b[38;5;28mself\u001b[39m, t):\n\u001b[0;32m    219\u001b[0m \u001b[38;5;250m    \u001b[39m\u001b[38;5;124;03m\"\"\"\u001b[39;00m\n\u001b[0;32m    220\u001b[0m \u001b[38;5;124;03m    Evaluate the curve at a single point, returning a tuple of *d* floats.\u001b[39;00m\n\u001b[0;32m    221\u001b[0m \u001b[38;5;124;03m    \"\"\"\u001b[39;00m\n\u001b[1;32m--> 222\u001b[0m     \u001b[38;5;28;01mreturn\u001b[39;00m \u001b[38;5;28mtuple\u001b[39m(\u001b[38;5;28mself\u001b[39m(t))\n",
      "File \u001b[1;32m~\\anaconda3\\Lib\\site-packages\\matplotlib\\bezier.py:216\u001b[0m, in \u001b[0;36mBezierSegment.__call__\u001b[1;34m(self, t)\u001b[0m\n\u001b[0;32m    201\u001b[0m \u001b[38;5;250m\u001b[39m\u001b[38;5;124;03m\"\"\"\u001b[39;00m\n\u001b[0;32m    202\u001b[0m \u001b[38;5;124;03mEvaluate the Bézier curve at point(s) *t* in [0, 1].\u001b[39;00m\n\u001b[0;32m    203\u001b[0m \n\u001b[1;32m   (...)\u001b[0m\n\u001b[0;32m    212\u001b[0m \u001b[38;5;124;03m    Value of the curve for each point in *t*.\u001b[39;00m\n\u001b[0;32m    213\u001b[0m \u001b[38;5;124;03m\"\"\"\u001b[39;00m\n\u001b[0;32m    214\u001b[0m t \u001b[38;5;241m=\u001b[39m np\u001b[38;5;241m.\u001b[39masarray(t)\n\u001b[0;32m    215\u001b[0m \u001b[38;5;28;01mreturn\u001b[39;00m (np\u001b[38;5;241m.\u001b[39mpower\u001b[38;5;241m.\u001b[39mouter(\u001b[38;5;241m1\u001b[39m \u001b[38;5;241m-\u001b[39m t, \u001b[38;5;28mself\u001b[39m\u001b[38;5;241m.\u001b[39m_orders[::\u001b[38;5;241m-\u001b[39m\u001b[38;5;241m1\u001b[39m])\n\u001b[1;32m--> 216\u001b[0m         \u001b[38;5;241m*\u001b[39m np\u001b[38;5;241m.\u001b[39mpower\u001b[38;5;241m.\u001b[39mouter(t, \u001b[38;5;28mself\u001b[39m\u001b[38;5;241m.\u001b[39m_orders)) \u001b[38;5;241m@\u001b[39m \u001b[38;5;28mself\u001b[39m\u001b[38;5;241m.\u001b[39m_px\n",
      "\u001b[1;31mKeyboardInterrupt\u001b[0m: "
     ]
    }
   ],
   "source": [
    "from sklearn.tree import DecisionTreeClassifier, plot_tree\n",
    "from sklearn.model_selection import train_test_split\n",
    "from sklearn.metrics import classification_report\n",
    "import pandas as pd\n",
    "import matplotlib.pyplot as plt\n",
    "\n",
    "def fit_decision_tree(la_crime_df, features, target='Crm_Cd_Desc'):\n",
    "    # Ensure the features list only includes the columns specified\n",
    "    x = la_crime_df[['Vict_Age', 'Lat', 'Lon', 'Vict_Sex_F', 'Vict_Sex_M', 'Vict_Sex_X',\n",
    "            'Area_Name_77th Street', 'Area_Name_Central', 'Area_Name_Devonshire',\n",
    "            'Area_Name_Foothill', 'Area_Name_Harbor', 'Area_Name_Hollenbeck',\n",
    "            'Area_Name_Hollywood', 'Area_Name_Mission', 'Area_Name_N Hollywood',\n",
    "            'Area_Name_Newton', 'Area_Name_Northeast', 'Area_Name_Olympic',\n",
    "            'Area_Name_Pacific', 'Area_Name_Rampart', 'Area_Name_Southeast',\n",
    "            'Area_Name_Southwest', 'Area_Name_Topanga', 'Area_Name_Van Nuys',\n",
    "            'Area_Name_West LA', 'Area_Name_West Valley', 'Area_Name_Wilshire']]\n",
    "    y = la_crime_df[['Crm_Cd_Desc']]\n",
    "\n",
    "    # Split the data into training and test sets\n",
    "    x_train, x_test, y_train, y_test = train_test_split(x, y, test_size=0.25, random_state=0)\n",
    "\n",
    "    # Initialize and train the decision tree classifier\n",
    "    model = DecisionTreeClassifier(random_state=0)\n",
    "    model.fit(x_train, y_train)\n",
    "\n",
    "    # Predict on the test set\n",
    "    y_pred = model.predict(x_test)\n",
    "\n",
    "    # Output the classification report\n",
    "    print(classification_report(y_test, y_pred))\n",
    "\n",
    "    # Output feature importance\n",
    "    feature_importance = pd.Series(model.feature_importances_, index=features).sort_values(ascending=False)\n",
    "    print(\"Feature Importances:\\n\", feature_importance)\n",
    "\n",
    "    # Plot the decision tree\n",
    "    plt.figure(figsize=(20,10))\n",
    "    plot_tree(model, filled=True, feature_names=features, class_names=[str(cls) for cls in model.classes_], proportion=True)\n",
    "    plt.show()\n",
    "\n",
    "    return model\n",
    "\n",
    "# Example usage\n",
    "# Define the features list according to your DataFrame structure\n",
    "features = ['Vict_Age', 'Lat', 'Lon', 'Vict_Sex_F', 'Vict_Sex_M', 'Vict_Sex_X',\n",
    "            'Area_Name_77th Street', 'Area_Name_Central', 'Area_Name_Devonshire',\n",
    "            'Area_Name_Foothill', 'Area_Name_Harbor', 'Area_Name_Hollenbeck',\n",
    "            'Area_Name_Hollywood', 'Area_Name_Mission', 'Area_Name_N Hollywood',\n",
    "            'Area_Name_Newton', 'Area_Name_Northeast', 'Area_Name_Olympic',\n",
    "            'Area_Name_Pacific', 'Area_Name_Rampart', 'Area_Name_Southeast',\n",
    "            'Area_Name_Southwest', 'Area_Name_Topanga', 'Area_Name_Van Nuys',\n",
    "            'Area_Name_West LA', 'Area_Name_West Valley', 'Area_Name_Wilshire'] # List of feature names\n",
    "\n",
    "# Make sure your DataFrame 'la_crime_df' is preprocessed before using this function\n",
    "model = fit_decision_tree(la_crime_df, features)\n",
    "\n"
   ]
  },
  {
   "cell_type": "code",
   "execution_count": null,
   "id": "6ddbfa6d",
   "metadata": {},
   "outputs": [],
   "source": []
  }
 ],
 "metadata": {
  "kernelspec": {
   "display_name": "Python 3 (ipykernel)",
   "language": "python",
   "name": "python3"
  },
  "language_info": {
   "codemirror_mode": {
    "name": "ipython",
    "version": 3
   },
   "file_extension": ".py",
   "mimetype": "text/x-python",
   "name": "python",
   "nbconvert_exporter": "python",
   "pygments_lexer": "ipython3",
   "version": "3.11.5"
  }
 },
 "nbformat": 4,
 "nbformat_minor": 5
}
