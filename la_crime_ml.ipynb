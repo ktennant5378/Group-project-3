{
 "cells": [
  {
   "cell_type": "code",
   "execution_count": 246,
   "id": "fd0422ba",
   "metadata": {},
   "outputs": [],
   "source": [
    "import os\n",
    "import csv\n",
    "import pandas as pd\n",
    "import numpy as np\n",
    "import matplotlib.pyplot as plt\n",
    "from datetime import datetime"
   ]
  },
  {
   "cell_type": "code",
   "execution_count": 248,
   "id": "dc8f2435",
   "metadata": {},
   "outputs": [
    {
     "data": {
      "text/html": [
       "<div>\n",
       "<style scoped>\n",
       "    .dataframe tbody tr th:only-of-type {\n",
       "        vertical-align: middle;\n",
       "    }\n",
       "\n",
       "    .dataframe tbody tr th {\n",
       "        vertical-align: top;\n",
       "    }\n",
       "\n",
       "    .dataframe thead th {\n",
       "        text-align: right;\n",
       "    }\n",
       "</style>\n",
       "<table border=\"1\" class=\"dataframe\">\n",
       "  <thead>\n",
       "    <tr style=\"text-align: right;\">\n",
       "      <th></th>\n",
       "      <th>DR_NO</th>\n",
       "      <th>Date Rptd</th>\n",
       "      <th>DATE OCC</th>\n",
       "      <th>TIME OCC</th>\n",
       "      <th>AREA</th>\n",
       "      <th>AREA NAME</th>\n",
       "      <th>Rpt Dist No</th>\n",
       "      <th>Part 1-2</th>\n",
       "      <th>Crm Cd</th>\n",
       "      <th>Crm Cd Desc</th>\n",
       "      <th>...</th>\n",
       "      <th>Status</th>\n",
       "      <th>Status Desc</th>\n",
       "      <th>Crm Cd 1</th>\n",
       "      <th>Crm Cd 2</th>\n",
       "      <th>Crm Cd 3</th>\n",
       "      <th>Crm Cd 4</th>\n",
       "      <th>LOCATION</th>\n",
       "      <th>Cross Street</th>\n",
       "      <th>LAT</th>\n",
       "      <th>LON</th>\n",
       "    </tr>\n",
       "  </thead>\n",
       "  <tbody>\n",
       "    <tr>\n",
       "      <th>0</th>\n",
       "      <td>190326475</td>\n",
       "      <td>3/1/2020 0:00</td>\n",
       "      <td>3/1/2020 0:00</td>\n",
       "      <td>2130</td>\n",
       "      <td>7</td>\n",
       "      <td>Wilshire</td>\n",
       "      <td>784</td>\n",
       "      <td>1</td>\n",
       "      <td>510</td>\n",
       "      <td>VEHICLE - STOLEN</td>\n",
       "      <td>...</td>\n",
       "      <td>AA</td>\n",
       "      <td>Adult Arrest</td>\n",
       "      <td>510.0</td>\n",
       "      <td>998.0</td>\n",
       "      <td>NaN</td>\n",
       "      <td>NaN</td>\n",
       "      <td>1900 S  LONGWOOD                     AV</td>\n",
       "      <td>NaN</td>\n",
       "      <td>34.0375</td>\n",
       "      <td>-118.3506</td>\n",
       "    </tr>\n",
       "    <tr>\n",
       "      <th>1</th>\n",
       "      <td>200106753</td>\n",
       "      <td>2/9/2020 0:00</td>\n",
       "      <td>2/8/2020 0:00</td>\n",
       "      <td>1800</td>\n",
       "      <td>1</td>\n",
       "      <td>Central</td>\n",
       "      <td>182</td>\n",
       "      <td>1</td>\n",
       "      <td>330</td>\n",
       "      <td>BURGLARY FROM VEHICLE</td>\n",
       "      <td>...</td>\n",
       "      <td>IC</td>\n",
       "      <td>Invest Cont</td>\n",
       "      <td>330.0</td>\n",
       "      <td>998.0</td>\n",
       "      <td>NaN</td>\n",
       "      <td>NaN</td>\n",
       "      <td>1000 S  FLOWER                       ST</td>\n",
       "      <td>NaN</td>\n",
       "      <td>34.0444</td>\n",
       "      <td>-118.2628</td>\n",
       "    </tr>\n",
       "  </tbody>\n",
       "</table>\n",
       "<p>2 rows × 28 columns</p>\n",
       "</div>"
      ],
      "text/plain": [
       "       DR_NO      Date Rptd       DATE OCC  TIME OCC  AREA AREA NAME  \\\n",
       "0  190326475  3/1/2020 0:00  3/1/2020 0:00      2130     7  Wilshire   \n",
       "1  200106753  2/9/2020 0:00  2/8/2020 0:00      1800     1   Central   \n",
       "\n",
       "   Rpt Dist No  Part 1-2  Crm Cd            Crm Cd Desc  ... Status  \\\n",
       "0          784         1     510       VEHICLE - STOLEN  ...     AA   \n",
       "1          182         1     330  BURGLARY FROM VEHICLE  ...     IC   \n",
       "\n",
       "    Status Desc Crm Cd 1 Crm Cd 2  Crm Cd 3 Crm Cd 4  \\\n",
       "0  Adult Arrest    510.0    998.0       NaN      NaN   \n",
       "1   Invest Cont    330.0    998.0       NaN      NaN   \n",
       "\n",
       "                                  LOCATION Cross Street      LAT       LON  \n",
       "0  1900 S  LONGWOOD                     AV          NaN  34.0375 -118.3506  \n",
       "1  1000 S  FLOWER                       ST          NaN  34.0444 -118.2628  \n",
       "\n",
       "[2 rows x 28 columns]"
      ]
     },
     "execution_count": 248,
     "metadata": {},
     "output_type": "execute_result"
    }
   ],
   "source": [
    "la_crime_df=pd.read_csv(\"./Data/LA_Crime_Data.csv\")\n",
    "la_crime_df.head(2)"
   ]
  },
  {
   "cell_type": "code",
   "execution_count": 249,
   "id": "9d290a8c",
   "metadata": {},
   "outputs": [
    {
     "data": {
      "text/plain": [
       "True"
      ]
     },
     "execution_count": 249,
     "metadata": {},
     "output_type": "execute_result"
    }
   ],
   "source": [
    "any(la_crime_df.isna())"
   ]
  },
  {
   "cell_type": "code",
   "execution_count": 250,
   "id": "50383703",
   "metadata": {},
   "outputs": [
    {
     "name": "stdout",
     "output_type": "stream",
     "text": [
      "Are there duplicates in 'my_column'? False\n"
     ]
    }
   ],
   "source": [
    "duplicates = la_crime_df.duplicated(subset=['DR_NO'])\n",
    "\n",
    "# Check if there are any duplicates\n",
    "has_duplicates = duplicates.any()\n",
    "\n",
    "print(f\"Are there duplicates in 'my_column'? {has_duplicates}\")"
   ]
  },
  {
   "cell_type": "code",
   "execution_count": 251,
   "id": "b78b3c73",
   "metadata": {},
   "outputs": [
    {
     "name": "stdout",
     "output_type": "stream",
     "text": [
      "Number of rows:  925720\n"
     ]
    }
   ],
   "source": [
    "print(\"Number of rows: \", la_crime_df.shape[0])"
   ]
  },
  {
   "cell_type": "code",
   "execution_count": 252,
   "id": "e5343243",
   "metadata": {},
   "outputs": [
    {
     "name": "stdout",
     "output_type": "stream",
     "text": [
      "Number of columns:  28\n"
     ]
    }
   ],
   "source": [
    "print(\"Number of columns: \", la_crime_df.shape[1])"
   ]
  },
  {
   "cell_type": "code",
   "execution_count": null,
   "id": "55863fee",
   "metadata": {},
   "outputs": [],
   "source": []
  },
  {
   "cell_type": "code",
   "execution_count": 253,
   "id": "9b01b764",
   "metadata": {
    "scrolled": false
   },
   "outputs": [
    {
     "data": {
      "text/plain": [
       "DR_NO                  0\n",
       "Date Rptd              0\n",
       "DATE OCC               0\n",
       "TIME OCC               0\n",
       "AREA                   0\n",
       "AREA NAME              0\n",
       "Rpt Dist No            0\n",
       "Part 1-2               0\n",
       "Crm Cd                 0\n",
       "Crm Cd Desc            0\n",
       "Mocodes           129462\n",
       "Vict Age               0\n",
       "Vict Sex          123158\n",
       "Vict Descent      123168\n",
       "Premis Cd             11\n",
       "Premis Desc          559\n",
       "Weapon Used Cd    606019\n",
       "Weapon Desc       606019\n",
       "Status                 0\n",
       "Status Desc            0\n",
       "Crm Cd 1              11\n",
       "Crm Cd 2          858483\n",
       "Crm Cd 3          923460\n",
       "Crm Cd 4          925656\n",
       "LOCATION               0\n",
       "Cross Street      780494\n",
       "LAT                    0\n",
       "LON                    0\n",
       "dtype: int64"
      ]
     },
     "execution_count": 253,
     "metadata": {},
     "output_type": "execute_result"
    }
   ],
   "source": [
    "la_crime_df.isnull().sum() # checkin for the number of null values across the dataframe"
   ]
  },
  {
   "cell_type": "code",
   "execution_count": 254,
   "id": "c1fd8f37",
   "metadata": {},
   "outputs": [
    {
     "data": {
      "text/plain": [
       "Index(['DR_NO', 'Date Rptd', 'DATE OCC', 'TIME OCC', 'AREA', 'AREA NAME',\n",
       "       'Rpt Dist No', 'Part 1-2', 'Crm Cd', 'Crm Cd Desc', 'Mocodes',\n",
       "       'Vict Age', 'Vict Sex', 'Vict Descent', 'Premis Cd', 'Premis Desc',\n",
       "       'Weapon Used Cd', 'Weapon Desc', 'Status', 'Status Desc', 'Crm Cd 1',\n",
       "       'Crm Cd 2', 'Crm Cd 3', 'Crm Cd 4', 'LOCATION', 'Cross Street', 'LAT',\n",
       "       'LON'],\n",
       "      dtype='object')"
      ]
     },
     "execution_count": 254,
     "metadata": {},
     "output_type": "execute_result"
    }
   ],
   "source": [
    "la_crime_df.columns"
   ]
  },
  {
   "cell_type": "code",
   "execution_count": 255,
   "id": "b63c30ef",
   "metadata": {
    "scrolled": true
   },
   "outputs": [
    {
     "data": {
      "text/html": [
       "<div>\n",
       "<style scoped>\n",
       "    .dataframe tbody tr th:only-of-type {\n",
       "        vertical-align: middle;\n",
       "    }\n",
       "\n",
       "    .dataframe tbody tr th {\n",
       "        vertical-align: top;\n",
       "    }\n",
       "\n",
       "    .dataframe thead th {\n",
       "        text-align: right;\n",
       "    }\n",
       "</style>\n",
       "<table border=\"1\" class=\"dataframe\">\n",
       "  <thead>\n",
       "    <tr style=\"text-align: right;\">\n",
       "      <th></th>\n",
       "      <th>DATE OCC</th>\n",
       "      <th>TIME OCC</th>\n",
       "      <th>AREA NAME</th>\n",
       "      <th>Rpt Dist No</th>\n",
       "      <th>Part 1-2</th>\n",
       "      <th>Crm Cd Desc</th>\n",
       "      <th>Vict Age</th>\n",
       "      <th>Vict Sex</th>\n",
       "      <th>Vict Descent</th>\n",
       "      <th>Status Desc</th>\n",
       "      <th>Crm Cd 1</th>\n",
       "      <th>LAT</th>\n",
       "      <th>LON</th>\n",
       "    </tr>\n",
       "  </thead>\n",
       "  <tbody>\n",
       "    <tr>\n",
       "      <th>0</th>\n",
       "      <td>3/1/2020 0:00</td>\n",
       "      <td>2130</td>\n",
       "      <td>Wilshire</td>\n",
       "      <td>784</td>\n",
       "      <td>1</td>\n",
       "      <td>VEHICLE - STOLEN</td>\n",
       "      <td>0</td>\n",
       "      <td>M</td>\n",
       "      <td>O</td>\n",
       "      <td>Adult Arrest</td>\n",
       "      <td>510.0</td>\n",
       "      <td>34.0375</td>\n",
       "      <td>-118.3506</td>\n",
       "    </tr>\n",
       "  </tbody>\n",
       "</table>\n",
       "</div>"
      ],
      "text/plain": [
       "        DATE OCC  TIME OCC AREA NAME  Rpt Dist No  Part 1-2       Crm Cd Desc  \\\n",
       "0  3/1/2020 0:00      2130  Wilshire          784         1  VEHICLE - STOLEN   \n",
       "\n",
       "   Vict Age Vict Sex Vict Descent   Status Desc  Crm Cd 1      LAT       LON  \n",
       "0         0        M            O  Adult Arrest     510.0  34.0375 -118.3506  "
      ]
     },
     "execution_count": 255,
     "metadata": {},
     "output_type": "execute_result"
    }
   ],
   "source": [
    "la_crime_df = la_crime_df[[\"DATE OCC\",\"TIME OCC\",\"AREA NAME\",\"Rpt Dist No\",\"Part 1-2\",\"Crm Cd Desc\",\"Vict Age\",\"Vict Sex\",\"Vict Descent\",\n",
    "                           \"Status Desc\",\"Crm Cd 1\",\"LAT\",\"LON\"]]\n",
    "la_crime_df.head(1)"
   ]
  },
  {
   "cell_type": "code",
   "execution_count": 256,
   "id": "e3bbd52c",
   "metadata": {},
   "outputs": [
    {
     "data": {
      "text/plain": [
       "(925720, 13)"
      ]
     },
     "execution_count": 256,
     "metadata": {},
     "output_type": "execute_result"
    }
   ],
   "source": [
    "la_crime_df.shape"
   ]
  },
  {
   "cell_type": "code",
   "execution_count": 257,
   "id": "ed221816",
   "metadata": {},
   "outputs": [
    {
     "data": {
      "text/plain": [
       "DATE OCC             0\n",
       "TIME OCC             0\n",
       "AREA NAME            0\n",
       "Rpt Dist No          0\n",
       "Part 1-2             0\n",
       "Crm Cd Desc          0\n",
       "Vict Age             0\n",
       "Vict Sex        123158\n",
       "Vict Descent    123168\n",
       "Status Desc          0\n",
       "Crm Cd 1            11\n",
       "LAT                  0\n",
       "LON                  0\n",
       "dtype: int64"
      ]
     },
     "execution_count": 257,
     "metadata": {},
     "output_type": "execute_result"
    }
   ],
   "source": [
    "la_crime_df.isnull().sum(axis = 0)"
   ]
  },
  {
   "cell_type": "code",
   "execution_count": 258,
   "id": "5882ab47",
   "metadata": {},
   "outputs": [
    {
     "data": {
      "text/plain": [
       "(802537, 13)"
      ]
     },
     "execution_count": 258,
     "metadata": {},
     "output_type": "execute_result"
    }
   ],
   "source": [
    "la_crime_df=la_crime_df.dropna()\n",
    "la_crime_df.shape"
   ]
  },
  {
   "cell_type": "code",
   "execution_count": 259,
   "id": "4ab4d1cb",
   "metadata": {},
   "outputs": [
    {
     "data": {
      "text/html": [
       "<div>\n",
       "<style scoped>\n",
       "    .dataframe tbody tr th:only-of-type {\n",
       "        vertical-align: middle;\n",
       "    }\n",
       "\n",
       "    .dataframe tbody tr th {\n",
       "        vertical-align: top;\n",
       "    }\n",
       "\n",
       "    .dataframe thead th {\n",
       "        text-align: right;\n",
       "    }\n",
       "</style>\n",
       "<table border=\"1\" class=\"dataframe\">\n",
       "  <thead>\n",
       "    <tr style=\"text-align: right;\">\n",
       "      <th></th>\n",
       "      <th>DATE OCC</th>\n",
       "      <th>TIME OCC</th>\n",
       "      <th>AREA NAME</th>\n",
       "      <th>Rpt Dist No</th>\n",
       "      <th>Part 1-2</th>\n",
       "      <th>Crm Cd Desc</th>\n",
       "      <th>Vict Age</th>\n",
       "      <th>Vict Sex</th>\n",
       "      <th>Vict Descent</th>\n",
       "      <th>Status Desc</th>\n",
       "      <th>Crm Cd 1</th>\n",
       "      <th>LAT</th>\n",
       "      <th>LON</th>\n",
       "    </tr>\n",
       "  </thead>\n",
       "  <tbody>\n",
       "    <tr>\n",
       "      <th>0</th>\n",
       "      <td>3/1/2020 0:00</td>\n",
       "      <td>2130</td>\n",
       "      <td>Wilshire</td>\n",
       "      <td>784</td>\n",
       "      <td>1</td>\n",
       "      <td>VEHICLE - STOLEN</td>\n",
       "      <td>0</td>\n",
       "      <td>M</td>\n",
       "      <td>O</td>\n",
       "      <td>Adult Arrest</td>\n",
       "      <td>510.0</td>\n",
       "      <td>34.0375</td>\n",
       "      <td>-118.3506</td>\n",
       "    </tr>\n",
       "    <tr>\n",
       "      <th>1</th>\n",
       "      <td>2/8/2020 0:00</td>\n",
       "      <td>1800</td>\n",
       "      <td>Central</td>\n",
       "      <td>182</td>\n",
       "      <td>1</td>\n",
       "      <td>BURGLARY FROM VEHICLE</td>\n",
       "      <td>47</td>\n",
       "      <td>M</td>\n",
       "      <td>O</td>\n",
       "      <td>Invest Cont</td>\n",
       "      <td>330.0</td>\n",
       "      <td>34.0444</td>\n",
       "      <td>-118.2628</td>\n",
       "    </tr>\n",
       "  </tbody>\n",
       "</table>\n",
       "</div>"
      ],
      "text/plain": [
       "        DATE OCC  TIME OCC AREA NAME  Rpt Dist No  Part 1-2  \\\n",
       "0  3/1/2020 0:00      2130  Wilshire          784         1   \n",
       "1  2/8/2020 0:00      1800   Central          182         1   \n",
       "\n",
       "             Crm Cd Desc  Vict Age Vict Sex Vict Descent   Status Desc  \\\n",
       "0       VEHICLE - STOLEN         0        M            O  Adult Arrest   \n",
       "1  BURGLARY FROM VEHICLE        47        M            O   Invest Cont   \n",
       "\n",
       "   Crm Cd 1      LAT       LON  \n",
       "0     510.0  34.0375 -118.3506  \n",
       "1     330.0  34.0444 -118.2628  "
      ]
     },
     "execution_count": 259,
     "metadata": {},
     "output_type": "execute_result"
    }
   ],
   "source": [
    "la_crime_df.head(2)"
   ]
  },
  {
   "cell_type": "code",
   "execution_count": 260,
   "id": "38a7498b",
   "metadata": {},
   "outputs": [
    {
     "data": {
      "text/plain": [
       "Vict Descent\n",
       "H    281378\n",
       "W    187079\n",
       "B    129709\n",
       "X     93922\n",
       "O     73010\n",
       "A     20311\n",
       "K      5085\n",
       "F      4002\n",
       "C      3712\n",
       "J      1305\n",
       "V       987\n",
       "I       882\n",
       "Z       458\n",
       "P       250\n",
       "U       190\n",
       "D        75\n",
       "G        67\n",
       "L        63\n",
       "S        50\n",
       "Name: count, dtype: int64"
      ]
     },
     "execution_count": 260,
     "metadata": {},
     "output_type": "execute_result"
    }
   ],
   "source": [
    "#to remove the \"-\" in the column Vict Descent\n",
    "filtered_df = la_crime_df[la_crime_df[\"Vict Descent\"]!=\"-\"]\n",
    "la_crime_df = filtered_df\n",
    "la_crime_df[\"Vict Descent\"].value_counts()"
   ]
  },
  {
   "cell_type": "code",
   "execution_count": 261,
   "id": "e27f35a5",
   "metadata": {},
   "outputs": [
    {
     "data": {
      "text/plain": [
       "DATE OCC        0\n",
       "TIME OCC        0\n",
       "AREA NAME       0\n",
       "Rpt Dist No     0\n",
       "Part 1-2        0\n",
       "Crm Cd Desc     0\n",
       "Vict Age        0\n",
       "Vict Sex        0\n",
       "Vict Descent    0\n",
       "Status Desc     0\n",
       "Crm Cd 1        0\n",
       "LAT             0\n",
       "LON             0\n",
       "dtype: int64"
      ]
     },
     "execution_count": 261,
     "metadata": {},
     "output_type": "execute_result"
    }
   ],
   "source": [
    "la_crime_df.isnull().sum()"
   ]
  },
  {
   "cell_type": "code",
   "execution_count": 262,
   "id": "a4a23d55",
   "metadata": {},
   "outputs": [
    {
     "name": "stdout",
     "output_type": "stream",
     "text": [
      "<class 'pandas.core.frame.DataFrame'>\n",
      "Index: 802535 entries, 0 to 925719\n",
      "Data columns (total 13 columns):\n",
      " #   Column        Non-Null Count   Dtype  \n",
      "---  ------        --------------   -----  \n",
      " 0   DATE OCC      802535 non-null  object \n",
      " 1   TIME OCC      802535 non-null  int64  \n",
      " 2   AREA NAME     802535 non-null  object \n",
      " 3   Rpt Dist No   802535 non-null  int64  \n",
      " 4   Part 1-2      802535 non-null  int64  \n",
      " 5   Crm Cd Desc   802535 non-null  object \n",
      " 6   Vict Age      802535 non-null  int64  \n",
      " 7   Vict Sex      802535 non-null  object \n",
      " 8   Vict Descent  802535 non-null  object \n",
      " 9   Status Desc   802535 non-null  object \n",
      " 10  Crm Cd 1      802535 non-null  float64\n",
      " 11  LAT           802535 non-null  float64\n",
      " 12  LON           802535 non-null  float64\n",
      "dtypes: float64(3), int64(4), object(6)\n",
      "memory usage: 85.7+ MB\n"
     ]
    }
   ],
   "source": [
    "la_crime_df.info()"
   ]
  },
  {
   "cell_type": "code",
   "execution_count": 263,
   "id": "b491eceb",
   "metadata": {},
   "outputs": [],
   "source": [
    "# renaming for better readability\n",
    "la_crime_df.rename(columns={\"DATE OCC\":\"Date_Occ\",\"TIME OCC\":\"Time_Occ\",\"AREA NAME\":\"Area_Name\",\"Rpt Dist No\":\"Rpt_Dist_No\",\n",
    "                            \"Part 1-2\":\"Part_1-2\",\"Crm Cd Desc\":\"Crm_Cd_Desc\",\"Vict Age\":\"Vict_Age\",\"Vict Sex\":\"Vict_Sex\",\n",
    "                           \"Vict Descent\":\"Vict_Descent\",\"Status Desc\":\"Status_Desc\",\"Crm Cd 1\":\"Crm_Cd_1\",\n",
    "                            \"LAT\":\"Lat\",\"LON\":\"Lon\"}, inplace = True)"
   ]
  },
  {
   "cell_type": "code",
   "execution_count": 264,
   "id": "c37af2bc",
   "metadata": {
    "scrolled": true
   },
   "outputs": [
    {
     "data": {
      "text/html": [
       "<div>\n",
       "<style scoped>\n",
       "    .dataframe tbody tr th:only-of-type {\n",
       "        vertical-align: middle;\n",
       "    }\n",
       "\n",
       "    .dataframe tbody tr th {\n",
       "        vertical-align: top;\n",
       "    }\n",
       "\n",
       "    .dataframe thead th {\n",
       "        text-align: right;\n",
       "    }\n",
       "</style>\n",
       "<table border=\"1\" class=\"dataframe\">\n",
       "  <thead>\n",
       "    <tr style=\"text-align: right;\">\n",
       "      <th></th>\n",
       "      <th>Date_Occ</th>\n",
       "      <th>Time_Occ</th>\n",
       "      <th>Area_Name</th>\n",
       "      <th>Rpt_Dist_No</th>\n",
       "      <th>Part_1-2</th>\n",
       "      <th>Crm_Cd_Desc</th>\n",
       "      <th>Vict_Age</th>\n",
       "      <th>Vict_Sex</th>\n",
       "      <th>Vict_Descent</th>\n",
       "      <th>Status_Desc</th>\n",
       "      <th>Crm_Cd_1</th>\n",
       "      <th>Lat</th>\n",
       "      <th>Lon</th>\n",
       "    </tr>\n",
       "  </thead>\n",
       "  <tbody>\n",
       "    <tr>\n",
       "      <th>0</th>\n",
       "      <td>3/1/2020 0:00</td>\n",
       "      <td>2130</td>\n",
       "      <td>Wilshire</td>\n",
       "      <td>784</td>\n",
       "      <td>1</td>\n",
       "      <td>VEHICLE - STOLEN</td>\n",
       "      <td>0</td>\n",
       "      <td>M</td>\n",
       "      <td>O</td>\n",
       "      <td>Adult Arrest</td>\n",
       "      <td>510.0</td>\n",
       "      <td>34.0375</td>\n",
       "      <td>-118.3506</td>\n",
       "    </tr>\n",
       "  </tbody>\n",
       "</table>\n",
       "</div>"
      ],
      "text/plain": [
       "        Date_Occ  Time_Occ Area_Name  Rpt_Dist_No  Part_1-2       Crm_Cd_Desc  \\\n",
       "0  3/1/2020 0:00      2130  Wilshire          784         1  VEHICLE - STOLEN   \n",
       "\n",
       "   Vict_Age Vict_Sex Vict_Descent   Status_Desc  Crm_Cd_1      Lat       Lon  \n",
       "0         0        M            O  Adult Arrest     510.0  34.0375 -118.3506  "
      ]
     },
     "execution_count": 264,
     "metadata": {},
     "output_type": "execute_result"
    }
   ],
   "source": [
    "la_crime_df.head(1)"
   ]
  },
  {
   "cell_type": "code",
   "execution_count": 265,
   "id": "a469c5ec",
   "metadata": {},
   "outputs": [],
   "source": [
    "\n",
    "\n",
    "# Convert the 'DateTime' column to datetime type if not alread\n",
    "\n",
    "\n",
    "la_crime_df['Date_Occ'] = pd.to_datetime(la_crime_df['Date_Occ'])\n",
    "\n"
   ]
  },
  {
   "cell_type": "code",
   "execution_count": 266,
   "id": "49e59f55",
   "metadata": {},
   "outputs": [
    {
     "data": {
      "text/html": [
       "<div>\n",
       "<style scoped>\n",
       "    .dataframe tbody tr th:only-of-type {\n",
       "        vertical-align: middle;\n",
       "    }\n",
       "\n",
       "    .dataframe tbody tr th {\n",
       "        vertical-align: top;\n",
       "    }\n",
       "\n",
       "    .dataframe thead th {\n",
       "        text-align: right;\n",
       "    }\n",
       "</style>\n",
       "<table border=\"1\" class=\"dataframe\">\n",
       "  <thead>\n",
       "    <tr style=\"text-align: right;\">\n",
       "      <th></th>\n",
       "      <th>Date_Occ</th>\n",
       "      <th>Time_Occ</th>\n",
       "      <th>Area_Name</th>\n",
       "      <th>Rpt_Dist_No</th>\n",
       "      <th>Part_1-2</th>\n",
       "      <th>Crm_Cd_Desc</th>\n",
       "      <th>Vict_Age</th>\n",
       "      <th>Vict_Sex</th>\n",
       "      <th>Vict_Descent</th>\n",
       "      <th>Status_Desc</th>\n",
       "      <th>Crm_Cd_1</th>\n",
       "      <th>Lat</th>\n",
       "      <th>Lon</th>\n",
       "    </tr>\n",
       "  </thead>\n",
       "  <tbody>\n",
       "    <tr>\n",
       "      <th>0</th>\n",
       "      <td>2020-03-01</td>\n",
       "      <td>2130</td>\n",
       "      <td>Wilshire</td>\n",
       "      <td>784</td>\n",
       "      <td>1</td>\n",
       "      <td>VEHICLE - STOLEN</td>\n",
       "      <td>0</td>\n",
       "      <td>M</td>\n",
       "      <td>O</td>\n",
       "      <td>Adult Arrest</td>\n",
       "      <td>510.0</td>\n",
       "      <td>34.0375</td>\n",
       "      <td>-118.3506</td>\n",
       "    </tr>\n",
       "  </tbody>\n",
       "</table>\n",
       "</div>"
      ],
      "text/plain": [
       "    Date_Occ  Time_Occ Area_Name  Rpt_Dist_No  Part_1-2       Crm_Cd_Desc  \\\n",
       "0 2020-03-01      2130  Wilshire          784         1  VEHICLE - STOLEN   \n",
       "\n",
       "   Vict_Age Vict_Sex Vict_Descent   Status_Desc  Crm_Cd_1      Lat       Lon  \n",
       "0         0        M            O  Adult Arrest     510.0  34.0375 -118.3506  "
      ]
     },
     "execution_count": 266,
     "metadata": {},
     "output_type": "execute_result"
    }
   ],
   "source": [
    "la_crime_df.head(1)"
   ]
  },
  {
   "cell_type": "code",
   "execution_count": 267,
   "id": "2b083f6c",
   "metadata": {},
   "outputs": [
    {
     "name": "stdout",
     "output_type": "stream",
     "text": [
      "<class 'pandas.core.frame.DataFrame'>\n",
      "Index: 802535 entries, 0 to 925719\n",
      "Data columns (total 13 columns):\n",
      " #   Column        Non-Null Count   Dtype         \n",
      "---  ------        --------------   -----         \n",
      " 0   Date_Occ      802535 non-null  datetime64[ns]\n",
      " 1   Time_Occ      802535 non-null  int64         \n",
      " 2   Area_Name     802535 non-null  object        \n",
      " 3   Rpt_Dist_No   802535 non-null  int64         \n",
      " 4   Part_1-2      802535 non-null  int64         \n",
      " 5   Crm_Cd_Desc   802535 non-null  object        \n",
      " 6   Vict_Age      802535 non-null  int64         \n",
      " 7   Vict_Sex      802535 non-null  object        \n",
      " 8   Vict_Descent  802535 non-null  object        \n",
      " 9   Status_Desc   802535 non-null  object        \n",
      " 10  Crm_Cd_1      802535 non-null  float64       \n",
      " 11  Lat           802535 non-null  float64       \n",
      " 12  Lon           802535 non-null  float64       \n",
      "dtypes: datetime64[ns](1), float64(3), int64(4), object(5)\n",
      "memory usage: 85.7+ MB\n"
     ]
    }
   ],
   "source": [
    "la_crime_df.info()"
   ]
  },
  {
   "cell_type": "code",
   "execution_count": 268,
   "id": "ba2bcf90",
   "metadata": {},
   "outputs": [
    {
     "data": {
      "text/plain": [
       "Vict_Sex\n",
       "M    379020\n",
       "F    337975\n",
       "X     85434\n",
       "Name: count, dtype: int64"
      ]
     },
     "execution_count": 268,
     "metadata": {},
     "output_type": "execute_result"
    }
   ],
   "source": [
    "# To remove the value H value of Vict_Sex\n",
    "la_crime_df=la_crime_df[la_crime_df[\"Vict_Sex\"]!=\"H\"]\n",
    "la_crime_df[\"Vict_Sex\"].value_counts()"
   ]
  },
  {
   "cell_type": "code",
   "execution_count": 269,
   "id": "777b4e3e",
   "metadata": {},
   "outputs": [
    {
     "data": {
      "text/plain": [
       "Date_Occ        1553\n",
       "Time_Occ        1439\n",
       "Area_Name         21\n",
       "Rpt_Dist_No     1199\n",
       "Part_1-2           2\n",
       "Crm_Cd_Desc      138\n",
       "Vict_Age         103\n",
       "Vict_Sex           3\n",
       "Vict_Descent      19\n",
       "Status_Desc        6\n",
       "Crm_Cd_1         139\n",
       "Lat             5376\n",
       "Lon             4968\n",
       "dtype: int64"
      ]
     },
     "execution_count": 269,
     "metadata": {},
     "output_type": "execute_result"
    }
   ],
   "source": [
    "la_crime_df.nunique()"
   ]
  },
  {
   "cell_type": "code",
   "execution_count": 270,
   "id": "f73f5baf",
   "metadata": {},
   "outputs": [
    {
     "data": {
      "text/plain": [
       "21"
      ]
     },
     "execution_count": 270,
     "metadata": {},
     "output_type": "execute_result"
    }
   ],
   "source": [
    "la_crime_df[\"Area_Name\"].nunique()"
   ]
  },
  {
   "cell_type": "code",
   "execution_count": 271,
   "id": "6b72c866",
   "metadata": {
    "scrolled": false
   },
   "outputs": [
    {
     "data": {
      "text/plain": [
       "Area_Name\n",
       "Central        57981\n",
       "77th Street    49198\n",
       "Pacific        46137\n",
       "Southwest      44808\n",
       "Hollywood      44421\n",
       "N Hollywood    40753\n",
       "Olympic        40669\n",
       "Wilshire       39826\n",
       "Southeast      39272\n",
       "West LA        38613\n",
       "Name: count, dtype: int64"
      ]
     },
     "execution_count": 271,
     "metadata": {},
     "output_type": "execute_result"
    }
   ],
   "source": [
    "# Top 10 crime location\n",
    "la_crime_df[\"Area_Name\"].value_counts().head(10)"
   ]
  },
  {
   "cell_type": "code",
   "execution_count": 272,
   "id": "b67c2418",
   "metadata": {
    "scrolled": true
   },
   "outputs": [
    {
     "data": {
      "text/plain": [
       "Area_Name\n",
       "Central        57981\n",
       "77th Street    49198\n",
       "Pacific        46137\n",
       "Southwest      44808\n",
       "Hollywood      44421\n",
       "N Hollywood    40753\n",
       "Olympic        40669\n",
       "Wilshire       39826\n",
       "Southeast      39272\n",
       "West LA        38613\n",
       "Newton         37579\n",
       "Rampart        37467\n",
       "West Valley    34220\n",
       "Topanga        34061\n",
       "Van Nuys       34050\n",
       "Northeast      33924\n",
       "Devonshire     33273\n",
       "Harbor         31917\n",
       "Mission        30519\n",
       "Hollenbeck     28033\n",
       "Foothill       25708\n",
       "Name: count, dtype: int64"
      ]
     },
     "execution_count": 272,
     "metadata": {},
     "output_type": "execute_result"
    }
   ],
   "source": [
    "la_crime_df[\"Area_Name\"].value_counts()"
   ]
  },
  {
   "cell_type": "code",
   "execution_count": 273,
   "id": "6bc90306",
   "metadata": {},
   "outputs": [
    {
     "data": {
      "text/plain": [
       "array(['Wilshire', 'Central', 'Southwest', 'Van Nuys', 'Hollywood',\n",
       "       'Southeast', 'Newton', 'Mission', 'Rampart', 'West Valley',\n",
       "       'West LA', 'Olympic', 'Topanga', 'Northeast', '77th Street',\n",
       "       'N Hollywood', 'Hollenbeck', 'Harbor', 'Foothill', 'Devonshire',\n",
       "       'Pacific'], dtype=object)"
      ]
     },
     "execution_count": 273,
     "metadata": {},
     "output_type": "execute_result"
    }
   ],
   "source": [
    "la_crime_df[\"Area_Name\"].unique()"
   ]
  },
  {
   "cell_type": "code",
   "execution_count": 274,
   "id": "c6086c84",
   "metadata": {},
   "outputs": [
    {
     "data": {
      "image/png": "[encoded data removed]",
      "text/plain": [
       "<Figure size 1000x600 with 1 Axes>"
      ]
     },
     "metadata": {},
     "output_type": "display_data"
    }
   ],
   "source": [
    "\n",
    "# Calculate value counts\n",
    "area_counts = la_crime_df[\"Area_Name\"].value_counts()\n",
    "\n",
    "# Plotting\n",
    "plt.figure(figsize=(10, 6))\n",
    "plt.bar(area_counts.index, area_counts.values)  # Use index and values to align data correctly\n",
    "plt.xlabel(\"Area Name\")\n",
    "plt.ylabel(\"Counts\")\n",
    "plt.title(\"Crime Count by Area Name\")\n",
    "plt.xticks(rotation=45)  # Optional: Rotate the area names for better readability\n",
    "plt.show()\n"
   ]
  },
  {
   "cell_type": "code",
   "execution_count": 275,
   "id": "22b6f610",
   "metadata": {},
   "outputs": [
    {
     "data": {
      "text/plain": [
       "138"
      ]
     },
     "execution_count": 275,
     "metadata": {},
     "output_type": "execute_result"
    }
   ],
   "source": [
    "la_crime_df[\"Crm_Cd_Desc\"].nunique() # numbe of crime descriptions"
   ]
  },
  {
   "cell_type": "code",
   "execution_count": 276,
   "id": "05b36550",
   "metadata": {},
   "outputs": [
    {
     "data": {
      "text/plain": [
       "Crm_Cd_Desc\n",
       "BATTERY - SIMPLE ASSAULT                                   73348\n",
       "BURGLARY FROM VEHICLE                                      57042\n",
       "THEFT OF IDENTITY                                          57031\n",
       "BURGLARY                                                   56669\n",
       "VANDALISM - FELONY ($400 & OVER, ALL CHURCH VANDALISMS)    56107\n",
       "ASSAULT WITH DEADLY WEAPON, AGGRAVATED ASSAULT             52462\n",
       "THEFT PLAIN - PETTY ($950 & UNDER)                         47108\n",
       "INTIMATE PARTNER - SIMPLE ASSAULT                          45882\n",
       "THEFT FROM MOTOR VEHICLE - GRAND ($950.01 AND OVER)        33048\n",
       "ROBBERY                                                    31491\n",
       "Name: count, dtype: int64"
      ]
     },
     "execution_count": 276,
     "metadata": {},
     "output_type": "execute_result"
    }
   ],
   "source": [
    "# the top 10 crime types\n",
    "la_crime_df[\"Crm_Cd_Desc\"].value_counts().head(10)"
   ]
  },
  {
   "cell_type": "code",
   "execution_count": 277,
   "id": "15963bbe",
   "metadata": {},
   "outputs": [
    {
     "data": {
      "image/png": "[encoded data removed]",
      "text/plain": [
       "<Figure size 800x400 with 1 Axes>"
      ]
     },
     "metadata": {},
     "output_type": "display_data"
    }
   ],
   "source": [
    "\n",
    "\n",
    "# Calculate value counts for the 'Vict_Sex' column\n",
    "sex_counts = la_crime_df['Vict_Sex'].value_counts()\n",
    "\n",
    "# Plotting\n",
    "plt.figure(figsize=(8, 4))  # Set the figure size as needed\n",
    "plt.bar(sex_counts.index, sex_counts.values)  # You can choose any color\n",
    "plt.xlabel('Victim Sex')\n",
    "plt.ylabel('Counts')\n",
    "plt.title('Crime Count by Victim Sex')\n",
    "plt.xticks(rotation=45)  # Rotate labels if necessary\n",
    "plt.show()\n"
   ]
  },
  {
   "cell_type": "code",
   "execution_count": 278,
   "id": "e02b3a94",
   "metadata": {},
   "outputs": [],
   "source": [
    "#Filtering out Vict_Age to greater than zero\n",
    "la_crime_df = la_crime_df[la_crime_df[\"Vict_Age\"]> 0]"
   ]
  },
  {
   "cell_type": "code",
   "execution_count": 279,
   "id": "29710d01",
   "metadata": {
    "scrolled": true
   },
   "outputs": [
    {
     "data": {
      "image/png": "[encoded data removed]",
      "text/plain": [
       "<Figure size 1000x600 with 1 Axes>"
      ]
     },
     "metadata": {},
     "output_type": "display_data"
    }
   ],
   "source": [
    "# Age of Victims Distribution\n",
    "\n",
    "\n",
    "la_crime_df['Vict_Age'] = pd.to_numeric(la_crime_df['Vict_Age'], errors='coerce')\n",
    "\n",
    "# Drop any NaN values that may have resulted from conversion errors or existing in data\n",
    "la_crime_df = la_crime_df.dropna(subset=['Vict_Age'])\n",
    "\n",
    "# Plotting a histogram of the 'Age' column\n",
    "plt.figure(figsize=(10, 6))\n",
    "plt.hist(la_crime_df['Vict_Age'], bins=30, alpha=0.7)  # Adjust the number of bins as needed\n",
    "plt.xlabel('Victim Age')\n",
    "plt.ylabel('Counts')\n",
    "plt.title('Distribution of Age in Crime Data')\n",
    "plt.grid(True)  # Optional: Adds a grid for easier visualization\n",
    "plt.show()\n"
   ]
  },
  {
   "cell_type": "code",
   "execution_count": 280,
   "id": "263136ce",
   "metadata": {},
   "outputs": [
    {
     "data": {
      "text/plain": [
       "(99, 2)"
      ]
     },
     "execution_count": 280,
     "metadata": {},
     "output_type": "execute_result"
    }
   ],
   "source": [
    "la_crime_df[\"Vict_Age\"].max(), la_crime_df[\"Vict_Age\"].min()"
   ]
  },
  {
   "cell_type": "code",
   "execution_count": 281,
   "id": "5215902a",
   "metadata": {},
   "outputs": [
    {
     "data": {
      "text/plain": [
       "Vict_Descent\n",
       "A     19980\n",
       "B    128204\n",
       "C      3706\n",
       "D        75\n",
       "F      3938\n",
       "G        67\n",
       "H    276655\n",
       "I       881\n",
       "J      1304\n",
       "K      5059\n",
       "L        62\n",
       "O     60991\n",
       "P       249\n",
       "S        45\n",
       "U       156\n",
       "V       981\n",
       "W    173400\n",
       "X     15065\n",
       "Z       458\n",
       "Name: Vict_Age, dtype: int64"
      ]
     },
     "execution_count": 281,
     "metadata": {},
     "output_type": "execute_result"
    }
   ],
   "source": [
    "# Top 5 Vict Descents\n",
    "top5 =la_crime_df.groupby([\"Vict_Descent\"])[\"Vict_Age\"].count()\n",
    "top5"
   ]
  },
  {
   "cell_type": "code",
   "execution_count": 282,
   "id": "60656165",
   "metadata": {},
   "outputs": [
    {
     "data": {
      "image/png": "[encoded data removed]",
      "text/plain": [
       "<Figure size 1200x800 with 1 Axes>"
      ]
     },
     "metadata": {},
     "output_type": "display_data"
    }
   ],
   "source": [
    "\n",
    "# Calculate the value counts for the 'Vict_Descent' column\n",
    "descent_counts = la_crime_df['Vict_Descent'].value_counts()\n",
    "\n",
    "# Plotting\n",
    "plt.figure(figsize=(12, 8))  # Adjust the size as needed\n",
    "plt.bar(descent_counts.index, descent_counts.values)\n",
    "plt.xlabel('Victim Descent')\n",
    "plt.ylabel('Counts')\n",
    "plt.title('Crime Count by Victim Descent')\n",
    "plt.xticks(rotation=90)  # Rotate labels for better readability if there are many categories\n",
    "plt.show()\n"
   ]
  },
  {
   "cell_type": "code",
   "execution_count": 283,
   "id": "c4392a1f",
   "metadata": {},
   "outputs": [
    {
     "data": {
      "image/png": "[encoded data removed]",
      "text/plain": [
       "<Figure size 1200x800 with 1 Axes>"
      ]
     },
     "metadata": {},
     "output_type": "display_data"
    }
   ],
   "source": [
    "\n",
    "\n",
    "# Renaming values in the 'Vict_Descent' column\n",
    "rename_dict = {\n",
    "    'H': 'Hispanic/Latin/Mexican',\n",
    "    'B': 'Black',\n",
    "    'W': 'White',\n",
    "    'A': 'Other Asian',\n",
    "    'X': 'Unknown',\n",
    "    'C': 'Chinese',\n",
    "    'D': 'Cambodian',  # Note the typo fix from 'Combodian' to 'Cambodian'\n",
    "    'F': 'Filipino',\n",
    "    'G': 'Guamanian',\n",
    "    'I': 'American Indian/Alaskan Native',  # Minor correction for consistency\n",
    "    'J': 'Japanese',\n",
    "    'K': 'Korean',\n",
    "    'L': 'Laotian',\n",
    "    'O': 'Other',\n",
    "    'S': 'Samoan',\n",
    "    'U': 'Hawaiian',\n",
    "    'V': 'Vietnamese',\n",
    "    'Z': 'Asian Indian'\n",
    "}\n",
    "\n",
    "for code, description in rename_dict.items():\n",
    "    la_crime_df.loc[la_crime_df[\"Vict_Descent\"] == code, \"Vict_Descent\"] = description\n",
    "\n",
    "# Plotting\n",
    "plt.style.use('ggplot')\n",
    "plt.figure(figsize=(12, 8))\n",
    "la_crime_df[\"Vict_Descent\"].value_counts()[:9].plot.bar(color=plt.cm.Pastel2(np.linspace(0, 1, 9)))\n",
    "plt.title('Victims Categorization by Ethnicity')\n",
    "plt.xlabel('Victim Ethnicity')\n",
    "plt.ylabel('Count of Crimes')\n",
    "plt.show()\n"
   ]
  },
  {
   "cell_type": "code",
   "execution_count": 284,
   "id": "903d1688",
   "metadata": {},
   "outputs": [
    {
     "name": "stdout",
     "output_type": "stream",
     "text": [
      "Area_Name\n",
      "Southeast      36\n",
      "Pacific        35\n",
      "77th Street    30\n",
      "Central        28\n",
      "Newton         20\n",
      "Harbor         14\n",
      "N Hollywood    14\n",
      "Southwest      13\n",
      "Northeast      12\n",
      "Van Nuys       12\n",
      "Name: count, dtype: int64\n"
     ]
    },
    {
     "data": {
      "image/png": "[encoded data removed]",
      "text/plain": [
       "<Figure size 1000x600 with 1 Axes>"
      ]
     },
     "metadata": {},
     "output_type": "display_data"
    }
   ],
   "source": [
    "\n",
    "\n",
    "# Filtering the DataFrame for vehicle theft - adapt the condition to match your dataset's specifics\n",
    "vehicle_theft_df = la_crime_df[la_crime_df[\"Crm_Cd_Desc\"].str.contains(\"VEHICLE - STOLEN\", na=False)]\n",
    "\n",
    "# Counting occurrences in each area and getting the top 10\n",
    "top_vehicle_theft_areas = vehicle_theft_df['Area_Name'].value_counts().head(10)\n",
    "\n",
    "# Display the results\n",
    "print(top_vehicle_theft_areas)\n",
    "plt.figure(figsize=(10, 6))  # Set the figure size\n",
    "plt.bar(top_vehicle_theft_areas.index, top_vehicle_theft_areas.values)  # Plot a bar chart\n",
    "plt.title('Top 10 LA Areas for Vehicle Theft')\n",
    "plt.xlabel('Area Name') \n",
    "plt.ylabel('Number of Vehicle Thefts') \n",
    "plt.xticks(rotation=45) \n",
    "plt.show()  \n"
   ]
  },
  {
   "cell_type": "code",
   "execution_count": 285,
   "id": "26444779",
   "metadata": {},
   "outputs": [
    {
     "data": {
      "text/plain": [
       "(691276, 13)"
      ]
     },
     "execution_count": 285,
     "metadata": {},
     "output_type": "execute_result"
    }
   ],
   "source": [
    "la_crime_df.shape"
   ]
  },
  {
   "cell_type": "code",
   "execution_count": 286,
   "id": "256f2605",
   "metadata": {},
   "outputs": [
    {
     "name": "stdout",
     "output_type": "stream",
     "text": [
      "<class 'pandas.core.frame.DataFrame'>\n",
      "Index: 691276 entries, 1 to 925718\n",
      "Data columns (total 13 columns):\n",
      " #   Column        Non-Null Count   Dtype         \n",
      "---  ------        --------------   -----         \n",
      " 0   Date_Occ      691276 non-null  datetime64[ns]\n",
      " 1   Time_Occ      691276 non-null  int64         \n",
      " 2   Area_Name     691276 non-null  object        \n",
      " 3   Rpt_Dist_No   691276 non-null  int64         \n",
      " 4   Part_1-2      691276 non-null  int64         \n",
      " 5   Crm_Cd_Desc   691276 non-null  object        \n",
      " 6   Vict_Age      691276 non-null  int64         \n",
      " 7   Vict_Sex      691276 non-null  object        \n",
      " 8   Vict_Descent  691276 non-null  object        \n",
      " 9   Status_Desc   691276 non-null  object        \n",
      " 10  Crm_Cd_1      691276 non-null  float64       \n",
      " 11  Lat           691276 non-null  float64       \n",
      " 12  Lon           691276 non-null  float64       \n",
      "dtypes: datetime64[ns](1), float64(3), int64(4), object(5)\n",
      "memory usage: 73.8+ MB\n"
     ]
    }
   ],
   "source": [
    "la_crime_df.info()"
   ]
  },
  {
   "cell_type": "code",
   "execution_count": null,
   "id": "6d3a76fb",
   "metadata": {},
   "outputs": [],
   "source": []
  },
  {
   "cell_type": "code",
   "execution_count": 287,
   "id": "2fd6cb04",
   "metadata": {},
   "outputs": [],
   "source": [
    "#Pre Machine Learning \n",
    "#Visualize the data using pandas histogram for the continous variables "
   ]
  },
  {
   "cell_type": "code",
   "execution_count": 288,
   "id": "69cb8e66",
   "metadata": {},
   "outputs": [
    {
     "data": {
      "image/png": "[encoded data removed]",
      "text/plain": [
       "<Figure size 640x480 with 9 Axes>"
      ]
     },
     "metadata": {},
     "output_type": "display_data"
    },
    {
     "data": {
      "text/plain": [
       "<Figure size 1200x800 with 0 Axes>"
      ]
     },
     "metadata": {},
     "output_type": "display_data"
    }
   ],
   "source": [
    "la_crime_df.hist(rwidth=0.7)\n",
    "plt.figure(figsize=(12, 8))  # Set the figure size\n",
    "plt.tight_layout()"
   ]
  },
  {
   "cell_type": "code",
   "execution_count": 289,
   "id": "14eba360",
   "metadata": {},
   "outputs": [],
   "source": [
    "#the above visualization looks like it is in normal distribution"
   ]
  },
  {
   "cell_type": "code",
   "execution_count": 290,
   "id": "66671387",
   "metadata": {},
   "outputs": [
    {
     "data": {
      "text/html": [
       "<div>\n",
       "<style scoped>\n",
       "    .dataframe tbody tr th:only-of-type {\n",
       "        vertical-align: middle;\n",
       "    }\n",
       "\n",
       "    .dataframe tbody tr th {\n",
       "        vertical-align: top;\n",
       "    }\n",
       "\n",
       "    .dataframe thead th {\n",
       "        text-align: right;\n",
       "    }\n",
       "</style>\n",
       "<table border=\"1\" class=\"dataframe\">\n",
       "  <thead>\n",
       "    <tr style=\"text-align: right;\">\n",
       "      <th></th>\n",
       "      <th>Date_Occ</th>\n",
       "      <th>Time_Occ</th>\n",
       "      <th>Area_Name</th>\n",
       "      <th>Rpt_Dist_No</th>\n",
       "      <th>Part_1-2</th>\n",
       "      <th>Crm_Cd_Desc</th>\n",
       "      <th>Vict_Age</th>\n",
       "      <th>Vict_Sex</th>\n",
       "      <th>Vict_Descent</th>\n",
       "      <th>Status_Desc</th>\n",
       "      <th>Crm_Cd_1</th>\n",
       "      <th>Lat</th>\n",
       "      <th>Lon</th>\n",
       "    </tr>\n",
       "  </thead>\n",
       "  <tbody>\n",
       "    <tr>\n",
       "      <th>1</th>\n",
       "      <td>2020-02-08</td>\n",
       "      <td>1800</td>\n",
       "      <td>Central</td>\n",
       "      <td>182</td>\n",
       "      <td>1</td>\n",
       "      <td>BURGLARY FROM VEHICLE</td>\n",
       "      <td>47</td>\n",
       "      <td>M</td>\n",
       "      <td>Other</td>\n",
       "      <td>Invest Cont</td>\n",
       "      <td>330.0</td>\n",
       "      <td>34.0444</td>\n",
       "      <td>-118.2628</td>\n",
       "    </tr>\n",
       "    <tr>\n",
       "      <th>2</th>\n",
       "      <td>2020-11-04</td>\n",
       "      <td>1700</td>\n",
       "      <td>Southwest</td>\n",
       "      <td>356</td>\n",
       "      <td>1</td>\n",
       "      <td>BIKE - STOLEN</td>\n",
       "      <td>19</td>\n",
       "      <td>X</td>\n",
       "      <td>Unknown</td>\n",
       "      <td>Invest Cont</td>\n",
       "      <td>480.0</td>\n",
       "      <td>34.0210</td>\n",
       "      <td>-118.3002</td>\n",
       "    </tr>\n",
       "    <tr>\n",
       "      <th>3</th>\n",
       "      <td>2020-03-10</td>\n",
       "      <td>2037</td>\n",
       "      <td>Van Nuys</td>\n",
       "      <td>964</td>\n",
       "      <td>1</td>\n",
       "      <td>SHOPLIFTING-GRAND THEFT ($950.01 &amp; OVER)</td>\n",
       "      <td>19</td>\n",
       "      <td>M</td>\n",
       "      <td>Other</td>\n",
       "      <td>Invest Cont</td>\n",
       "      <td>343.0</td>\n",
       "      <td>34.1576</td>\n",
       "      <td>-118.4387</td>\n",
       "    </tr>\n",
       "    <tr>\n",
       "      <th>4</th>\n",
       "      <td>2020-08-17</td>\n",
       "      <td>1200</td>\n",
       "      <td>Hollywood</td>\n",
       "      <td>666</td>\n",
       "      <td>2</td>\n",
       "      <td>THEFT OF IDENTITY</td>\n",
       "      <td>28</td>\n",
       "      <td>M</td>\n",
       "      <td>Hispanic/Latin/Mexican</td>\n",
       "      <td>Invest Cont</td>\n",
       "      <td>354.0</td>\n",
       "      <td>34.0944</td>\n",
       "      <td>-118.3277</td>\n",
       "    </tr>\n",
       "    <tr>\n",
       "      <th>5</th>\n",
       "      <td>2020-12-01</td>\n",
       "      <td>2300</td>\n",
       "      <td>Southeast</td>\n",
       "      <td>1826</td>\n",
       "      <td>2</td>\n",
       "      <td>THEFT OF IDENTITY</td>\n",
       "      <td>41</td>\n",
       "      <td>M</td>\n",
       "      <td>Hispanic/Latin/Mexican</td>\n",
       "      <td>Invest Cont</td>\n",
       "      <td>354.0</td>\n",
       "      <td>33.9467</td>\n",
       "      <td>-118.2463</td>\n",
       "    </tr>\n",
       "  </tbody>\n",
       "</table>\n",
       "</div>"
      ],
      "text/plain": [
       "    Date_Occ  Time_Occ  Area_Name  Rpt_Dist_No  Part_1-2  \\\n",
       "1 2020-02-08      1800    Central          182         1   \n",
       "2 2020-11-04      1700  Southwest          356         1   \n",
       "3 2020-03-10      2037   Van Nuys          964         1   \n",
       "4 2020-08-17      1200  Hollywood          666         2   \n",
       "5 2020-12-01      2300  Southeast         1826         2   \n",
       "\n",
       "                                Crm_Cd_Desc  Vict_Age Vict_Sex  \\\n",
       "1                     BURGLARY FROM VEHICLE        47        M   \n",
       "2                             BIKE - STOLEN        19        X   \n",
       "3  SHOPLIFTING-GRAND THEFT ($950.01 & OVER)        19        M   \n",
       "4                         THEFT OF IDENTITY        28        M   \n",
       "5                         THEFT OF IDENTITY        41        M   \n",
       "\n",
       "             Vict_Descent  Status_Desc  Crm_Cd_1      Lat       Lon  \n",
       "1                   Other  Invest Cont     330.0  34.0444 -118.2628  \n",
       "2                 Unknown  Invest Cont     480.0  34.0210 -118.3002  \n",
       "3                   Other  Invest Cont     343.0  34.1576 -118.4387  \n",
       "4  Hispanic/Latin/Mexican  Invest Cont     354.0  34.0944 -118.3277  \n",
       "5  Hispanic/Latin/Mexican  Invest Cont     354.0  33.9467 -118.2463  "
      ]
     },
     "execution_count": 290,
     "metadata": {},
     "output_type": "execute_result"
    }
   ],
   "source": [
    "la_crime_df.head()"
   ]
  },
  {
   "cell_type": "code",
   "execution_count": null,
   "id": "04801ea0",
   "metadata": {},
   "outputs": [],
   "source": []
  },
  {
   "cell_type": "code",
   "execution_count": 291,
   "id": "760162ac",
   "metadata": {},
   "outputs": [],
   "source": [
    "la_crime_df = la_crime_df[[\"Vict_Sex\",\"Vict_Age\",\"Lat\",\"Lon\",\"Rpt_Dist_No\",\"Vict_Descent\",\"Area_Name\",\"Crm_Cd_Desc\"]]"
   ]
  },
  {
   "cell_type": "code",
   "execution_count": 292,
   "id": "3fdfd291",
   "metadata": {},
   "outputs": [
    {
     "data": {
      "text/html": [
       "<div>\n",
       "<style scoped>\n",
       "    .dataframe tbody tr th:only-of-type {\n",
       "        vertical-align: middle;\n",
       "    }\n",
       "\n",
       "    .dataframe tbody tr th {\n",
       "        vertical-align: top;\n",
       "    }\n",
       "\n",
       "    .dataframe thead th {\n",
       "        text-align: right;\n",
       "    }\n",
       "</style>\n",
       "<table border=\"1\" class=\"dataframe\">\n",
       "  <thead>\n",
       "    <tr style=\"text-align: right;\">\n",
       "      <th></th>\n",
       "      <th>Vict_Sex</th>\n",
       "      <th>Vict_Age</th>\n",
       "      <th>Lat</th>\n",
       "      <th>Lon</th>\n",
       "      <th>Rpt_Dist_No</th>\n",
       "      <th>Vict_Descent</th>\n",
       "      <th>Area_Name</th>\n",
       "      <th>Crm_Cd_Desc</th>\n",
       "    </tr>\n",
       "  </thead>\n",
       "  <tbody>\n",
       "    <tr>\n",
       "      <th>1</th>\n",
       "      <td>M</td>\n",
       "      <td>47</td>\n",
       "      <td>34.0444</td>\n",
       "      <td>-118.2628</td>\n",
       "      <td>182</td>\n",
       "      <td>Other</td>\n",
       "      <td>Central</td>\n",
       "      <td>BURGLARY FROM VEHICLE</td>\n",
       "    </tr>\n",
       "    <tr>\n",
       "      <th>2</th>\n",
       "      <td>X</td>\n",
       "      <td>19</td>\n",
       "      <td>34.0210</td>\n",
       "      <td>-118.3002</td>\n",
       "      <td>356</td>\n",
       "      <td>Unknown</td>\n",
       "      <td>Southwest</td>\n",
       "      <td>BIKE - STOLEN</td>\n",
       "    </tr>\n",
       "    <tr>\n",
       "      <th>3</th>\n",
       "      <td>M</td>\n",
       "      <td>19</td>\n",
       "      <td>34.1576</td>\n",
       "      <td>-118.4387</td>\n",
       "      <td>964</td>\n",
       "      <td>Other</td>\n",
       "      <td>Van Nuys</td>\n",
       "      <td>SHOPLIFTING-GRAND THEFT ($950.01 &amp; OVER)</td>\n",
       "    </tr>\n",
       "    <tr>\n",
       "      <th>4</th>\n",
       "      <td>M</td>\n",
       "      <td>28</td>\n",
       "      <td>34.0944</td>\n",
       "      <td>-118.3277</td>\n",
       "      <td>666</td>\n",
       "      <td>Hispanic/Latin/Mexican</td>\n",
       "      <td>Hollywood</td>\n",
       "      <td>THEFT OF IDENTITY</td>\n",
       "    </tr>\n",
       "    <tr>\n",
       "      <th>5</th>\n",
       "      <td>M</td>\n",
       "      <td>41</td>\n",
       "      <td>33.9467</td>\n",
       "      <td>-118.2463</td>\n",
       "      <td>1826</td>\n",
       "      <td>Hispanic/Latin/Mexican</td>\n",
       "      <td>Southeast</td>\n",
       "      <td>THEFT OF IDENTITY</td>\n",
       "    </tr>\n",
       "  </tbody>\n",
       "</table>\n",
       "</div>"
      ],
      "text/plain": [
       "  Vict_Sex  Vict_Age      Lat       Lon  Rpt_Dist_No            Vict_Descent  \\\n",
       "1        M        47  34.0444 -118.2628          182                   Other   \n",
       "2        X        19  34.0210 -118.3002          356                 Unknown   \n",
       "3        M        19  34.1576 -118.4387          964                   Other   \n",
       "4        M        28  34.0944 -118.3277          666  Hispanic/Latin/Mexican   \n",
       "5        M        41  33.9467 -118.2463         1826  Hispanic/Latin/Mexican   \n",
       "\n",
       "   Area_Name                               Crm_Cd_Desc  \n",
       "1    Central                     BURGLARY FROM VEHICLE  \n",
       "2  Southwest                             BIKE - STOLEN  \n",
       "3   Van Nuys  SHOPLIFTING-GRAND THEFT ($950.01 & OVER)  \n",
       "4  Hollywood                         THEFT OF IDENTITY  \n",
       "5  Southeast                         THEFT OF IDENTITY  "
      ]
     },
     "execution_count": 292,
     "metadata": {},
     "output_type": "execute_result"
    }
   ],
   "source": [
    "la_crime_df.head()"
   ]
  },
  {
   "cell_type": "code",
   "execution_count": 293,
   "id": "a6353ea7",
   "metadata": {
    "scrolled": true
   },
   "outputs": [
    {
     "data": {
      "text/plain": [
       "Vict_Sex\n",
       "M    348234\n",
       "F    334231\n",
       "X      8811\n",
       "Name: count, dtype: int64"
      ]
     },
     "execution_count": 293,
     "metadata": {},
     "output_type": "execute_result"
    }
   ],
   "source": [
    "la_crime_df[\"Vict_Sex\"].value_counts()"
   ]
  },
  {
   "cell_type": "code",
   "execution_count": 294,
   "id": "6d8a46f7",
   "metadata": {},
   "outputs": [
    {
     "data": {
      "text/plain": [
       "Vict_Descent\n",
       "Hispanic/Latin/Mexican            276655\n",
       "White                             173400\n",
       "Black                             128204\n",
       "Other                              60991\n",
       "Other Asian                        19980\n",
       "Unknown                            15065\n",
       "Korean                              5059\n",
       "Filipino                            3938\n",
       "Chinese                             3706\n",
       "Japanese                            1304\n",
       "Vietnamese                           981\n",
       "American Indian/Alaskan Native       881\n",
       "Asian Indian                         458\n",
       "P                                    249\n",
       "Hawaiian                             156\n",
       "Cambodian                             75\n",
       "Guamanian                             67\n",
       "Laotian                               62\n",
       "Samoan                                45\n",
       "Name: count, dtype: int64"
      ]
     },
     "execution_count": 294,
     "metadata": {},
     "output_type": "execute_result"
    }
   ],
   "source": [
    "la_crime_df[\"Vict_Descent\"].value_counts()"
   ]
  },
  {
   "cell_type": "code",
   "execution_count": 295,
   "id": "6a4ef211",
   "metadata": {},
   "outputs": [
    {
     "data": {
      "text/plain": [
       "Area_Name\n",
       "Central        48784\n",
       "77th Street    43957\n",
       "Southwest      43942\n",
       "Pacific        38818\n",
       "Hollywood      36911\n",
       "Southeast      35001\n",
       "Olympic        34395\n",
       "N Hollywood    33538\n",
       "Wilshire       33532\n",
       "Topanga        32063\n",
       "Newton         31979\n",
       "Rampart        31494\n",
       "West LA        31439\n",
       "Van Nuys       31115\n",
       "West Valley    29015\n",
       "Mission        28132\n",
       "Northeast      27657\n",
       "Devonshire     27176\n",
       "Harbor         26191\n",
       "Foothill       23117\n",
       "Hollenbeck     23020\n",
       "Name: count, dtype: int64"
      ]
     },
     "execution_count": 295,
     "metadata": {},
     "output_type": "execute_result"
    }
   ],
   "source": [
    "la_crime_df[\"Area_Name\"].value_counts()"
   ]
  },
  {
   "cell_type": "code",
   "execution_count": 296,
   "id": "5e8ec533",
   "metadata": {
    "scrolled": true
   },
   "outputs": [
    {
     "name": "stdout",
     "output_type": "stream",
     "text": [
      "<class 'pandas.core.frame.DataFrame'>\n",
      "Index: 691276 entries, 1 to 925718\n",
      "Data columns (total 8 columns):\n",
      " #   Column        Non-Null Count   Dtype  \n",
      "---  ------        --------------   -----  \n",
      " 0   Vict_Sex      691276 non-null  object \n",
      " 1   Vict_Age      691276 non-null  int64  \n",
      " 2   Lat           691276 non-null  float64\n",
      " 3   Lon           691276 non-null  float64\n",
      " 4   Rpt_Dist_No   691276 non-null  int64  \n",
      " 5   Vict_Descent  691276 non-null  object \n",
      " 6   Area_Name     691276 non-null  object \n",
      " 7   Crm_Cd_Desc   691276 non-null  object \n",
      "dtypes: float64(2), int64(2), object(4)\n",
      "memory usage: 47.5+ MB\n"
     ]
    }
   ],
   "source": [
    "la_crime_df.info()"
   ]
  },
  {
   "cell_type": "code",
   "execution_count": 297,
   "id": "ac28bcb4",
   "metadata": {},
   "outputs": [],
   "source": [
    "#change the object dtypes into categorical\n",
    "la_crime_df[\"Vict_Sex\"] = la_crime_df[\"Vict_Sex\"].astype(\"category\")\n",
    "la_crime_df[\"Area_Name\"] = la_crime_df[\"Area_Name\"].astype(\"category\")\n",
    "la_crime_df[\"Vict_Descent\"]=la_crime_df[\"Vict_Descent\"].astype(\"category\")"
   ]
  },
  {
   "cell_type": "code",
   "execution_count": 298,
   "id": "4c34e1e7",
   "metadata": {},
   "outputs": [
    {
     "name": "stdout",
     "output_type": "stream",
     "text": [
      "<class 'pandas.core.frame.DataFrame'>\n",
      "Index: 691276 entries, 1 to 925718\n",
      "Data columns (total 8 columns):\n",
      " #   Column        Non-Null Count   Dtype   \n",
      "---  ------        --------------   -----   \n",
      " 0   Vict_Sex      691276 non-null  category\n",
      " 1   Vict_Age      691276 non-null  int64   \n",
      " 2   Lat           691276 non-null  float64 \n",
      " 3   Lon           691276 non-null  float64 \n",
      " 4   Rpt_Dist_No   691276 non-null  int64   \n",
      " 5   Vict_Descent  691276 non-null  category\n",
      " 6   Area_Name     691276 non-null  category\n",
      " 7   Crm_Cd_Desc   691276 non-null  object  \n",
      "dtypes: category(3), float64(2), int64(2), object(1)\n",
      "memory usage: 33.6+ MB\n"
     ]
    }
   ],
   "source": [
    "la_crime_df.info()"
   ]
  },
  {
   "cell_type": "code",
   "execution_count": 299,
   "id": "02746bf3",
   "metadata": {},
   "outputs": [],
   "source": [
    "#Target/dependent Variable Crm_Cd_Desc\n",
    "#independent variables Vict_Sex, Vict_Age, Lat, Lon,Area_Name"
   ]
  },
  {
   "cell_type": "code",
   "execution_count": 300,
   "id": "cadf9124",
   "metadata": {},
   "outputs": [
    {
     "data": {
      "text/plain": [
       "Vict_Sex        category\n",
       "Vict_Age           int64\n",
       "Lat              float64\n",
       "Lon              float64\n",
       "Rpt_Dist_No        int64\n",
       "Vict_Descent    category\n",
       "Area_Name       category\n",
       "Crm_Cd_Desc       object\n",
       "dtype: object"
      ]
     },
     "execution_count": 300,
     "metadata": {},
     "output_type": "execute_result"
    }
   ],
   "source": [
    "la_crime_df.dtypes"
   ]
  },
  {
   "cell_type": "code",
   "execution_count": 301,
   "id": "b92ec5ea",
   "metadata": {},
   "outputs": [
    {
     "data": {
      "text/html": [
       "<div>\n",
       "<style scoped>\n",
       "    .dataframe tbody tr th:only-of-type {\n",
       "        vertical-align: middle;\n",
       "    }\n",
       "\n",
       "    .dataframe tbody tr th {\n",
       "        vertical-align: top;\n",
       "    }\n",
       "\n",
       "    .dataframe thead th {\n",
       "        text-align: right;\n",
       "    }\n",
       "</style>\n",
       "<table border=\"1\" class=\"dataframe\">\n",
       "  <thead>\n",
       "    <tr style=\"text-align: right;\">\n",
       "      <th></th>\n",
       "      <th>Vict_Age</th>\n",
       "      <th>Lat</th>\n",
       "      <th>Lon</th>\n",
       "      <th>Rpt_Dist_No</th>\n",
       "      <th>Crm_Cd_Desc</th>\n",
       "      <th>Vict_Sex_F</th>\n",
       "      <th>Vict_Sex_M</th>\n",
       "      <th>Vict_Sex_X</th>\n",
       "      <th>Area_Name_77th Street</th>\n",
       "      <th>Area_Name_Central</th>\n",
       "      <th>...</th>\n",
       "      <th>Vict_Descent_Japanese</th>\n",
       "      <th>Vict_Descent_Korean</th>\n",
       "      <th>Vict_Descent_Laotian</th>\n",
       "      <th>Vict_Descent_Other</th>\n",
       "      <th>Vict_Descent_Other Asian</th>\n",
       "      <th>Vict_Descent_P</th>\n",
       "      <th>Vict_Descent_Samoan</th>\n",
       "      <th>Vict_Descent_Unknown</th>\n",
       "      <th>Vict_Descent_Vietnamese</th>\n",
       "      <th>Vict_Descent_White</th>\n",
       "    </tr>\n",
       "  </thead>\n",
       "  <tbody>\n",
       "    <tr>\n",
       "      <th>1</th>\n",
       "      <td>47</td>\n",
       "      <td>34.0444</td>\n",
       "      <td>-118.2628</td>\n",
       "      <td>182</td>\n",
       "      <td>BURGLARY FROM VEHICLE</td>\n",
       "      <td>0</td>\n",
       "      <td>1</td>\n",
       "      <td>0</td>\n",
       "      <td>0</td>\n",
       "      <td>1</td>\n",
       "      <td>...</td>\n",
       "      <td>0</td>\n",
       "      <td>0</td>\n",
       "      <td>0</td>\n",
       "      <td>1</td>\n",
       "      <td>0</td>\n",
       "      <td>0</td>\n",
       "      <td>0</td>\n",
       "      <td>0</td>\n",
       "      <td>0</td>\n",
       "      <td>0</td>\n",
       "    </tr>\n",
       "    <tr>\n",
       "      <th>2</th>\n",
       "      <td>19</td>\n",
       "      <td>34.0210</td>\n",
       "      <td>-118.3002</td>\n",
       "      <td>356</td>\n",
       "      <td>BIKE - STOLEN</td>\n",
       "      <td>0</td>\n",
       "      <td>0</td>\n",
       "      <td>1</td>\n",
       "      <td>0</td>\n",
       "      <td>0</td>\n",
       "      <td>...</td>\n",
       "      <td>0</td>\n",
       "      <td>0</td>\n",
       "      <td>0</td>\n",
       "      <td>0</td>\n",
       "      <td>0</td>\n",
       "      <td>0</td>\n",
       "      <td>0</td>\n",
       "      <td>1</td>\n",
       "      <td>0</td>\n",
       "      <td>0</td>\n",
       "    </tr>\n",
       "  </tbody>\n",
       "</table>\n",
       "<p>2 rows × 48 columns</p>\n",
       "</div>"
      ],
      "text/plain": [
       "   Vict_Age      Lat       Lon  Rpt_Dist_No            Crm_Cd_Desc  \\\n",
       "1        47  34.0444 -118.2628          182  BURGLARY FROM VEHICLE   \n",
       "2        19  34.0210 -118.3002          356          BIKE - STOLEN   \n",
       "\n",
       "   Vict_Sex_F  Vict_Sex_M  Vict_Sex_X  Area_Name_77th Street  \\\n",
       "1           0           1           0                      0   \n",
       "2           0           0           1                      0   \n",
       "\n",
       "   Area_Name_Central  ...  Vict_Descent_Japanese  Vict_Descent_Korean  \\\n",
       "1                  1  ...                      0                    0   \n",
       "2                  0  ...                      0                    0   \n",
       "\n",
       "   Vict_Descent_Laotian  Vict_Descent_Other  Vict_Descent_Other Asian  \\\n",
       "1                     0                   1                         0   \n",
       "2                     0                   0                         0   \n",
       "\n",
       "   Vict_Descent_P  Vict_Descent_Samoan  Vict_Descent_Unknown  \\\n",
       "1               0                    0                     0   \n",
       "2               0                    0                     1   \n",
       "\n",
       "   Vict_Descent_Vietnamese  Vict_Descent_White  \n",
       "1                        0                   0  \n",
       "2                        0                   0  \n",
       "\n",
       "[2 rows x 48 columns]"
      ]
     },
     "execution_count": 301,
     "metadata": {},
     "output_type": "execute_result"
    }
   ],
   "source": [
    "\n",
    "# Convert 'Vict_Sex' and 'Area_Name' to dummy variables\n",
    "dummies = pd.get_dummies(la_crime_df[['Vict_Sex', 'Area_Name',\"Vict_Descent\"]])\n",
    "dummies =dummies.astype(int)\n",
    "\n",
    "# Concatenate the dummy DataFrame with the original DataFrame (optional)\n",
    "# This step assumes you want to keep the rest of your data alongside the new dummy variables\n",
    "la_crime_df = pd.concat([la_crime_df, dummies], axis=1)\n",
    "\n",
    "# Optionally, you might want to drop the original columns if they are no longer needed\n",
    "la_crime_df.drop(['Vict_Sex', 'Area_Name',\"Vict_Descent\"], axis=1, inplace=True)\n",
    "\n",
    "# Display the DataFrame to verify changes\n",
    "la_crime_df.head(2)\n"
   ]
  },
  {
   "cell_type": "code",
   "execution_count": 302,
   "id": "83769748",
   "metadata": {},
   "outputs": [],
   "source": [
    "\n",
    "#creating x and y variables\n",
    "x=la_crime_df.drop(\"Crm_Cd_Desc\", axis = 1)\n",
    "y=la_crime_df[\"Crm_Cd_Desc\"]"
   ]
  },
  {
   "cell_type": "code",
   "execution_count": 303,
   "id": "81f8e059",
   "metadata": {},
   "outputs": [
    {
     "data": {
      "text/plain": [
       "(691276, 47)"
      ]
     },
     "execution_count": 303,
     "metadata": {},
     "output_type": "execute_result"
    }
   ],
   "source": [
    "x.shape # its a dataframe"
   ]
  },
  {
   "cell_type": "code",
   "execution_count": 304,
   "id": "33efd0b1",
   "metadata": {},
   "outputs": [
    {
     "data": {
      "text/plain": [
       "(691276,)"
      ]
     },
     "execution_count": 304,
     "metadata": {},
     "output_type": "execute_result"
    }
   ],
   "source": [
    "y.shape # series "
   ]
  },
  {
   "cell_type": "code",
   "execution_count": 191,
   "id": "78da30c5",
   "metadata": {},
   "outputs": [
    {
     "data": {
      "text/plain": [
       "1                                   BURGLARY FROM VEHICLE\n",
       "2                                           BIKE - STOLEN\n",
       "3                SHOPLIFTING-GRAND THEFT ($950.01 & OVER)\n",
       "4                                       THEFT OF IDENTITY\n",
       "5                                       THEFT OF IDENTITY\n",
       "                               ...                       \n",
       "925714                                  THEFT OF IDENTITY\n",
       "925715                                        TRESPASSING\n",
       "925716     ASSAULT WITH DEADLY WEAPON, AGGRAVATED ASSAULT\n",
       "925717    THEFT FROM MOTOR VEHICLE - PETTY ($950 & UNDER)\n",
       "925718                           BATTERY - SIMPLE ASSAULT\n",
       "Name: Crm_Cd_Desc, Length: 691277, dtype: object"
      ]
     },
     "execution_count": 191,
     "metadata": {},
     "output_type": "execute_result"
    }
   ],
   "source": [
    "y"
   ]
  },
  {
   "cell_type": "code",
   "execution_count": 305,
   "id": "688632fb",
   "metadata": {},
   "outputs": [
    {
     "data": {
      "text/html": [
       "<div>\n",
       "<style scoped>\n",
       "    .dataframe tbody tr th:only-of-type {\n",
       "        vertical-align: middle;\n",
       "    }\n",
       "\n",
       "    .dataframe tbody tr th {\n",
       "        vertical-align: top;\n",
       "    }\n",
       "\n",
       "    .dataframe thead th {\n",
       "        text-align: right;\n",
       "    }\n",
       "</style>\n",
       "<table border=\"1\" class=\"dataframe\">\n",
       "  <thead>\n",
       "    <tr style=\"text-align: right;\">\n",
       "      <th></th>\n",
       "      <th>Vict_Age</th>\n",
       "      <th>Lat</th>\n",
       "      <th>Lon</th>\n",
       "      <th>Rpt_Dist_No</th>\n",
       "      <th>Vict_Sex_F</th>\n",
       "      <th>Vict_Sex_M</th>\n",
       "      <th>Vict_Sex_X</th>\n",
       "      <th>Area_Name_77th Street</th>\n",
       "      <th>Area_Name_Central</th>\n",
       "      <th>Area_Name_Devonshire</th>\n",
       "      <th>...</th>\n",
       "      <th>Vict_Descent_Japanese</th>\n",
       "      <th>Vict_Descent_Korean</th>\n",
       "      <th>Vict_Descent_Laotian</th>\n",
       "      <th>Vict_Descent_Other</th>\n",
       "      <th>Vict_Descent_Other Asian</th>\n",
       "      <th>Vict_Descent_P</th>\n",
       "      <th>Vict_Descent_Samoan</th>\n",
       "      <th>Vict_Descent_Unknown</th>\n",
       "      <th>Vict_Descent_Vietnamese</th>\n",
       "      <th>Vict_Descent_White</th>\n",
       "    </tr>\n",
       "  </thead>\n",
       "  <tbody>\n",
       "    <tr>\n",
       "      <th>1</th>\n",
       "      <td>47</td>\n",
       "      <td>34.0444</td>\n",
       "      <td>-118.2628</td>\n",
       "      <td>182</td>\n",
       "      <td>0</td>\n",
       "      <td>1</td>\n",
       "      <td>0</td>\n",
       "      <td>0</td>\n",
       "      <td>1</td>\n",
       "      <td>0</td>\n",
       "      <td>...</td>\n",
       "      <td>0</td>\n",
       "      <td>0</td>\n",
       "      <td>0</td>\n",
       "      <td>1</td>\n",
       "      <td>0</td>\n",
       "      <td>0</td>\n",
       "      <td>0</td>\n",
       "      <td>0</td>\n",
       "      <td>0</td>\n",
       "      <td>0</td>\n",
       "    </tr>\n",
       "    <tr>\n",
       "      <th>2</th>\n",
       "      <td>19</td>\n",
       "      <td>34.0210</td>\n",
       "      <td>-118.3002</td>\n",
       "      <td>356</td>\n",
       "      <td>0</td>\n",
       "      <td>0</td>\n",
       "      <td>1</td>\n",
       "      <td>0</td>\n",
       "      <td>0</td>\n",
       "      <td>0</td>\n",
       "      <td>...</td>\n",
       "      <td>0</td>\n",
       "      <td>0</td>\n",
       "      <td>0</td>\n",
       "      <td>0</td>\n",
       "      <td>0</td>\n",
       "      <td>0</td>\n",
       "      <td>0</td>\n",
       "      <td>1</td>\n",
       "      <td>0</td>\n",
       "      <td>0</td>\n",
       "    </tr>\n",
       "    <tr>\n",
       "      <th>3</th>\n",
       "      <td>19</td>\n",
       "      <td>34.1576</td>\n",
       "      <td>-118.4387</td>\n",
       "      <td>964</td>\n",
       "      <td>0</td>\n",
       "      <td>1</td>\n",
       "      <td>0</td>\n",
       "      <td>0</td>\n",
       "      <td>0</td>\n",
       "      <td>0</td>\n",
       "      <td>...</td>\n",
       "      <td>0</td>\n",
       "      <td>0</td>\n",
       "      <td>0</td>\n",
       "      <td>1</td>\n",
       "      <td>0</td>\n",
       "      <td>0</td>\n",
       "      <td>0</td>\n",
       "      <td>0</td>\n",
       "      <td>0</td>\n",
       "      <td>0</td>\n",
       "    </tr>\n",
       "    <tr>\n",
       "      <th>4</th>\n",
       "      <td>28</td>\n",
       "      <td>34.0944</td>\n",
       "      <td>-118.3277</td>\n",
       "      <td>666</td>\n",
       "      <td>0</td>\n",
       "      <td>1</td>\n",
       "      <td>0</td>\n",
       "      <td>0</td>\n",
       "      <td>0</td>\n",
       "      <td>0</td>\n",
       "      <td>...</td>\n",
       "      <td>0</td>\n",
       "      <td>0</td>\n",
       "      <td>0</td>\n",
       "      <td>0</td>\n",
       "      <td>0</td>\n",
       "      <td>0</td>\n",
       "      <td>0</td>\n",
       "      <td>0</td>\n",
       "      <td>0</td>\n",
       "      <td>0</td>\n",
       "    </tr>\n",
       "    <tr>\n",
       "      <th>5</th>\n",
       "      <td>41</td>\n",
       "      <td>33.9467</td>\n",
       "      <td>-118.2463</td>\n",
       "      <td>1826</td>\n",
       "      <td>0</td>\n",
       "      <td>1</td>\n",
       "      <td>0</td>\n",
       "      <td>0</td>\n",
       "      <td>0</td>\n",
       "      <td>0</td>\n",
       "      <td>...</td>\n",
       "      <td>0</td>\n",
       "      <td>0</td>\n",
       "      <td>0</td>\n",
       "      <td>0</td>\n",
       "      <td>0</td>\n",
       "      <td>0</td>\n",
       "      <td>0</td>\n",
       "      <td>0</td>\n",
       "      <td>0</td>\n",
       "      <td>0</td>\n",
       "    </tr>\n",
       "    <tr>\n",
       "      <th>...</th>\n",
       "      <td>...</td>\n",
       "      <td>...</td>\n",
       "      <td>...</td>\n",
       "      <td>...</td>\n",
       "      <td>...</td>\n",
       "      <td>...</td>\n",
       "      <td>...</td>\n",
       "      <td>...</td>\n",
       "      <td>...</td>\n",
       "      <td>...</td>\n",
       "      <td>...</td>\n",
       "      <td>...</td>\n",
       "      <td>...</td>\n",
       "      <td>...</td>\n",
       "      <td>...</td>\n",
       "      <td>...</td>\n",
       "      <td>...</td>\n",
       "      <td>...</td>\n",
       "      <td>...</td>\n",
       "      <td>...</td>\n",
       "      <td>...</td>\n",
       "    </tr>\n",
       "    <tr>\n",
       "      <th>925714</th>\n",
       "      <td>62</td>\n",
       "      <td>34.2707</td>\n",
       "      <td>-118.2917</td>\n",
       "      <td>1619</td>\n",
       "      <td>1</td>\n",
       "      <td>0</td>\n",
       "      <td>0</td>\n",
       "      <td>0</td>\n",
       "      <td>0</td>\n",
       "      <td>0</td>\n",
       "      <td>...</td>\n",
       "      <td>0</td>\n",
       "      <td>0</td>\n",
       "      <td>0</td>\n",
       "      <td>0</td>\n",
       "      <td>0</td>\n",
       "      <td>0</td>\n",
       "      <td>0</td>\n",
       "      <td>0</td>\n",
       "      <td>0</td>\n",
       "      <td>1</td>\n",
       "    </tr>\n",
       "    <tr>\n",
       "      <th>925715</th>\n",
       "      <td>79</td>\n",
       "      <td>34.2278</td>\n",
       "      <td>-118.4051</td>\n",
       "      <td>1681</td>\n",
       "      <td>0</td>\n",
       "      <td>1</td>\n",
       "      <td>0</td>\n",
       "      <td>0</td>\n",
       "      <td>0</td>\n",
       "      <td>0</td>\n",
       "      <td>...</td>\n",
       "      <td>0</td>\n",
       "      <td>0</td>\n",
       "      <td>0</td>\n",
       "      <td>1</td>\n",
       "      <td>0</td>\n",
       "      <td>0</td>\n",
       "      <td>0</td>\n",
       "      <td>0</td>\n",
       "      <td>0</td>\n",
       "      <td>0</td>\n",
       "    </tr>\n",
       "    <tr>\n",
       "      <th>925716</th>\n",
       "      <td>36</td>\n",
       "      <td>34.2271</td>\n",
       "      <td>-118.3878</td>\n",
       "      <td>1673</td>\n",
       "      <td>0</td>\n",
       "      <td>1</td>\n",
       "      <td>0</td>\n",
       "      <td>0</td>\n",
       "      <td>0</td>\n",
       "      <td>0</td>\n",
       "      <td>...</td>\n",
       "      <td>0</td>\n",
       "      <td>0</td>\n",
       "      <td>0</td>\n",
       "      <td>0</td>\n",
       "      <td>0</td>\n",
       "      <td>0</td>\n",
       "      <td>0</td>\n",
       "      <td>0</td>\n",
       "      <td>0</td>\n",
       "      <td>0</td>\n",
       "    </tr>\n",
       "    <tr>\n",
       "      <th>925717</th>\n",
       "      <td>44</td>\n",
       "      <td>34.2260</td>\n",
       "      <td>-118.6214</td>\n",
       "      <td>2103</td>\n",
       "      <td>1</td>\n",
       "      <td>0</td>\n",
       "      <td>0</td>\n",
       "      <td>0</td>\n",
       "      <td>0</td>\n",
       "      <td>0</td>\n",
       "      <td>...</td>\n",
       "      <td>0</td>\n",
       "      <td>0</td>\n",
       "      <td>0</td>\n",
       "      <td>1</td>\n",
       "      <td>0</td>\n",
       "      <td>0</td>\n",
       "      <td>0</td>\n",
       "      <td>0</td>\n",
       "      <td>0</td>\n",
       "      <td>0</td>\n",
       "    </tr>\n",
       "    <tr>\n",
       "      <th>925718</th>\n",
       "      <td>80</td>\n",
       "      <td>34.0690</td>\n",
       "      <td>-118.3054</td>\n",
       "      <td>2013</td>\n",
       "      <td>1</td>\n",
       "      <td>0</td>\n",
       "      <td>0</td>\n",
       "      <td>0</td>\n",
       "      <td>0</td>\n",
       "      <td>0</td>\n",
       "      <td>...</td>\n",
       "      <td>0</td>\n",
       "      <td>0</td>\n",
       "      <td>0</td>\n",
       "      <td>1</td>\n",
       "      <td>0</td>\n",
       "      <td>0</td>\n",
       "      <td>0</td>\n",
       "      <td>0</td>\n",
       "      <td>0</td>\n",
       "      <td>0</td>\n",
       "    </tr>\n",
       "  </tbody>\n",
       "</table>\n",
       "<p>691276 rows × 47 columns</p>\n",
       "</div>"
      ],
      "text/plain": [
       "        Vict_Age      Lat       Lon  Rpt_Dist_No  Vict_Sex_F  Vict_Sex_M  \\\n",
       "1             47  34.0444 -118.2628          182           0           1   \n",
       "2             19  34.0210 -118.3002          356           0           0   \n",
       "3             19  34.1576 -118.4387          964           0           1   \n",
       "4             28  34.0944 -118.3277          666           0           1   \n",
       "5             41  33.9467 -118.2463         1826           0           1   \n",
       "...          ...      ...       ...          ...         ...         ...   \n",
       "925714        62  34.2707 -118.2917         1619           1           0   \n",
       "925715        79  34.2278 -118.4051         1681           0           1   \n",
       "925716        36  34.2271 -118.3878         1673           0           1   \n",
       "925717        44  34.2260 -118.6214         2103           1           0   \n",
       "925718        80  34.0690 -118.3054         2013           1           0   \n",
       "\n",
       "        Vict_Sex_X  Area_Name_77th Street  Area_Name_Central  \\\n",
       "1                0                      0                  1   \n",
       "2                1                      0                  0   \n",
       "3                0                      0                  0   \n",
       "4                0                      0                  0   \n",
       "5                0                      0                  0   \n",
       "...            ...                    ...                ...   \n",
       "925714           0                      0                  0   \n",
       "925715           0                      0                  0   \n",
       "925716           0                      0                  0   \n",
       "925717           0                      0                  0   \n",
       "925718           0                      0                  0   \n",
       "\n",
       "        Area_Name_Devonshire  ...  Vict_Descent_Japanese  Vict_Descent_Korean  \\\n",
       "1                          0  ...                      0                    0   \n",
       "2                          0  ...                      0                    0   \n",
       "3                          0  ...                      0                    0   \n",
       "4                          0  ...                      0                    0   \n",
       "5                          0  ...                      0                    0   \n",
       "...                      ...  ...                    ...                  ...   \n",
       "925714                     0  ...                      0                    0   \n",
       "925715                     0  ...                      0                    0   \n",
       "925716                     0  ...                      0                    0   \n",
       "925717                     0  ...                      0                    0   \n",
       "925718                     0  ...                      0                    0   \n",
       "\n",
       "        Vict_Descent_Laotian  Vict_Descent_Other  Vict_Descent_Other Asian  \\\n",
       "1                          0                   1                         0   \n",
       "2                          0                   0                         0   \n",
       "3                          0                   1                         0   \n",
       "4                          0                   0                         0   \n",
       "5                          0                   0                         0   \n",
       "...                      ...                 ...                       ...   \n",
       "925714                     0                   0                         0   \n",
       "925715                     0                   1                         0   \n",
       "925716                     0                   0                         0   \n",
       "925717                     0                   1                         0   \n",
       "925718                     0                   1                         0   \n",
       "\n",
       "        Vict_Descent_P  Vict_Descent_Samoan  Vict_Descent_Unknown  \\\n",
       "1                    0                    0                     0   \n",
       "2                    0                    0                     1   \n",
       "3                    0                    0                     0   \n",
       "4                    0                    0                     0   \n",
       "5                    0                    0                     0   \n",
       "...                ...                  ...                   ...   \n",
       "925714               0                    0                     0   \n",
       "925715               0                    0                     0   \n",
       "925716               0                    0                     0   \n",
       "925717               0                    0                     0   \n",
       "925718               0                    0                     0   \n",
       "\n",
       "        Vict_Descent_Vietnamese  Vict_Descent_White  \n",
       "1                             0                   0  \n",
       "2                             0                   0  \n",
       "3                             0                   0  \n",
       "4                             0                   0  \n",
       "5                             0                   0  \n",
       "...                         ...                 ...  \n",
       "925714                        0                   1  \n",
       "925715                        0                   0  \n",
       "925716                        0                   0  \n",
       "925717                        0                   0  \n",
       "925718                        0                   0  \n",
       "\n",
       "[691276 rows x 47 columns]"
      ]
     },
     "execution_count": 305,
     "metadata": {},
     "output_type": "execute_result"
    }
   ],
   "source": [
    "x"
   ]
  },
  {
   "cell_type": "code",
   "execution_count": 306,
   "id": "a42cb682",
   "metadata": {},
   "outputs": [],
   "source": [
    "#create train and test dataset\n",
    "from sklearn.model_selection import train_test_split\n",
    "\n",
    "# Split the data into training and testing sets\n",
    "x_train, x_test, y_train, y_test = train_test_split(x, y, test_size=0.25, random_state=0) # \n",
    "\n",
    "# You would then train your classifier on X_train and y_train\n"
   ]
  },
  {
   "cell_type": "code",
   "execution_count": 307,
   "id": "6f58a82b",
   "metadata": {},
   "outputs": [],
   "source": [
    "from sklearn.tree import DecisionTreeClassifier # DecisionTree classifier"
   ]
  },
  {
   "cell_type": "code",
   "execution_count": 308,
   "id": "f9248fdc",
   "metadata": {},
   "outputs": [],
   "source": [
    "#entropy measures the diversity or impurity of within the data , our aim is to get low entropy value\n",
    "#gini index or coefficient \n",
    "#information Gain we can use this for both entropy or gini methods"
   ]
  },
  {
   "cell_type": "code",
   "execution_count": 309,
   "id": "44115cff",
   "metadata": {},
   "outputs": [],
   "source": [
    "# IN DecsionTree we are always considering\n",
    "#min_sample_split\n",
    "#min_sample_leaf\n",
    "#max_leaf_nodes\n",
    "#splitter\n",
    "#max_features\n",
    "#presort\n",
    "#criterion\n",
    "#min_impurity_decrease"
   ]
  },
  {
   "cell_type": "code",
   "execution_count": 310,
   "id": "0034d277",
   "metadata": {},
   "outputs": [],
   "source": [
    "#Train the model and create the object dtc decsion tree classifier\n",
    "dtc = DecisionTreeClassifier(random_state = 0)"
   ]
  },
  {
   "cell_type": "code",
   "execution_count": 311,
   "id": "789666db",
   "metadata": {},
   "outputs": [
    {
     "data": {
      "text/html": [
       "<style>#sk-container-id-4 {color: black;}#sk-container-id-4 pre{padding: 0;}#sk-container-id-4 div.sk-toggleable {background-color: white;}#sk-container-id-4 label.sk-toggleable__label {cursor: pointer;display: block;width: 100%;margin-bottom: 0;padding: 0.3em;box-sizing: border-box;text-align: center;}#sk-container-id-4 label.sk-toggleable__label-arrow:before {content: \"▸\";float: left;margin-right: 0.25em;color: #696969;}#sk-container-id-4 label.sk-toggleable__label-arrow:hover:before {color: black;}#sk-container-id-4 div.sk-estimator:hover label.sk-toggleable__label-arrow:before {color: black;}#sk-container-id-4 div.sk-toggleable__content {max-height: 0;max-width: 0;overflow: hidden;text-align: left;background-color: #f0f8ff;}#sk-container-id-4 div.sk-toggleable__content pre {margin: 0.2em;color: black;border-radius: 0.25em;background-color: #f0f8ff;}#sk-container-id-4 input.sk-toggleable__control:checked~div.sk-toggleable__content {max-height: 200px;max-width: 100%;overflow: auto;}#sk-container-id-4 input.sk-toggleable__control:checked~label.sk-toggleable__label-arrow:before {content: \"▾\";}#sk-container-id-4 div.sk-estimator input.sk-toggleable__control:checked~label.sk-toggleable__label {background-color: #d4ebff;}#sk-container-id-4 div.sk-label input.sk-toggleable__control:checked~label.sk-toggleable__label {background-color: #d4ebff;}#sk-container-id-4 input.sk-hidden--visually {border: 0;clip: rect(1px 1px 1px 1px);clip: rect(1px, 1px, 1px, 1px);height: 1px;margin: -1px;overflow: hidden;padding: 0;position: absolute;width: 1px;}#sk-container-id-4 div.sk-estimator {font-family: monospace;background-color: #f0f8ff;border: 1px dotted black;border-radius: 0.25em;box-sizing: border-box;margin-bottom: 0.5em;}#sk-container-id-4 div.sk-estimator:hover {background-color: #d4ebff;}#sk-container-id-4 div.sk-parallel-item::after {content: \"\";width: 100%;border-bottom: 1px solid gray;flex-grow: 1;}#sk-container-id-4 div.sk-label:hover label.sk-toggleable__label {background-color: #d4ebff;}#sk-container-id-4 div.sk-serial::before {content: \"\";position: absolute;border-left: 1px solid gray;box-sizing: border-box;top: 0;bottom: 0;left: 50%;z-index: 0;}#sk-container-id-4 div.sk-serial {display: flex;flex-direction: column;align-items: center;background-color: white;padding-right: 0.2em;padding-left: 0.2em;position: relative;}#sk-container-id-4 div.sk-item {position: relative;z-index: 1;}#sk-container-id-4 div.sk-parallel {display: flex;align-items: stretch;justify-content: center;background-color: white;position: relative;}#sk-container-id-4 div.sk-item::before, #sk-container-id-4 div.sk-parallel-item::before {content: \"\";position: absolute;border-left: 1px solid gray;box-sizing: border-box;top: 0;bottom: 0;left: 50%;z-index: -1;}#sk-container-id-4 div.sk-parallel-item {display: flex;flex-direction: column;z-index: 1;position: relative;background-color: white;}#sk-container-id-4 div.sk-parallel-item:first-child::after {align-self: flex-end;width: 50%;}#sk-container-id-4 div.sk-parallel-item:last-child::after {align-self: flex-start;width: 50%;}#sk-container-id-4 div.sk-parallel-item:only-child::after {width: 0;}#sk-container-id-4 div.sk-dashed-wrapped {border: 1px dashed gray;margin: 0 0.4em 0.5em 0.4em;box-sizing: border-box;padding-bottom: 0.4em;background-color: white;}#sk-container-id-4 div.sk-label label {font-family: monospace;font-weight: bold;display: inline-block;line-height: 1.2em;}#sk-container-id-4 div.sk-label-container {text-align: center;}#sk-container-id-4 div.sk-container {/* jupyter's `normalize.less` sets `[hidden] { display: none; }` but bootstrap.min.css set `[hidden] { display: none !important; }` so we also need the `!important` here to be able to override the default hidden behavior on the sphinx rendered scikit-learn.org. See: https://github.com/scikit-learn/scikit-learn/issues/21755 */display: inline-block !important;position: relative;}#sk-container-id-4 div.sk-text-repr-fallback {display: none;}</style><div id=\"sk-container-id-4\" class=\"sk-top-container\"><div class=\"sk-text-repr-fallback\"><pre>DecisionTreeClassifier(random_state=0)</pre><b>In a Jupyter environment, please rerun this cell to show the HTML representation or trust the notebook. <br />On GitHub, the HTML representation is unable to render, please try loading this page with nbviewer.org.</b></div><div class=\"sk-container\" hidden><div class=\"sk-item\"><div class=\"sk-estimator sk-toggleable\"><input class=\"sk-toggleable__control sk-hidden--visually\" id=\"sk-estimator-id-4\" type=\"checkbox\" checked><label for=\"sk-estimator-id-4\" class=\"sk-toggleable__label sk-toggleable__label-arrow\">DecisionTreeClassifier</label><div class=\"sk-toggleable__content\"><pre>DecisionTreeClassifier(random_state=0)</pre></div></div></div></div></div>"
      ],
      "text/plain": [
       "DecisionTreeClassifier(random_state=0)"
      ]
     },
     "execution_count": 311,
     "metadata": {},
     "output_type": "execute_result"
    }
   ],
   "source": [
    "dtc.fit(x_train,y_train)"
   ]
  },
  {
   "cell_type": "code",
   "execution_count": 312,
   "id": "0468404c",
   "metadata": {},
   "outputs": [
    {
     "data": {
      "text/plain": [
       "array(['THEFT FROM MOTOR VEHICLE - PETTY ($950 & UNDER)',\n",
       "       'ASSAULT WITH DEADLY WEAPON, AGGRAVATED ASSAULT',\n",
       "       'CHILD ANNOYING (17YRS & UNDER)', ...,\n",
       "       'VANDALISM - MISDEAMEANOR ($399 OR UNDER)',\n",
       "       'BATTERY - SIMPLE ASSAULT', 'BRANDISH WEAPON'], dtype=object)"
      ]
     },
     "execution_count": 312,
     "metadata": {},
     "output_type": "execute_result"
    }
   ],
   "source": [
    "y_predict = dtc.predict(x_test)\n",
    "y_predict"
   ]
  },
  {
   "cell_type": "code",
   "execution_count": 313,
   "id": "e9092691",
   "metadata": {},
   "outputs": [],
   "source": [
    "#Evaluating the model\n",
    "from sklearn.metrics import confusion_matrix\n",
    "cm = confusion_matrix(y_test,y_predict)\n",
    "score = dtc.score(x_test,y_test)"
   ]
  },
  {
   "cell_type": "code",
   "execution_count": 314,
   "id": "9f309b0f",
   "metadata": {},
   "outputs": [
    {
     "data": {
      "text/plain": [
       "array([[  11,    0,   38, ...,    1,    0,    0],\n",
       "       [   0,   12,    6, ...,    0,    0,    0],\n",
       "       [  31,    7, 2159, ...,   95,    5,    0],\n",
       "       ...,\n",
       "       [   7,    0,  107, ...,  715,    9,    0],\n",
       "       [   0,    0,    5, ...,   29,    8,    0],\n",
       "       [   0,    0,    0, ...,    0,    0,    0]], dtype=int64)"
      ]
     },
     "execution_count": 314,
     "metadata": {},
     "output_type": "execute_result"
    }
   ],
   "source": [
    "cm"
   ]
  },
  {
   "cell_type": "code",
   "execution_count": 315,
   "id": "c199d2ad",
   "metadata": {},
   "outputs": [
    {
     "data": {
      "text/plain": [
       "0.133874168928185"
      ]
     },
     "execution_count": 315,
     "metadata": {},
     "output_type": "execute_result"
    }
   ],
   "source": [
    "score"
   ]
  },
  {
   "cell_type": "code",
   "execution_count": 316,
   "id": "8d8ba0bb",
   "metadata": {},
   "outputs": [
    {
     "name": "stderr",
     "output_type": "stream",
     "text": [
      "C:\\Users\\Michael Haile\\anaconda3\\Lib\\site-packages\\sklearn\\metrics\\_classification.py:1469: UndefinedMetricWarning: Precision and F-score are ill-defined and being set to 0.0 in labels with no predicted samples. Use `zero_division` parameter to control this behavior.\n",
      "  _warn_prf(average, modifier, msg_start, len(result))\n",
      "C:\\Users\\Michael Haile\\anaconda3\\Lib\\site-packages\\sklearn\\metrics\\_classification.py:1469: UndefinedMetricWarning: Recall and F-score are ill-defined and being set to 0.0 in labels with no true samples. Use `zero_division` parameter to control this behavior.\n",
      "  _warn_prf(average, modifier, msg_start, len(result))\n",
      "C:\\Users\\Michael Haile\\anaconda3\\Lib\\site-packages\\sklearn\\metrics\\_classification.py:1469: UndefinedMetricWarning: Precision and F-score are ill-defined and being set to 0.0 in labels with no predicted samples. Use `zero_division` parameter to control this behavior.\n",
      "  _warn_prf(average, modifier, msg_start, len(result))\n",
      "C:\\Users\\Michael Haile\\anaconda3\\Lib\\site-packages\\sklearn\\metrics\\_classification.py:1469: UndefinedMetricWarning: Recall and F-score are ill-defined and being set to 0.0 in labels with no true samples. Use `zero_division` parameter to control this behavior.\n",
      "  _warn_prf(average, modifier, msg_start, len(result))\n"
     ]
    },
    {
     "name": "stdout",
     "output_type": "stream",
     "text": [
      "                                                          precision    recall  f1-score   support\n",
      "\n",
      "                                                   ARSON       0.03      0.04      0.03       341\n",
      "            ASSAULT WITH DEADLY WEAPON ON POLICE OFFICER       0.17      0.25      0.20        60\n",
      "          ASSAULT WITH DEADLY WEAPON, AGGRAVATED ASSAULT       0.15      0.18      0.16     12713\n",
      "                                       ATTEMPTED ROBBERY       0.01      0.01      0.01      1018\n",
      "                                BATTERY - SIMPLE ASSAULT       0.17      0.19      0.18     18141\n",
      "                                BATTERY ON A FIREFIGHTER       0.00      0.00      0.00        44\n",
      "                                 BATTERY POLICE (SIMPLE)       0.13      0.15      0.14       171\n",
      "                             BATTERY WITH SEXUAL CONTACT       0.04      0.04      0.04       994\n",
      "BEASTIALITY, CRIME AGAINST NATURE SEXUAL ASSLT WITH ANIM       0.00      0.00      0.00         1\n",
      "                                                  BIGAMY       0.00      0.00      0.00         0\n",
      "                                 BIKE - ATTEMPTED STOLEN       0.00      0.00      0.00         1\n",
      "                                           BIKE - STOLEN       0.09      0.11      0.10      1762\n",
      "                          BLOCKING DOOR INDUCTION CENTER       0.00      0.00      0.00         1\n",
      "                                              BOMB SCARE       0.03      0.03      0.03        33\n",
      "                                         BRANDISH WEAPON       0.04      0.05      0.05      3491\n",
      "                                                 BRIBERY       0.00      0.00      0.00         1\n",
      "                                          BUNCO, ATTEMPT       0.00      0.00      0.00        81\n",
      "                                      BUNCO, GRAND THEFT       0.03      0.03      0.03      1398\n",
      "                                      BUNCO, PETTY THEFT       0.00      0.00      0.00       471\n",
      "                                                BURGLARY       0.17      0.18      0.18      9830\n",
      "                                   BURGLARY FROM VEHICLE       0.19      0.20      0.19     13865\n",
      "                        BURGLARY FROM VEHICLE, ATTEMPTED       0.01      0.01      0.01       164\n",
      "                                     BURGLARY, ATTEMPTED       0.02      0.02      0.02       683\n",
      "                                       CHILD ABANDONMENT       0.00      0.00      0.00         4\n",
      "             CHILD ABUSE (PHYSICAL) - AGGRAVATED ASSAULT       0.04      0.06      0.05       119\n",
      "                 CHILD ABUSE (PHYSICAL) - SIMPLE ASSAULT       0.23      0.21      0.22       875\n",
      "                          CHILD ANNOYING (17YRS & UNDER)       0.13      0.12      0.13       247\n",
      "                          CHILD NEGLECT (SEE 300 W.I.C.)       0.16      0.15      0.16       235\n",
      "                                       CHILD PORNOGRAPHY       0.03      0.03      0.03        59\n",
      "                                          CHILD STEALING       0.05      0.05      0.05        92\n",
      "                                              CONSPIRACY       0.00      0.00      0.00         3\n",
      "                                       CONTEMPT OF COURT       0.18      0.24      0.21       672\n",
      "                                            CONTRIBUTING       0.00      0.00      0.00         9\n",
      "                                             COUNTERFEIT       0.00      0.00      0.00        17\n",
      "                   CREDIT CARDS, FRAUD USE ($950 & UNDER       0.04      0.07      0.05        14\n",
      "                CREDIT CARDS, FRAUD USE ($950.01 & OVER)       0.00      0.00      0.00        11\n",
      "                                       CRIMINAL HOMICIDE       0.01      0.01      0.01       367\n",
      "                  CRIMINAL THREATS - NO WEAPON DISPLAYED       0.06      0.06      0.06      4625\n",
      "CRM AGNST CHLD (13 OR UNDER) (14-15 & SUSP 10 YRS OLDER)       0.18      0.18      0.18       408\n",
      "                                      CRUELTY TO ANIMALS       0.00      0.00      0.00        31\n",
      "    DEFRAUDING INNKEEPER/THEFT OF SERVICES, $950 & UNDER       0.00      0.00      0.00        16\n",
      "    DEFRAUDING INNKEEPER/THEFT OF SERVICES, OVER $950.01       0.00      0.00      0.00         6\n",
      "                          DISCHARGE FIREARMS/SHOTS FIRED       0.02      0.02      0.02       153\n",
      "                        DISHONEST EMPLOYEE - GRAND THEFT       0.00      0.00      0.00         5\n",
      "                        DISHONEST EMPLOYEE - PETTY THEFT       0.00      0.00      0.00         1\n",
      "                                          DISRUPT SCHOOL       0.00      0.00      0.00         1\n",
      "                                    DISTURBING THE PEACE       0.07      0.08      0.07       339\n",
      "                        DOCUMENT FORGERY / STOLEN FELONY       0.02      0.02      0.02       579\n",
      "                       DOCUMENT WORTHLESS ($200 & UNDER)       0.00      0.00      0.00         3\n",
      "                     DOCUMENT WORTHLESS ($200.01 & OVER)       0.00      0.00      0.00         8\n",
      "                    DRIVING WITHOUT OWNER CONSENT (DWOC)       0.07      0.08      0.08        12\n",
      "                                       DRUGS, TO A MINOR       0.00      0.00      0.00         0\n",
      "                                              DRUNK ROLL       0.00      0.00      0.00         7\n",
      "              EMBEZZLEMENT, GRAND THEFT ($950.01 & OVER)       0.25      0.27      0.26       158\n",
      "                EMBEZZLEMENT, PETTY THEFT ($950 & UNDER)       0.00      0.00      0.00         4\n",
      "                                               EXTORTION       0.01      0.01      0.01       442\n",
      "                                        FAILURE TO YIELD       0.12      0.11      0.12        98\n",
      "                                      FALSE IMPRISONMENT       0.00      0.00      0.00        87\n",
      "                                     FALSE POLICE REPORT       0.07      0.06      0.06        18\n",
      "      FIREARMS EMERGENCY PROTECTIVE ORDER (FIREARMS EPO)       0.00      0.00      0.00         1\n",
      "                FIREARMS RESTRAINING ORDER (FIREARMS RO)       0.00      0.00      0.00         0\n",
      "                               GRAND THEFT / AUTO REPAIR       0.00      0.00      0.00         0\n",
      "                           GRAND THEFT / INSURANCE FRAUD       0.00      0.00      0.00         2\n",
      "                 HUMAN TRAFFICKING - COMMERCIAL SEX ACTS       0.41      0.41      0.41       112\n",
      "               HUMAN TRAFFICKING - INVOLUNTARY SERVITUDE       0.07      0.03      0.04        31\n",
      "                                         ILLEGAL DUMPING       0.00      0.00      0.00         9\n",
      "            INCEST (SEXUAL ACTS BETWEEN BLOOD RELATIVES)       0.00      0.00      0.00         1\n",
      "                                       INDECENT EXPOSURE       0.03      0.04      0.03       277\n",
      "                   INTIMATE PARTNER - AGGRAVATED ASSAULT       0.05      0.06      0.05      3175\n",
      "                       INTIMATE PARTNER - SIMPLE ASSAULT       0.16      0.17      0.16     11318\n",
      "                                              KIDNAPPING       0.03      0.03      0.03       177\n",
      "                              KIDNAPPING - GRAND ATTEMPT       0.02      0.02      0.02        54\n",
      "                 LETTERS, LEWD  -  TELEPHONE CALLS, LEWD       0.05      0.05      0.05      1862\n",
      "                                            LEWD CONDUCT       0.01      0.01      0.01       172\n",
      "                         LEWD/LASCIVIOUS ACTS WITH CHILD       0.08      0.05      0.06        19\n",
      "                                    LYNCHING - ATTEMPTED       0.00      0.00      0.00         0\n",
      "                                 MANSLAUGHTER, NEGLIGENT       0.00      0.00      0.00         2\n",
      "                                         ORAL COPULATION       0.02      0.02      0.02       183\n",
      "                                           OTHER ASSAULT       0.02      0.02      0.02      1031\n",
      "                               OTHER MISCELLANEOUS CRIME       0.02      0.03      0.03      1008\n",
      "                                               PANDERING       0.25      0.10      0.14        10\n",
      "                                             PEEPING TOM       0.05      0.04      0.05        95\n",
      "                               PETTY THEFT - AUTO REPAIR       0.00      0.00      0.00         0\n",
      "                                              PICKPOCKET       0.21      0.24      0.22       675\n",
      "                                     PICKPOCKET, ATTEMPT       0.00      0.00      0.00         3\n",
      "                                                 PIMPING       0.00      0.00      0.00        34\n",
      "                                                 PROWLER       0.02      0.03      0.02        40\n",
      "                                         PURSE SNATCHING       0.00      0.00      0.00        25\n",
      "                               PURSE SNATCHING - ATTEMPT       0.00      0.00      0.00         4\n",
      "                                         RAPE, ATTEMPTED       0.00      0.00      0.00        66\n",
      "                                          RAPE, FORCIBLE       0.05      0.04      0.04       942\n",
      "                                        RECKLESS DRIVING       0.00      0.00      0.00        19\n",
      "REPLICA FIREARMS(SALE,DISPLAY,MANUFACTURE OR DISTRIBUTE)       0.00      0.00      0.00         2\n",
      "                                        RESISTING ARREST       0.14      0.12      0.13        56\n",
      "                                                 ROBBERY       0.08      0.08      0.08      6170\n",
      "               SEX OFFENDER REGISTRANT OUT OF COMPLIANCE       0.28      0.31      0.29        36\n",
      "SEX,UNLAWFUL(INC MUTUAL CONSENT, PENETRATION W/ FRGN OBJ       0.09      0.06      0.07       277\n",
      "                     SEXUAL PENETRATION W/FOREIGN OBJECT       0.04      0.04      0.04       312\n",
      "                                   SHOPLIFTING - ATTEMPT       0.33      0.05      0.09        19\n",
      "                SHOPLIFTING - PETTY THEFT ($950 & UNDER)       0.49      0.62      0.55      1891\n",
      "                SHOPLIFTING-GRAND THEFT ($950.01 & OVER)       0.19      0.14      0.16       405\n",
      "                       SHOTS FIRED AT INHABITED DWELLING       0.05      0.05      0.05       356\n",
      "        SHOTS FIRED AT MOVING VEHICLE, TRAIN OR AIRCRAFT       0.09      0.09      0.09        94\n",
      " SODOMY/SEXUAL CONTACT B/W PENIS OF ONE PERS TO ANUS OTH       0.02      0.02      0.02       118\n",
      "                                                STALKING       0.06      0.07      0.07       144\n",
      "                             TELEPHONE PROPERTY - DAMAGE       0.00      0.00      0.00         3\n",
      "                      THEFT FROM MOTOR VEHICLE - ATTEMPT       0.02      0.02      0.02       199\n",
      "     THEFT FROM MOTOR VEHICLE - GRAND ($950.01 AND OVER)       0.11      0.10      0.10      7911\n",
      "         THEFT FROM MOTOR VEHICLE - PETTY ($950 & UNDER)       0.04      0.03      0.03      3774\n",
      "                             THEFT FROM PERSON - ATTEMPT       0.00      0.00      0.00        23\n",
      "                                       THEFT OF IDENTITY       0.20      0.18      0.19     13947\n",
      "                                   THEFT PLAIN - ATTEMPT       0.00      0.00      0.00        63\n",
      "                      THEFT PLAIN - PETTY ($950 & UNDER)       0.12      0.11      0.11     10108\n",
      "                           THEFT, COIN MACHINE - ATTEMPT       0.00      0.00      0.00         1\n",
      "            THEFT, COIN MACHINE - GRAND ($950.01 & OVER)       0.00      0.00      0.00         3\n",
      "              THEFT, COIN MACHINE - PETTY ($950 & UNDER)       0.00      0.00      0.00         4\n",
      "                                           THEFT, PERSON       0.03      0.02      0.02      1055\n",
      "THEFT-GRAND ($950.01 & OVER)EXCPT,GUNS,FOWL,LIVESTK,PROD       0.08      0.07      0.08      6080\n",
      "                         THREATENING PHONE CALLS/LETTERS       0.01      0.01      0.01       107\n",
      "                       THROWING OBJECT AT MOVING VEHICLE       0.02      0.02      0.02       168\n",
      "                 TILL TAP - GRAND THEFT ($950.01 & OVER)       0.00      0.00      0.00         2\n",
      "                         TILL TAP - PETTY ($950 & UNDER)       0.00      0.00      0.00         2\n",
      "                                             TRESPASSING       0.08      0.07      0.07      2043\n",
      "                            UNAUTHORIZED COMPUTER ACCESS       0.00      0.00      0.00       124\n",
      " VANDALISM - FELONY ($400 & OVER, ALL CHURCH VANDALISMS)       0.10      0.08      0.09     10542\n",
      "                VANDALISM - MISDEAMEANOR ($399 OR UNDER)       0.06      0.05      0.06      4717\n",
      "                                VEHICLE - ATTEMPT STOLEN       0.02      0.02      0.02       816\n",
      "                                        VEHICLE - STOLEN       0.00      0.00      0.00        71\n",
      "VEHICLE, STOLEN - OTHER (MOTORIZED SCOOTERS, BIKES, ETC)       0.04      0.03      0.04       180\n",
      "                                VIOLATION OF COURT ORDER       0.13      0.12      0.13      1562\n",
      "                          VIOLATION OF RESTRAINING ORDER       0.26      0.25      0.26      2871\n",
      "                VIOLATION OF TEMPORARY RESTRAINING ORDER       0.05      0.03      0.04       225\n",
      "                              WEAPONS POSSESSION/BOMBING       0.00      0.00      0.00         2\n",
      "\n",
      "                                                accuracy                           0.13    172819\n",
      "                                               macro avg       0.06      0.06      0.06    172819\n",
      "                                            weighted avg       0.13      0.13      0.13    172819\n",
      "\n",
      "Feature Importances:\n",
      " Vict_Age                 0.354107\n",
      "Lat                      0.313619\n",
      "Lon                      0.312235\n",
      "Vict_Sex_F               0.004429\n",
      "Area_Name_Central        0.001224\n",
      "Area_Name_Southwest      0.001101\n",
      "Area_Name_77th Street    0.001054\n",
      "Area_Name_Van Nuys       0.000924\n",
      "Area_Name_N Hollywood    0.000892\n",
      "Area_Name_West Valley    0.000864\n",
      "Area_Name_Wilshire       0.000794\n",
      "Area_Name_Newton         0.000786\n",
      "Area_Name_Topanga        0.000735\n",
      "Vict_Sex_M               0.000704\n",
      "Area_Name_Mission        0.000697\n",
      "Vict_Sex_X               0.000654\n",
      "Area_Name_Foothill       0.000645\n",
      "Area_Name_Olympic        0.000611\n",
      "Area_Name_Rampart        0.000587\n",
      "Area_Name_Hollywood      0.000557\n",
      "Area_Name_Northeast      0.000522\n",
      "Area_Name_West LA        0.000497\n",
      "Area_Name_Southeast      0.000472\n",
      "Area_Name_Hollenbeck     0.000416\n",
      "Area_Name_Devonshire     0.000380\n",
      "Area_Name_Pacific        0.000304\n",
      "Area_Name_Harbor         0.000188\n",
      "dtype: float64\n"
     ]
    },
    {
     "name": "stderr",
     "output_type": "stream",
     "text": [
      "C:\\Users\\Michael Haile\\anaconda3\\Lib\\site-packages\\sklearn\\metrics\\_classification.py:1469: UndefinedMetricWarning: Precision and F-score are ill-defined and being set to 0.0 in labels with no predicted samples. Use `zero_division` parameter to control this behavior.\n",
      "  _warn_prf(average, modifier, msg_start, len(result))\n",
      "C:\\Users\\Michael Haile\\anaconda3\\Lib\\site-packages\\sklearn\\metrics\\_classification.py:1469: UndefinedMetricWarning: Recall and F-score are ill-defined and being set to 0.0 in labels with no true samples. Use `zero_division` parameter to control this behavior.\n",
      "  _warn_prf(average, modifier, msg_start, len(result))\n"
     ]
    }
   ],
   "source": [
    "from sklearn.tree import DecisionTreeClassifier, plot_tree\n",
    "from sklearn.model_selection import train_test_split\n",
    "from sklearn.metrics import classification_report\n",
    "import pandas as pd\n",
    "import matplotlib.pyplot as plt\n",
    "\n",
    "def fit_decision_tree(la_crime_df, features, target='Crm_Cd_Desc'):\n",
    "    # Ensure the features list only includes the columns specified\n",
    "    x = la_crime_df[['Vict_Age', 'Lat', 'Lon', 'Vict_Sex_F', 'Vict_Sex_M', 'Vict_Sex_X',\n",
    "            'Area_Name_77th Street', 'Area_Name_Central', 'Area_Name_Devonshire',\n",
    "            'Area_Name_Foothill', 'Area_Name_Harbor', 'Area_Name_Hollenbeck',\n",
    "            'Area_Name_Hollywood', 'Area_Name_Mission', 'Area_Name_N Hollywood',\n",
    "            'Area_Name_Newton', 'Area_Name_Northeast', 'Area_Name_Olympic',\n",
    "            'Area_Name_Pacific', 'Area_Name_Rampart', 'Area_Name_Southeast',\n",
    "            'Area_Name_Southwest', 'Area_Name_Topanga', 'Area_Name_Van Nuys',\n",
    "            'Area_Name_West LA', 'Area_Name_West Valley', 'Area_Name_Wilshire']]\n",
    "    y = la_crime_df[['Crm_Cd_Desc']]\n",
    "\n",
    "    # Split the data into training and test sets, training set 75% and the test set 25%\n",
    "    x_train, x_test, y_train, y_test = train_test_split(x, y, test_size=0.25, random_state=0)\n",
    "\n",
    "    # Initialize and train the decision tree classifier\n",
    "    model = DecisionTreeClassifier(random_state=0)\n",
    "    model.fit(x_train, y_train)\n",
    "\n",
    "    # Predict on the test set\n",
    "    y_pred = model.predict(x_test)\n",
    "\n",
    "    # Output the classification report\n",
    "    print(classification_report(y_test, y_pred))\n",
    "\n",
    "    # Output feature importance\n",
    "    feature_importance = pd.Series(model.feature_importances_, index=features).sort_values(ascending=False)\n",
    "    print(\"Feature Importances:\\n\", feature_importance)\n",
    "\n",
    "    # Plot the decision tree\n",
    "    #plt.figure(figsize=(20,10))\n",
    "    #plot_tree(model, filled=True, feature_names=features, class_names=[str(cls) for cls in model.classes_], proportion=True)\n",
    "    #plt.show()\n",
    "\n",
    "    return model\n",
    "\n",
    "# Example usage\n",
    "# Define the features list according to your DataFrame structure\n",
    "features = ['Vict_Age', 'Lat', 'Lon', 'Vict_Sex_F', 'Vict_Sex_M', 'Vict_Sex_X',\n",
    "            'Area_Name_77th Street', 'Area_Name_Central', 'Area_Name_Devonshire',\n",
    "            'Area_Name_Foothill', 'Area_Name_Harbor', 'Area_Name_Hollenbeck',\n",
    "            'Area_Name_Hollywood', 'Area_Name_Mission', 'Area_Name_N Hollywood',\n",
    "            'Area_Name_Newton', 'Area_Name_Northeast', 'Area_Name_Olympic',\n",
    "            'Area_Name_Pacific', 'Area_Name_Rampart', 'Area_Name_Southeast',\n",
    "            'Area_Name_Southwest', 'Area_Name_Topanga', 'Area_Name_Van Nuys',\n",
    "            'Area_Name_West LA', 'Area_Name_West Valley', 'Area_Name_Wilshire'] # List of feature names\n",
    "\n",
    "# Make sure your DataFrame 'la_crime_df' is preprocessed before using this function\n",
    "model = fit_decision_tree(la_crime_df, features)\n",
    "\n"
   ]
  },
  {
   "cell_type": "code",
   "execution_count": null,
   "id": "b85cdbe4",
   "metadata": {},
   "outputs": [],
   "source": []
  },
  {
   "cell_type": "code",
   "execution_count": null,
   "id": "5a65e2cb",
   "metadata": {},
   "outputs": [],
   "source": []
  },
  {
   "cell_type": "code",
   "execution_count": null,
   "id": "98e854b9",
   "metadata": {},
   "outputs": [],
   "source": []
  }
 ],
 "metadata": {
  "kernelspec": {
   "display_name": "Python 3 (ipykernel)",
   "language": "python",
   "name": "python3"
  },
  "language_info": {
   "codemirror_mode": {
    "name": "ipython",
    "version": 3
   },
   "file_extension": ".py",
   "mimetype": "text/x-python",
   "name": "python",
   "nbconvert_exporter": "python",
   "pygments_lexer": "ipython3",
   "version": "3.11.5"
  }
 },
 "nbformat": 4,
 "nbformat_minor": 5
}
