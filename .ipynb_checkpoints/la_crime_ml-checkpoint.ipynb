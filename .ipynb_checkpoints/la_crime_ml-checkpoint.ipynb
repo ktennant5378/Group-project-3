{
 "cells": [
  {
   "cell_type": "code",
   "execution_count": 657,
   "id": "84929f1a",
   "metadata": {},
   "outputs": [],
   "source": [
    "import os\n",
    "import csv\n",
    "import pandas as pd\n",
    "import numpy as np\n",
    "import matplotlib.pyplot as plt\n",
    "from datetime import datetime"
   ]
  },
  {
   "cell_type": "code",
   "execution_count": 658,
   "id": "a82f883b",
   "metadata": {},
   "outputs": [
    {
     "data": {
      "text/html": [
       "<div>\n",
       "<style scoped>\n",
       "    .dataframe tbody tr th:only-of-type {\n",
       "        vertical-align: middle;\n",
       "    }\n",
       "\n",
       "    .dataframe tbody tr th {\n",
       "        vertical-align: top;\n",
       "    }\n",
       "\n",
       "    .dataframe thead th {\n",
       "        text-align: right;\n",
       "    }\n",
       "</style>\n",
       "<table border=\"1\" class=\"dataframe\">\n",
       "  <thead>\n",
       "    <tr style=\"text-align: right;\">\n",
       "      <th></th>\n",
       "      <th>DR_NO</th>\n",
       "      <th>Date Rptd</th>\n",
       "      <th>DATE OCC</th>\n",
       "      <th>TIME OCC</th>\n",
       "      <th>AREA</th>\n",
       "      <th>AREA NAME</th>\n",
       "      <th>Rpt Dist No</th>\n",
       "      <th>Part 1-2</th>\n",
       "      <th>Crm Cd</th>\n",
       "      <th>Crm Cd Desc</th>\n",
       "      <th>...</th>\n",
       "      <th>Status</th>\n",
       "      <th>Status Desc</th>\n",
       "      <th>Crm Cd 1</th>\n",
       "      <th>Crm Cd 2</th>\n",
       "      <th>Crm Cd 3</th>\n",
       "      <th>Crm Cd 4</th>\n",
       "      <th>LOCATION</th>\n",
       "      <th>Cross Street</th>\n",
       "      <th>LAT</th>\n",
       "      <th>LON</th>\n",
       "    </tr>\n",
       "  </thead>\n",
       "  <tbody>\n",
       "    <tr>\n",
       "      <th>0</th>\n",
       "      <td>190326475</td>\n",
       "      <td>3/1/2020 0:00</td>\n",
       "      <td>3/1/2020 0:00</td>\n",
       "      <td>2130</td>\n",
       "      <td>7</td>\n",
       "      <td>Wilshire</td>\n",
       "      <td>784</td>\n",
       "      <td>1</td>\n",
       "      <td>510</td>\n",
       "      <td>VEHICLE - STOLEN</td>\n",
       "      <td>...</td>\n",
       "      <td>AA</td>\n",
       "      <td>Adult Arrest</td>\n",
       "      <td>510.0</td>\n",
       "      <td>998.0</td>\n",
       "      <td>NaN</td>\n",
       "      <td>NaN</td>\n",
       "      <td>1900 S  LONGWOOD                     AV</td>\n",
       "      <td>NaN</td>\n",
       "      <td>34.0375</td>\n",
       "      <td>-118.3506</td>\n",
       "    </tr>\n",
       "  </tbody>\n",
       "</table>\n",
       "<p>1 rows × 28 columns</p>\n",
       "</div>"
      ],
      "text/plain": [
       "       DR_NO      Date Rptd       DATE OCC  TIME OCC  AREA AREA NAME  \\\n",
       "0  190326475  3/1/2020 0:00  3/1/2020 0:00      2130     7  Wilshire   \n",
       "\n",
       "   Rpt Dist No  Part 1-2  Crm Cd       Crm Cd Desc  ... Status   Status Desc  \\\n",
       "0          784         1     510  VEHICLE - STOLEN  ...     AA  Adult Arrest   \n",
       "\n",
       "  Crm Cd 1 Crm Cd 2  Crm Cd 3 Crm Cd 4  \\\n",
       "0    510.0    998.0       NaN      NaN   \n",
       "\n",
       "                                  LOCATION Cross Street      LAT       LON  \n",
       "0  1900 S  LONGWOOD                     AV          NaN  34.0375 -118.3506  \n",
       "\n",
       "[1 rows x 28 columns]"
      ]
     },
     "execution_count": 658,
     "metadata": {},
     "output_type": "execute_result"
    }
   ],
   "source": [
    "la_crime_df=pd.read_csv(\"./Data/LA_Crime_Data.csv\")\n",
    "la_crime_df.head(1)"
   ]
  },
  {
   "cell_type": "code",
   "execution_count": 660,
   "id": "a25cc7bc",
   "metadata": {},
   "outputs": [
    {
     "data": {
      "text/plain": [
       "True"
      ]
     },
     "execution_count": 660,
     "metadata": {},
     "output_type": "execute_result"
    }
   ],
   "source": [
    "any(la_crime_df.isna())"
   ]
  },
  {
   "cell_type": "code",
   "execution_count": 661,
   "id": "5279b82e",
   "metadata": {},
   "outputs": [
    {
     "name": "stdout",
     "output_type": "stream",
     "text": [
      "Number of rows:  925720\n"
     ]
    }
   ],
   "source": [
    "print(\"Number of rows: \", la_crime_df.shape[0])"
   ]
  },
  {
   "cell_type": "code",
   "execution_count": 662,
   "id": "8f3002e3",
   "metadata": {},
   "outputs": [
    {
     "name": "stdout",
     "output_type": "stream",
     "text": [
      "Number of columns:  28\n"
     ]
    }
   ],
   "source": [
    "print(\"Number of columns: \", la_crime_df.shape[1])"
   ]
  },
  {
   "cell_type": "code",
   "execution_count": 663,
   "id": "086a4e6c",
   "metadata": {
    "scrolled": false
   },
   "outputs": [
    {
     "data": {
      "text/plain": [
       "DR_NO                  0\n",
       "Date Rptd              0\n",
       "DATE OCC               0\n",
       "TIME OCC               0\n",
       "AREA                   0\n",
       "AREA NAME              0\n",
       "Rpt Dist No            0\n",
       "Part 1-2               0\n",
       "Crm Cd                 0\n",
       "Crm Cd Desc            0\n",
       "Mocodes           129462\n",
       "Vict Age               0\n",
       "Vict Sex          123158\n",
       "Vict Descent      123168\n",
       "Premis Cd             11\n",
       "Premis Desc          559\n",
       "Weapon Used Cd    606019\n",
       "Weapon Desc       606019\n",
       "Status                 0\n",
       "Status Desc            0\n",
       "Crm Cd 1              11\n",
       "Crm Cd 2          858483\n",
       "Crm Cd 3          923460\n",
       "Crm Cd 4          925656\n",
       "LOCATION               0\n",
       "Cross Street      780494\n",
       "LAT                    0\n",
       "LON                    0\n",
       "dtype: int64"
      ]
     },
     "execution_count": 663,
     "metadata": {},
     "output_type": "execute_result"
    }
   ],
   "source": [
    "la_crime_df.isnull().sum() # checkin for the number of null values across the dataframe"
   ]
  },
  {
   "cell_type": "code",
   "execution_count": 664,
   "id": "413362b8",
   "metadata": {},
   "outputs": [
    {
     "data": {
      "text/plain": [
       "Index(['DR_NO', 'Date Rptd', 'DATE OCC', 'TIME OCC', 'AREA', 'AREA NAME',\n",
       "       'Rpt Dist No', 'Part 1-2', 'Crm Cd', 'Crm Cd Desc', 'Mocodes',\n",
       "       'Vict Age', 'Vict Sex', 'Vict Descent', 'Premis Cd', 'Premis Desc',\n",
       "       'Weapon Used Cd', 'Weapon Desc', 'Status', 'Status Desc', 'Crm Cd 1',\n",
       "       'Crm Cd 2', 'Crm Cd 3', 'Crm Cd 4', 'LOCATION', 'Cross Street', 'LAT',\n",
       "       'LON'],\n",
       "      dtype='object')"
      ]
     },
     "execution_count": 664,
     "metadata": {},
     "output_type": "execute_result"
    }
   ],
   "source": [
    "la_crime_df.columns"
   ]
  },
  {
   "cell_type": "code",
   "execution_count": 665,
   "id": "95e9ab0f",
   "metadata": {
    "scrolled": true
   },
   "outputs": [
    {
     "data": {
      "text/html": [
       "<div>\n",
       "<style scoped>\n",
       "    .dataframe tbody tr th:only-of-type {\n",
       "        vertical-align: middle;\n",
       "    }\n",
       "\n",
       "    .dataframe tbody tr th {\n",
       "        vertical-align: top;\n",
       "    }\n",
       "\n",
       "    .dataframe thead th {\n",
       "        text-align: right;\n",
       "    }\n",
       "</style>\n",
       "<table border=\"1\" class=\"dataframe\">\n",
       "  <thead>\n",
       "    <tr style=\"text-align: right;\">\n",
       "      <th></th>\n",
       "      <th>DATE OCC</th>\n",
       "      <th>TIME OCC</th>\n",
       "      <th>AREA NAME</th>\n",
       "      <th>Part 1-2</th>\n",
       "      <th>Crm Cd Desc</th>\n",
       "      <th>Vict Age</th>\n",
       "      <th>Vict Sex</th>\n",
       "      <th>Vict Descent</th>\n",
       "      <th>Status Desc</th>\n",
       "      <th>Crm Cd 1</th>\n",
       "      <th>LAT</th>\n",
       "      <th>LON</th>\n",
       "    </tr>\n",
       "  </thead>\n",
       "  <tbody>\n",
       "    <tr>\n",
       "      <th>0</th>\n",
       "      <td>3/1/2020 0:00</td>\n",
       "      <td>2130</td>\n",
       "      <td>Wilshire</td>\n",
       "      <td>1</td>\n",
       "      <td>VEHICLE - STOLEN</td>\n",
       "      <td>0</td>\n",
       "      <td>M</td>\n",
       "      <td>O</td>\n",
       "      <td>Adult Arrest</td>\n",
       "      <td>510.0</td>\n",
       "      <td>34.0375</td>\n",
       "      <td>-118.3506</td>\n",
       "    </tr>\n",
       "  </tbody>\n",
       "</table>\n",
       "</div>"
      ],
      "text/plain": [
       "        DATE OCC  TIME OCC AREA NAME  Part 1-2       Crm Cd Desc  Vict Age  \\\n",
       "0  3/1/2020 0:00      2130  Wilshire         1  VEHICLE - STOLEN         0   \n",
       "\n",
       "  Vict Sex Vict Descent   Status Desc  Crm Cd 1      LAT       LON  \n",
       "0        M            O  Adult Arrest     510.0  34.0375 -118.3506  "
      ]
     },
     "execution_count": 665,
     "metadata": {},
     "output_type": "execute_result"
    }
   ],
   "source": [
    "la_crime_df = la_crime_df[[\"DATE OCC\",\"TIME OCC\",\"AREA NAME\",\"Part 1-2\",\"Crm Cd Desc\",\"Vict Age\",\"Vict Sex\",\"Vict Descent\",\n",
    "                           \"Status Desc\",\"Crm Cd 1\",\"LAT\",\"LON\"]]\n",
    "la_crime_df.head(1)"
   ]
  },
  {
   "cell_type": "code",
   "execution_count": 666,
   "id": "9cedfba0",
   "metadata": {},
   "outputs": [
    {
     "data": {
      "text/plain": [
       "(925720, 12)"
      ]
     },
     "execution_count": 666,
     "metadata": {},
     "output_type": "execute_result"
    }
   ],
   "source": [
    "la_crime_df.shape"
   ]
  },
  {
   "cell_type": "code",
   "execution_count": 667,
   "id": "ff9f07ec",
   "metadata": {},
   "outputs": [
    {
     "data": {
      "text/plain": [
       "DATE OCC             0\n",
       "TIME OCC             0\n",
       "AREA NAME            0\n",
       "Part 1-2             0\n",
       "Crm Cd Desc          0\n",
       "Vict Age             0\n",
       "Vict Sex        123158\n",
       "Vict Descent    123168\n",
       "Status Desc          0\n",
       "Crm Cd 1            11\n",
       "LAT                  0\n",
       "LON                  0\n",
       "dtype: int64"
      ]
     },
     "execution_count": 667,
     "metadata": {},
     "output_type": "execute_result"
    }
   ],
   "source": [
    "la_crime_df.isnull().sum(axis = 0)"
   ]
  },
  {
   "cell_type": "code",
   "execution_count": 668,
   "id": "4e57711c",
   "metadata": {},
   "outputs": [
    {
     "data": {
      "text/plain": [
       "(802537, 12)"
      ]
     },
     "execution_count": 668,
     "metadata": {},
     "output_type": "execute_result"
    }
   ],
   "source": [
    "la_crime_df=la_crime_df.dropna()\n",
    "la_crime_df.shape"
   ]
  },
  {
   "cell_type": "code",
   "execution_count": 669,
   "id": "55849c8a",
   "metadata": {},
   "outputs": [
    {
     "data": {
      "text/html": [
       "<div>\n",
       "<style scoped>\n",
       "    .dataframe tbody tr th:only-of-type {\n",
       "        vertical-align: middle;\n",
       "    }\n",
       "\n",
       "    .dataframe tbody tr th {\n",
       "        vertical-align: top;\n",
       "    }\n",
       "\n",
       "    .dataframe thead th {\n",
       "        text-align: right;\n",
       "    }\n",
       "</style>\n",
       "<table border=\"1\" class=\"dataframe\">\n",
       "  <thead>\n",
       "    <tr style=\"text-align: right;\">\n",
       "      <th></th>\n",
       "      <th>DATE OCC</th>\n",
       "      <th>TIME OCC</th>\n",
       "      <th>AREA NAME</th>\n",
       "      <th>Part 1-2</th>\n",
       "      <th>Crm Cd Desc</th>\n",
       "      <th>Vict Age</th>\n",
       "      <th>Vict Sex</th>\n",
       "      <th>Vict Descent</th>\n",
       "      <th>Status Desc</th>\n",
       "      <th>Crm Cd 1</th>\n",
       "      <th>LAT</th>\n",
       "      <th>LON</th>\n",
       "    </tr>\n",
       "  </thead>\n",
       "  <tbody>\n",
       "    <tr>\n",
       "      <th>0</th>\n",
       "      <td>3/1/2020 0:00</td>\n",
       "      <td>2130</td>\n",
       "      <td>Wilshire</td>\n",
       "      <td>1</td>\n",
       "      <td>VEHICLE - STOLEN</td>\n",
       "      <td>0</td>\n",
       "      <td>M</td>\n",
       "      <td>O</td>\n",
       "      <td>Adult Arrest</td>\n",
       "      <td>510.0</td>\n",
       "      <td>34.0375</td>\n",
       "      <td>-118.3506</td>\n",
       "    </tr>\n",
       "    <tr>\n",
       "      <th>1</th>\n",
       "      <td>2/8/2020 0:00</td>\n",
       "      <td>1800</td>\n",
       "      <td>Central</td>\n",
       "      <td>1</td>\n",
       "      <td>BURGLARY FROM VEHICLE</td>\n",
       "      <td>47</td>\n",
       "      <td>M</td>\n",
       "      <td>O</td>\n",
       "      <td>Invest Cont</td>\n",
       "      <td>330.0</td>\n",
       "      <td>34.0444</td>\n",
       "      <td>-118.2628</td>\n",
       "    </tr>\n",
       "  </tbody>\n",
       "</table>\n",
       "</div>"
      ],
      "text/plain": [
       "        DATE OCC  TIME OCC AREA NAME  Part 1-2            Crm Cd Desc  \\\n",
       "0  3/1/2020 0:00      2130  Wilshire         1       VEHICLE - STOLEN   \n",
       "1  2/8/2020 0:00      1800   Central         1  BURGLARY FROM VEHICLE   \n",
       "\n",
       "   Vict Age Vict Sex Vict Descent   Status Desc  Crm Cd 1      LAT       LON  \n",
       "0         0        M            O  Adult Arrest     510.0  34.0375 -118.3506  \n",
       "1        47        M            O   Invest Cont     330.0  34.0444 -118.2628  "
      ]
     },
     "execution_count": 669,
     "metadata": {},
     "output_type": "execute_result"
    }
   ],
   "source": [
    "la_crime_df.head(2)"
   ]
  },
  {
   "cell_type": "code",
   "execution_count": null,
   "id": "4229ac6a",
   "metadata": {},
   "outputs": [],
   "source": []
  },
  {
   "cell_type": "code",
   "execution_count": 670,
   "id": "c069020f",
   "metadata": {},
   "outputs": [
    {
     "data": {
      "text/plain": [
       "DATE OCC        0\n",
       "TIME OCC        0\n",
       "AREA NAME       0\n",
       "Part 1-2        0\n",
       "Crm Cd Desc     0\n",
       "Vict Age        0\n",
       "Vict Sex        0\n",
       "Vict Descent    0\n",
       "Status Desc     0\n",
       "Crm Cd 1        0\n",
       "LAT             0\n",
       "LON             0\n",
       "dtype: int64"
      ]
     },
     "execution_count": 670,
     "metadata": {},
     "output_type": "execute_result"
    }
   ],
   "source": [
    "la_crime_df.isnull().sum()"
   ]
  },
  {
   "cell_type": "code",
   "execution_count": 671,
   "id": "da6913e5",
   "metadata": {},
   "outputs": [
    {
     "name": "stdout",
     "output_type": "stream",
     "text": [
      "<class 'pandas.core.frame.DataFrame'>\n",
      "Index: 802537 entries, 0 to 925719\n",
      "Data columns (total 12 columns):\n",
      " #   Column        Non-Null Count   Dtype  \n",
      "---  ------        --------------   -----  \n",
      " 0   DATE OCC      802537 non-null  object \n",
      " 1   TIME OCC      802537 non-null  int64  \n",
      " 2   AREA NAME     802537 non-null  object \n",
      " 3   Part 1-2      802537 non-null  int64  \n",
      " 4   Crm Cd Desc   802537 non-null  object \n",
      " 5   Vict Age      802537 non-null  int64  \n",
      " 6   Vict Sex      802537 non-null  object \n",
      " 7   Vict Descent  802537 non-null  object \n",
      " 8   Status Desc   802537 non-null  object \n",
      " 9   Crm Cd 1      802537 non-null  float64\n",
      " 10  LAT           802537 non-null  float64\n",
      " 11  LON           802537 non-null  float64\n",
      "dtypes: float64(3), int64(3), object(6)\n",
      "memory usage: 79.6+ MB\n"
     ]
    }
   ],
   "source": [
    "la_crime_df.info()"
   ]
  },
  {
   "cell_type": "code",
   "execution_count": 672,
   "id": "13f3ccc8",
   "metadata": {},
   "outputs": [],
   "source": [
    "# renaming for better readability\n",
    "la_crime_df.rename(columns={\"DATE OCC\":\"Date_Occ\",\"TIME OCC\":\"Time_Occ\",\"AREA NAME\":\"Area_Name\",\"Part 1-2\":\"Part_1-2\",\n",
    "                           \"Crm Cd Desc\":\"Crm_Cd_Desc\",\"Vict Age\":\"Vict_Age\",\"Vict Sex\":\"Vict_Sex\",\n",
    "                           \"Vict Descent\":\"Vict_Descent\",\"Status Desc\":\"Status_Desc\",\"Crm Cd 1\":\"Crm_Cd_1\",\n",
    "                            \"LAT\":\"Lat\",\"LON\":\"Lon\"}, inplace = True)"
   ]
  },
  {
   "cell_type": "code",
   "execution_count": 673,
   "id": "d34f4f15",
   "metadata": {
    "scrolled": true
   },
   "outputs": [
    {
     "data": {
      "text/html": [
       "<div>\n",
       "<style scoped>\n",
       "    .dataframe tbody tr th:only-of-type {\n",
       "        vertical-align: middle;\n",
       "    }\n",
       "\n",
       "    .dataframe tbody tr th {\n",
       "        vertical-align: top;\n",
       "    }\n",
       "\n",
       "    .dataframe thead th {\n",
       "        text-align: right;\n",
       "    }\n",
       "</style>\n",
       "<table border=\"1\" class=\"dataframe\">\n",
       "  <thead>\n",
       "    <tr style=\"text-align: right;\">\n",
       "      <th></th>\n",
       "      <th>Date_Occ</th>\n",
       "      <th>Time_Occ</th>\n",
       "      <th>Area_Name</th>\n",
       "      <th>Part_1-2</th>\n",
       "      <th>Crm_Cd_Desc</th>\n",
       "      <th>Vict_Age</th>\n",
       "      <th>Vict_Sex</th>\n",
       "      <th>Vict_Descent</th>\n",
       "      <th>Status_Desc</th>\n",
       "      <th>Crm_Cd_1</th>\n",
       "      <th>Lat</th>\n",
       "      <th>Lon</th>\n",
       "    </tr>\n",
       "  </thead>\n",
       "  <tbody>\n",
       "    <tr>\n",
       "      <th>0</th>\n",
       "      <td>3/1/2020 0:00</td>\n",
       "      <td>2130</td>\n",
       "      <td>Wilshire</td>\n",
       "      <td>1</td>\n",
       "      <td>VEHICLE - STOLEN</td>\n",
       "      <td>0</td>\n",
       "      <td>M</td>\n",
       "      <td>O</td>\n",
       "      <td>Adult Arrest</td>\n",
       "      <td>510.0</td>\n",
       "      <td>34.0375</td>\n",
       "      <td>-118.3506</td>\n",
       "    </tr>\n",
       "  </tbody>\n",
       "</table>\n",
       "</div>"
      ],
      "text/plain": [
       "        Date_Occ  Time_Occ Area_Name  Part_1-2       Crm_Cd_Desc  Vict_Age  \\\n",
       "0  3/1/2020 0:00      2130  Wilshire         1  VEHICLE - STOLEN         0   \n",
       "\n",
       "  Vict_Sex Vict_Descent   Status_Desc  Crm_Cd_1      Lat       Lon  \n",
       "0        M            O  Adult Arrest     510.0  34.0375 -118.3506  "
      ]
     },
     "execution_count": 673,
     "metadata": {},
     "output_type": "execute_result"
    }
   ],
   "source": [
    "la_crime_df.head(1)"
   ]
  },
  {
   "cell_type": "code",
   "execution_count": 674,
   "id": "c516aa3d",
   "metadata": {},
   "outputs": [],
   "source": [
    "\n",
    "\n",
    "# Convert the 'DateTime' column to datetime type if not alread\n",
    "\n",
    "\n",
    "la_crime_df['Date_Occ'] = pd.to_datetime(la_crime_df['Date_Occ'])\n",
    "\n"
   ]
  },
  {
   "cell_type": "code",
   "execution_count": 675,
   "id": "d868a78e",
   "metadata": {},
   "outputs": [
    {
     "data": {
      "text/html": [
       "<div>\n",
       "<style scoped>\n",
       "    .dataframe tbody tr th:only-of-type {\n",
       "        vertical-align: middle;\n",
       "    }\n",
       "\n",
       "    .dataframe tbody tr th {\n",
       "        vertical-align: top;\n",
       "    }\n",
       "\n",
       "    .dataframe thead th {\n",
       "        text-align: right;\n",
       "    }\n",
       "</style>\n",
       "<table border=\"1\" class=\"dataframe\">\n",
       "  <thead>\n",
       "    <tr style=\"text-align: right;\">\n",
       "      <th></th>\n",
       "      <th>Date_Occ</th>\n",
       "      <th>Time_Occ</th>\n",
       "      <th>Area_Name</th>\n",
       "      <th>Part_1-2</th>\n",
       "      <th>Crm_Cd_Desc</th>\n",
       "      <th>Vict_Age</th>\n",
       "      <th>Vict_Sex</th>\n",
       "      <th>Vict_Descent</th>\n",
       "      <th>Status_Desc</th>\n",
       "      <th>Crm_Cd_1</th>\n",
       "      <th>Lat</th>\n",
       "      <th>Lon</th>\n",
       "    </tr>\n",
       "  </thead>\n",
       "  <tbody>\n",
       "    <tr>\n",
       "      <th>0</th>\n",
       "      <td>2020-03-01</td>\n",
       "      <td>2130</td>\n",
       "      <td>Wilshire</td>\n",
       "      <td>1</td>\n",
       "      <td>VEHICLE - STOLEN</td>\n",
       "      <td>0</td>\n",
       "      <td>M</td>\n",
       "      <td>O</td>\n",
       "      <td>Adult Arrest</td>\n",
       "      <td>510.0</td>\n",
       "      <td>34.0375</td>\n",
       "      <td>-118.3506</td>\n",
       "    </tr>\n",
       "  </tbody>\n",
       "</table>\n",
       "</div>"
      ],
      "text/plain": [
       "    Date_Occ  Time_Occ Area_Name  Part_1-2       Crm_Cd_Desc  Vict_Age  \\\n",
       "0 2020-03-01      2130  Wilshire         1  VEHICLE - STOLEN         0   \n",
       "\n",
       "  Vict_Sex Vict_Descent   Status_Desc  Crm_Cd_1      Lat       Lon  \n",
       "0        M            O  Adult Arrest     510.0  34.0375 -118.3506  "
      ]
     },
     "execution_count": 675,
     "metadata": {},
     "output_type": "execute_result"
    }
   ],
   "source": [
    "la_crime_df.head(1)"
   ]
  },
  {
   "cell_type": "code",
   "execution_count": 676,
   "id": "22889d6d",
   "metadata": {},
   "outputs": [
    {
     "name": "stdout",
     "output_type": "stream",
     "text": [
      "<class 'pandas.core.frame.DataFrame'>\n",
      "Index: 802537 entries, 0 to 925719\n",
      "Data columns (total 12 columns):\n",
      " #   Column        Non-Null Count   Dtype         \n",
      "---  ------        --------------   -----         \n",
      " 0   Date_Occ      802537 non-null  datetime64[ns]\n",
      " 1   Time_Occ      802537 non-null  int64         \n",
      " 2   Area_Name     802537 non-null  object        \n",
      " 3   Part_1-2      802537 non-null  int64         \n",
      " 4   Crm_Cd_Desc   802537 non-null  object        \n",
      " 5   Vict_Age      802537 non-null  int64         \n",
      " 6   Vict_Sex      802537 non-null  object        \n",
      " 7   Vict_Descent  802537 non-null  object        \n",
      " 8   Status_Desc   802537 non-null  object        \n",
      " 9   Crm_Cd_1      802537 non-null  float64       \n",
      " 10  Lat           802537 non-null  float64       \n",
      " 11  Lon           802537 non-null  float64       \n",
      "dtypes: datetime64[ns](1), float64(3), int64(3), object(5)\n",
      "memory usage: 79.6+ MB\n"
     ]
    }
   ],
   "source": [
    "la_crime_df.info()"
   ]
  },
  {
   "cell_type": "code",
   "execution_count": 677,
   "id": "807b5d35",
   "metadata": {},
   "outputs": [
    {
     "data": {
      "text/plain": [
       "Vict_Sex\n",
       "M    379021\n",
       "F    337975\n",
       "X     85434\n",
       "-         1\n",
       "Name: count, dtype: int64"
      ]
     },
     "execution_count": 677,
     "metadata": {},
     "output_type": "execute_result"
    }
   ],
   "source": [
    "# To remove the value H value of Vict_Sex\n",
    "la_crime_df=la_crime_df[la_crime_df[\"Vict_Sex\"]!=\"H\"]\n",
    "la_crime_df[\"Vict_Sex\"].value_counts()"
   ]
  },
  {
   "cell_type": "code",
   "execution_count": 678,
   "id": "6eb3d05b",
   "metadata": {},
   "outputs": [
    {
     "data": {
      "text/plain": [
       "Date_Occ        1553\n",
       "Time_Occ        1439\n",
       "Area_Name         21\n",
       "Part_1-2           2\n",
       "Crm_Cd_Desc      138\n",
       "Vict_Age         103\n",
       "Vict_Sex           4\n",
       "Vict_Descent      20\n",
       "Status_Desc        6\n",
       "Crm_Cd_1         139\n",
       "Lat             5376\n",
       "Lon             4968\n",
       "dtype: int64"
      ]
     },
     "execution_count": 678,
     "metadata": {},
     "output_type": "execute_result"
    }
   ],
   "source": [
    "la_crime_df.nunique()"
   ]
  },
  {
   "cell_type": "code",
   "execution_count": 679,
   "id": "350da02d",
   "metadata": {},
   "outputs": [
    {
     "data": {
      "text/plain": [
       "21"
      ]
     },
     "execution_count": 679,
     "metadata": {},
     "output_type": "execute_result"
    }
   ],
   "source": [
    "la_crime_df[\"Area_Name\"].nunique()"
   ]
  },
  {
   "cell_type": "code",
   "execution_count": 680,
   "id": "671557df",
   "metadata": {
    "scrolled": false
   },
   "outputs": [
    {
     "data": {
      "text/plain": [
       "Area_Name\n",
       "Central        57981\n",
       "77th Street    49198\n",
       "Pacific        46137\n",
       "Southwest      44808\n",
       "Hollywood      44421\n",
       "N Hollywood    40753\n",
       "Olympic        40670\n",
       "Wilshire       39826\n",
       "Southeast      39272\n",
       "West LA        38613\n",
       "Name: count, dtype: int64"
      ]
     },
     "execution_count": 680,
     "metadata": {},
     "output_type": "execute_result"
    }
   ],
   "source": [
    "# Top 10 crime location\n",
    "la_crime_df[\"Area_Name\"].value_counts().head(10)"
   ]
  },
  {
   "cell_type": "code",
   "execution_count": 681,
   "id": "34da8097",
   "metadata": {
    "scrolled": true
   },
   "outputs": [
    {
     "data": {
      "text/plain": [
       "Area_Name\n",
       "Central        57981\n",
       "77th Street    49198\n",
       "Pacific        46137\n",
       "Southwest      44808\n",
       "Hollywood      44421\n",
       "N Hollywood    40753\n",
       "Olympic        40670\n",
       "Wilshire       39826\n",
       "Southeast      39272\n",
       "West LA        38613\n",
       "Newton         37579\n",
       "Rampart        37467\n",
       "West Valley    34220\n",
       "Topanga        34061\n",
       "Van Nuys       34051\n",
       "Northeast      33924\n",
       "Devonshire     33273\n",
       "Harbor         31917\n",
       "Mission        30519\n",
       "Hollenbeck     28033\n",
       "Foothill       25708\n",
       "Name: count, dtype: int64"
      ]
     },
     "execution_count": 681,
     "metadata": {},
     "output_type": "execute_result"
    }
   ],
   "source": [
    "la_crime_df[\"Area_Name\"].value_counts()"
   ]
  },
  {
   "cell_type": "code",
   "execution_count": 682,
   "id": "54765c78",
   "metadata": {},
   "outputs": [
    {
     "data": {
      "text/plain": [
       "array(['Wilshire', 'Central', 'Southwest', 'Van Nuys', 'Hollywood',\n",
       "       'Southeast', 'Newton', 'Mission', 'Rampart', 'West Valley',\n",
       "       'West LA', 'Olympic', 'Topanga', 'Northeast', '77th Street',\n",
       "       'N Hollywood', 'Hollenbeck', 'Harbor', 'Foothill', 'Devonshire',\n",
       "       'Pacific'], dtype=object)"
      ]
     },
     "execution_count": 682,
     "metadata": {},
     "output_type": "execute_result"
    }
   ],
   "source": [
    "la_crime_df[\"Area_Name\"].unique()"
   ]
  },
  {
   "cell_type": "code",
   "execution_count": 683,
   "id": "d18974cb",
   "metadata": {},
   "outputs": [
    {
     "data": {
      "image/png": "[encoded data removed]",
      "text/plain": [
       "<Figure size 1000x600 with 1 Axes>"
      ]
     },
     "metadata": {},
     "output_type": "display_data"
    }
   ],
   "source": [
    "\n",
    "# Calculate value counts\n",
    "area_counts = la_crime_df[\"Area_Name\"].value_counts()\n",
    "\n",
    "# Plotting\n",
    "plt.figure(figsize=(10, 6))\n",
    "plt.bar(area_counts.index, area_counts.values)  # Use index and values to align data correctly\n",
    "plt.xlabel(\"Area Name\")\n",
    "plt.ylabel(\"Counts\")\n",
    "plt.title(\"Crime Count by Area Name\")\n",
    "plt.xticks(rotation=45)  # Optional: Rotate the area names for better readability\n",
    "plt.show()\n"
   ]
  },
  {
   "cell_type": "code",
   "execution_count": 684,
   "id": "6e81e898",
   "metadata": {},
   "outputs": [
    {
     "data": {
      "text/plain": [
       "138"
      ]
     },
     "execution_count": 684,
     "metadata": {},
     "output_type": "execute_result"
    }
   ],
   "source": [
    "la_crime_df[\"Crm_Cd_Desc\"].nunique() # numbe of crime descriptions"
   ]
  },
  {
   "cell_type": "code",
   "execution_count": 685,
   "id": "e1eb5176",
   "metadata": {},
   "outputs": [
    {
     "data": {
      "text/plain": [
       "Crm_Cd_Desc\n",
       "BATTERY - SIMPLE ASSAULT                                   73348\n",
       "BURGLARY FROM VEHICLE                                      57042\n",
       "THEFT OF IDENTITY                                          57031\n",
       "BURGLARY                                                   56669\n",
       "VANDALISM - FELONY ($400 & OVER, ALL CHURCH VANDALISMS)    56108\n",
       "ASSAULT WITH DEADLY WEAPON, AGGRAVATED ASSAULT             52462\n",
       "THEFT PLAIN - PETTY ($950 & UNDER)                         47108\n",
       "INTIMATE PARTNER - SIMPLE ASSAULT                          45882\n",
       "THEFT FROM MOTOR VEHICLE - GRAND ($950.01 AND OVER)        33048\n",
       "ROBBERY                                                    31491\n",
       "Name: count, dtype: int64"
      ]
     },
     "execution_count": 685,
     "metadata": {},
     "output_type": "execute_result"
    }
   ],
   "source": [
    "# the top 10 crime types\n",
    "la_crime_df[\"Crm_Cd_Desc\"].value_counts().head(10)"
   ]
  },
  {
   "cell_type": "code",
   "execution_count": 686,
   "id": "a6ff4e31",
   "metadata": {},
   "outputs": [
    {
     "data": {
      "image/png": "[encoded data removed]",
      "text/plain": [
       "<Figure size 800x400 with 1 Axes>"
      ]
     },
     "metadata": {},
     "output_type": "display_data"
    }
   ],
   "source": [
    "\n",
    "\n",
    "# Calculate value counts for the 'Vict_Sex' column\n",
    "sex_counts = la_crime_df['Vict_Sex'].value_counts()\n",
    "\n",
    "# Plotting\n",
    "plt.figure(figsize=(8, 4))  # Set the figure size as needed\n",
    "plt.bar(sex_counts.index, sex_counts.values)  # You can choose any color\n",
    "plt.xlabel('Victim Sex')\n",
    "plt.ylabel('Counts')\n",
    "plt.title('Crime Count by Victim Sex')\n",
    "plt.xticks(rotation=45)  # Rotate labels if necessary\n",
    "plt.show()\n"
   ]
  },
  {
   "cell_type": "code",
   "execution_count": 687,
   "id": "c54d791a",
   "metadata": {},
   "outputs": [],
   "source": [
    "#Filtering out Vict_Age to greater than zero\n",
    "la_crime_df = la_crime_df[la_crime_df[\"Vict_Age\"]> 0]"
   ]
  },
  {
   "cell_type": "code",
   "execution_count": 688,
   "id": "81e0c6bb",
   "metadata": {
    "scrolled": true
   },
   "outputs": [
    {
     "data": {
      "image/png": "[encoded data removed]",
      "text/plain": [
       "<Figure size 1000x600 with 1 Axes>"
      ]
     },
     "metadata": {},
     "output_type": "display_data"
    }
   ],
   "source": [
    "# Age of Victims Distribution\n",
    "\n",
    "\n",
    "la_crime_df['Vict_Age'] = pd.to_numeric(la_crime_df['Vict_Age'], errors='coerce')\n",
    "\n",
    "# Drop any NaN values that may have resulted from conversion errors or existing in data\n",
    "la_crime_df = la_crime_df.dropna(subset=['Vict_Age'])\n",
    "\n",
    "# Plotting a histogram of the 'Age' column\n",
    "plt.figure(figsize=(10, 6))\n",
    "plt.hist(la_crime_df['Vict_Age'], bins=30, alpha=0.7)  # Adjust the number of bins as needed\n",
    "plt.xlabel('Victim Age')\n",
    "plt.ylabel('Counts')\n",
    "plt.title('Distribution of Age in Crime Data')\n",
    "plt.grid(True)  # Optional: Adds a grid for easier visualization\n",
    "plt.show()\n"
   ]
  },
  {
   "cell_type": "code",
   "execution_count": 689,
   "id": "8ca47705",
   "metadata": {},
   "outputs": [
    {
     "data": {
      "text/plain": [
       "(99, 2)"
      ]
     },
     "execution_count": 689,
     "metadata": {},
     "output_type": "execute_result"
    }
   ],
   "source": [
    "la_crime_df[\"Vict_Age\"].max(), la_crime_df[\"Vict_Age\"].min()"
   ]
  },
  {
   "cell_type": "code",
   "execution_count": 690,
   "id": "e4f089ff",
   "metadata": {},
   "outputs": [
    {
     "data": {
      "text/plain": [
       "Vict_Descent\n",
       "-         1\n",
       "A     19980\n",
       "B    128204\n",
       "C      3706\n",
       "D        75\n",
       "F      3938\n",
       "G        67\n",
       "H    276655\n",
       "I       881\n",
       "J      1304\n",
       "K      5059\n",
       "L        62\n",
       "O     60991\n",
       "P       249\n",
       "S        45\n",
       "U       156\n",
       "V       981\n",
       "W    173400\n",
       "X     15065\n",
       "Z       458\n",
       "Name: Vict_Age, dtype: int64"
      ]
     },
     "execution_count": 690,
     "metadata": {},
     "output_type": "execute_result"
    }
   ],
   "source": [
    "# Top 5 Vict Descents\n",
    "top5 =la_crime_df.groupby([\"Vict_Descent\"])[\"Vict_Age\"].count()\n",
    "top5"
   ]
  },
  {
   "cell_type": "code",
   "execution_count": 691,
   "id": "fbdd1b66",
   "metadata": {},
   "outputs": [
    {
     "data": {
      "image/png": "[encoded data removed]",
      "text/plain": [
       "<Figure size 1200x800 with 1 Axes>"
      ]
     },
     "metadata": {},
     "output_type": "display_data"
    }
   ],
   "source": [
    "\n",
    "# Calculate the value counts for the 'Vict_Descent' column\n",
    "descent_counts = la_crime_df['Vict_Descent'].value_counts()\n",
    "\n",
    "# Plotting\n",
    "plt.figure(figsize=(12, 8))  # Adjust the size as needed\n",
    "plt.bar(descent_counts.index, descent_counts.values)\n",
    "plt.xlabel('Victim Descent')\n",
    "plt.ylabel('Counts')\n",
    "plt.title('Crime Count by Victim Descent')\n",
    "plt.xticks(rotation=90)  # Rotate labels for better readability if there are many categories\n",
    "plt.show()\n"
   ]
  },
  {
   "cell_type": "code",
   "execution_count": 692,
   "id": "707cc9f1",
   "metadata": {},
   "outputs": [
    {
     "data": {
      "image/png": "[encoded data removed]",
      "text/plain": [
       "<Figure size 1200x800 with 1 Axes>"
      ]
     },
     "metadata": {},
     "output_type": "display_data"
    }
   ],
   "source": [
    "\n",
    "\n",
    "# Renaming values in the 'Vict_Descent' column\n",
    "rename_dict = {\n",
    "    'H': 'Hispanic/Latin/Mexican',\n",
    "    'B': 'Black',\n",
    "    'W': 'White',\n",
    "    'A': 'Other Asian',\n",
    "    'X': 'Unknown',\n",
    "    'C': 'Chinese',\n",
    "    'D': 'Cambodian',  # Note the typo fix from 'Combodian' to 'Cambodian'\n",
    "    'F': 'Filipino',\n",
    "    'G': 'Guamanian',\n",
    "    'I': 'American Indian/Alaskan Native',  # Minor correction for consistency\n",
    "    'J': 'Japanese',\n",
    "    'K': 'Korean',\n",
    "    'L': 'Laotian',\n",
    "    'O': 'Other',\n",
    "    'S': 'Samoan',\n",
    "    'U': 'Hawaiian',\n",
    "    'V': 'Vietnamese',\n",
    "    'Z': 'Asian Indian'\n",
    "}\n",
    "\n",
    "for code, description in rename_dict.items():\n",
    "    la_crime_df.loc[la_crime_df[\"Vict_Descent\"] == code, \"Vict_Descent\"] = description\n",
    "\n",
    "# Plotting\n",
    "plt.style.use('ggplot')\n",
    "plt.figure(figsize=(12, 8))\n",
    "la_crime_df[\"Vict_Descent\"].value_counts()[:9].plot.bar(color=plt.cm.Pastel2(np.linspace(0, 1, 9)))\n",
    "plt.title('Victims Categorization by Ethnicity')\n",
    "plt.xlabel('Victim Ethnicity')\n",
    "plt.ylabel('Count of Crimes')\n",
    "plt.show()\n"
   ]
  },
  {
   "cell_type": "code",
   "execution_count": 693,
   "id": "3e37e1f0",
   "metadata": {},
   "outputs": [
    {
     "name": "stdout",
     "output_type": "stream",
     "text": [
      "Area_Name\n",
      "Southeast      36\n",
      "Pacific        35\n",
      "77th Street    30\n",
      "Central        28\n",
      "Newton         20\n",
      "Harbor         14\n",
      "N Hollywood    14\n",
      "Southwest      13\n",
      "Northeast      12\n",
      "Van Nuys       12\n",
      "Name: count, dtype: int64\n"
     ]
    },
    {
     "data": {
      "image/png": "[encoded data removed]",
      "text/plain": [
       "<Figure size 1000x600 with 1 Axes>"
      ]
     },
     "metadata": {},
     "output_type": "display_data"
    }
   ],
   "source": [
    "\n",
    "\n",
    "# Filtering the DataFrame for vehicle theft - adapt the condition to match your dataset's specifics\n",
    "vehicle_theft_df = la_crime_df[la_crime_df[\"Crm_Cd_Desc\"].str.contains(\"VEHICLE - STOLEN\", na=False)]\n",
    "\n",
    "# Counting occurrences in each area and getting the top 10\n",
    "top_vehicle_theft_areas = vehicle_theft_df['Area_Name'].value_counts().head(10)\n",
    "\n",
    "# Display the results\n",
    "print(top_vehicle_theft_areas)\n",
    "plt.figure(figsize=(10, 6))  # Set the figure size\n",
    "plt.bar(top_vehicle_theft_areas.index, top_vehicle_theft_areas.values)  # Plot a bar chart\n",
    "plt.title('Top 10 LA Areas for Vehicle Theft')\n",
    "plt.xlabel('Area Name') \n",
    "plt.ylabel('Number of Vehicle Thefts') \n",
    "plt.xticks(rotation=45) \n",
    "plt.show()  \n"
   ]
  },
  {
   "cell_type": "code",
   "execution_count": 694,
   "id": "4c20eb6c",
   "metadata": {},
   "outputs": [
    {
     "data": {
      "text/plain": [
       "(691277, 12)"
      ]
     },
     "execution_count": 694,
     "metadata": {},
     "output_type": "execute_result"
    }
   ],
   "source": [
    "la_crime_df.shape"
   ]
  },
  {
   "cell_type": "code",
   "execution_count": 695,
   "id": "e6df2a3d",
   "metadata": {},
   "outputs": [
    {
     "name": "stdout",
     "output_type": "stream",
     "text": [
      "<class 'pandas.core.frame.DataFrame'>\n",
      "Index: 691277 entries, 1 to 925718\n",
      "Data columns (total 12 columns):\n",
      " #   Column        Non-Null Count   Dtype         \n",
      "---  ------        --------------   -----         \n",
      " 0   Date_Occ      691277 non-null  datetime64[ns]\n",
      " 1   Time_Occ      691277 non-null  int64         \n",
      " 2   Area_Name     691277 non-null  object        \n",
      " 3   Part_1-2      691277 non-null  int64         \n",
      " 4   Crm_Cd_Desc   691277 non-null  object        \n",
      " 5   Vict_Age      691277 non-null  int64         \n",
      " 6   Vict_Sex      691277 non-null  object        \n",
      " 7   Vict_Descent  691277 non-null  object        \n",
      " 8   Status_Desc   691277 non-null  object        \n",
      " 9   Crm_Cd_1      691277 non-null  float64       \n",
      " 10  Lat           691277 non-null  float64       \n",
      " 11  Lon           691277 non-null  float64       \n",
      "dtypes: datetime64[ns](1), float64(3), int64(3), object(5)\n",
      "memory usage: 68.6+ MB\n"
     ]
    }
   ],
   "source": [
    "la_crime_df.info()"
   ]
  },
  {
   "cell_type": "code",
   "execution_count": null,
   "id": "2b2c4f7a",
   "metadata": {},
   "outputs": [],
   "source": []
  },
  {
   "cell_type": "code",
   "execution_count": 696,
   "id": "88c60d40",
   "metadata": {},
   "outputs": [],
   "source": [
    "#Pre Machine Learning \n",
    "#Visualize the data using pandas histogram for the continous variables "
   ]
  },
  {
   "cell_type": "code",
   "execution_count": 697,
   "id": "6644e662",
   "metadata": {},
   "outputs": [
    {
     "data": {
      "image/png": "[encoded data removed]",
      "text/plain": [
       "<Figure size 640x480 with 9 Axes>"
      ]
     },
     "metadata": {},
     "output_type": "display_data"
    },
    {
     "data": {
      "text/plain": [
       "<Figure size 1000x600 with 0 Axes>"
      ]
     },
     "metadata": {},
     "output_type": "display_data"
    }
   ],
   "source": [
    "la_crime_df.hist(rwidth=0.9)\n",
    "plt.figure(figsize=(10, 6))  # Set the figure size\n",
    "plt.tight_layout()"
   ]
  },
  {
   "cell_type": "code",
   "execution_count": 698,
   "id": "864b86b8",
   "metadata": {},
   "outputs": [],
   "source": [
    "#the above visualization looks like it is in normal distribution"
   ]
  },
  {
   "cell_type": "code",
   "execution_count": 699,
   "id": "6834c053",
   "metadata": {},
   "outputs": [
    {
     "data": {
      "text/html": [
       "<div>\n",
       "<style scoped>\n",
       "    .dataframe tbody tr th:only-of-type {\n",
       "        vertical-align: middle;\n",
       "    }\n",
       "\n",
       "    .dataframe tbody tr th {\n",
       "        vertical-align: top;\n",
       "    }\n",
       "\n",
       "    .dataframe thead th {\n",
       "        text-align: right;\n",
       "    }\n",
       "</style>\n",
       "<table border=\"1\" class=\"dataframe\">\n",
       "  <thead>\n",
       "    <tr style=\"text-align: right;\">\n",
       "      <th></th>\n",
       "      <th>Date_Occ</th>\n",
       "      <th>Time_Occ</th>\n",
       "      <th>Area_Name</th>\n",
       "      <th>Part_1-2</th>\n",
       "      <th>Crm_Cd_Desc</th>\n",
       "      <th>Vict_Age</th>\n",
       "      <th>Vict_Sex</th>\n",
       "      <th>Vict_Descent</th>\n",
       "      <th>Status_Desc</th>\n",
       "      <th>Crm_Cd_1</th>\n",
       "      <th>Lat</th>\n",
       "      <th>Lon</th>\n",
       "    </tr>\n",
       "  </thead>\n",
       "  <tbody>\n",
       "    <tr>\n",
       "      <th>1</th>\n",
       "      <td>2020-02-08</td>\n",
       "      <td>1800</td>\n",
       "      <td>Central</td>\n",
       "      <td>1</td>\n",
       "      <td>BURGLARY FROM VEHICLE</td>\n",
       "      <td>47</td>\n",
       "      <td>M</td>\n",
       "      <td>Other</td>\n",
       "      <td>Invest Cont</td>\n",
       "      <td>330.0</td>\n",
       "      <td>34.0444</td>\n",
       "      <td>-118.2628</td>\n",
       "    </tr>\n",
       "    <tr>\n",
       "      <th>2</th>\n",
       "      <td>2020-11-04</td>\n",
       "      <td>1700</td>\n",
       "      <td>Southwest</td>\n",
       "      <td>1</td>\n",
       "      <td>BIKE - STOLEN</td>\n",
       "      <td>19</td>\n",
       "      <td>X</td>\n",
       "      <td>Unknown</td>\n",
       "      <td>Invest Cont</td>\n",
       "      <td>480.0</td>\n",
       "      <td>34.0210</td>\n",
       "      <td>-118.3002</td>\n",
       "    </tr>\n",
       "    <tr>\n",
       "      <th>3</th>\n",
       "      <td>2020-03-10</td>\n",
       "      <td>2037</td>\n",
       "      <td>Van Nuys</td>\n",
       "      <td>1</td>\n",
       "      <td>SHOPLIFTING-GRAND THEFT ($950.01 &amp; OVER)</td>\n",
       "      <td>19</td>\n",
       "      <td>M</td>\n",
       "      <td>Other</td>\n",
       "      <td>Invest Cont</td>\n",
       "      <td>343.0</td>\n",
       "      <td>34.1576</td>\n",
       "      <td>-118.4387</td>\n",
       "    </tr>\n",
       "    <tr>\n",
       "      <th>4</th>\n",
       "      <td>2020-08-17</td>\n",
       "      <td>1200</td>\n",
       "      <td>Hollywood</td>\n",
       "      <td>2</td>\n",
       "      <td>THEFT OF IDENTITY</td>\n",
       "      <td>28</td>\n",
       "      <td>M</td>\n",
       "      <td>Hispanic/Latin/Mexican</td>\n",
       "      <td>Invest Cont</td>\n",
       "      <td>354.0</td>\n",
       "      <td>34.0944</td>\n",
       "      <td>-118.3277</td>\n",
       "    </tr>\n",
       "    <tr>\n",
       "      <th>5</th>\n",
       "      <td>2020-12-01</td>\n",
       "      <td>2300</td>\n",
       "      <td>Southeast</td>\n",
       "      <td>2</td>\n",
       "      <td>THEFT OF IDENTITY</td>\n",
       "      <td>41</td>\n",
       "      <td>M</td>\n",
       "      <td>Hispanic/Latin/Mexican</td>\n",
       "      <td>Invest Cont</td>\n",
       "      <td>354.0</td>\n",
       "      <td>33.9467</td>\n",
       "      <td>-118.2463</td>\n",
       "    </tr>\n",
       "  </tbody>\n",
       "</table>\n",
       "</div>"
      ],
      "text/plain": [
       "    Date_Occ  Time_Occ  Area_Name  Part_1-2  \\\n",
       "1 2020-02-08      1800    Central         1   \n",
       "2 2020-11-04      1700  Southwest         1   \n",
       "3 2020-03-10      2037   Van Nuys         1   \n",
       "4 2020-08-17      1200  Hollywood         2   \n",
       "5 2020-12-01      2300  Southeast         2   \n",
       "\n",
       "                                Crm_Cd_Desc  Vict_Age Vict_Sex  \\\n",
       "1                     BURGLARY FROM VEHICLE        47        M   \n",
       "2                             BIKE - STOLEN        19        X   \n",
       "3  SHOPLIFTING-GRAND THEFT ($950.01 & OVER)        19        M   \n",
       "4                         THEFT OF IDENTITY        28        M   \n",
       "5                         THEFT OF IDENTITY        41        M   \n",
       "\n",
       "             Vict_Descent  Status_Desc  Crm_Cd_1      Lat       Lon  \n",
       "1                   Other  Invest Cont     330.0  34.0444 -118.2628  \n",
       "2                 Unknown  Invest Cont     480.0  34.0210 -118.3002  \n",
       "3                   Other  Invest Cont     343.0  34.1576 -118.4387  \n",
       "4  Hispanic/Latin/Mexican  Invest Cont     354.0  34.0944 -118.3277  \n",
       "5  Hispanic/Latin/Mexican  Invest Cont     354.0  33.9467 -118.2463  "
      ]
     },
     "execution_count": 699,
     "metadata": {},
     "output_type": "execute_result"
    }
   ],
   "source": [
    "la_crime_df.head()"
   ]
  },
  {
   "cell_type": "code",
   "execution_count": null,
   "id": "3308875d",
   "metadata": {},
   "outputs": [],
   "source": []
  },
  {
   "cell_type": "code",
   "execution_count": 700,
   "id": "f05c1eeb",
   "metadata": {},
   "outputs": [],
   "source": [
    "la_crime_df = la_crime_df[[\"Vict_Sex\",\"Vict_Age\",\"Lat\",\"Lon\",\"Area_Name\",\"Crm_Cd_Desc\"]]"
   ]
  },
  {
   "cell_type": "code",
   "execution_count": 701,
   "id": "3a352961",
   "metadata": {},
   "outputs": [
    {
     "data": {
      "text/html": [
       "<div>\n",
       "<style scoped>\n",
       "    .dataframe tbody tr th:only-of-type {\n",
       "        vertical-align: middle;\n",
       "    }\n",
       "\n",
       "    .dataframe tbody tr th {\n",
       "        vertical-align: top;\n",
       "    }\n",
       "\n",
       "    .dataframe thead th {\n",
       "        text-align: right;\n",
       "    }\n",
       "</style>\n",
       "<table border=\"1\" class=\"dataframe\">\n",
       "  <thead>\n",
       "    <tr style=\"text-align: right;\">\n",
       "      <th></th>\n",
       "      <th>Vict_Sex</th>\n",
       "      <th>Vict_Age</th>\n",
       "      <th>Lat</th>\n",
       "      <th>Lon</th>\n",
       "      <th>Area_Name</th>\n",
       "      <th>Crm_Cd_Desc</th>\n",
       "    </tr>\n",
       "  </thead>\n",
       "  <tbody>\n",
       "    <tr>\n",
       "      <th>1</th>\n",
       "      <td>M</td>\n",
       "      <td>47</td>\n",
       "      <td>34.0444</td>\n",
       "      <td>-118.2628</td>\n",
       "      <td>Central</td>\n",
       "      <td>BURGLARY FROM VEHICLE</td>\n",
       "    </tr>\n",
       "    <tr>\n",
       "      <th>2</th>\n",
       "      <td>X</td>\n",
       "      <td>19</td>\n",
       "      <td>34.0210</td>\n",
       "      <td>-118.3002</td>\n",
       "      <td>Southwest</td>\n",
       "      <td>BIKE - STOLEN</td>\n",
       "    </tr>\n",
       "    <tr>\n",
       "      <th>3</th>\n",
       "      <td>M</td>\n",
       "      <td>19</td>\n",
       "      <td>34.1576</td>\n",
       "      <td>-118.4387</td>\n",
       "      <td>Van Nuys</td>\n",
       "      <td>SHOPLIFTING-GRAND THEFT ($950.01 &amp; OVER)</td>\n",
       "    </tr>\n",
       "    <tr>\n",
       "      <th>4</th>\n",
       "      <td>M</td>\n",
       "      <td>28</td>\n",
       "      <td>34.0944</td>\n",
       "      <td>-118.3277</td>\n",
       "      <td>Hollywood</td>\n",
       "      <td>THEFT OF IDENTITY</td>\n",
       "    </tr>\n",
       "    <tr>\n",
       "      <th>5</th>\n",
       "      <td>M</td>\n",
       "      <td>41</td>\n",
       "      <td>33.9467</td>\n",
       "      <td>-118.2463</td>\n",
       "      <td>Southeast</td>\n",
       "      <td>THEFT OF IDENTITY</td>\n",
       "    </tr>\n",
       "  </tbody>\n",
       "</table>\n",
       "</div>"
      ],
      "text/plain": [
       "  Vict_Sex  Vict_Age      Lat       Lon  Area_Name  \\\n",
       "1        M        47  34.0444 -118.2628    Central   \n",
       "2        X        19  34.0210 -118.3002  Southwest   \n",
       "3        M        19  34.1576 -118.4387   Van Nuys   \n",
       "4        M        28  34.0944 -118.3277  Hollywood   \n",
       "5        M        41  33.9467 -118.2463  Southeast   \n",
       "\n",
       "                                Crm_Cd_Desc  \n",
       "1                     BURGLARY FROM VEHICLE  \n",
       "2                             BIKE - STOLEN  \n",
       "3  SHOPLIFTING-GRAND THEFT ($950.01 & OVER)  \n",
       "4                         THEFT OF IDENTITY  \n",
       "5                         THEFT OF IDENTITY  "
      ]
     },
     "execution_count": 701,
     "metadata": {},
     "output_type": "execute_result"
    }
   ],
   "source": [
    "la_crime_df.head()"
   ]
  },
  {
   "cell_type": "code",
   "execution_count": 702,
   "id": "1e36d478",
   "metadata": {
    "scrolled": true
   },
   "outputs": [
    {
     "data": {
      "text/plain": [
       "Vict_Sex\n",
       "M    348235\n",
       "F    334231\n",
       "X      8811\n",
       "Name: count, dtype: int64"
      ]
     },
     "execution_count": 702,
     "metadata": {},
     "output_type": "execute_result"
    }
   ],
   "source": [
    "la_crime_df[\"Vict_Sex\"].value_counts()"
   ]
  },
  {
   "cell_type": "code",
   "execution_count": 703,
   "id": "33bdd599",
   "metadata": {},
   "outputs": [
    {
     "data": {
      "text/plain": [
       "Area_Name\n",
       "Central        48784\n",
       "77th Street    43957\n",
       "Southwest      43942\n",
       "Pacific        38818\n",
       "Hollywood      36911\n",
       "Southeast      35001\n",
       "Olympic        34395\n",
       "N Hollywood    33538\n",
       "Wilshire       33532\n",
       "Topanga        32063\n",
       "Newton         31979\n",
       "Rampart        31494\n",
       "West LA        31439\n",
       "Van Nuys       31116\n",
       "West Valley    29015\n",
       "Mission        28132\n",
       "Northeast      27657\n",
       "Devonshire     27176\n",
       "Harbor         26191\n",
       "Foothill       23117\n",
       "Hollenbeck     23020\n",
       "Name: count, dtype: int64"
      ]
     },
     "execution_count": 703,
     "metadata": {},
     "output_type": "execute_result"
    }
   ],
   "source": [
    "la_crime_df[\"Area_Name\"].value_counts()"
   ]
  },
  {
   "cell_type": "code",
   "execution_count": 704,
   "id": "9b7cc245",
   "metadata": {
    "scrolled": true
   },
   "outputs": [
    {
     "name": "stdout",
     "output_type": "stream",
     "text": [
      "<class 'pandas.core.frame.DataFrame'>\n",
      "Index: 691277 entries, 1 to 925718\n",
      "Data columns (total 6 columns):\n",
      " #   Column       Non-Null Count   Dtype  \n",
      "---  ------       --------------   -----  \n",
      " 0   Vict_Sex     691277 non-null  object \n",
      " 1   Vict_Age     691277 non-null  int64  \n",
      " 2   Lat          691277 non-null  float64\n",
      " 3   Lon          691277 non-null  float64\n",
      " 4   Area_Name    691277 non-null  object \n",
      " 5   Crm_Cd_Desc  691277 non-null  object \n",
      "dtypes: float64(2), int64(1), object(3)\n",
      "memory usage: 36.9+ MB\n"
     ]
    }
   ],
   "source": [
    "la_crime_df.info()"
   ]
  },
  {
   "cell_type": "code",
   "execution_count": 705,
   "id": "5411db01",
   "metadata": {},
   "outputs": [],
   "source": [
    "#change the object dtypes into categorical\n",
    "la_crime_df[\"Vict_Sex\"] = la_crime_df[\"Vict_Sex\"].astype(\"category\")\n",
    "la_crime_df[\"Area_Name\"] = la_crime_df[\"Area_Name\"].astype(\"category\")"
   ]
  },
  {
   "cell_type": "code",
   "execution_count": 706,
   "id": "009f3249",
   "metadata": {},
   "outputs": [
    {
     "name": "stdout",
     "output_type": "stream",
     "text": [
      "<class 'pandas.core.frame.DataFrame'>\n",
      "Index: 691277 entries, 1 to 925718\n",
      "Data columns (total 6 columns):\n",
      " #   Column       Non-Null Count   Dtype   \n",
      "---  ------       --------------   -----   \n",
      " 0   Vict_Sex     691277 non-null  category\n",
      " 1   Vict_Age     691277 non-null  int64   \n",
      " 2   Lat          691277 non-null  float64 \n",
      " 3   Lon          691277 non-null  float64 \n",
      " 4   Area_Name    691277 non-null  category\n",
      " 5   Crm_Cd_Desc  691277 non-null  object  \n",
      "dtypes: category(2), float64(2), int64(1), object(1)\n",
      "memory usage: 27.7+ MB\n"
     ]
    }
   ],
   "source": [
    "la_crime_df.info()"
   ]
  },
  {
   "cell_type": "code",
   "execution_count": 707,
   "id": "19817707",
   "metadata": {},
   "outputs": [],
   "source": [
    "#Target/dependent Variable Crm_Cd_Desc\n",
    "#independent variables Vict_Sex, Vict_Age, Lat, Lon,Area_Name"
   ]
  },
  {
   "cell_type": "code",
   "execution_count": 708,
   "id": "3acd55a6",
   "metadata": {},
   "outputs": [
    {
     "data": {
      "text/plain": [
       "Vict_Sex       category\n",
       "Vict_Age          int64\n",
       "Lat             float64\n",
       "Lon             float64\n",
       "Area_Name      category\n",
       "Crm_Cd_Desc      object\n",
       "dtype: object"
      ]
     },
     "execution_count": 708,
     "metadata": {},
     "output_type": "execute_result"
    }
   ],
   "source": [
    "la_crime_df.dtypes"
   ]
  },
  {
   "cell_type": "code",
   "execution_count": 709,
   "id": "00a559e7",
   "metadata": {},
   "outputs": [
    {
     "data": {
      "text/html": [
       "<div>\n",
       "<style scoped>\n",
       "    .dataframe tbody tr th:only-of-type {\n",
       "        vertical-align: middle;\n",
       "    }\n",
       "\n",
       "    .dataframe tbody tr th {\n",
       "        vertical-align: top;\n",
       "    }\n",
       "\n",
       "    .dataframe thead th {\n",
       "        text-align: right;\n",
       "    }\n",
       "</style>\n",
       "<table border=\"1\" class=\"dataframe\">\n",
       "  <thead>\n",
       "    <tr style=\"text-align: right;\">\n",
       "      <th></th>\n",
       "      <th>Vict_Age</th>\n",
       "      <th>Lat</th>\n",
       "      <th>Lon</th>\n",
       "      <th>Crm_Cd_Desc</th>\n",
       "      <th>Vict_Sex_F</th>\n",
       "      <th>Vict_Sex_M</th>\n",
       "      <th>Vict_Sex_X</th>\n",
       "      <th>Area_Name_77th Street</th>\n",
       "      <th>Area_Name_Central</th>\n",
       "      <th>Area_Name_Devonshire</th>\n",
       "      <th>...</th>\n",
       "      <th>Area_Name_Olympic</th>\n",
       "      <th>Area_Name_Pacific</th>\n",
       "      <th>Area_Name_Rampart</th>\n",
       "      <th>Area_Name_Southeast</th>\n",
       "      <th>Area_Name_Southwest</th>\n",
       "      <th>Area_Name_Topanga</th>\n",
       "      <th>Area_Name_Van Nuys</th>\n",
       "      <th>Area_Name_West LA</th>\n",
       "      <th>Area_Name_West Valley</th>\n",
       "      <th>Area_Name_Wilshire</th>\n",
       "    </tr>\n",
       "  </thead>\n",
       "  <tbody>\n",
       "    <tr>\n",
       "      <th>1</th>\n",
       "      <td>47</td>\n",
       "      <td>34.0444</td>\n",
       "      <td>-118.2628</td>\n",
       "      <td>BURGLARY FROM VEHICLE</td>\n",
       "      <td>0</td>\n",
       "      <td>1</td>\n",
       "      <td>0</td>\n",
       "      <td>0</td>\n",
       "      <td>1</td>\n",
       "      <td>0</td>\n",
       "      <td>...</td>\n",
       "      <td>0</td>\n",
       "      <td>0</td>\n",
       "      <td>0</td>\n",
       "      <td>0</td>\n",
       "      <td>0</td>\n",
       "      <td>0</td>\n",
       "      <td>0</td>\n",
       "      <td>0</td>\n",
       "      <td>0</td>\n",
       "      <td>0</td>\n",
       "    </tr>\n",
       "    <tr>\n",
       "      <th>2</th>\n",
       "      <td>19</td>\n",
       "      <td>34.0210</td>\n",
       "      <td>-118.3002</td>\n",
       "      <td>BIKE - STOLEN</td>\n",
       "      <td>0</td>\n",
       "      <td>0</td>\n",
       "      <td>1</td>\n",
       "      <td>0</td>\n",
       "      <td>0</td>\n",
       "      <td>0</td>\n",
       "      <td>...</td>\n",
       "      <td>0</td>\n",
       "      <td>0</td>\n",
       "      <td>0</td>\n",
       "      <td>0</td>\n",
       "      <td>1</td>\n",
       "      <td>0</td>\n",
       "      <td>0</td>\n",
       "      <td>0</td>\n",
       "      <td>0</td>\n",
       "      <td>0</td>\n",
       "    </tr>\n",
       "  </tbody>\n",
       "</table>\n",
       "<p>2 rows × 28 columns</p>\n",
       "</div>"
      ],
      "text/plain": [
       "   Vict_Age      Lat       Lon            Crm_Cd_Desc  Vict_Sex_F  Vict_Sex_M  \\\n",
       "1        47  34.0444 -118.2628  BURGLARY FROM VEHICLE           0           1   \n",
       "2        19  34.0210 -118.3002          BIKE - STOLEN           0           0   \n",
       "\n",
       "   Vict_Sex_X  Area_Name_77th Street  Area_Name_Central  Area_Name_Devonshire  \\\n",
       "1           0                      0                  1                     0   \n",
       "2           1                      0                  0                     0   \n",
       "\n",
       "   ...  Area_Name_Olympic  Area_Name_Pacific  Area_Name_Rampart  \\\n",
       "1  ...                  0                  0                  0   \n",
       "2  ...                  0                  0                  0   \n",
       "\n",
       "   Area_Name_Southeast  Area_Name_Southwest  Area_Name_Topanga  \\\n",
       "1                    0                    0                  0   \n",
       "2                    0                    1                  0   \n",
       "\n",
       "   Area_Name_Van Nuys  Area_Name_West LA  Area_Name_West Valley  \\\n",
       "1                   0                  0                      0   \n",
       "2                   0                  0                      0   \n",
       "\n",
       "   Area_Name_Wilshire  \n",
       "1                   0  \n",
       "2                   0  \n",
       "\n",
       "[2 rows x 28 columns]"
      ]
     },
     "execution_count": 709,
     "metadata": {},
     "output_type": "execute_result"
    }
   ],
   "source": [
    "\n",
    "# Convert 'Vict_Sex' and 'Area_Name' to dummy variables\n",
    "dummies = pd.get_dummies(la_crime_df[['Vict_Sex', 'Area_Name']])\n",
    "dummies =dummies.astype(int)\n",
    "\n",
    "# Concatenate the dummy DataFrame with the original DataFrame (optional)\n",
    "# This step assumes you want to keep the rest of your data alongside the new dummy variables\n",
    "la_crime_df = pd.concat([la_crime_df, dummies], axis=1)\n",
    "\n",
    "# Optionally, you might want to drop the original columns if they are no longer needed\n",
    "la_crime_df.drop(['Vict_Sex', 'Area_Name'], axis=1, inplace=True)\n",
    "\n",
    "# Display the DataFrame to verify changes\n",
    "la_crime_df.head(2)\n"
   ]
  },
  {
   "cell_type": "code",
   "execution_count": 710,
   "id": "ed02f98b",
   "metadata": {},
   "outputs": [],
   "source": [
    "\n",
    "#creating x and y variables\n",
    "x= la_crime_df.drop(\"Crm_Cd_Desc\", axis = 1)\n",
    "y=la_crime_df[\"Crm_Cd_Desc\"]"
   ]
  },
  {
   "cell_type": "code",
   "execution_count": 711,
   "id": "ece7e83a",
   "metadata": {},
   "outputs": [
    {
     "data": {
      "text/plain": [
       "(691277, 27)"
      ]
     },
     "execution_count": 711,
     "metadata": {},
     "output_type": "execute_result"
    }
   ],
   "source": [
    "x.shape # its a dataframe"
   ]
  },
  {
   "cell_type": "code",
   "execution_count": 712,
   "id": "34472738",
   "metadata": {},
   "outputs": [
    {
     "data": {
      "text/plain": [
       "(691277,)"
      ]
     },
     "execution_count": 712,
     "metadata": {},
     "output_type": "execute_result"
    }
   ],
   "source": [
    "y.shape # series "
   ]
  },
  {
   "cell_type": "code",
   "execution_count": 713,
   "id": "4fc13b50",
   "metadata": {},
   "outputs": [
    {
     "data": {
      "text/plain": [
       "1                                   BURGLARY FROM VEHICLE\n",
       "2                                           BIKE - STOLEN\n",
       "3                SHOPLIFTING-GRAND THEFT ($950.01 & OVER)\n",
       "4                                       THEFT OF IDENTITY\n",
       "5                                       THEFT OF IDENTITY\n",
       "                               ...                       \n",
       "925714                                  THEFT OF IDENTITY\n",
       "925715                                        TRESPASSING\n",
       "925716     ASSAULT WITH DEADLY WEAPON, AGGRAVATED ASSAULT\n",
       "925717    THEFT FROM MOTOR VEHICLE - PETTY ($950 & UNDER)\n",
       "925718                           BATTERY - SIMPLE ASSAULT\n",
       "Name: Crm_Cd_Desc, Length: 691277, dtype: object"
      ]
     },
     "execution_count": 713,
     "metadata": {},
     "output_type": "execute_result"
    }
   ],
   "source": [
    "y"
   ]
  },
  {
   "cell_type": "code",
   "execution_count": 714,
   "id": "d7e2a849",
   "metadata": {},
   "outputs": [
    {
     "data": {
      "text/html": [
       "<div>\n",
       "<style scoped>\n",
       "    .dataframe tbody tr th:only-of-type {\n",
       "        vertical-align: middle;\n",
       "    }\n",
       "\n",
       "    .dataframe tbody tr th {\n",
       "        vertical-align: top;\n",
       "    }\n",
       "\n",
       "    .dataframe thead th {\n",
       "        text-align: right;\n",
       "    }\n",
       "</style>\n",
       "<table border=\"1\" class=\"dataframe\">\n",
       "  <thead>\n",
       "    <tr style=\"text-align: right;\">\n",
       "      <th></th>\n",
       "      <th>Vict_Age</th>\n",
       "      <th>Lat</th>\n",
       "      <th>Lon</th>\n",
       "      <th>Vict_Sex_F</th>\n",
       "      <th>Vict_Sex_M</th>\n",
       "      <th>Vict_Sex_X</th>\n",
       "      <th>Area_Name_77th Street</th>\n",
       "      <th>Area_Name_Central</th>\n",
       "      <th>Area_Name_Devonshire</th>\n",
       "      <th>Area_Name_Foothill</th>\n",
       "      <th>...</th>\n",
       "      <th>Area_Name_Olympic</th>\n",
       "      <th>Area_Name_Pacific</th>\n",
       "      <th>Area_Name_Rampart</th>\n",
       "      <th>Area_Name_Southeast</th>\n",
       "      <th>Area_Name_Southwest</th>\n",
       "      <th>Area_Name_Topanga</th>\n",
       "      <th>Area_Name_Van Nuys</th>\n",
       "      <th>Area_Name_West LA</th>\n",
       "      <th>Area_Name_West Valley</th>\n",
       "      <th>Area_Name_Wilshire</th>\n",
       "    </tr>\n",
       "  </thead>\n",
       "  <tbody>\n",
       "    <tr>\n",
       "      <th>1</th>\n",
       "      <td>47</td>\n",
       "      <td>34.0444</td>\n",
       "      <td>-118.2628</td>\n",
       "      <td>0</td>\n",
       "      <td>1</td>\n",
       "      <td>0</td>\n",
       "      <td>0</td>\n",
       "      <td>1</td>\n",
       "      <td>0</td>\n",
       "      <td>0</td>\n",
       "      <td>...</td>\n",
       "      <td>0</td>\n",
       "      <td>0</td>\n",
       "      <td>0</td>\n",
       "      <td>0</td>\n",
       "      <td>0</td>\n",
       "      <td>0</td>\n",
       "      <td>0</td>\n",
       "      <td>0</td>\n",
       "      <td>0</td>\n",
       "      <td>0</td>\n",
       "    </tr>\n",
       "    <tr>\n",
       "      <th>2</th>\n",
       "      <td>19</td>\n",
       "      <td>34.0210</td>\n",
       "      <td>-118.3002</td>\n",
       "      <td>0</td>\n",
       "      <td>0</td>\n",
       "      <td>1</td>\n",
       "      <td>0</td>\n",
       "      <td>0</td>\n",
       "      <td>0</td>\n",
       "      <td>0</td>\n",
       "      <td>...</td>\n",
       "      <td>0</td>\n",
       "      <td>0</td>\n",
       "      <td>0</td>\n",
       "      <td>0</td>\n",
       "      <td>1</td>\n",
       "      <td>0</td>\n",
       "      <td>0</td>\n",
       "      <td>0</td>\n",
       "      <td>0</td>\n",
       "      <td>0</td>\n",
       "    </tr>\n",
       "    <tr>\n",
       "      <th>3</th>\n",
       "      <td>19</td>\n",
       "      <td>34.1576</td>\n",
       "      <td>-118.4387</td>\n",
       "      <td>0</td>\n",
       "      <td>1</td>\n",
       "      <td>0</td>\n",
       "      <td>0</td>\n",
       "      <td>0</td>\n",
       "      <td>0</td>\n",
       "      <td>0</td>\n",
       "      <td>...</td>\n",
       "      <td>0</td>\n",
       "      <td>0</td>\n",
       "      <td>0</td>\n",
       "      <td>0</td>\n",
       "      <td>0</td>\n",
       "      <td>0</td>\n",
       "      <td>1</td>\n",
       "      <td>0</td>\n",
       "      <td>0</td>\n",
       "      <td>0</td>\n",
       "    </tr>\n",
       "    <tr>\n",
       "      <th>4</th>\n",
       "      <td>28</td>\n",
       "      <td>34.0944</td>\n",
       "      <td>-118.3277</td>\n",
       "      <td>0</td>\n",
       "      <td>1</td>\n",
       "      <td>0</td>\n",
       "      <td>0</td>\n",
       "      <td>0</td>\n",
       "      <td>0</td>\n",
       "      <td>0</td>\n",
       "      <td>...</td>\n",
       "      <td>0</td>\n",
       "      <td>0</td>\n",
       "      <td>0</td>\n",
       "      <td>0</td>\n",
       "      <td>0</td>\n",
       "      <td>0</td>\n",
       "      <td>0</td>\n",
       "      <td>0</td>\n",
       "      <td>0</td>\n",
       "      <td>0</td>\n",
       "    </tr>\n",
       "    <tr>\n",
       "      <th>5</th>\n",
       "      <td>41</td>\n",
       "      <td>33.9467</td>\n",
       "      <td>-118.2463</td>\n",
       "      <td>0</td>\n",
       "      <td>1</td>\n",
       "      <td>0</td>\n",
       "      <td>0</td>\n",
       "      <td>0</td>\n",
       "      <td>0</td>\n",
       "      <td>0</td>\n",
       "      <td>...</td>\n",
       "      <td>0</td>\n",
       "      <td>0</td>\n",
       "      <td>0</td>\n",
       "      <td>1</td>\n",
       "      <td>0</td>\n",
       "      <td>0</td>\n",
       "      <td>0</td>\n",
       "      <td>0</td>\n",
       "      <td>0</td>\n",
       "      <td>0</td>\n",
       "    </tr>\n",
       "    <tr>\n",
       "      <th>...</th>\n",
       "      <td>...</td>\n",
       "      <td>...</td>\n",
       "      <td>...</td>\n",
       "      <td>...</td>\n",
       "      <td>...</td>\n",
       "      <td>...</td>\n",
       "      <td>...</td>\n",
       "      <td>...</td>\n",
       "      <td>...</td>\n",
       "      <td>...</td>\n",
       "      <td>...</td>\n",
       "      <td>...</td>\n",
       "      <td>...</td>\n",
       "      <td>...</td>\n",
       "      <td>...</td>\n",
       "      <td>...</td>\n",
       "      <td>...</td>\n",
       "      <td>...</td>\n",
       "      <td>...</td>\n",
       "      <td>...</td>\n",
       "      <td>...</td>\n",
       "    </tr>\n",
       "    <tr>\n",
       "      <th>925714</th>\n",
       "      <td>62</td>\n",
       "      <td>34.2707</td>\n",
       "      <td>-118.2917</td>\n",
       "      <td>1</td>\n",
       "      <td>0</td>\n",
       "      <td>0</td>\n",
       "      <td>0</td>\n",
       "      <td>0</td>\n",
       "      <td>0</td>\n",
       "      <td>1</td>\n",
       "      <td>...</td>\n",
       "      <td>0</td>\n",
       "      <td>0</td>\n",
       "      <td>0</td>\n",
       "      <td>0</td>\n",
       "      <td>0</td>\n",
       "      <td>0</td>\n",
       "      <td>0</td>\n",
       "      <td>0</td>\n",
       "      <td>0</td>\n",
       "      <td>0</td>\n",
       "    </tr>\n",
       "    <tr>\n",
       "      <th>925715</th>\n",
       "      <td>79</td>\n",
       "      <td>34.2278</td>\n",
       "      <td>-118.4051</td>\n",
       "      <td>0</td>\n",
       "      <td>1</td>\n",
       "      <td>0</td>\n",
       "      <td>0</td>\n",
       "      <td>0</td>\n",
       "      <td>0</td>\n",
       "      <td>1</td>\n",
       "      <td>...</td>\n",
       "      <td>0</td>\n",
       "      <td>0</td>\n",
       "      <td>0</td>\n",
       "      <td>0</td>\n",
       "      <td>0</td>\n",
       "      <td>0</td>\n",
       "      <td>0</td>\n",
       "      <td>0</td>\n",
       "      <td>0</td>\n",
       "      <td>0</td>\n",
       "    </tr>\n",
       "    <tr>\n",
       "      <th>925716</th>\n",
       "      <td>36</td>\n",
       "      <td>34.2271</td>\n",
       "      <td>-118.3878</td>\n",
       "      <td>0</td>\n",
       "      <td>1</td>\n",
       "      <td>0</td>\n",
       "      <td>0</td>\n",
       "      <td>0</td>\n",
       "      <td>0</td>\n",
       "      <td>1</td>\n",
       "      <td>...</td>\n",
       "      <td>0</td>\n",
       "      <td>0</td>\n",
       "      <td>0</td>\n",
       "      <td>0</td>\n",
       "      <td>0</td>\n",
       "      <td>0</td>\n",
       "      <td>0</td>\n",
       "      <td>0</td>\n",
       "      <td>0</td>\n",
       "      <td>0</td>\n",
       "    </tr>\n",
       "    <tr>\n",
       "      <th>925717</th>\n",
       "      <td>44</td>\n",
       "      <td>34.2260</td>\n",
       "      <td>-118.6214</td>\n",
       "      <td>1</td>\n",
       "      <td>0</td>\n",
       "      <td>0</td>\n",
       "      <td>0</td>\n",
       "      <td>0</td>\n",
       "      <td>0</td>\n",
       "      <td>0</td>\n",
       "      <td>...</td>\n",
       "      <td>0</td>\n",
       "      <td>0</td>\n",
       "      <td>0</td>\n",
       "      <td>0</td>\n",
       "      <td>0</td>\n",
       "      <td>1</td>\n",
       "      <td>0</td>\n",
       "      <td>0</td>\n",
       "      <td>0</td>\n",
       "      <td>0</td>\n",
       "    </tr>\n",
       "    <tr>\n",
       "      <th>925718</th>\n",
       "      <td>80</td>\n",
       "      <td>34.0690</td>\n",
       "      <td>-118.3054</td>\n",
       "      <td>1</td>\n",
       "      <td>0</td>\n",
       "      <td>0</td>\n",
       "      <td>0</td>\n",
       "      <td>0</td>\n",
       "      <td>0</td>\n",
       "      <td>0</td>\n",
       "      <td>...</td>\n",
       "      <td>1</td>\n",
       "      <td>0</td>\n",
       "      <td>0</td>\n",
       "      <td>0</td>\n",
       "      <td>0</td>\n",
       "      <td>0</td>\n",
       "      <td>0</td>\n",
       "      <td>0</td>\n",
       "      <td>0</td>\n",
       "      <td>0</td>\n",
       "    </tr>\n",
       "  </tbody>\n",
       "</table>\n",
       "<p>691277 rows × 27 columns</p>\n",
       "</div>"
      ],
      "text/plain": [
       "        Vict_Age      Lat       Lon  Vict_Sex_F  Vict_Sex_M  Vict_Sex_X  \\\n",
       "1             47  34.0444 -118.2628           0           1           0   \n",
       "2             19  34.0210 -118.3002           0           0           1   \n",
       "3             19  34.1576 -118.4387           0           1           0   \n",
       "4             28  34.0944 -118.3277           0           1           0   \n",
       "5             41  33.9467 -118.2463           0           1           0   \n",
       "...          ...      ...       ...         ...         ...         ...   \n",
       "925714        62  34.2707 -118.2917           1           0           0   \n",
       "925715        79  34.2278 -118.4051           0           1           0   \n",
       "925716        36  34.2271 -118.3878           0           1           0   \n",
       "925717        44  34.2260 -118.6214           1           0           0   \n",
       "925718        80  34.0690 -118.3054           1           0           0   \n",
       "\n",
       "        Area_Name_77th Street  Area_Name_Central  Area_Name_Devonshire  \\\n",
       "1                           0                  1                     0   \n",
       "2                           0                  0                     0   \n",
       "3                           0                  0                     0   \n",
       "4                           0                  0                     0   \n",
       "5                           0                  0                     0   \n",
       "...                       ...                ...                   ...   \n",
       "925714                      0                  0                     0   \n",
       "925715                      0                  0                     0   \n",
       "925716                      0                  0                     0   \n",
       "925717                      0                  0                     0   \n",
       "925718                      0                  0                     0   \n",
       "\n",
       "        Area_Name_Foothill  ...  Area_Name_Olympic  Area_Name_Pacific  \\\n",
       "1                        0  ...                  0                  0   \n",
       "2                        0  ...                  0                  0   \n",
       "3                        0  ...                  0                  0   \n",
       "4                        0  ...                  0                  0   \n",
       "5                        0  ...                  0                  0   \n",
       "...                    ...  ...                ...                ...   \n",
       "925714                   1  ...                  0                  0   \n",
       "925715                   1  ...                  0                  0   \n",
       "925716                   1  ...                  0                  0   \n",
       "925717                   0  ...                  0                  0   \n",
       "925718                   0  ...                  1                  0   \n",
       "\n",
       "        Area_Name_Rampart  Area_Name_Southeast  Area_Name_Southwest  \\\n",
       "1                       0                    0                    0   \n",
       "2                       0                    0                    1   \n",
       "3                       0                    0                    0   \n",
       "4                       0                    0                    0   \n",
       "5                       0                    1                    0   \n",
       "...                   ...                  ...                  ...   \n",
       "925714                  0                    0                    0   \n",
       "925715                  0                    0                    0   \n",
       "925716                  0                    0                    0   \n",
       "925717                  0                    0                    0   \n",
       "925718                  0                    0                    0   \n",
       "\n",
       "        Area_Name_Topanga  Area_Name_Van Nuys  Area_Name_West LA  \\\n",
       "1                       0                   0                  0   \n",
       "2                       0                   0                  0   \n",
       "3                       0                   1                  0   \n",
       "4                       0                   0                  0   \n",
       "5                       0                   0                  0   \n",
       "...                   ...                 ...                ...   \n",
       "925714                  0                   0                  0   \n",
       "925715                  0                   0                  0   \n",
       "925716                  0                   0                  0   \n",
       "925717                  1                   0                  0   \n",
       "925718                  0                   0                  0   \n",
       "\n",
       "        Area_Name_West Valley  Area_Name_Wilshire  \n",
       "1                           0                   0  \n",
       "2                           0                   0  \n",
       "3                           0                   0  \n",
       "4                           0                   0  \n",
       "5                           0                   0  \n",
       "...                       ...                 ...  \n",
       "925714                      0                   0  \n",
       "925715                      0                   0  \n",
       "925716                      0                   0  \n",
       "925717                      0                   0  \n",
       "925718                      0                   0  \n",
       "\n",
       "[691277 rows x 27 columns]"
      ]
     },
     "execution_count": 714,
     "metadata": {},
     "output_type": "execute_result"
    }
   ],
   "source": [
    "x"
   ]
  },
  {
   "cell_type": "code",
   "execution_count": 715,
   "id": "9ae7fa41",
   "metadata": {},
   "outputs": [],
   "source": [
    "#create train and test dataset\n",
    "from sklearn.model_selection import train_test_split\n",
    "\n",
    "# Split the data into training and testing sets\n",
    "x_train, x_test, y_train, y_test = train_test_split(x, y, test_size=0.25, random_state=0) # \n",
    "\n",
    "# You would then train your classifier on X_train and y_train\n"
   ]
  },
  {
   "cell_type": "code",
   "execution_count": 716,
   "id": "69f4df90",
   "metadata": {},
   "outputs": [],
   "source": [
    "from sklearn.tree import DecisionTreeClassifier # DecisionTree classifier"
   ]
  },
  {
   "cell_type": "code",
   "execution_count": 717,
   "id": "a07ba3aa",
   "metadata": {},
   "outputs": [],
   "source": [
    "#entropy measures the diversity or impurity of within the data , our aim is to get low entropy value\n",
    "#gini index or coefficient \n",
    "#information Gain we can use this for both entropy or gini methods"
   ]
  },
  {
   "cell_type": "code",
   "execution_count": 718,
   "id": "654bb874",
   "metadata": {},
   "outputs": [],
   "source": [
    "# IN DecsionTree we are always considering\n",
    "#min_sample_split\n",
    "#min_sample_leaf\n",
    "#max_leaf_nodes\n",
    "#splitter\n",
    "#max_features\n",
    "#presort\n",
    "#criterion\n",
    "#min_impurity_decrease"
   ]
  },
  {
   "cell_type": "code",
   "execution_count": 719,
   "id": "17425ed8",
   "metadata": {},
   "outputs": [],
   "source": [
    "#Train the model and create the object dtc decsion tree classifier\n",
    "dtc = DecisionTreeClassifier(random_state = 0)"
   ]
  },
  {
   "cell_type": "code",
   "execution_count": 720,
   "id": "20b6d4b6",
   "metadata": {},
   "outputs": [
    {
     "data": {
      "text/html": [
       "<style>#sk-container-id-2 {color: black;}#sk-container-id-2 pre{padding: 0;}#sk-container-id-2 div.sk-toggleable {background-color: white;}#sk-container-id-2 label.sk-toggleable__label {cursor: pointer;display: block;width: 100%;margin-bottom: 0;padding: 0.3em;box-sizing: border-box;text-align: center;}#sk-container-id-2 label.sk-toggleable__label-arrow:before {content: \"▸\";float: left;margin-right: 0.25em;color: #696969;}#sk-container-id-2 label.sk-toggleable__label-arrow:hover:before {color: black;}#sk-container-id-2 div.sk-estimator:hover label.sk-toggleable__label-arrow:before {color: black;}#sk-container-id-2 div.sk-toggleable__content {max-height: 0;max-width: 0;overflow: hidden;text-align: left;background-color: #f0f8ff;}#sk-container-id-2 div.sk-toggleable__content pre {margin: 0.2em;color: black;border-radius: 0.25em;background-color: #f0f8ff;}#sk-container-id-2 input.sk-toggleable__control:checked~div.sk-toggleable__content {max-height: 200px;max-width: 100%;overflow: auto;}#sk-container-id-2 input.sk-toggleable__control:checked~label.sk-toggleable__label-arrow:before {content: \"▾\";}#sk-container-id-2 div.sk-estimator input.sk-toggleable__control:checked~label.sk-toggleable__label {background-color: #d4ebff;}#sk-container-id-2 div.sk-label input.sk-toggleable__control:checked~label.sk-toggleable__label {background-color: #d4ebff;}#sk-container-id-2 input.sk-hidden--visually {border: 0;clip: rect(1px 1px 1px 1px);clip: rect(1px, 1px, 1px, 1px);height: 1px;margin: -1px;overflow: hidden;padding: 0;position: absolute;width: 1px;}#sk-container-id-2 div.sk-estimator {font-family: monospace;background-color: #f0f8ff;border: 1px dotted black;border-radius: 0.25em;box-sizing: border-box;margin-bottom: 0.5em;}#sk-container-id-2 div.sk-estimator:hover {background-color: #d4ebff;}#sk-container-id-2 div.sk-parallel-item::after {content: \"\";width: 100%;border-bottom: 1px solid gray;flex-grow: 1;}#sk-container-id-2 div.sk-label:hover label.sk-toggleable__label {background-color: #d4ebff;}#sk-container-id-2 div.sk-serial::before {content: \"\";position: absolute;border-left: 1px solid gray;box-sizing: border-box;top: 0;bottom: 0;left: 50%;z-index: 0;}#sk-container-id-2 div.sk-serial {display: flex;flex-direction: column;align-items: center;background-color: white;padding-right: 0.2em;padding-left: 0.2em;position: relative;}#sk-container-id-2 div.sk-item {position: relative;z-index: 1;}#sk-container-id-2 div.sk-parallel {display: flex;align-items: stretch;justify-content: center;background-color: white;position: relative;}#sk-container-id-2 div.sk-item::before, #sk-container-id-2 div.sk-parallel-item::before {content: \"\";position: absolute;border-left: 1px solid gray;box-sizing: border-box;top: 0;bottom: 0;left: 50%;z-index: -1;}#sk-container-id-2 div.sk-parallel-item {display: flex;flex-direction: column;z-index: 1;position: relative;background-color: white;}#sk-container-id-2 div.sk-parallel-item:first-child::after {align-self: flex-end;width: 50%;}#sk-container-id-2 div.sk-parallel-item:last-child::after {align-self: flex-start;width: 50%;}#sk-container-id-2 div.sk-parallel-item:only-child::after {width: 0;}#sk-container-id-2 div.sk-dashed-wrapped {border: 1px dashed gray;margin: 0 0.4em 0.5em 0.4em;box-sizing: border-box;padding-bottom: 0.4em;background-color: white;}#sk-container-id-2 div.sk-label label {font-family: monospace;font-weight: bold;display: inline-block;line-height: 1.2em;}#sk-container-id-2 div.sk-label-container {text-align: center;}#sk-container-id-2 div.sk-container {/* jupyter's `normalize.less` sets `[hidden] { display: none; }` but bootstrap.min.css set `[hidden] { display: none !important; }` so we also need the `!important` here to be able to override the default hidden behavior on the sphinx rendered scikit-learn.org. See: https://github.com/scikit-learn/scikit-learn/issues/21755 */display: inline-block !important;position: relative;}#sk-container-id-2 div.sk-text-repr-fallback {display: none;}</style><div id=\"sk-container-id-2\" class=\"sk-top-container\"><div class=\"sk-text-repr-fallback\"><pre>DecisionTreeClassifier(random_state=0)</pre><b>In a Jupyter environment, please rerun this cell to show the HTML representation or trust the notebook. <br />On GitHub, the HTML representation is unable to render, please try loading this page with nbviewer.org.</b></div><div class=\"sk-container\" hidden><div class=\"sk-item\"><div class=\"sk-estimator sk-toggleable\"><input class=\"sk-toggleable__control sk-hidden--visually\" id=\"sk-estimator-id-2\" type=\"checkbox\" checked><label for=\"sk-estimator-id-2\" class=\"sk-toggleable__label sk-toggleable__label-arrow\">DecisionTreeClassifier</label><div class=\"sk-toggleable__content\"><pre>DecisionTreeClassifier(random_state=0)</pre></div></div></div></div></div>"
      ],
      "text/plain": [
       "DecisionTreeClassifier(random_state=0)"
      ]
     },
     "execution_count": 720,
     "metadata": {},
     "output_type": "execute_result"
    }
   ],
   "source": [
    "dtc.fit(x_train,y_train)"
   ]
  },
  {
   "cell_type": "code",
   "execution_count": 721,
   "id": "c394188c",
   "metadata": {},
   "outputs": [
    {
     "data": {
      "text/plain": [
       "array(['BURGLARY', 'BATTERY - SIMPLE ASSAULT',\n",
       "       'CHILD ANNOYING (17YRS & UNDER)', ..., 'ROBBERY',\n",
       "       'DISTURBING THE PEACE',\n",
       "       'VANDALISM - FELONY ($400 & OVER, ALL CHURCH VANDALISMS)'],\n",
       "      dtype=object)"
      ]
     },
     "execution_count": 721,
     "metadata": {},
     "output_type": "execute_result"
    }
   ],
   "source": [
    "y_predict = dtc.predict(x_test)\n",
    "y_predict"
   ]
  },
  {
   "cell_type": "code",
   "execution_count": 722,
   "id": "9467a7aa",
   "metadata": {},
   "outputs": [],
   "source": [
    "#Evaluating the model\n",
    "from sklearn.metrics import confusion_matrix\n",
    "cm = confusion_matrix(y_test,y_predict)\n",
    "score = dtc.score(x_test,y_test)"
   ]
  },
  {
   "cell_type": "code",
   "execution_count": 723,
   "id": "bd81c64b",
   "metadata": {},
   "outputs": [
    {
     "data": {
      "text/plain": [
       "array([[  13,    1,   35, ...,    2,    0,    0],\n",
       "       [   0,   15,    7, ...,    0,    0,    0],\n",
       "       [  43,    7, 2214, ...,  100,   10,    1],\n",
       "       ...,\n",
       "       [   7,    0,  139, ...,  711,    9,    0],\n",
       "       [   0,    0,    3, ...,   35,    5,    0],\n",
       "       [   0,    0,    1, ...,    0,    0,    0]], dtype=int64)"
      ]
     },
     "execution_count": 723,
     "metadata": {},
     "output_type": "execute_result"
    }
   ],
   "source": [
    "cm"
   ]
  },
  {
   "cell_type": "code",
   "execution_count": 724,
   "id": "bfa9f04f",
   "metadata": {},
   "outputs": [
    {
     "data": {
      "text/plain": [
       "0.13288971183890752"
      ]
     },
     "execution_count": 724,
     "metadata": {},
     "output_type": "execute_result"
    }
   ],
   "source": [
    "score"
   ]
  },
  {
   "cell_type": "code",
   "execution_count": null,
   "id": "5dc85724",
   "metadata": {},
   "outputs": [],
   "source": [
    "from sklearn.tree import DecisionTreeClassifier, plot_tree\n",
    "from sklearn.model_selection import train_test_split\n",
    "from sklearn.metrics import classification_report\n",
    "import pandas as pd\n",
    "import matplotlib.pyplot as plt\n",
    "\n",
    "def fit_decision_tree(la_crime_df, features, target='Crm_Cd_Desc'):\n",
    "    # Ensure the features list only includes the columns specified\n",
    "    x = la_crime_df[['Vict_Age', 'Lat', 'Lon', 'Vict_Sex_F', 'Vict_Sex_M', 'Vict_Sex_X',\n",
    "            'Area_Name_77th Street', 'Area_Name_Central', 'Area_Name_Devonshire',\n",
    "            'Area_Name_Foothill', 'Area_Name_Harbor', 'Area_Name_Hollenbeck',\n",
    "            'Area_Name_Hollywood', 'Area_Name_Mission', 'Area_Name_N Hollywood',\n",
    "            'Area_Name_Newton', 'Area_Name_Northeast', 'Area_Name_Olympic',\n",
    "            'Area_Name_Pacific', 'Area_Name_Rampart', 'Area_Name_Southeast',\n",
    "            'Area_Name_Southwest', 'Area_Name_Topanga', 'Area_Name_Van Nuys',\n",
    "            'Area_Name_West LA', 'Area_Name_West Valley', 'Area_Name_Wilshire']]\n",
    "    y = la_crime_df[['Crm_Cd_Desc']]\n",
    "\n",
    "    # Split the data into training and test sets\n",
    "    x_train, x_test, y_train, y_test = train_test_split(x, y, test_size=0.25, random_state=0)\n",
    "\n",
    "    # Initialize and train the decision tree classifier\n",
    "    model = DecisionTreeClassifier(random_state=0)\n",
    "    model.fit(x_train, y_train)\n",
    "\n",
    "    # Predict on the test set\n",
    "    y_pred = model.predict(x_test)\n",
    "\n",
    "    # Output the classification report\n",
    "    print(classification_report(y_test, y_pred))\n",
    "\n",
    "    # Output feature importance\n",
    "    feature_importance = pd.Series(model.feature_importances_, index=features).sort_values(ascending=False)\n",
    "    print(\"Feature Importances:\\n\", feature_importance)\n",
    "\n",
    "    # Plot the decision tree\n",
    "    plt.figure(figsize=(20,10))\n",
    "    plot_tree(model, filled=True, feature_names=features, class_names=[str(cls) for cls in model.classes_], proportion=True)\n",
    "    plt.show()\n",
    "\n",
    "    return model\n",
    "\n",
    "# Example usage\n",
    "# Define the features list according to your DataFrame structure\n",
    "features = ['Vict_Age', 'Lat', 'Lon', 'Vict_Sex_F', 'Vict_Sex_M', 'Vict_Sex_X',\n",
    "            'Area_Name_77th Street', 'Area_Name_Central', 'Area_Name_Devonshire',\n",
    "            'Area_Name_Foothill', 'Area_Name_Harbor', 'Area_Name_Hollenbeck',\n",
    "            'Area_Name_Hollywood', 'Area_Name_Mission', 'Area_Name_N Hollywood',\n",
    "            'Area_Name_Newton', 'Area_Name_Northeast', 'Area_Name_Olympic',\n",
    "            'Area_Name_Pacific', 'Area_Name_Rampart', 'Area_Name_Southeast',\n",
    "            'Area_Name_Southwest', 'Area_Name_Topanga', 'Area_Name_Van Nuys',\n",
    "            'Area_Name_West LA', 'Area_Name_West Valley', 'Area_Name_Wilshire'] # List of feature names\n",
    "\n",
    "# Make sure your DataFrame 'la_crime_df' is preprocessed before using this function\n",
    "model = fit_decision_tree(la_crime_df, features)\n",
    "\n"
   ]
  },
  {
   "cell_type": "code",
   "execution_count": null,
   "id": "e06905e8",
   "metadata": {},
   "outputs": [],
   "source": []
  }
 ],
 "metadata": {
  "kernelspec": {
   "display_name": "Python 3 (ipykernel)",
   "language": "python",
   "name": "python3"
  },
  "language_info": {
   "codemirror_mode": {
    "name": "ipython",
    "version": 3
   },
   "file_extension": ".py",
   "mimetype": "text/x-python",
   "name": "python",
   "nbconvert_exporter": "python",
   "pygments_lexer": "ipython3",
   "version": "3.11.5"
  }
 },
 "nbformat": 4,
 "nbformat_minor": 5
}
